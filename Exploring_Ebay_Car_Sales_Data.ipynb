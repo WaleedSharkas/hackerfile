{
  "nbformat": 4,
  "nbformat_minor": 0,
  "metadata": {
    "colab": {
      "name": "Exploring Ebay Car Sales Data.ipynb",
      "provenance": [],
      "collapsed_sections": [],
      "authorship_tag": "ABX9TyPu/0lY6n1/W2C7ubOziCBy",
      "include_colab_link": true
    },
    "kernelspec": {
      "name": "python3",
      "display_name": "Python 3"
    }
  },
  "cells": [
    {
      "cell_type": "markdown",
      "metadata": {
        "id": "view-in-github",
        "colab_type": "text"
      },
      "source": [
        "<a href=\"https://colab.research.google.com/github/WaleedSharkas/hackerfile/blob/master/Exploring_Ebay_Car_Sales_Data.ipynb\" target=\"_parent\"><img src=\"https://colab.research.google.com/assets/colab-badge.svg\" alt=\"Open In Colab\"/></a>"
      ]
    },
    {
      "cell_type": "code",
      "metadata": {
        "id": "e51iKx5hjbqt",
        "colab_type": "code",
        "colab": {
          "resources": {
            "http://localhost:8080/nbextensions/google.colab/files.js": {
              "data": "Ly8gQ29weXJpZ2h0IDIwMTcgR29vZ2xlIExMQwovLwovLyBMaWNlbnNlZCB1bmRlciB0aGUgQXBhY2hlIExpY2Vuc2UsIFZlcnNpb24gMi4wICh0aGUgIkxpY2Vuc2UiKTsKLy8geW91IG1heSBub3QgdXNlIHRoaXMgZmlsZSBleGNlcHQgaW4gY29tcGxpYW5jZSB3aXRoIHRoZSBMaWNlbnNlLgovLyBZb3UgbWF5IG9idGFpbiBhIGNvcHkgb2YgdGhlIExpY2Vuc2UgYXQKLy8KLy8gICAgICBodHRwOi8vd3d3LmFwYWNoZS5vcmcvbGljZW5zZXMvTElDRU5TRS0yLjAKLy8KLy8gVW5sZXNzIHJlcXVpcmVkIGJ5IGFwcGxpY2FibGUgbGF3IG9yIGFncmVlZCB0byBpbiB3cml0aW5nLCBzb2Z0d2FyZQovLyBkaXN0cmlidXRlZCB1bmRlciB0aGUgTGljZW5zZSBpcyBkaXN0cmlidXRlZCBvbiBhbiAiQVMgSVMiIEJBU0lTLAovLyBXSVRIT1VUIFdBUlJBTlRJRVMgT1IgQ09ORElUSU9OUyBPRiBBTlkgS0lORCwgZWl0aGVyIGV4cHJlc3Mgb3IgaW1wbGllZC4KLy8gU2VlIHRoZSBMaWNlbnNlIGZvciB0aGUgc3BlY2lmaWMgbGFuZ3VhZ2UgZ292ZXJuaW5nIHBlcm1pc3Npb25zIGFuZAovLyBsaW1pdGF0aW9ucyB1bmRlciB0aGUgTGljZW5zZS4KCi8qKgogKiBAZmlsZW92ZXJ2aWV3IEhlbHBlcnMgZm9yIGdvb2dsZS5jb2xhYiBQeXRob24gbW9kdWxlLgogKi8KKGZ1bmN0aW9uKHNjb3BlKSB7CmZ1bmN0aW9uIHNwYW4odGV4dCwgc3R5bGVBdHRyaWJ1dGVzID0ge30pIHsKICBjb25zdCBlbGVtZW50ID0gZG9jdW1lbnQuY3JlYXRlRWxlbWVudCgnc3BhbicpOwogIGVsZW1lbnQudGV4dENvbnRlbnQgPSB0ZXh0OwogIGZvciAoY29uc3Qga2V5IG9mIE9iamVjdC5rZXlzKHN0eWxlQXR0cmlidXRlcykpIHsKICAgIGVsZW1lbnQuc3R5bGVba2V5XSA9IHN0eWxlQXR0cmlidXRlc1trZXldOwogIH0KICByZXR1cm4gZWxlbWVudDsKfQoKLy8gTWF4IG51bWJlciBvZiBieXRlcyB3aGljaCB3aWxsIGJlIHVwbG9hZGVkIGF0IGEgdGltZS4KY29uc3QgTUFYX1BBWUxPQURfU0laRSA9IDEwMCAqIDEwMjQ7CgpmdW5jdGlvbiBfdXBsb2FkRmlsZXMoaW5wdXRJZCwgb3V0cHV0SWQpIHsKICBjb25zdCBzdGVwcyA9IHVwbG9hZEZpbGVzU3RlcChpbnB1dElkLCBvdXRwdXRJZCk7CiAgY29uc3Qgb3V0cHV0RWxlbWVudCA9IGRvY3VtZW50LmdldEVsZW1lbnRCeUlkKG91dHB1dElkKTsKICAvLyBDYWNoZSBzdGVwcyBvbiB0aGUgb3V0cHV0RWxlbWVudCB0byBtYWtlIGl0IGF2YWlsYWJsZSBmb3IgdGhlIG5leHQgY2FsbAogIC8vIHRvIHVwbG9hZEZpbGVzQ29udGludWUgZnJvbSBQeXRob24uCiAgb3V0cHV0RWxlbWVudC5zdGVwcyA9IHN0ZXBzOwoKICByZXR1cm4gX3VwbG9hZEZpbGVzQ29udGludWUob3V0cHV0SWQpOwp9CgovLyBUaGlzIGlzIHJvdWdobHkgYW4gYXN5bmMgZ2VuZXJhdG9yIChub3Qgc3VwcG9ydGVkIGluIHRoZSBicm93c2VyIHlldCksCi8vIHdoZXJlIHRoZXJlIGFyZSBtdWx0aXBsZSBhc3luY2hyb25vdXMgc3RlcHMgYW5kIHRoZSBQeXRob24gc2lkZSBpcyBnb2luZwovLyB0byBwb2xsIGZvciBjb21wbGV0aW9uIG9mIGVhY2ggc3RlcC4KLy8gVGhpcyB1c2VzIGEgUHJvbWlzZSB0byBibG9jayB0aGUgcHl0aG9uIHNpZGUgb24gY29tcGxldGlvbiBvZiBlYWNoIHN0ZXAsCi8vIHRoZW4gcGFzc2VzIHRoZSByZXN1bHQgb2YgdGhlIHByZXZpb3VzIHN0ZXAgYXMgdGhlIGlucHV0IHRvIHRoZSBuZXh0IHN0ZXAuCmZ1bmN0aW9uIF91cGxvYWRGaWxlc0NvbnRpbnVlKG91dHB1dElkKSB7CiAgY29uc3Qgb3V0cHV0RWxlbWVudCA9IGRvY3VtZW50LmdldEVsZW1lbnRCeUlkKG91dHB1dElkKTsKICBjb25zdCBzdGVwcyA9IG91dHB1dEVsZW1lbnQuc3RlcHM7CgogIGNvbnN0IG5leHQgPSBzdGVwcy5uZXh0KG91dHB1dEVsZW1lbnQubGFzdFByb21pc2VWYWx1ZSk7CiAgcmV0dXJuIFByb21pc2UucmVzb2x2ZShuZXh0LnZhbHVlLnByb21pc2UpLnRoZW4oKHZhbHVlKSA9PiB7CiAgICAvLyBDYWNoZSB0aGUgbGFzdCBwcm9taXNlIHZhbHVlIHRvIG1ha2UgaXQgYXZhaWxhYmxlIHRvIHRoZSBuZXh0CiAgICAvLyBzdGVwIG9mIHRoZSBnZW5lcmF0b3IuCiAgICBvdXRwdXRFbGVtZW50Lmxhc3RQcm9taXNlVmFsdWUgPSB2YWx1ZTsKICAgIHJldHVybiBuZXh0LnZhbHVlLnJlc3BvbnNlOwogIH0pOwp9CgovKioKICogR2VuZXJhdG9yIGZ1bmN0aW9uIHdoaWNoIGlzIGNhbGxlZCBiZXR3ZWVuIGVhY2ggYXN5bmMgc3RlcCBvZiB0aGUgdXBsb2FkCiAqIHByb2Nlc3MuCiAqIEBwYXJhbSB7c3RyaW5nfSBpbnB1dElkIEVsZW1lbnQgSUQgb2YgdGhlIGlucHV0IGZpbGUgcGlja2VyIGVsZW1lbnQuCiAqIEBwYXJhbSB7c3RyaW5nfSBvdXRwdXRJZCBFbGVtZW50IElEIG9mIHRoZSBvdXRwdXQgZGlzcGxheS4KICogQHJldHVybiB7IUl0ZXJhYmxlPCFPYmplY3Q+fSBJdGVyYWJsZSBvZiBuZXh0IHN0ZXBzLgogKi8KZnVuY3Rpb24qIHVwbG9hZEZpbGVzU3RlcChpbnB1dElkLCBvdXRwdXRJZCkgewogIGNvbnN0IGlucHV0RWxlbWVudCA9IGRvY3VtZW50LmdldEVsZW1lbnRCeUlkKGlucHV0SWQpOwogIGlucHV0RWxlbWVudC5kaXNhYmxlZCA9IGZhbHNlOwoKICBjb25zdCBvdXRwdXRFbGVtZW50ID0gZG9jdW1lbnQuZ2V0RWxlbWVudEJ5SWQob3V0cHV0SWQpOwogIG91dHB1dEVsZW1lbnQuaW5uZXJIVE1MID0gJyc7CgogIGNvbnN0IHBpY2tlZFByb21pc2UgPSBuZXcgUHJvbWlzZSgocmVzb2x2ZSkgPT4gewogICAgaW5wdXRFbGVtZW50LmFkZEV2ZW50TGlzdGVuZXIoJ2NoYW5nZScsIChlKSA9PiB7CiAgICAgIHJlc29sdmUoZS50YXJnZXQuZmlsZXMpOwogICAgfSk7CiAgfSk7CgogIGNvbnN0IGNhbmNlbCA9IGRvY3VtZW50LmNyZWF0ZUVsZW1lbnQoJ2J1dHRvbicpOwogIGlucHV0RWxlbWVudC5wYXJlbnRFbGVtZW50LmFwcGVuZENoaWxkKGNhbmNlbCk7CiAgY2FuY2VsLnRleHRDb250ZW50ID0gJ0NhbmNlbCB1cGxvYWQnOwogIGNvbnN0IGNhbmNlbFByb21pc2UgPSBuZXcgUHJvbWlzZSgocmVzb2x2ZSkgPT4gewogICAgY2FuY2VsLm9uY2xpY2sgPSAoKSA9PiB7CiAgICAgIHJlc29sdmUobnVsbCk7CiAgICB9OwogIH0pOwoKICAvLyBXYWl0IGZvciB0aGUgdXNlciB0byBwaWNrIHRoZSBmaWxlcy4KICBjb25zdCBmaWxlcyA9IHlpZWxkIHsKICAgIHByb21pc2U6IFByb21pc2UucmFjZShbcGlja2VkUHJvbWlzZSwgY2FuY2VsUHJvbWlzZV0pLAogICAgcmVzcG9uc2U6IHsKICAgICAgYWN0aW9uOiAnc3RhcnRpbmcnLAogICAgfQogIH07CgogIGNhbmNlbC5yZW1vdmUoKTsKCiAgLy8gRGlzYWJsZSB0aGUgaW5wdXQgZWxlbWVudCBzaW5jZSBmdXJ0aGVyIHBpY2tzIGFyZSBub3QgYWxsb3dlZC4KICBpbnB1dEVsZW1lbnQuZGlzYWJsZWQgPSB0cnVlOwoKICBpZiAoIWZpbGVzKSB7CiAgICByZXR1cm4gewogICAgICByZXNwb25zZTogewogICAgICAgIGFjdGlvbjogJ2NvbXBsZXRlJywKICAgICAgfQogICAgfTsKICB9CgogIGZvciAoY29uc3QgZmlsZSBvZiBmaWxlcykgewogICAgY29uc3QgbGkgPSBkb2N1bWVudC5jcmVhdGVFbGVtZW50KCdsaScpOwogICAgbGkuYXBwZW5kKHNwYW4oZmlsZS5uYW1lLCB7Zm9udFdlaWdodDogJ2JvbGQnfSkpOwogICAgbGkuYXBwZW5kKHNwYW4oCiAgICAgICAgYCgke2ZpbGUudHlwZSB8fCAnbi9hJ30pIC0gJHtmaWxlLnNpemV9IGJ5dGVzLCBgICsKICAgICAgICBgbGFzdCBtb2RpZmllZDogJHsKICAgICAgICAgICAgZmlsZS5sYXN0TW9kaWZpZWREYXRlID8gZmlsZS5sYXN0TW9kaWZpZWREYXRlLnRvTG9jYWxlRGF0ZVN0cmluZygpIDoKICAgICAgICAgICAgICAgICAgICAgICAgICAgICAgICAgICAgJ24vYSd9IC0gYCkpOwogICAgY29uc3QgcGVyY2VudCA9IHNwYW4oJzAlIGRvbmUnKTsKICAgIGxpLmFwcGVuZENoaWxkKHBlcmNlbnQpOwoKICAgIG91dHB1dEVsZW1lbnQuYXBwZW5kQ2hpbGQobGkpOwoKICAgIGNvbnN0IGZpbGVEYXRhUHJvbWlzZSA9IG5ldyBQcm9taXNlKChyZXNvbHZlKSA9PiB7CiAgICAgIGNvbnN0IHJlYWRlciA9IG5ldyBGaWxlUmVhZGVyKCk7CiAgICAgIHJlYWRlci5vbmxvYWQgPSAoZSkgPT4gewogICAgICAgIHJlc29sdmUoZS50YXJnZXQucmVzdWx0KTsKICAgICAgfTsKICAgICAgcmVhZGVyLnJlYWRBc0FycmF5QnVmZmVyKGZpbGUpOwogICAgfSk7CiAgICAvLyBXYWl0IGZvciB0aGUgZGF0YSB0byBiZSByZWFkeS4KICAgIGxldCBmaWxlRGF0YSA9IHlpZWxkIHsKICAgICAgcHJvbWlzZTogZmlsZURhdGFQcm9taXNlLAogICAgICByZXNwb25zZTogewogICAgICAgIGFjdGlvbjogJ2NvbnRpbnVlJywKICAgICAgfQogICAgfTsKCiAgICAvLyBVc2UgYSBjaHVua2VkIHNlbmRpbmcgdG8gYXZvaWQgbWVzc2FnZSBzaXplIGxpbWl0cy4gU2VlIGIvNjIxMTU2NjAuCiAgICBsZXQgcG9zaXRpb24gPSAwOwogICAgd2hpbGUgKHBvc2l0aW9uIDwgZmlsZURhdGEuYnl0ZUxlbmd0aCkgewogICAgICBjb25zdCBsZW5ndGggPSBNYXRoLm1pbihmaWxlRGF0YS5ieXRlTGVuZ3RoIC0gcG9zaXRpb24sIE1BWF9QQVlMT0FEX1NJWkUpOwogICAgICBjb25zdCBjaHVuayA9IG5ldyBVaW50OEFycmF5KGZpbGVEYXRhLCBwb3NpdGlvbiwgbGVuZ3RoKTsKICAgICAgcG9zaXRpb24gKz0gbGVuZ3RoOwoKICAgICAgY29uc3QgYmFzZTY0ID0gYnRvYShTdHJpbmcuZnJvbUNoYXJDb2RlLmFwcGx5KG51bGwsIGNodW5rKSk7CiAgICAgIHlpZWxkIHsKICAgICAgICByZXNwb25zZTogewogICAgICAgICAgYWN0aW9uOiAnYXBwZW5kJywKICAgICAgICAgIGZpbGU6IGZpbGUubmFtZSwKICAgICAgICAgIGRhdGE6IGJhc2U2NCwKICAgICAgICB9LAogICAgICB9OwogICAgICBwZXJjZW50LnRleHRDb250ZW50ID0KICAgICAgICAgIGAke01hdGgucm91bmQoKHBvc2l0aW9uIC8gZmlsZURhdGEuYnl0ZUxlbmd0aCkgKiAxMDApfSUgZG9uZWA7CiAgICB9CiAgfQoKICAvLyBBbGwgZG9uZS4KICB5aWVsZCB7CiAgICByZXNwb25zZTogewogICAgICBhY3Rpb246ICdjb21wbGV0ZScsCiAgICB9CiAgfTsKfQoKc2NvcGUuZ29vZ2xlID0gc2NvcGUuZ29vZ2xlIHx8IHt9OwpzY29wZS5nb29nbGUuY29sYWIgPSBzY29wZS5nb29nbGUuY29sYWIgfHwge307CnNjb3BlLmdvb2dsZS5jb2xhYi5fZmlsZXMgPSB7CiAgX3VwbG9hZEZpbGVzLAogIF91cGxvYWRGaWxlc0NvbnRpbnVlLAp9Owp9KShzZWxmKTsK",
              "ok": true,
              "headers": [
                [
                  "content-type",
                  "application/javascript"
                ]
              ],
              "status": 200,
              "status_text": ""
            }
          },
          "base_uri": "https://localhost:8080/",
          "height": 72
        },
        "outputId": "e8f17b1d-e205-4e53-c80e-0896ba82b45a"
      },
      "source": [
        "from google.colab import files\n",
        "uploaded = files.upload()"
      ],
      "execution_count": 1,
      "outputs": [
        {
          "output_type": "display_data",
          "data": {
            "text/html": [
              "\n",
              "     <input type=\"file\" id=\"files-0cdcd03f-386b-4d11-817c-f0c43fd0b074\" name=\"files[]\" multiple disabled\n",
              "        style=\"border:none\" />\n",
              "     <output id=\"result-0cdcd03f-386b-4d11-817c-f0c43fd0b074\">\n",
              "      Upload widget is only available when the cell has been executed in the\n",
              "      current browser session. Please rerun this cell to enable.\n",
              "      </output>\n",
              "      <script src=\"/nbextensions/google.colab/files.js\"></script> "
            ],
            "text/plain": [
              "<IPython.core.display.HTML object>"
            ]
          },
          "metadata": {
            "tags": []
          }
        },
        {
          "output_type": "stream",
          "text": [
            "Saving autos.csv to autos (3).csv\n"
          ],
          "name": "stdout"
        }
      ]
    },
    {
      "cell_type": "markdown",
      "metadata": {
        "id": "p5jB3idMmJjX",
        "colab_type": "text"
      },
      "source": [
        "# Introduction \n",
        "\n",
        "In this project, we will work with a dataset on used cars from eBay Kleinanzeigen, a classifieds section from the Germany eBay website. Although the full dataset consisted of over 370,000 listings, we will only use 50,000 data points. This will allow us to demonstrate how to effectively clean a data set from scratch.\n",
        "\n",
        "The data dictionary provided with data is as follows:\n",
        "\n",
        "- dateCrawled - When this ad was first crawled. All field-values are taken \n",
        "from this date.\n",
        "-name - Name of the car.\n",
        "-seller - Whether the seller is private or a dealer.\n",
        "-offerType - The type of listing\n",
        "-price - The price on the ad to sell the car.\n",
        "-abtest - Whether the listing is included in an A/B test.\n",
        "-vehicleType - The vehicle Type.\n",
        "-yearOfRegistration - The year in which which year the car was first registered.\n",
        "-gearbox - The transmission type.\n",
        "-powerPS - The power of the car in PS.\n",
        "-model - The car model name.\n",
        "-kilometer - How many kilometers the car has driven.\n",
        "-monthOfRegistration - The month in which which year the car was first registered.\n",
        "-fuelType - What type of fuel the car uses.\n",
        "-brand - The brand of the car.\n",
        "-notRepairedDamage - If the car has a damage which is not yet repaired.\n",
        "-dateCreated - The date on which the eBay listing was created.\n",
        "-nrOfPictures - The number of pictures in the ad.\n",
        "-postalCode - The postal code for the location of the vehicle.\n",
        "-lastSeenOnline - When the crawler saw this ad last online.\n",
        "\n",
        "The goal of this project is to clean the data and then use pandas to perform some basic initial analysis of the listings."
      ]
    },
    {
      "cell_type": "code",
      "metadata": {
        "id": "qMk9kRx8oAnr",
        "colab_type": "code",
        "colab": {}
      },
      "source": [
        "import pandas as pd\n",
        "import numpy as np"
      ],
      "execution_count": 2,
      "outputs": []
    },
    {
      "cell_type": "code",
      "metadata": {
        "id": "wiiRCItoqrK2",
        "colab_type": "code",
        "colab": {
          "base_uri": "https://localhost:8080/",
          "height": 853
        },
        "outputId": "0751f78a-6aa4-4ccb-829f-207cd6e4be99"
      },
      "source": [
        "autos = pd.read_csv('autos.csv', encoding='Latin-1')\n",
        "autos.info()\n",
        "autos.head()"
      ],
      "execution_count": 3,
      "outputs": [
        {
          "output_type": "stream",
          "text": [
            "<class 'pandas.core.frame.DataFrame'>\n",
            "RangeIndex: 50000 entries, 0 to 49999\n",
            "Data columns (total 20 columns):\n",
            " #   Column               Non-Null Count  Dtype \n",
            "---  ------               --------------  ----- \n",
            " 0   dateCrawled          50000 non-null  object\n",
            " 1   name                 50000 non-null  object\n",
            " 2   seller               50000 non-null  object\n",
            " 3   offerType            50000 non-null  object\n",
            " 4   price                50000 non-null  object\n",
            " 5   abtest               50000 non-null  object\n",
            " 6   vehicleType          44905 non-null  object\n",
            " 7   yearOfRegistration   50000 non-null  int64 \n",
            " 8   gearbox              47320 non-null  object\n",
            " 9   powerPS              50000 non-null  int64 \n",
            " 10  model                47242 non-null  object\n",
            " 11  odometer             50000 non-null  object\n",
            " 12  monthOfRegistration  50000 non-null  int64 \n",
            " 13  fuelType             45518 non-null  object\n",
            " 14  brand                50000 non-null  object\n",
            " 15  notRepairedDamage    40171 non-null  object\n",
            " 16  dateCreated          50000 non-null  object\n",
            " 17  nrOfPictures         50000 non-null  int64 \n",
            " 18  postalCode           50000 non-null  int64 \n",
            " 19  lastSeen             50000 non-null  object\n",
            "dtypes: int64(5), object(15)\n",
            "memory usage: 7.6+ MB\n"
          ],
          "name": "stdout"
        },
        {
          "output_type": "execute_result",
          "data": {
            "text/html": [
              "<div>\n",
              "<style scoped>\n",
              "    .dataframe tbody tr th:only-of-type {\n",
              "        vertical-align: middle;\n",
              "    }\n",
              "\n",
              "    .dataframe tbody tr th {\n",
              "        vertical-align: top;\n",
              "    }\n",
              "\n",
              "    .dataframe thead th {\n",
              "        text-align: right;\n",
              "    }\n",
              "</style>\n",
              "<table border=\"1\" class=\"dataframe\">\n",
              "  <thead>\n",
              "    <tr style=\"text-align: right;\">\n",
              "      <th></th>\n",
              "      <th>dateCrawled</th>\n",
              "      <th>name</th>\n",
              "      <th>seller</th>\n",
              "      <th>offerType</th>\n",
              "      <th>price</th>\n",
              "      <th>abtest</th>\n",
              "      <th>vehicleType</th>\n",
              "      <th>yearOfRegistration</th>\n",
              "      <th>gearbox</th>\n",
              "      <th>powerPS</th>\n",
              "      <th>model</th>\n",
              "      <th>odometer</th>\n",
              "      <th>monthOfRegistration</th>\n",
              "      <th>fuelType</th>\n",
              "      <th>brand</th>\n",
              "      <th>notRepairedDamage</th>\n",
              "      <th>dateCreated</th>\n",
              "      <th>nrOfPictures</th>\n",
              "      <th>postalCode</th>\n",
              "      <th>lastSeen</th>\n",
              "    </tr>\n",
              "  </thead>\n",
              "  <tbody>\n",
              "    <tr>\n",
              "      <th>0</th>\n",
              "      <td>2016-03-26 17:47:46</td>\n",
              "      <td>Peugeot_807_160_NAVTECH_ON_BOARD</td>\n",
              "      <td>privat</td>\n",
              "      <td>Angebot</td>\n",
              "      <td>$5,000</td>\n",
              "      <td>control</td>\n",
              "      <td>bus</td>\n",
              "      <td>2004</td>\n",
              "      <td>manuell</td>\n",
              "      <td>158</td>\n",
              "      <td>andere</td>\n",
              "      <td>150,000km</td>\n",
              "      <td>3</td>\n",
              "      <td>lpg</td>\n",
              "      <td>peugeot</td>\n",
              "      <td>nein</td>\n",
              "      <td>2016-03-26 00:00:00</td>\n",
              "      <td>0</td>\n",
              "      <td>79588</td>\n",
              "      <td>2016-04-06 06:45:54</td>\n",
              "    </tr>\n",
              "    <tr>\n",
              "      <th>1</th>\n",
              "      <td>2016-04-04 13:38:56</td>\n",
              "      <td>BMW_740i_4_4_Liter_HAMANN_UMBAU_Mega_Optik</td>\n",
              "      <td>privat</td>\n",
              "      <td>Angebot</td>\n",
              "      <td>$8,500</td>\n",
              "      <td>control</td>\n",
              "      <td>limousine</td>\n",
              "      <td>1997</td>\n",
              "      <td>automatik</td>\n",
              "      <td>286</td>\n",
              "      <td>7er</td>\n",
              "      <td>150,000km</td>\n",
              "      <td>6</td>\n",
              "      <td>benzin</td>\n",
              "      <td>bmw</td>\n",
              "      <td>nein</td>\n",
              "      <td>2016-04-04 00:00:00</td>\n",
              "      <td>0</td>\n",
              "      <td>71034</td>\n",
              "      <td>2016-04-06 14:45:08</td>\n",
              "    </tr>\n",
              "    <tr>\n",
              "      <th>2</th>\n",
              "      <td>2016-03-26 18:57:24</td>\n",
              "      <td>Volkswagen_Golf_1.6_United</td>\n",
              "      <td>privat</td>\n",
              "      <td>Angebot</td>\n",
              "      <td>$8,990</td>\n",
              "      <td>test</td>\n",
              "      <td>limousine</td>\n",
              "      <td>2009</td>\n",
              "      <td>manuell</td>\n",
              "      <td>102</td>\n",
              "      <td>golf</td>\n",
              "      <td>70,000km</td>\n",
              "      <td>7</td>\n",
              "      <td>benzin</td>\n",
              "      <td>volkswagen</td>\n",
              "      <td>nein</td>\n",
              "      <td>2016-03-26 00:00:00</td>\n",
              "      <td>0</td>\n",
              "      <td>35394</td>\n",
              "      <td>2016-04-06 20:15:37</td>\n",
              "    </tr>\n",
              "    <tr>\n",
              "      <th>3</th>\n",
              "      <td>2016-03-12 16:58:10</td>\n",
              "      <td>Smart_smart_fortwo_coupe_softouch/F1/Klima/Pan...</td>\n",
              "      <td>privat</td>\n",
              "      <td>Angebot</td>\n",
              "      <td>$4,350</td>\n",
              "      <td>control</td>\n",
              "      <td>kleinwagen</td>\n",
              "      <td>2007</td>\n",
              "      <td>automatik</td>\n",
              "      <td>71</td>\n",
              "      <td>fortwo</td>\n",
              "      <td>70,000km</td>\n",
              "      <td>6</td>\n",
              "      <td>benzin</td>\n",
              "      <td>smart</td>\n",
              "      <td>nein</td>\n",
              "      <td>2016-03-12 00:00:00</td>\n",
              "      <td>0</td>\n",
              "      <td>33729</td>\n",
              "      <td>2016-03-15 03:16:28</td>\n",
              "    </tr>\n",
              "    <tr>\n",
              "      <th>4</th>\n",
              "      <td>2016-04-01 14:38:50</td>\n",
              "      <td>Ford_Focus_1_6_Benzin_TÜV_neu_ist_sehr_gepfleg...</td>\n",
              "      <td>privat</td>\n",
              "      <td>Angebot</td>\n",
              "      <td>$1,350</td>\n",
              "      <td>test</td>\n",
              "      <td>kombi</td>\n",
              "      <td>2003</td>\n",
              "      <td>manuell</td>\n",
              "      <td>0</td>\n",
              "      <td>focus</td>\n",
              "      <td>150,000km</td>\n",
              "      <td>7</td>\n",
              "      <td>benzin</td>\n",
              "      <td>ford</td>\n",
              "      <td>nein</td>\n",
              "      <td>2016-04-01 00:00:00</td>\n",
              "      <td>0</td>\n",
              "      <td>39218</td>\n",
              "      <td>2016-04-01 14:38:50</td>\n",
              "    </tr>\n",
              "  </tbody>\n",
              "</table>\n",
              "</div>"
            ],
            "text/plain": [
              "           dateCrawled  ...             lastSeen\n",
              "0  2016-03-26 17:47:46  ...  2016-04-06 06:45:54\n",
              "1  2016-04-04 13:38:56  ...  2016-04-06 14:45:08\n",
              "2  2016-03-26 18:57:24  ...  2016-04-06 20:15:37\n",
              "3  2016-03-12 16:58:10  ...  2016-03-15 03:16:28\n",
              "4  2016-04-01 14:38:50  ...  2016-04-01 14:38:50\n",
              "\n",
              "[5 rows x 20 columns]"
            ]
          },
          "metadata": {
            "tags": []
          },
          "execution_count": 3
        }
      ]
    },
    {
      "cell_type": "markdown",
      "metadata": {
        "id": "a5yP2tE9sXCS",
        "colab_type": "text"
      },
      "source": [
        "Observations on current data:\n",
        "- Contains 20 columns, most stored as strings\n",
        "- Some Columns contain null values\n",
        "- dateCrawled, LastSeen, price, odometer are stored as strings. Will need to be changed \n",
        "- certain coloumns will need to be re-named and converted from camelcase to snakecase\n"
      ]
    },
    {
      "cell_type": "code",
      "metadata": {
        "id": "mfKoHFk9tdQS",
        "colab_type": "code",
        "colab": {
          "base_uri": "https://localhost:8080/",
          "height": 119
        },
        "outputId": "ed88432a-383c-42ae-909b-84fef8a08d72"
      },
      "source": [
        "autos.columns"
      ],
      "execution_count": 4,
      "outputs": [
        {
          "output_type": "execute_result",
          "data": {
            "text/plain": [
              "Index(['dateCrawled', 'name', 'seller', 'offerType', 'price', 'abtest',\n",
              "       'vehicleType', 'yearOfRegistration', 'gearbox', 'powerPS', 'model',\n",
              "       'odometer', 'monthOfRegistration', 'fuelType', 'brand',\n",
              "       'notRepairedDamage', 'dateCreated', 'nrOfPictures', 'postalCode',\n",
              "       'lastSeen'],\n",
              "      dtype='object')"
            ]
          },
          "metadata": {
            "tags": []
          },
          "execution_count": 4
        }
      ]
    },
    {
      "cell_type": "code",
      "metadata": {
        "id": "kAdqFApDwUX1",
        "colab_type": "code",
        "colab": {
          "base_uri": "https://localhost:8080/",
          "height": 394
        },
        "outputId": "d192acf1-9edf-443f-ef5c-399b7a132f3f"
      },
      "source": [
        "autos.columns= ['date_crawled', 'name', 'seller', 'offer_type', 'price', 'ab_test',\n",
        "       'vehicle_type', 'registration_year', 'gearbox', 'power_ps', 'model',\n",
        "       'odometer', 'registration_month', 'fuel_type', 'brand',\n",
        "       'unrepaired_damage', 'ad_created', 'num_photos', 'postal_code',\n",
        "       'last_seen']\n",
        "\n",
        "autos.head()"
      ],
      "execution_count": 5,
      "outputs": [
        {
          "output_type": "execute_result",
          "data": {
            "text/html": [
              "<div>\n",
              "<style scoped>\n",
              "    .dataframe tbody tr th:only-of-type {\n",
              "        vertical-align: middle;\n",
              "    }\n",
              "\n",
              "    .dataframe tbody tr th {\n",
              "        vertical-align: top;\n",
              "    }\n",
              "\n",
              "    .dataframe thead th {\n",
              "        text-align: right;\n",
              "    }\n",
              "</style>\n",
              "<table border=\"1\" class=\"dataframe\">\n",
              "  <thead>\n",
              "    <tr style=\"text-align: right;\">\n",
              "      <th></th>\n",
              "      <th>date_crawled</th>\n",
              "      <th>name</th>\n",
              "      <th>seller</th>\n",
              "      <th>offer_type</th>\n",
              "      <th>price</th>\n",
              "      <th>ab_test</th>\n",
              "      <th>vehicle_type</th>\n",
              "      <th>registration_year</th>\n",
              "      <th>gearbox</th>\n",
              "      <th>power_ps</th>\n",
              "      <th>model</th>\n",
              "      <th>odometer</th>\n",
              "      <th>registration_month</th>\n",
              "      <th>fuel_type</th>\n",
              "      <th>brand</th>\n",
              "      <th>unrepaired_damage</th>\n",
              "      <th>ad_created</th>\n",
              "      <th>num_photos</th>\n",
              "      <th>postal_code</th>\n",
              "      <th>last_seen</th>\n",
              "    </tr>\n",
              "  </thead>\n",
              "  <tbody>\n",
              "    <tr>\n",
              "      <th>0</th>\n",
              "      <td>2016-03-26 17:47:46</td>\n",
              "      <td>Peugeot_807_160_NAVTECH_ON_BOARD</td>\n",
              "      <td>privat</td>\n",
              "      <td>Angebot</td>\n",
              "      <td>$5,000</td>\n",
              "      <td>control</td>\n",
              "      <td>bus</td>\n",
              "      <td>2004</td>\n",
              "      <td>manuell</td>\n",
              "      <td>158</td>\n",
              "      <td>andere</td>\n",
              "      <td>150,000km</td>\n",
              "      <td>3</td>\n",
              "      <td>lpg</td>\n",
              "      <td>peugeot</td>\n",
              "      <td>nein</td>\n",
              "      <td>2016-03-26 00:00:00</td>\n",
              "      <td>0</td>\n",
              "      <td>79588</td>\n",
              "      <td>2016-04-06 06:45:54</td>\n",
              "    </tr>\n",
              "    <tr>\n",
              "      <th>1</th>\n",
              "      <td>2016-04-04 13:38:56</td>\n",
              "      <td>BMW_740i_4_4_Liter_HAMANN_UMBAU_Mega_Optik</td>\n",
              "      <td>privat</td>\n",
              "      <td>Angebot</td>\n",
              "      <td>$8,500</td>\n",
              "      <td>control</td>\n",
              "      <td>limousine</td>\n",
              "      <td>1997</td>\n",
              "      <td>automatik</td>\n",
              "      <td>286</td>\n",
              "      <td>7er</td>\n",
              "      <td>150,000km</td>\n",
              "      <td>6</td>\n",
              "      <td>benzin</td>\n",
              "      <td>bmw</td>\n",
              "      <td>nein</td>\n",
              "      <td>2016-04-04 00:00:00</td>\n",
              "      <td>0</td>\n",
              "      <td>71034</td>\n",
              "      <td>2016-04-06 14:45:08</td>\n",
              "    </tr>\n",
              "    <tr>\n",
              "      <th>2</th>\n",
              "      <td>2016-03-26 18:57:24</td>\n",
              "      <td>Volkswagen_Golf_1.6_United</td>\n",
              "      <td>privat</td>\n",
              "      <td>Angebot</td>\n",
              "      <td>$8,990</td>\n",
              "      <td>test</td>\n",
              "      <td>limousine</td>\n",
              "      <td>2009</td>\n",
              "      <td>manuell</td>\n",
              "      <td>102</td>\n",
              "      <td>golf</td>\n",
              "      <td>70,000km</td>\n",
              "      <td>7</td>\n",
              "      <td>benzin</td>\n",
              "      <td>volkswagen</td>\n",
              "      <td>nein</td>\n",
              "      <td>2016-03-26 00:00:00</td>\n",
              "      <td>0</td>\n",
              "      <td>35394</td>\n",
              "      <td>2016-04-06 20:15:37</td>\n",
              "    </tr>\n",
              "    <tr>\n",
              "      <th>3</th>\n",
              "      <td>2016-03-12 16:58:10</td>\n",
              "      <td>Smart_smart_fortwo_coupe_softouch/F1/Klima/Pan...</td>\n",
              "      <td>privat</td>\n",
              "      <td>Angebot</td>\n",
              "      <td>$4,350</td>\n",
              "      <td>control</td>\n",
              "      <td>kleinwagen</td>\n",
              "      <td>2007</td>\n",
              "      <td>automatik</td>\n",
              "      <td>71</td>\n",
              "      <td>fortwo</td>\n",
              "      <td>70,000km</td>\n",
              "      <td>6</td>\n",
              "      <td>benzin</td>\n",
              "      <td>smart</td>\n",
              "      <td>nein</td>\n",
              "      <td>2016-03-12 00:00:00</td>\n",
              "      <td>0</td>\n",
              "      <td>33729</td>\n",
              "      <td>2016-03-15 03:16:28</td>\n",
              "    </tr>\n",
              "    <tr>\n",
              "      <th>4</th>\n",
              "      <td>2016-04-01 14:38:50</td>\n",
              "      <td>Ford_Focus_1_6_Benzin_TÜV_neu_ist_sehr_gepfleg...</td>\n",
              "      <td>privat</td>\n",
              "      <td>Angebot</td>\n",
              "      <td>$1,350</td>\n",
              "      <td>test</td>\n",
              "      <td>kombi</td>\n",
              "      <td>2003</td>\n",
              "      <td>manuell</td>\n",
              "      <td>0</td>\n",
              "      <td>focus</td>\n",
              "      <td>150,000km</td>\n",
              "      <td>7</td>\n",
              "      <td>benzin</td>\n",
              "      <td>ford</td>\n",
              "      <td>nein</td>\n",
              "      <td>2016-04-01 00:00:00</td>\n",
              "      <td>0</td>\n",
              "      <td>39218</td>\n",
              "      <td>2016-04-01 14:38:50</td>\n",
              "    </tr>\n",
              "  </tbody>\n",
              "</table>\n",
              "</div>"
            ],
            "text/plain": [
              "          date_crawled  ...            last_seen\n",
              "0  2016-03-26 17:47:46  ...  2016-04-06 06:45:54\n",
              "1  2016-04-04 13:38:56  ...  2016-04-06 14:45:08\n",
              "2  2016-03-26 18:57:24  ...  2016-04-06 20:15:37\n",
              "3  2016-03-12 16:58:10  ...  2016-03-15 03:16:28\n",
              "4  2016-04-01 14:38:50  ...  2016-04-01 14:38:50\n",
              "\n",
              "[5 rows x 20 columns]"
            ]
          },
          "metadata": {
            "tags": []
          },
          "execution_count": 5
        }
      ]
    },
    {
      "cell_type": "markdown",
      "metadata": {
        "id": "mVf-KROdwkGU",
        "colab_type": "text"
      },
      "source": [
        "We cleaned up the columns to make them less confusing and more clean:\n",
        "\n",
        "-yearOfRegistration to registration_year\n",
        "\n",
        "-monthOfRegistration to registration_month\n",
        "\n",
        "-notRepairedDamage to unrepaired_damage\n",
        "\n",
        "-dateCreated to ad_created\n",
        "\n",
        "Also changed the columns from camelcase to snakecase due to it being the preferred style for Python."
      ]
    },
    {
      "cell_type": "code",
      "metadata": {
        "id": "wHVZcGd_w7jz",
        "colab_type": "code",
        "colab": {
          "base_uri": "https://localhost:8080/",
          "height": 444
        },
        "outputId": "d7e65bf8-35fe-4826-82a6-0c2667feea31"
      },
      "source": [
        "autos.describe(include='all')"
      ],
      "execution_count": 6,
      "outputs": [
        {
          "output_type": "execute_result",
          "data": {
            "text/html": [
              "<div>\n",
              "<style scoped>\n",
              "    .dataframe tbody tr th:only-of-type {\n",
              "        vertical-align: middle;\n",
              "    }\n",
              "\n",
              "    .dataframe tbody tr th {\n",
              "        vertical-align: top;\n",
              "    }\n",
              "\n",
              "    .dataframe thead th {\n",
              "        text-align: right;\n",
              "    }\n",
              "</style>\n",
              "<table border=\"1\" class=\"dataframe\">\n",
              "  <thead>\n",
              "    <tr style=\"text-align: right;\">\n",
              "      <th></th>\n",
              "      <th>date_crawled</th>\n",
              "      <th>name</th>\n",
              "      <th>seller</th>\n",
              "      <th>offer_type</th>\n",
              "      <th>price</th>\n",
              "      <th>ab_test</th>\n",
              "      <th>vehicle_type</th>\n",
              "      <th>registration_year</th>\n",
              "      <th>gearbox</th>\n",
              "      <th>power_ps</th>\n",
              "      <th>model</th>\n",
              "      <th>odometer</th>\n",
              "      <th>registration_month</th>\n",
              "      <th>fuel_type</th>\n",
              "      <th>brand</th>\n",
              "      <th>unrepaired_damage</th>\n",
              "      <th>ad_created</th>\n",
              "      <th>num_photos</th>\n",
              "      <th>postal_code</th>\n",
              "      <th>last_seen</th>\n",
              "    </tr>\n",
              "  </thead>\n",
              "  <tbody>\n",
              "    <tr>\n",
              "      <th>count</th>\n",
              "      <td>50000</td>\n",
              "      <td>50000</td>\n",
              "      <td>50000</td>\n",
              "      <td>50000</td>\n",
              "      <td>50000</td>\n",
              "      <td>50000</td>\n",
              "      <td>44905</td>\n",
              "      <td>50000.000000</td>\n",
              "      <td>47320</td>\n",
              "      <td>50000.000000</td>\n",
              "      <td>47242</td>\n",
              "      <td>50000</td>\n",
              "      <td>50000.000000</td>\n",
              "      <td>45518</td>\n",
              "      <td>50000</td>\n",
              "      <td>40171</td>\n",
              "      <td>50000</td>\n",
              "      <td>50000.0</td>\n",
              "      <td>50000.000000</td>\n",
              "      <td>50000</td>\n",
              "    </tr>\n",
              "    <tr>\n",
              "      <th>unique</th>\n",
              "      <td>48213</td>\n",
              "      <td>38754</td>\n",
              "      <td>2</td>\n",
              "      <td>2</td>\n",
              "      <td>2357</td>\n",
              "      <td>2</td>\n",
              "      <td>8</td>\n",
              "      <td>NaN</td>\n",
              "      <td>2</td>\n",
              "      <td>NaN</td>\n",
              "      <td>245</td>\n",
              "      <td>13</td>\n",
              "      <td>NaN</td>\n",
              "      <td>7</td>\n",
              "      <td>40</td>\n",
              "      <td>2</td>\n",
              "      <td>76</td>\n",
              "      <td>NaN</td>\n",
              "      <td>NaN</td>\n",
              "      <td>39481</td>\n",
              "    </tr>\n",
              "    <tr>\n",
              "      <th>top</th>\n",
              "      <td>2016-03-14 20:50:02</td>\n",
              "      <td>Ford_Fiesta</td>\n",
              "      <td>privat</td>\n",
              "      <td>Angebot</td>\n",
              "      <td>$0</td>\n",
              "      <td>test</td>\n",
              "      <td>limousine</td>\n",
              "      <td>NaN</td>\n",
              "      <td>manuell</td>\n",
              "      <td>NaN</td>\n",
              "      <td>golf</td>\n",
              "      <td>150,000km</td>\n",
              "      <td>NaN</td>\n",
              "      <td>benzin</td>\n",
              "      <td>volkswagen</td>\n",
              "      <td>nein</td>\n",
              "      <td>2016-04-03 00:00:00</td>\n",
              "      <td>NaN</td>\n",
              "      <td>NaN</td>\n",
              "      <td>2016-04-07 06:17:27</td>\n",
              "    </tr>\n",
              "    <tr>\n",
              "      <th>freq</th>\n",
              "      <td>3</td>\n",
              "      <td>78</td>\n",
              "      <td>49999</td>\n",
              "      <td>49999</td>\n",
              "      <td>1421</td>\n",
              "      <td>25756</td>\n",
              "      <td>12859</td>\n",
              "      <td>NaN</td>\n",
              "      <td>36993</td>\n",
              "      <td>NaN</td>\n",
              "      <td>4024</td>\n",
              "      <td>32424</td>\n",
              "      <td>NaN</td>\n",
              "      <td>30107</td>\n",
              "      <td>10687</td>\n",
              "      <td>35232</td>\n",
              "      <td>1946</td>\n",
              "      <td>NaN</td>\n",
              "      <td>NaN</td>\n",
              "      <td>8</td>\n",
              "    </tr>\n",
              "    <tr>\n",
              "      <th>mean</th>\n",
              "      <td>NaN</td>\n",
              "      <td>NaN</td>\n",
              "      <td>NaN</td>\n",
              "      <td>NaN</td>\n",
              "      <td>NaN</td>\n",
              "      <td>NaN</td>\n",
              "      <td>NaN</td>\n",
              "      <td>2005.073280</td>\n",
              "      <td>NaN</td>\n",
              "      <td>116.355920</td>\n",
              "      <td>NaN</td>\n",
              "      <td>NaN</td>\n",
              "      <td>5.723360</td>\n",
              "      <td>NaN</td>\n",
              "      <td>NaN</td>\n",
              "      <td>NaN</td>\n",
              "      <td>NaN</td>\n",
              "      <td>0.0</td>\n",
              "      <td>50813.627300</td>\n",
              "      <td>NaN</td>\n",
              "    </tr>\n",
              "    <tr>\n",
              "      <th>std</th>\n",
              "      <td>NaN</td>\n",
              "      <td>NaN</td>\n",
              "      <td>NaN</td>\n",
              "      <td>NaN</td>\n",
              "      <td>NaN</td>\n",
              "      <td>NaN</td>\n",
              "      <td>NaN</td>\n",
              "      <td>105.712813</td>\n",
              "      <td>NaN</td>\n",
              "      <td>209.216627</td>\n",
              "      <td>NaN</td>\n",
              "      <td>NaN</td>\n",
              "      <td>3.711984</td>\n",
              "      <td>NaN</td>\n",
              "      <td>NaN</td>\n",
              "      <td>NaN</td>\n",
              "      <td>NaN</td>\n",
              "      <td>0.0</td>\n",
              "      <td>25779.747957</td>\n",
              "      <td>NaN</td>\n",
              "    </tr>\n",
              "    <tr>\n",
              "      <th>min</th>\n",
              "      <td>NaN</td>\n",
              "      <td>NaN</td>\n",
              "      <td>NaN</td>\n",
              "      <td>NaN</td>\n",
              "      <td>NaN</td>\n",
              "      <td>NaN</td>\n",
              "      <td>NaN</td>\n",
              "      <td>1000.000000</td>\n",
              "      <td>NaN</td>\n",
              "      <td>0.000000</td>\n",
              "      <td>NaN</td>\n",
              "      <td>NaN</td>\n",
              "      <td>0.000000</td>\n",
              "      <td>NaN</td>\n",
              "      <td>NaN</td>\n",
              "      <td>NaN</td>\n",
              "      <td>NaN</td>\n",
              "      <td>0.0</td>\n",
              "      <td>1067.000000</td>\n",
              "      <td>NaN</td>\n",
              "    </tr>\n",
              "    <tr>\n",
              "      <th>25%</th>\n",
              "      <td>NaN</td>\n",
              "      <td>NaN</td>\n",
              "      <td>NaN</td>\n",
              "      <td>NaN</td>\n",
              "      <td>NaN</td>\n",
              "      <td>NaN</td>\n",
              "      <td>NaN</td>\n",
              "      <td>1999.000000</td>\n",
              "      <td>NaN</td>\n",
              "      <td>70.000000</td>\n",
              "      <td>NaN</td>\n",
              "      <td>NaN</td>\n",
              "      <td>3.000000</td>\n",
              "      <td>NaN</td>\n",
              "      <td>NaN</td>\n",
              "      <td>NaN</td>\n",
              "      <td>NaN</td>\n",
              "      <td>0.0</td>\n",
              "      <td>30451.000000</td>\n",
              "      <td>NaN</td>\n",
              "    </tr>\n",
              "    <tr>\n",
              "      <th>50%</th>\n",
              "      <td>NaN</td>\n",
              "      <td>NaN</td>\n",
              "      <td>NaN</td>\n",
              "      <td>NaN</td>\n",
              "      <td>NaN</td>\n",
              "      <td>NaN</td>\n",
              "      <td>NaN</td>\n",
              "      <td>2003.000000</td>\n",
              "      <td>NaN</td>\n",
              "      <td>105.000000</td>\n",
              "      <td>NaN</td>\n",
              "      <td>NaN</td>\n",
              "      <td>6.000000</td>\n",
              "      <td>NaN</td>\n",
              "      <td>NaN</td>\n",
              "      <td>NaN</td>\n",
              "      <td>NaN</td>\n",
              "      <td>0.0</td>\n",
              "      <td>49577.000000</td>\n",
              "      <td>NaN</td>\n",
              "    </tr>\n",
              "    <tr>\n",
              "      <th>75%</th>\n",
              "      <td>NaN</td>\n",
              "      <td>NaN</td>\n",
              "      <td>NaN</td>\n",
              "      <td>NaN</td>\n",
              "      <td>NaN</td>\n",
              "      <td>NaN</td>\n",
              "      <td>NaN</td>\n",
              "      <td>2008.000000</td>\n",
              "      <td>NaN</td>\n",
              "      <td>150.000000</td>\n",
              "      <td>NaN</td>\n",
              "      <td>NaN</td>\n",
              "      <td>9.000000</td>\n",
              "      <td>NaN</td>\n",
              "      <td>NaN</td>\n",
              "      <td>NaN</td>\n",
              "      <td>NaN</td>\n",
              "      <td>0.0</td>\n",
              "      <td>71540.000000</td>\n",
              "      <td>NaN</td>\n",
              "    </tr>\n",
              "    <tr>\n",
              "      <th>max</th>\n",
              "      <td>NaN</td>\n",
              "      <td>NaN</td>\n",
              "      <td>NaN</td>\n",
              "      <td>NaN</td>\n",
              "      <td>NaN</td>\n",
              "      <td>NaN</td>\n",
              "      <td>NaN</td>\n",
              "      <td>9999.000000</td>\n",
              "      <td>NaN</td>\n",
              "      <td>17700.000000</td>\n",
              "      <td>NaN</td>\n",
              "      <td>NaN</td>\n",
              "      <td>12.000000</td>\n",
              "      <td>NaN</td>\n",
              "      <td>NaN</td>\n",
              "      <td>NaN</td>\n",
              "      <td>NaN</td>\n",
              "      <td>0.0</td>\n",
              "      <td>99998.000000</td>\n",
              "      <td>NaN</td>\n",
              "    </tr>\n",
              "  </tbody>\n",
              "</table>\n",
              "</div>"
            ],
            "text/plain": [
              "               date_crawled         name  ...   postal_code            last_seen\n",
              "count                 50000        50000  ...  50000.000000                50000\n",
              "unique                48213        38754  ...           NaN                39481\n",
              "top     2016-03-14 20:50:02  Ford_Fiesta  ...           NaN  2016-04-07 06:17:27\n",
              "freq                      3           78  ...           NaN                    8\n",
              "mean                    NaN          NaN  ...  50813.627300                  NaN\n",
              "std                     NaN          NaN  ...  25779.747957                  NaN\n",
              "min                     NaN          NaN  ...   1067.000000                  NaN\n",
              "25%                     NaN          NaN  ...  30451.000000                  NaN\n",
              "50%                     NaN          NaN  ...  49577.000000                  NaN\n",
              "75%                     NaN          NaN  ...  71540.000000                  NaN\n",
              "max                     NaN          NaN  ...  99998.000000                  NaN\n",
              "\n",
              "[11 rows x 20 columns]"
            ]
          },
          "metadata": {
            "tags": []
          },
          "execution_count": 6
        }
      ]
    },
    {
      "cell_type": "code",
      "metadata": {
        "id": "NcFQXb3d2_0T",
        "colab_type": "code",
        "colab": {
          "base_uri": "https://localhost:8080/",
          "height": 68
        },
        "outputId": "9799b523-7c03-4ed2-fd81-56da65eaa191"
      },
      "source": [
        "autos[\"seller\"].value_counts()"
      ],
      "execution_count": 7,
      "outputs": [
        {
          "output_type": "execute_result",
          "data": {
            "text/plain": [
              "privat        49999\n",
              "gewerblich        1\n",
              "Name: seller, dtype: int64"
            ]
          },
          "metadata": {
            "tags": []
          },
          "execution_count": 7
        }
      ]
    },
    {
      "cell_type": "code",
      "metadata": {
        "id": "dVA8sZKD3Eb6",
        "colab_type": "code",
        "colab": {
          "base_uri": "https://localhost:8080/",
          "height": 68
        },
        "outputId": "f616cb12-b5bd-42c1-936e-b3a794604543"
      },
      "source": [
        "autos[\"offer_type\"].value_counts()"
      ],
      "execution_count": 8,
      "outputs": [
        {
          "output_type": "execute_result",
          "data": {
            "text/plain": [
              "Angebot    49999\n",
              "Gesuch         1\n",
              "Name: offer_type, dtype: int64"
            ]
          },
          "metadata": {
            "tags": []
          },
          "execution_count": 8
        }
      ]
    },
    {
      "cell_type": "code",
      "metadata": {
        "id": "JwLuBSiX3ScZ",
        "colab_type": "code",
        "colab": {
          "base_uri": "https://localhost:8080/",
          "height": 51
        },
        "outputId": "64827055-45d9-4700-99a5-19a05e016d6b"
      },
      "source": [
        "autos[\"num_photos\"].value_counts()"
      ],
      "execution_count": 9,
      "outputs": [
        {
          "output_type": "execute_result",
          "data": {
            "text/plain": [
              "0    50000\n",
              "Name: num_photos, dtype: int64"
            ]
          },
          "metadata": {
            "tags": []
          },
          "execution_count": 9
        }
      ]
    },
    {
      "cell_type": "code",
      "metadata": {
        "id": "sxwVTRdS60ua",
        "colab_type": "code",
        "colab": {
          "base_uri": "https://localhost:8080/",
          "height": 34
        },
        "outputId": "66bb634f-a93c-43cf-964a-7e3180836789"
      },
      "source": [
        "pd.to_datetime(autos[\"date_crawled\"]).max()\n",
        "# most recent date an observation was collected."
      ],
      "execution_count": 10,
      "outputs": [
        {
          "output_type": "execute_result",
          "data": {
            "text/plain": [
              "Timestamp('2016-04-07 14:36:56')"
            ]
          },
          "metadata": {
            "tags": []
          },
          "execution_count": 10
        }
      ]
    },
    {
      "cell_type": "code",
      "metadata": {
        "id": "cj-JBOOl67G9",
        "colab_type": "code",
        "colab": {
          "base_uri": "https://localhost:8080/",
          "height": 34
        },
        "outputId": "ed35d151-38ee-4928-ba87-19b01746e328"
      },
      "source": [
        "autos.loc[~autos[\"registration_year\"].between(1906, 2016), \"registration_year\"].count()\n",
        "# number of cars with registration years prior to 1906 or after 2016"
      ],
      "execution_count": 11,
      "outputs": [
        {
          "output_type": "execute_result",
          "data": {
            "text/plain": [
              "1972"
            ]
          },
          "metadata": {
            "tags": []
          },
          "execution_count": 11
        }
      ]
    },
    {
      "cell_type": "code",
      "metadata": {
        "id": "mwyqZ9RP7ZhL",
        "colab_type": "code",
        "colab": {
          "base_uri": "https://localhost:8080/",
          "height": 34
        },
        "outputId": "e62f9f73-7fc5-44f2-862d-5f13dc2c7717"
      },
      "source": [
        " # the number of cars with power rating less than 1ps or greater than 2000ps\n",
        "autos.loc[~autos[\"power_ps\"].between(1, 2000), \"power_ps\"].count()"
      ],
      "execution_count": 12,
      "outputs": [
        {
          "output_type": "execute_result",
          "data": {
            "text/plain": [
              "5518"
            ]
          },
          "metadata": {
            "tags": []
          },
          "execution_count": 12
        }
      ]
    },
    {
      "cell_type": "code",
      "metadata": {
        "id": "xdJiQlhU77Ej",
        "colab_type": "code",
        "colab": {
          "base_uri": "https://localhost:8080/",
          "height": 255
        },
        "outputId": "7dc46b76-b3b3-4137-d516-397d296a8f59"
      },
      "source": [
        "autos[\"registration_month\"].value_counts()"
      ],
      "execution_count": 13,
      "outputs": [
        {
          "output_type": "execute_result",
          "data": {
            "text/plain": [
              "0     5075\n",
              "3     5071\n",
              "6     4368\n",
              "5     4107\n",
              "4     4102\n",
              "7     3949\n",
              "10    3651\n",
              "12    3447\n",
              "9     3389\n",
              "11    3360\n",
              "1     3282\n",
              "8     3191\n",
              "2     3008\n",
              "Name: registration_month, dtype: int64"
            ]
          },
          "metadata": {
            "tags": []
          },
          "execution_count": 13
        }
      ]
    },
    {
      "cell_type": "markdown",
      "metadata": {
        "id": "Pnij9UGM2blF",
        "colab_type": "text"
      },
      "source": [
        "Observations:\n",
        "- we notice that the seller and offer_type columns are almost exclusively a single value. That means they are good candidates to drop as they won't have useful information for analysis. \n",
        "-It also appears that the column nr_of_pictures is all zeros, since the minimum and maximum values in the column are both zero, good candidates to drop as they won't have useful information for analysis. \n",
        "- the power_ps column has suspicious amount below 1ps\n",
        "- spicious minimum value of 0, due to There being no zero month. Could be due to typos"
      ]
    },
    {
      "cell_type": "code",
      "metadata": {
        "id": "_pGbnZJE27kT",
        "colab_type": "code",
        "colab": {}
      },
      "source": [
        "autos = autos.drop([\"num_photos\", \"seller\", \"offer_type\"], axis=1)"
      ],
      "execution_count": 14,
      "outputs": []
    },
    {
      "cell_type": "code",
      "metadata": {
        "id": "PvecGqtG3uhC",
        "colab_type": "code",
        "colab": {
          "base_uri": "https://localhost:8080/",
          "height": 119
        },
        "outputId": "59a9fad3-7f0f-4bd3-e1f3-530b3bfac8d9"
      },
      "source": [
        "autos[\"price\"] = (autos[\"price\"]\n",
        "                          .str.replace(\"$\",\"\")\n",
        "                          .str.replace(\",\",\"\")\n",
        "                          .astype(int)\n",
        "                          )\n",
        "autos[\"price\"].head()"
      ],
      "execution_count": 15,
      "outputs": [
        {
          "output_type": "execute_result",
          "data": {
            "text/plain": [
              "0    5000\n",
              "1    8500\n",
              "2    8990\n",
              "3    4350\n",
              "4    1350\n",
              "Name: price, dtype: int64"
            ]
          },
          "metadata": {
            "tags": []
          },
          "execution_count": 15
        }
      ]
    },
    {
      "cell_type": "code",
      "metadata": {
        "id": "Qw5jWyEy3bcT",
        "colab_type": "code",
        "colab": {
          "base_uri": "https://localhost:8080/",
          "height": 119
        },
        "outputId": "8302109c-e8c0-414b-a081-9851e700d7a6"
      },
      "source": [
        "autos[\"odometer\"] = (autos[\"odometer\"]\n",
        "                             .str.replace(\"km\",\"\")\n",
        "                             .str.replace(\",\",\"\")\n",
        "                             .astype(int)\n",
        "                             )\n",
        "autos.rename({\"odometer\": \"odometer_km\"}, axis=1, inplace=True)\n",
        "autos[\"odometer_km\"].head()"
      ],
      "execution_count": 16,
      "outputs": [
        {
          "output_type": "execute_result",
          "data": {
            "text/plain": [
              "0    150000\n",
              "1    150000\n",
              "2     70000\n",
              "3     70000\n",
              "4    150000\n",
              "Name: odometer_km, dtype: int64"
            ]
          },
          "metadata": {
            "tags": []
          },
          "execution_count": 16
        }
      ]
    },
    {
      "cell_type": "code",
      "metadata": {
        "id": "hv7gB68k4WA3",
        "colab_type": "code",
        "colab": {
          "base_uri": "https://localhost:8080/",
          "height": 255
        },
        "outputId": "23d7352f-4ce0-42c0-b5f6-0ce95bec9b37"
      },
      "source": [
        "autos[\"odometer_km\"].value_counts()"
      ],
      "execution_count": 17,
      "outputs": [
        {
          "output_type": "execute_result",
          "data": {
            "text/plain": [
              "150000    32424\n",
              "125000     5170\n",
              "100000     2169\n",
              "90000      1757\n",
              "80000      1436\n",
              "70000      1230\n",
              "60000      1164\n",
              "50000      1027\n",
              "5000        967\n",
              "40000       819\n",
              "30000       789\n",
              "20000       784\n",
              "10000       264\n",
              "Name: odometer_km, dtype: int64"
            ]
          },
          "metadata": {
            "tags": []
          },
          "execution_count": 17
        }
      ]
    },
    {
      "cell_type": "code",
      "metadata": {
        "id": "5jEaiqa8-l7E",
        "colab_type": "code",
        "colab": {
          "base_uri": "https://localhost:8080/",
          "height": 34
        },
        "outputId": "ba75c4d7-6bf6-4688-ca93-03c6dcf8e793"
      },
      "source": [
        "print(autos[\"odometer_km\"].nunique())"
      ],
      "execution_count": 18,
      "outputs": [
        {
          "output_type": "stream",
          "text": [
            "13\n"
          ],
          "name": "stdout"
        }
      ]
    },
    {
      "cell_type": "code",
      "metadata": {
        "id": "JWWhouOZ-mC2",
        "colab_type": "code",
        "colab": {
          "base_uri": "https://localhost:8080/",
          "height": 34
        },
        "outputId": "e6079482-7d8b-4cfd-829b-73bfed2d24da"
      },
      "source": [
        "(autos[\"odometer_km\"] >= 100000).sum()"
      ],
      "execution_count": 19,
      "outputs": [
        {
          "output_type": "execute_result",
          "data": {
            "text/plain": [
              "39763"
            ]
          },
          "metadata": {
            "tags": []
          },
          "execution_count": 19
        }
      ]
    },
    {
      "cell_type": "markdown",
      "metadata": {
        "id": "4jnRVWS--7Hi",
        "colab_type": "text"
      },
      "source": [
        "Overall, there doesnt seem to be anything that stands out in the odometer_km data."
      ]
    },
    {
      "cell_type": "code",
      "metadata": {
        "id": "BR9i52UD5ErM",
        "colab_type": "code",
        "colab": {
          "base_uri": "https://localhost:8080/",
          "height": 34
        },
        "outputId": "97694ff7-bb3d-42cc-ab10-7f064e2c248c"
      },
      "source": [
        "autos[\"price\"].nunique()"
      ],
      "execution_count": 20,
      "outputs": [
        {
          "output_type": "execute_result",
          "data": {
            "text/plain": [
              "2357"
            ]
          },
          "metadata": {
            "tags": []
          },
          "execution_count": 20
        }
      ]
    },
    {
      "cell_type": "code",
      "metadata": {
        "id": "DiadMha05n6_",
        "colab_type": "code",
        "colab": {
          "base_uri": "https://localhost:8080/",
          "height": 442
        },
        "outputId": "f992dd3e-c8fa-4bea-b2d2-4cb4a6d9358d"
      },
      "source": [
        "print(autos[\"price\"].describe())\n",
        "autos[\"price\"].value_counts().head(15)"
      ],
      "execution_count": 21,
      "outputs": [
        {
          "output_type": "stream",
          "text": [
            "count    5.000000e+04\n",
            "mean     9.840044e+03\n",
            "std      4.811044e+05\n",
            "min      0.000000e+00\n",
            "25%      1.100000e+03\n",
            "50%      2.950000e+03\n",
            "75%      7.200000e+03\n",
            "max      1.000000e+08\n",
            "Name: price, dtype: float64\n"
          ],
          "name": "stdout"
        },
        {
          "output_type": "execute_result",
          "data": {
            "text/plain": [
              "0       1421\n",
              "500      781\n",
              "1500     734\n",
              "2500     643\n",
              "1000     639\n",
              "1200     639\n",
              "600      531\n",
              "800      498\n",
              "3500     498\n",
              "2000     460\n",
              "999      434\n",
              "750      433\n",
              "900      420\n",
              "650      419\n",
              "850      410\n",
              "Name: price, dtype: int64"
            ]
          },
          "metadata": {
            "tags": []
          },
          "execution_count": 21
        }
      ]
    },
    {
      "cell_type": "code",
      "metadata": {
        "id": "0BuXu6Az5ujH",
        "colab_type": "code",
        "colab": {
          "base_uri": "https://localhost:8080/",
          "height": 544
        },
        "outputId": "18747de9-58ee-457a-c8ee-48a6dbe797b6"
      },
      "source": [
        "autos[\"price\"].value_counts().sort_index(ascending=True).head(30)"
      ],
      "execution_count": 22,
      "outputs": [
        {
          "output_type": "execute_result",
          "data": {
            "text/plain": [
              "0     1421\n",
              "1      156\n",
              "2        3\n",
              "3        1\n",
              "5        2\n",
              "8        1\n",
              "9        1\n",
              "10       7\n",
              "11       2\n",
              "12       3\n",
              "13       2\n",
              "14       1\n",
              "15       2\n",
              "17       3\n",
              "18       1\n",
              "20       4\n",
              "25       5\n",
              "29       1\n",
              "30       7\n",
              "35       1\n",
              "40       6\n",
              "45       4\n",
              "47       1\n",
              "49       4\n",
              "50      49\n",
              "55       2\n",
              "59       1\n",
              "60       9\n",
              "65       5\n",
              "66       1\n",
              "Name: price, dtype: int64"
            ]
          },
          "metadata": {
            "tags": []
          },
          "execution_count": 22
        }
      ]
    },
    {
      "cell_type": "code",
      "metadata": {
        "id": "nVY9qtae5oH8",
        "colab_type": "code",
        "colab": {
          "base_uri": "https://localhost:8080/",
          "height": 544
        },
        "outputId": "9f0907c0-2209-42ae-9467-287f4f317710"
      },
      "source": [
        "autos[\"price\"].value_counts().sort_index(ascending=False).head(30)"
      ],
      "execution_count": 23,
      "outputs": [
        {
          "output_type": "execute_result",
          "data": {
            "text/plain": [
              "99999999    1\n",
              "27322222    1\n",
              "12345678    3\n",
              "11111111    2\n",
              "10000000    1\n",
              "3890000     1\n",
              "1300000     1\n",
              "1234566     1\n",
              "999999      2\n",
              "999990      1\n",
              "350000      1\n",
              "345000      1\n",
              "299000      1\n",
              "295000      1\n",
              "265000      1\n",
              "259000      1\n",
              "250000      1\n",
              "220000      1\n",
              "198000      1\n",
              "197000      1\n",
              "194000      1\n",
              "190000      1\n",
              "180000      1\n",
              "175000      1\n",
              "169999      1\n",
              "169000      1\n",
              "163991      1\n",
              "163500      1\n",
              "155000      1\n",
              "151990      1\n",
              "Name: price, dtype: int64"
            ]
          },
          "metadata": {
            "tags": []
          },
          "execution_count": 23
        }
      ]
    },
    {
      "cell_type": "markdown",
      "metadata": {
        "id": "7smgvBnW8ouf",
        "colab_type": "text"
      },
      "source": [
        "The price column has numbers in both the max and min list that do not seem unrealistic. Further breakdown of numbers is needed here."
      ]
    },
    {
      "cell_type": "code",
      "metadata": {
        "id": "eScW8zPVAS49",
        "colab_type": "code",
        "colab": {
          "base_uri": "https://localhost:8080/",
          "height": 483
        },
        "outputId": "ecb09f95-777e-4e1b-a152-b9f74397506a"
      },
      "source": [
        "autos.loc[autos[\"price\"] > 350000, [\"name\", \"model\", \"brand\", \"registration_year\", \"price\"]]"
      ],
      "execution_count": 24,
      "outputs": [
        {
          "output_type": "execute_result",
          "data": {
            "text/html": [
              "<div>\n",
              "<style scoped>\n",
              "    .dataframe tbody tr th:only-of-type {\n",
              "        vertical-align: middle;\n",
              "    }\n",
              "\n",
              "    .dataframe tbody tr th {\n",
              "        vertical-align: top;\n",
              "    }\n",
              "\n",
              "    .dataframe thead th {\n",
              "        text-align: right;\n",
              "    }\n",
              "</style>\n",
              "<table border=\"1\" class=\"dataframe\">\n",
              "  <thead>\n",
              "    <tr style=\"text-align: right;\">\n",
              "      <th></th>\n",
              "      <th>name</th>\n",
              "      <th>model</th>\n",
              "      <th>brand</th>\n",
              "      <th>registration_year</th>\n",
              "      <th>price</th>\n",
              "    </tr>\n",
              "  </thead>\n",
              "  <tbody>\n",
              "    <tr>\n",
              "      <th>514</th>\n",
              "      <td>Ford_Focus_Turnier_1.6_16V_Style</td>\n",
              "      <td>focus</td>\n",
              "      <td>ford</td>\n",
              "      <td>2009</td>\n",
              "      <td>999999</td>\n",
              "    </tr>\n",
              "    <tr>\n",
              "      <th>2897</th>\n",
              "      <td>Escort_MK_1_Hundeknochen_zum_umbauen_auf_RS_2000</td>\n",
              "      <td>escort</td>\n",
              "      <td>ford</td>\n",
              "      <td>1973</td>\n",
              "      <td>11111111</td>\n",
              "    </tr>\n",
              "    <tr>\n",
              "      <th>7814</th>\n",
              "      <td>Ferrari_F40</td>\n",
              "      <td>NaN</td>\n",
              "      <td>sonstige_autos</td>\n",
              "      <td>1992</td>\n",
              "      <td>1300000</td>\n",
              "    </tr>\n",
              "    <tr>\n",
              "      <th>11137</th>\n",
              "      <td>suche_maserati_3200_gt_Zustand_unwichtig_laufe...</td>\n",
              "      <td>NaN</td>\n",
              "      <td>sonstige_autos</td>\n",
              "      <td>1960</td>\n",
              "      <td>10000000</td>\n",
              "    </tr>\n",
              "    <tr>\n",
              "      <th>22947</th>\n",
              "      <td>Bmw_530d_zum_ausschlachten</td>\n",
              "      <td>NaN</td>\n",
              "      <td>bmw</td>\n",
              "      <td>1999</td>\n",
              "      <td>1234566</td>\n",
              "    </tr>\n",
              "    <tr>\n",
              "      <th>24384</th>\n",
              "      <td>Schlachte_Golf_3_gt_tdi</td>\n",
              "      <td>NaN</td>\n",
              "      <td>volkswagen</td>\n",
              "      <td>1995</td>\n",
              "      <td>11111111</td>\n",
              "    </tr>\n",
              "    <tr>\n",
              "      <th>27371</th>\n",
              "      <td>Fiat_Punto</td>\n",
              "      <td>punto</td>\n",
              "      <td>fiat</td>\n",
              "      <td>2017</td>\n",
              "      <td>12345678</td>\n",
              "    </tr>\n",
              "    <tr>\n",
              "      <th>37585</th>\n",
              "      <td>Volkswagen_Jetta_GT</td>\n",
              "      <td>jetta</td>\n",
              "      <td>volkswagen</td>\n",
              "      <td>1985</td>\n",
              "      <td>999990</td>\n",
              "    </tr>\n",
              "    <tr>\n",
              "      <th>39377</th>\n",
              "      <td>Tausche_volvo_v40_gegen_van</td>\n",
              "      <td>v40</td>\n",
              "      <td>volvo</td>\n",
              "      <td>2018</td>\n",
              "      <td>12345678</td>\n",
              "    </tr>\n",
              "    <tr>\n",
              "      <th>39705</th>\n",
              "      <td>Tausch_gegen_gleichwertiges</td>\n",
              "      <td>s_klasse</td>\n",
              "      <td>mercedes_benz</td>\n",
              "      <td>1999</td>\n",
              "      <td>99999999</td>\n",
              "    </tr>\n",
              "    <tr>\n",
              "      <th>42221</th>\n",
              "      <td>Leasinguebernahme</td>\n",
              "      <td>c4</td>\n",
              "      <td>citroen</td>\n",
              "      <td>2014</td>\n",
              "      <td>27322222</td>\n",
              "    </tr>\n",
              "    <tr>\n",
              "      <th>43049</th>\n",
              "      <td>2_VW_Busse_T3</td>\n",
              "      <td>transporter</td>\n",
              "      <td>volkswagen</td>\n",
              "      <td>1981</td>\n",
              "      <td>999999</td>\n",
              "    </tr>\n",
              "    <tr>\n",
              "      <th>47598</th>\n",
              "      <td>Opel_Vectra_B_1_6i_16V_Facelift_Tuning_Showcar...</td>\n",
              "      <td>vectra</td>\n",
              "      <td>opel</td>\n",
              "      <td>2001</td>\n",
              "      <td>12345678</td>\n",
              "    </tr>\n",
              "    <tr>\n",
              "      <th>47634</th>\n",
              "      <td>Ferrari_FXX</td>\n",
              "      <td>NaN</td>\n",
              "      <td>sonstige_autos</td>\n",
              "      <td>2006</td>\n",
              "      <td>3890000</td>\n",
              "    </tr>\n",
              "  </tbody>\n",
              "</table>\n",
              "</div>"
            ],
            "text/plain": [
              "                                                    name  ...     price\n",
              "514                     Ford_Focus_Turnier_1.6_16V_Style  ...    999999\n",
              "2897    Escort_MK_1_Hundeknochen_zum_umbauen_auf_RS_2000  ...  11111111\n",
              "7814                                         Ferrari_F40  ...   1300000\n",
              "11137  suche_maserati_3200_gt_Zustand_unwichtig_laufe...  ...  10000000\n",
              "22947                         Bmw_530d_zum_ausschlachten  ...   1234566\n",
              "24384                            Schlachte_Golf_3_gt_tdi  ...  11111111\n",
              "27371                                         Fiat_Punto  ...  12345678\n",
              "37585                                Volkswagen_Jetta_GT  ...    999990\n",
              "39377                        Tausche_volvo_v40_gegen_van  ...  12345678\n",
              "39705                        Tausch_gegen_gleichwertiges  ...  99999999\n",
              "42221                                  Leasinguebernahme  ...  27322222\n",
              "43049                                      2_VW_Busse_T3  ...    999999\n",
              "47598  Opel_Vectra_B_1_6i_16V_Facelift_Tuning_Showcar...  ...  12345678\n",
              "47634                                        Ferrari_FXX  ...   3890000\n",
              "\n",
              "[14 rows x 5 columns]"
            ]
          },
          "metadata": {
            "tags": []
          },
          "execution_count": 24
        }
      ]
    },
    {
      "cell_type": "code",
      "metadata": {
        "id": "cq0UEeevAn5f",
        "colab_type": "code",
        "colab": {
          "base_uri": "https://localhost:8080/",
          "height": 49
        },
        "outputId": "95ea8d2a-cc5c-4dd1-ead3-ff57beca6412"
      },
      "source": [
        "autos.loc[autos[\"price\"] < 0, [\"name\", \"model\", \"brand\", \"registration_year\", \"price\"]]"
      ],
      "execution_count": 25,
      "outputs": [
        {
          "output_type": "execute_result",
          "data": {
            "text/html": [
              "<div>\n",
              "<style scoped>\n",
              "    .dataframe tbody tr th:only-of-type {\n",
              "        vertical-align: middle;\n",
              "    }\n",
              "\n",
              "    .dataframe tbody tr th {\n",
              "        vertical-align: top;\n",
              "    }\n",
              "\n",
              "    .dataframe thead th {\n",
              "        text-align: right;\n",
              "    }\n",
              "</style>\n",
              "<table border=\"1\" class=\"dataframe\">\n",
              "  <thead>\n",
              "    <tr style=\"text-align: right;\">\n",
              "      <th></th>\n",
              "      <th>name</th>\n",
              "      <th>model</th>\n",
              "      <th>brand</th>\n",
              "      <th>registration_year</th>\n",
              "      <th>price</th>\n",
              "    </tr>\n",
              "  </thead>\n",
              "  <tbody>\n",
              "  </tbody>\n",
              "</table>\n",
              "</div>"
            ],
            "text/plain": [
              "Empty DataFrame\n",
              "Columns: [name, model, brand, registration_year, price]\n",
              "Index: []"
            ]
          },
          "metadata": {
            "tags": []
          },
          "execution_count": 25
        }
      ]
    },
    {
      "cell_type": "markdown",
      "metadata": {
        "id": "TYAfjGxnBCzO",
        "colab_type": "text"
      },
      "source": [
        "Price Observations:\n",
        "- There are 1,421 cars listed with $0 price, It is only 2% of data. We will wait to see if it needs to be removed. \n",
        "- It does seem odd that a ford focus would sell for that high. Not sure if it is worth confirming this information. "
      ]
    },
    {
      "cell_type": "code",
      "metadata": {
        "id": "AWr0fVQ-day9",
        "colab_type": "code",
        "colab": {}
      },
      "source": [
        "autos[[\"date_crawled\", \"ad_created\", \"last_seen\"]] = autos[[\"date_crawled\", \"ad_created\", \"last_seen\"]].apply(pd.to_datetime)"
      ],
      "execution_count": 26,
      "outputs": []
    },
    {
      "cell_type": "code",
      "metadata": {
        "id": "i-HDKEeGdevY",
        "colab_type": "code",
        "colab": {
          "base_uri": "https://localhost:8080/",
          "height": 187
        },
        "outputId": "479607ca-2082-4b5b-805c-4de4725bd3fb"
      },
      "source": [
        "autos[[\"date_crawled\", \"ad_created\", \"last_seen\"]].info()"
      ],
      "execution_count": 27,
      "outputs": [
        {
          "output_type": "stream",
          "text": [
            "<class 'pandas.core.frame.DataFrame'>\n",
            "RangeIndex: 50000 entries, 0 to 49999\n",
            "Data columns (total 3 columns):\n",
            " #   Column        Non-Null Count  Dtype         \n",
            "---  ------        --------------  -----         \n",
            " 0   date_crawled  50000 non-null  datetime64[ns]\n",
            " 1   ad_created    50000 non-null  datetime64[ns]\n",
            " 2   last_seen     50000 non-null  datetime64[ns]\n",
            "dtypes: datetime64[ns](3)\n",
            "memory usage: 1.1 MB\n"
          ],
          "name": "stdout"
        }
      ]
    },
    {
      "cell_type": "code",
      "metadata": {
        "id": "0maKYCnmBbhN",
        "colab_type": "code",
        "colab": {
          "base_uri": "https://localhost:8080/",
          "height": 204
        },
        "outputId": "f8db60ca-a815-41f9-a129-1033600c9b27"
      },
      "source": [
        "autos[[\"date_crawled\", \"ad_created\", \"last_seen\"]].head()"
      ],
      "execution_count": 28,
      "outputs": [
        {
          "output_type": "execute_result",
          "data": {
            "text/html": [
              "<div>\n",
              "<style scoped>\n",
              "    .dataframe tbody tr th:only-of-type {\n",
              "        vertical-align: middle;\n",
              "    }\n",
              "\n",
              "    .dataframe tbody tr th {\n",
              "        vertical-align: top;\n",
              "    }\n",
              "\n",
              "    .dataframe thead th {\n",
              "        text-align: right;\n",
              "    }\n",
              "</style>\n",
              "<table border=\"1\" class=\"dataframe\">\n",
              "  <thead>\n",
              "    <tr style=\"text-align: right;\">\n",
              "      <th></th>\n",
              "      <th>date_crawled</th>\n",
              "      <th>ad_created</th>\n",
              "      <th>last_seen</th>\n",
              "    </tr>\n",
              "  </thead>\n",
              "  <tbody>\n",
              "    <tr>\n",
              "      <th>0</th>\n",
              "      <td>2016-03-26 17:47:46</td>\n",
              "      <td>2016-03-26</td>\n",
              "      <td>2016-04-06 06:45:54</td>\n",
              "    </tr>\n",
              "    <tr>\n",
              "      <th>1</th>\n",
              "      <td>2016-04-04 13:38:56</td>\n",
              "      <td>2016-04-04</td>\n",
              "      <td>2016-04-06 14:45:08</td>\n",
              "    </tr>\n",
              "    <tr>\n",
              "      <th>2</th>\n",
              "      <td>2016-03-26 18:57:24</td>\n",
              "      <td>2016-03-26</td>\n",
              "      <td>2016-04-06 20:15:37</td>\n",
              "    </tr>\n",
              "    <tr>\n",
              "      <th>3</th>\n",
              "      <td>2016-03-12 16:58:10</td>\n",
              "      <td>2016-03-12</td>\n",
              "      <td>2016-03-15 03:16:28</td>\n",
              "    </tr>\n",
              "    <tr>\n",
              "      <th>4</th>\n",
              "      <td>2016-04-01 14:38:50</td>\n",
              "      <td>2016-04-01</td>\n",
              "      <td>2016-04-01 14:38:50</td>\n",
              "    </tr>\n",
              "  </tbody>\n",
              "</table>\n",
              "</div>"
            ],
            "text/plain": [
              "         date_crawled ad_created           last_seen\n",
              "0 2016-03-26 17:47:46 2016-03-26 2016-04-06 06:45:54\n",
              "1 2016-04-04 13:38:56 2016-04-04 2016-04-06 14:45:08\n",
              "2 2016-03-26 18:57:24 2016-03-26 2016-04-06 20:15:37\n",
              "3 2016-03-12 16:58:10 2016-03-12 2016-03-15 03:16:28\n",
              "4 2016-04-01 14:38:50 2016-04-01 2016-04-01 14:38:50"
            ]
          },
          "metadata": {
            "tags": []
          },
          "execution_count": 28
        }
      ]
    },
    {
      "cell_type": "code",
      "metadata": {
        "id": "lJgp0kDZEuZu",
        "colab_type": "code",
        "colab": {
          "base_uri": "https://localhost:8080/",
          "height": 612
        },
        "outputId": "246c23e1-c9be-47ab-a440-8dc072960829"
      },
      "source": [
        "autos[\"date_crawled\"].dt.floor(\"D\").value_counts(normalize = True).sort_index()"
      ],
      "execution_count": 29,
      "outputs": [
        {
          "output_type": "execute_result",
          "data": {
            "text/plain": [
              "2016-03-05    0.02538\n",
              "2016-03-06    0.01394\n",
              "2016-03-07    0.03596\n",
              "2016-03-08    0.03330\n",
              "2016-03-09    0.03322\n",
              "2016-03-10    0.03212\n",
              "2016-03-11    0.03248\n",
              "2016-03-12    0.03678\n",
              "2016-03-13    0.01556\n",
              "2016-03-14    0.03662\n",
              "2016-03-15    0.03398\n",
              "2016-03-16    0.02950\n",
              "2016-03-17    0.03152\n",
              "2016-03-18    0.01306\n",
              "2016-03-19    0.03490\n",
              "2016-03-20    0.03782\n",
              "2016-03-21    0.03752\n",
              "2016-03-22    0.03294\n",
              "2016-03-23    0.03238\n",
              "2016-03-24    0.02910\n",
              "2016-03-25    0.03174\n",
              "2016-03-26    0.03248\n",
              "2016-03-27    0.03104\n",
              "2016-03-28    0.03484\n",
              "2016-03-29    0.03418\n",
              "2016-03-30    0.03362\n",
              "2016-03-31    0.03192\n",
              "2016-04-01    0.03380\n",
              "2016-04-02    0.03540\n",
              "2016-04-03    0.03868\n",
              "2016-04-04    0.03652\n",
              "2016-04-05    0.01310\n",
              "2016-04-06    0.00318\n",
              "2016-04-07    0.00142\n",
              "Name: date_crawled, dtype: float64"
            ]
          },
          "metadata": {
            "tags": []
          },
          "execution_count": 29
        }
      ]
    },
    {
      "cell_type": "code",
      "metadata": {
        "id": "X1TlXpVeGCc5",
        "colab_type": "code",
        "colab": {
          "base_uri": "https://localhost:8080/",
          "height": 612
        },
        "outputId": "8320b997-ed67-47ad-b332-0d0c77ac093d"
      },
      "source": [
        "autos[\"date_crawled\"].dt.floor(\"D\").value_counts(normalize = True).sort_values()"
      ],
      "execution_count": 30,
      "outputs": [
        {
          "output_type": "execute_result",
          "data": {
            "text/plain": [
              "2016-04-07    0.00142\n",
              "2016-04-06    0.00318\n",
              "2016-03-18    0.01306\n",
              "2016-04-05    0.01310\n",
              "2016-03-06    0.01394\n",
              "2016-03-13    0.01556\n",
              "2016-03-05    0.02538\n",
              "2016-03-24    0.02910\n",
              "2016-03-16    0.02950\n",
              "2016-03-27    0.03104\n",
              "2016-03-17    0.03152\n",
              "2016-03-25    0.03174\n",
              "2016-03-31    0.03192\n",
              "2016-03-10    0.03212\n",
              "2016-03-23    0.03238\n",
              "2016-03-26    0.03248\n",
              "2016-03-11    0.03248\n",
              "2016-03-22    0.03294\n",
              "2016-03-09    0.03322\n",
              "2016-03-08    0.03330\n",
              "2016-03-30    0.03362\n",
              "2016-04-01    0.03380\n",
              "2016-03-15    0.03398\n",
              "2016-03-29    0.03418\n",
              "2016-03-28    0.03484\n",
              "2016-03-19    0.03490\n",
              "2016-04-02    0.03540\n",
              "2016-03-07    0.03596\n",
              "2016-04-04    0.03652\n",
              "2016-03-14    0.03662\n",
              "2016-03-12    0.03678\n",
              "2016-03-21    0.03752\n",
              "2016-03-20    0.03782\n",
              "2016-04-03    0.03868\n",
              "Name: date_crawled, dtype: float64"
            ]
          },
          "metadata": {
            "tags": []
          },
          "execution_count": 30
        }
      ]
    },
    {
      "cell_type": "code",
      "metadata": {
        "id": "YH9K1gC5fDL6",
        "colab_type": "code",
        "colab": {
          "base_uri": "https://localhost:8080/",
          "height": 442
        },
        "outputId": "c6915e89-60ff-4b6b-d407-1086a18fe120"
      },
      "source": [
        "autos[\"date_crawled\"].dt.hour.value_counts(normalize = True).sort_index()"
      ],
      "execution_count": 31,
      "outputs": [
        {
          "output_type": "execute_result",
          "data": {
            "text/plain": [
              "0     0.02716\n",
              "1     0.01542\n",
              "2     0.00652\n",
              "3     0.00502\n",
              "4     0.00420\n",
              "5     0.00310\n",
              "6     0.00350\n",
              "7     0.01442\n",
              "8     0.01994\n",
              "9     0.03556\n",
              "10    0.04812\n",
              "11    0.05540\n",
              "12    0.05884\n",
              "13    0.06466\n",
              "14    0.06808\n",
              "15    0.06626\n",
              "16    0.06960\n",
              "17    0.06988\n",
              "18    0.07356\n",
              "19    0.06792\n",
              "20    0.06780\n",
              "21    0.06148\n",
              "22    0.05088\n",
              "23    0.04268\n",
              "Name: date_crawled, dtype: float64"
            ]
          },
          "metadata": {
            "tags": []
          },
          "execution_count": 31
        }
      ]
    },
    {
      "cell_type": "markdown",
      "metadata": {
        "id": "6ZQbZAaAZN60",
        "colab_type": "text"
      },
      "source": [
        "Data Crawled Observation\n",
        "\n",
        "This data was crawled over daily and around once a month, from March 2016 to april 2016. The overall distribution is faily uniformly scrpaed over. Hourly breakdown shows non uniformly between 2am-6am. "
      ]
    },
    {
      "cell_type": "code",
      "metadata": {
        "id": "XdLe87ICaBtE",
        "colab_type": "code",
        "colab": {
          "base_uri": "https://localhost:8080/",
          "height": 612
        },
        "outputId": "9d2f869f-dcfd-47df-fd12-e02c3826a044"
      },
      "source": [
        "(autos[\"last_seen\"].dt.floor(\"D\").value_counts(normalize=True).sort_index())"
      ],
      "execution_count": 32,
      "outputs": [
        {
          "output_type": "execute_result",
          "data": {
            "text/plain": [
              "2016-03-05    0.00108\n",
              "2016-03-06    0.00442\n",
              "2016-03-07    0.00536\n",
              "2016-03-08    0.00760\n",
              "2016-03-09    0.00986\n",
              "2016-03-10    0.01076\n",
              "2016-03-11    0.01252\n",
              "2016-03-12    0.02382\n",
              "2016-03-13    0.00898\n",
              "2016-03-14    0.01280\n",
              "2016-03-15    0.01588\n",
              "2016-03-16    0.01644\n",
              "2016-03-17    0.02792\n",
              "2016-03-18    0.00742\n",
              "2016-03-19    0.01574\n",
              "2016-03-20    0.02070\n",
              "2016-03-21    0.02074\n",
              "2016-03-22    0.02158\n",
              "2016-03-23    0.01858\n",
              "2016-03-24    0.01956\n",
              "2016-03-25    0.01920\n",
              "2016-03-26    0.01696\n",
              "2016-03-27    0.01602\n",
              "2016-03-28    0.02086\n",
              "2016-03-29    0.02234\n",
              "2016-03-30    0.02484\n",
              "2016-03-31    0.02384\n",
              "2016-04-01    0.02310\n",
              "2016-04-02    0.02490\n",
              "2016-04-03    0.02536\n",
              "2016-04-04    0.02462\n",
              "2016-04-05    0.12428\n",
              "2016-04-06    0.22100\n",
              "2016-04-07    0.13092\n",
              "Name: last_seen, dtype: float64"
            ]
          },
          "metadata": {
            "tags": []
          },
          "execution_count": 32
        }
      ]
    },
    {
      "cell_type": "markdown",
      "metadata": {
        "id": "JWrK62MAb-g_",
        "colab_type": "text"
      },
      "source": [
        "Last Seen Observation\n",
        "\n",
        "This data was crawled over daily and around once a month, from March 2016 to april 2016. Over half of the entries were last seen in the last five days of data."
      ]
    },
    {
      "cell_type": "code",
      "metadata": {
        "id": "amYNoZmWcUgr",
        "colab_type": "code",
        "colab": {
          "base_uri": "https://localhost:8080/",
          "height": 221
        },
        "outputId": "5540f0b2-88ef-47ec-fac4-df006ff778ac"
      },
      "source": [
        "autos[\"ad_created\"].dt.floor(\"D\").value_counts(normalize = True).sort_index()"
      ],
      "execution_count": 33,
      "outputs": [
        {
          "output_type": "execute_result",
          "data": {
            "text/plain": [
              "2015-06-11    0.00002\n",
              "2015-08-10    0.00002\n",
              "2015-09-09    0.00002\n",
              "2015-11-10    0.00002\n",
              "2015-12-05    0.00002\n",
              "               ...   \n",
              "2016-04-03    0.03892\n",
              "2016-04-04    0.03688\n",
              "2016-04-05    0.01184\n",
              "2016-04-06    0.00326\n",
              "2016-04-07    0.00128\n",
              "Name: ad_created, Length: 76, dtype: float64"
            ]
          },
          "metadata": {
            "tags": []
          },
          "execution_count": 33
        }
      ]
    },
    {
      "cell_type": "code",
      "metadata": {
        "id": "44V-sC4-fqg5",
        "colab_type": "code",
        "colab": {
          "base_uri": "https://localhost:8080/",
          "height": 68
        },
        "outputId": "98ef4932-e949-492a-d8f0-301a66e34b97"
      },
      "source": [
        "autos[\"ad_created\"].dt.year.value_counts(normalize = True)"
      ],
      "execution_count": 34,
      "outputs": [
        {
          "output_type": "execute_result",
          "data": {
            "text/plain": [
              "2016    0.99988\n",
              "2015    0.00012\n",
              "Name: ad_created, dtype: float64"
            ]
          },
          "metadata": {
            "tags": []
          },
          "execution_count": 34
        }
      ]
    },
    {
      "cell_type": "code",
      "metadata": {
        "id": "kIViDoaQfy8J",
        "colab_type": "code",
        "colab": {
          "base_uri": "https://localhost:8080/",
          "height": 51
        },
        "outputId": "85339417-b98f-4759-ccb6-7f8aa2a6ece2"
      },
      "source": [
        "autos[\"ad_created\"].dt.hour.value_counts(normalize = True).sort_index()"
      ],
      "execution_count": 35,
      "outputs": [
        {
          "output_type": "execute_result",
          "data": {
            "text/plain": [
              "0    1.0\n",
              "Name: ad_created, dtype: float64"
            ]
          },
          "metadata": {
            "tags": []
          },
          "execution_count": 35
        }
      ]
    },
    {
      "cell_type": "markdown",
      "metadata": {
        "id": "OgBbaHslctth",
        "colab_type": "text"
      },
      "source": [
        "AD Created Observation\n",
        " \n",
        "The ads were created between june 2015  and april 2016. "
      ]
    },
    {
      "cell_type": "code",
      "metadata": {
        "id": "Gba6WsBJf6AI",
        "colab_type": "code",
        "colab": {
          "base_uri": "https://localhost:8080/",
          "height": 170
        },
        "outputId": "2306eef1-f965-408f-f9ef-5bdd0cace615"
      },
      "source": [
        "autos[\"registration_year\"].describe()"
      ],
      "execution_count": 36,
      "outputs": [
        {
          "output_type": "execute_result",
          "data": {
            "text/plain": [
              "count    50000.000000\n",
              "mean      2005.073280\n",
              "std        105.712813\n",
              "min       1000.000000\n",
              "25%       1999.000000\n",
              "50%       2003.000000\n",
              "75%       2008.000000\n",
              "max       9999.000000\n",
              "Name: registration_year, dtype: float64"
            ]
          },
          "metadata": {
            "tags": []
          },
          "execution_count": 36
        }
      ]
    },
    {
      "cell_type": "markdown",
      "metadata": {
        "id": "eQu5UPwtl0BT",
        "colab_type": "text"
      },
      "source": [
        "Registratoin Year Observations\n",
        "\n",
        "There are odd numbers here, it is not possible to have a car in the \"1000\" which is the min value. The max value is also odd with \"9999\". Any vehivle registred after 2016 should not be in the data. We should focus on 1900-2016. Further Breakdown needed."
      ]
    },
    {
      "cell_type": "code",
      "metadata": {
        "id": "0K0yz2ctlyRS",
        "colab_type": "code",
        "colab": {
          "base_uri": "https://localhost:8080/",
          "height": 357
        },
        "outputId": "e752a469-d2d2-4dd1-cc4d-1a9455fa2ca0"
      },
      "source": [
        "autos.loc[~autos[\"registration_year\"].between(1906, 2016), \"registration_year\"].value_counts()"
      ],
      "execution_count": 37,
      "outputs": [
        {
          "output_type": "execute_result",
          "data": {
            "text/plain": [
              "2017    1453\n",
              "2018     492\n",
              "9999       4\n",
              "5000       4\n",
              "2019       3\n",
              "9000       2\n",
              "1800       2\n",
              "6200       1\n",
              "4500       1\n",
              "8888       1\n",
              "4800       1\n",
              "2800       1\n",
              "1001       1\n",
              "1000       1\n",
              "1111       1\n",
              "1500       1\n",
              "9996       1\n",
              "5911       1\n",
              "4100       1\n",
              "Name: registration_year, dtype: int64"
            ]
          },
          "metadata": {
            "tags": []
          },
          "execution_count": 37
        }
      ]
    },
    {
      "cell_type": "code",
      "metadata": {
        "id": "qJjXJEXamRW1",
        "colab_type": "code",
        "colab": {
          "base_uri": "https://localhost:8080/",
          "height": 34
        },
        "outputId": "2d5e3659-6ea2-4814-9105-1dd6b8cd9aaf"
      },
      "source": [
        "(~autos[\"registration_year\"].between(1900,2016)).sum() / autos.shape[0]\n",
        "# Percent of invalid data "
      ],
      "execution_count": 38,
      "outputs": [
        {
          "output_type": "execute_result",
          "data": {
            "text/plain": [
              "0.03944"
            ]
          },
          "metadata": {
            "tags": []
          },
          "execution_count": 38
        }
      ]
    },
    {
      "cell_type": "code",
      "metadata": {
        "id": "8urf0Fz8mVR1",
        "colab_type": "code",
        "colab": {
          "base_uri": "https://localhost:8080/",
          "height": 170
        },
        "outputId": "0efb4db8-3352-489c-efe3-76f8b5c4a9dc"
      },
      "source": [
        "autos.loc[autos[\"registration_year\"].between(1906, 2016), \"registration_year\"].describe()"
      ],
      "execution_count": 39,
      "outputs": [
        {
          "output_type": "execute_result",
          "data": {
            "text/plain": [
              "count    48028.00000\n",
              "mean      2002.80351\n",
              "std          7.31085\n",
              "min       1910.00000\n",
              "25%       1999.00000\n",
              "50%       2003.00000\n",
              "75%       2008.00000\n",
              "max       2016.00000\n",
              "Name: registration_year, dtype: float64"
            ]
          },
          "metadata": {
            "tags": []
          },
          "execution_count": 39
        }
      ]
    },
    {
      "cell_type": "code",
      "metadata": {
        "id": "Hji2SN2MmsxV",
        "colab_type": "code",
        "colab": {
          "base_uri": "https://localhost:8080/",
          "height": 408
        },
        "outputId": "6ef1bfae-4d6a-47c6-fa3b-158405a32dc1"
      },
      "source": [
        "autos.loc[autos[\"registration_year\"].between(1995, 2016), \"registration_year\"].value_counts(normalize = True).sort_index()"
      ],
      "execution_count": 40,
      "outputs": [
        {
          "output_type": "execute_result",
          "data": {
            "text/plain": [
              "1995    0.029579\n",
              "1996    0.032531\n",
              "1997    0.045687\n",
              "1998    0.055261\n",
              "1999    0.067584\n",
              "2000    0.075559\n",
              "2001    0.060893\n",
              "2002    0.057064\n",
              "2003    0.061434\n",
              "2004    0.061659\n",
              "2005    0.067922\n",
              "2006    0.061006\n",
              "2007    0.051905\n",
              "2008    0.050260\n",
              "2009    0.047264\n",
              "2010    0.035977\n",
              "2011    0.036811\n",
              "2012    0.029805\n",
              "2013    0.018158\n",
              "2014    0.015004\n",
              "2015    0.008989\n",
              "2016    0.029647\n",
              "Name: registration_year, dtype: float64"
            ]
          },
          "metadata": {
            "tags": []
          },
          "execution_count": 40
        }
      ]
    },
    {
      "cell_type": "code",
      "metadata": {
        "id": "39eNuTLTnV7a",
        "colab_type": "code",
        "colab": {
          "base_uri": "https://localhost:8080/",
          "height": 34
        },
        "outputId": "8e199646-e506-4e9d-ecb4-a17d40d0dd0a"
      },
      "source": [
        "autos.loc[autos[\"registration_year\"].between(1906, 2016), \"registration_year\"].value_counts(normalize = True).sort_index().loc[1970:].sum()"
      ],
      "execution_count": 41,
      "outputs": [
        {
          "output_type": "execute_result",
          "data": {
            "text/plain": [
              "0.9952319480303154"
            ]
          },
          "metadata": {
            "tags": []
          },
          "execution_count": 41
        }
      ]
    },
    {
      "cell_type": "markdown",
      "metadata": {
        "id": "nGMSoCdWpLst",
        "colab_type": "text"
      },
      "source": [
        "Registratoin Year Observations Final\n",
        "\n",
        "Due to around 99% of this data occuring after 1970. We will set a date range for this data \" 1970 - 2016\"."
      ]
    },
    {
      "cell_type": "code",
      "metadata": {
        "id": "5E10PROwpRpT",
        "colab_type": "code",
        "colab": {
          "base_uri": "https://localhost:8080/",
          "height": 544
        },
        "outputId": "9257c15c-d9b0-48c5-cbd2-f8c764402a6d"
      },
      "source": [
        "autos = autos[autos[\"registration_year\"].between(1969,2016)]\n",
        "autos[\"registration_year\"].value_counts(normalize=True).head(30)"
      ],
      "execution_count": 42,
      "outputs": [
        {
          "output_type": "execute_result",
          "data": {
            "text/plain": [
              "2000    0.070141\n",
              "2005    0.063052\n",
              "1999    0.062738\n",
              "2004    0.057238\n",
              "2003    0.057029\n",
              "2006    0.056631\n",
              "2001    0.056527\n",
              "2002    0.052972\n",
              "1998    0.051299\n",
              "2007    0.048183\n",
              "2008    0.046656\n",
              "2009    0.043875\n",
              "1997    0.042411\n",
              "2011    0.034171\n",
              "2010    0.033397\n",
              "1996    0.030198\n",
              "2012    0.027667\n",
              "2016    0.027521\n",
              "1995    0.027458\n",
              "2013    0.016856\n",
              "2014    0.013928\n",
              "1994    0.013802\n",
              "1993    0.009306\n",
              "2015    0.008344\n",
              "1990    0.008260\n",
              "1992    0.008177\n",
              "1991    0.007445\n",
              "1989    0.003785\n",
              "1988    0.002970\n",
              "1985    0.002196\n",
              "Name: registration_year, dtype: float64"
            ]
          },
          "metadata": {
            "tags": []
          },
          "execution_count": 42
        }
      ]
    },
    {
      "cell_type": "code",
      "metadata": {
        "id": "FrF9EuyVpYTT",
        "colab_type": "code",
        "colab": {
          "base_uri": "https://localhost:8080/",
          "height": 34
        },
        "outputId": "7562a803-53b1-49e5-f0a0-871b80338c0f"
      },
      "source": [
        "autos[\"brand\"].nunique()\n"
      ],
      "execution_count": 43,
      "outputs": [
        {
          "output_type": "execute_result",
          "data": {
            "text/plain": [
              "40"
            ]
          },
          "metadata": {
            "tags": []
          },
          "execution_count": 43
        }
      ]
    },
    {
      "cell_type": "code",
      "metadata": {
        "id": "X5-Uh5nDsiB-",
        "colab_type": "code",
        "colab": {
          "base_uri": "https://localhost:8080/",
          "height": 714
        },
        "outputId": "2cc1f8be-df9b-4f4a-df60-e8cd220e7528"
      },
      "source": [
        "autos[\"brand\"].value_counts(normalize=True)"
      ],
      "execution_count": 44,
      "outputs": [
        {
          "output_type": "execute_result",
          "data": {
            "text/plain": [
              "volkswagen        0.212723\n",
              "bmw               0.110377\n",
              "opel              0.108432\n",
              "mercedes_benz     0.095278\n",
              "audi              0.086746\n",
              "ford              0.069221\n",
              "renault           0.047493\n",
              "peugeot           0.029633\n",
              "fiat              0.025827\n",
              "seat              0.018236\n",
              "skoda             0.016061\n",
              "mazda             0.015203\n",
              "nissan            0.015162\n",
              "smart             0.013970\n",
              "citroen           0.013949\n",
              "toyota            0.012527\n",
              "sonstige_autos    0.009933\n",
              "hyundai           0.009892\n",
              "volvo             0.009139\n",
              "mini              0.008679\n",
              "mitsubishi        0.008177\n",
              "honda             0.007884\n",
              "kia               0.007131\n",
              "alfa_romeo        0.006608\n",
              "porsche           0.005939\n",
              "suzuki            0.005939\n",
              "chevrolet         0.005542\n",
              "chrysler          0.003639\n",
              "dacia             0.002572\n",
              "daihatsu          0.002572\n",
              "jeep              0.002259\n",
              "subaru            0.002196\n",
              "land_rover        0.002008\n",
              "saab              0.001610\n",
              "jaguar            0.001548\n",
              "daewoo            0.001506\n",
              "rover             0.001359\n",
              "trabant           0.001338\n",
              "lancia            0.001087\n",
              "lada              0.000606\n",
              "Name: brand, dtype: float64"
            ]
          },
          "metadata": {
            "tags": []
          },
          "execution_count": 44
        }
      ]
    },
    {
      "cell_type": "code",
      "metadata": {
        "id": "jwUrcmGLs_78",
        "colab_type": "code",
        "colab": {
          "base_uri": "https://localhost:8080/",
          "height": 34
        },
        "outputId": "ee49cb5f-deb5-4c38-9f3a-863f3794acdc"
      },
      "source": [
        "autos[\"brand\"].value_counts(normalize = True).head(10).sum()"
      ],
      "execution_count": 45,
      "outputs": [
        {
          "output_type": "execute_result",
          "data": {
            "text/plain": [
              "0.8039650340875821"
            ]
          },
          "metadata": {
            "tags": []
          },
          "execution_count": 45
        }
      ]
    },
    {
      "cell_type": "markdown",
      "metadata": {
        "id": "rt9L58sitvBl",
        "colab_type": "text"
      },
      "source": [
        "Brand Observations\n",
        "- Volkswagen is the most popular brand, with aprox double bmw who is second most popular\n",
        "- WE will limit our analysis to brands in the top 10 \">0.018\""
      ]
    },
    {
      "cell_type": "code",
      "metadata": {
        "id": "dXR3RDPHtE9V",
        "colab_type": "code",
        "colab": {
          "base_uri": "https://localhost:8080/",
          "height": 68
        },
        "outputId": "55b2e572-deeb-4b26-c044-5e09d1b9790b"
      },
      "source": [
        "brand_count = autos[\"brand\"].value_counts(normalize=True)\n",
        "common_brands = brand_count[brand_count > .018].index\n",
        "print(common_brands)"
      ],
      "execution_count": 46,
      "outputs": [
        {
          "output_type": "stream",
          "text": [
            "Index(['volkswagen', 'bmw', 'opel', 'mercedes_benz', 'audi', 'ford', 'renault',\n",
            "       'peugeot', 'fiat', 'seat'],\n",
            "      dtype='object')\n"
          ],
          "name": "stdout"
        }
      ]
    },
    {
      "cell_type": "code",
      "metadata": {
        "id": "azUysW-XuSYG",
        "colab_type": "code",
        "colab": {
          "base_uri": "https://localhost:8080/",
          "height": 187
        },
        "outputId": "9a7c0648-015e-4f6c-9e9b-906241cfd819"
      },
      "source": [
        "brand_mean_prices = {}\n",
        "\n",
        "for brand in common_brands:\n",
        "    brand_only = autos[autos[\"brand\"] == brand]\n",
        "    mean_price = brand_only[\"price\"].mean()\n",
        "    brand_mean_prices[brand] = int(mean_price)\n",
        "\n",
        "brand_mean_prices"
      ],
      "execution_count": 47,
      "outputs": [
        {
          "output_type": "execute_result",
          "data": {
            "text/plain": [
              "{'audi': 9088,\n",
              " 'bmw': 8338,\n",
              " 'fiat': 2680,\n",
              " 'ford': 7073,\n",
              " 'mercedes_benz': 30330,\n",
              " 'opel': 5254,\n",
              " 'peugeot': 3033,\n",
              " 'renault': 2390,\n",
              " 'seat': 4301,\n",
              " 'volkswagen': 6508}"
            ]
          },
          "metadata": {
            "tags": []
          },
          "execution_count": 47
        }
      ]
    },
    {
      "cell_type": "code",
      "metadata": {
        "id": "V1aylyEVwNID",
        "colab_type": "code",
        "colab": {
          "base_uri": "https://localhost:8080/",
          "height": 221
        },
        "outputId": "e5733bd1-05a2-4e34-f00c-5c5f7d200fe6"
      },
      "source": [
        "autos.groupby(\"brand\")[\"model\"].value_counts(dropna = False).sort_values(ascending = False).head(10)"
      ],
      "execution_count": 48,
      "outputs": [
        {
          "output_type": "execute_result",
          "data": {
            "text/plain": [
              "brand          model   \n",
              "volkswagen     golf        3815\n",
              "bmw            3er         2688\n",
              "volkswagen     polo        1677\n",
              "opel           corsa       1644\n",
              "               astra       1388\n",
              "volkswagen     passat      1388\n",
              "audi           a4          1265\n",
              "bmw            5er         1163\n",
              "mercedes_benz  c_klasse    1147\n",
              "               e_klasse     981\n",
              "Name: model, dtype: int64"
            ]
          },
          "metadata": {
            "tags": []
          },
          "execution_count": 48
        }
      ]
    },
    {
      "cell_type": "code",
      "metadata": {
        "id": "NCoqKqhGxMuP",
        "colab_type": "code",
        "colab": {
          "base_uri": "https://localhost:8080/",
          "height": 483
        },
        "outputId": "2b7ea9ca-8f6c-46c4-d853-cd10611cc5ad"
      },
      "source": [
        "autos.groupby(\"odometer_km\")[\"brand\"].describe().sort_index().round(1)"
      ],
      "execution_count": 49,
      "outputs": [
        {
          "output_type": "execute_result",
          "data": {
            "text/html": [
              "<div>\n",
              "<style scoped>\n",
              "    .dataframe tbody tr th:only-of-type {\n",
              "        vertical-align: middle;\n",
              "    }\n",
              "\n",
              "    .dataframe tbody tr th {\n",
              "        vertical-align: top;\n",
              "    }\n",
              "\n",
              "    .dataframe thead th {\n",
              "        text-align: right;\n",
              "    }\n",
              "</style>\n",
              "<table border=\"1\" class=\"dataframe\">\n",
              "  <thead>\n",
              "    <tr style=\"text-align: right;\">\n",
              "      <th></th>\n",
              "      <th>count</th>\n",
              "      <th>unique</th>\n",
              "      <th>top</th>\n",
              "      <th>freq</th>\n",
              "    </tr>\n",
              "    <tr>\n",
              "      <th>odometer_km</th>\n",
              "      <th></th>\n",
              "      <th></th>\n",
              "      <th></th>\n",
              "      <th></th>\n",
              "    </tr>\n",
              "  </thead>\n",
              "  <tbody>\n",
              "    <tr>\n",
              "      <th>5000</th>\n",
              "      <td>872</td>\n",
              "      <td>39</td>\n",
              "      <td>volkswagen</td>\n",
              "      <td>180</td>\n",
              "    </tr>\n",
              "    <tr>\n",
              "      <th>10000</th>\n",
              "      <td>244</td>\n",
              "      <td>26</td>\n",
              "      <td>volkswagen</td>\n",
              "      <td>48</td>\n",
              "    </tr>\n",
              "    <tr>\n",
              "      <th>20000</th>\n",
              "      <td>754</td>\n",
              "      <td>36</td>\n",
              "      <td>volkswagen</td>\n",
              "      <td>141</td>\n",
              "    </tr>\n",
              "    <tr>\n",
              "      <th>30000</th>\n",
              "      <td>763</td>\n",
              "      <td>35</td>\n",
              "      <td>volkswagen</td>\n",
              "      <td>168</td>\n",
              "    </tr>\n",
              "    <tr>\n",
              "      <th>40000</th>\n",
              "      <td>795</td>\n",
              "      <td>34</td>\n",
              "      <td>volkswagen</td>\n",
              "      <td>143</td>\n",
              "    </tr>\n",
              "    <tr>\n",
              "      <th>50000</th>\n",
              "      <td>997</td>\n",
              "      <td>38</td>\n",
              "      <td>volkswagen</td>\n",
              "      <td>184</td>\n",
              "    </tr>\n",
              "    <tr>\n",
              "      <th>60000</th>\n",
              "      <td>1122</td>\n",
              "      <td>39</td>\n",
              "      <td>volkswagen</td>\n",
              "      <td>206</td>\n",
              "    </tr>\n",
              "    <tr>\n",
              "      <th>70000</th>\n",
              "      <td>1186</td>\n",
              "      <td>39</td>\n",
              "      <td>volkswagen</td>\n",
              "      <td>208</td>\n",
              "    </tr>\n",
              "    <tr>\n",
              "      <th>80000</th>\n",
              "      <td>1386</td>\n",
              "      <td>38</td>\n",
              "      <td>volkswagen</td>\n",
              "      <td>252</td>\n",
              "    </tr>\n",
              "    <tr>\n",
              "      <th>90000</th>\n",
              "      <td>1684</td>\n",
              "      <td>39</td>\n",
              "      <td>volkswagen</td>\n",
              "      <td>290</td>\n",
              "    </tr>\n",
              "    <tr>\n",
              "      <th>100000</th>\n",
              "      <td>2081</td>\n",
              "      <td>39</td>\n",
              "      <td>volkswagen</td>\n",
              "      <td>375</td>\n",
              "    </tr>\n",
              "    <tr>\n",
              "      <th>125000</th>\n",
              "      <td>4948</td>\n",
              "      <td>40</td>\n",
              "      <td>volkswagen</td>\n",
              "      <td>864</td>\n",
              "    </tr>\n",
              "    <tr>\n",
              "      <th>150000</th>\n",
              "      <td>30986</td>\n",
              "      <td>40</td>\n",
              "      <td>volkswagen</td>\n",
              "      <td>7113</td>\n",
              "    </tr>\n",
              "  </tbody>\n",
              "</table>\n",
              "</div>"
            ],
            "text/plain": [
              "             count unique         top  freq\n",
              "odometer_km                                \n",
              "5000           872     39  volkswagen   180\n",
              "10000          244     26  volkswagen    48\n",
              "20000          754     36  volkswagen   141\n",
              "30000          763     35  volkswagen   168\n",
              "40000          795     34  volkswagen   143\n",
              "50000          997     38  volkswagen   184\n",
              "60000         1122     39  volkswagen   206\n",
              "70000         1186     39  volkswagen   208\n",
              "80000         1386     38  volkswagen   252\n",
              "90000         1684     39  volkswagen   290\n",
              "100000        2081     39  volkswagen   375\n",
              "125000        4948     40  volkswagen   864\n",
              "150000       30986     40  volkswagen  7113"
            ]
          },
          "metadata": {
            "tags": []
          },
          "execution_count": 49
        }
      ]
    },
    {
      "cell_type": "code",
      "metadata": {
        "id": "WmaosYzrxQK0",
        "colab_type": "code",
        "colab": {
          "base_uri": "https://localhost:8080/",
          "height": 1000
        },
        "outputId": "f534d3a4-6076-4edf-cce1-efd2f111eb4f"
      },
      "source": [
        "autos.groupby(\"brand\")[\"odometer_km\"].describe().sort_index().round(1)"
      ],
      "execution_count": 50,
      "outputs": [
        {
          "output_type": "execute_result",
          "data": {
            "text/html": [
              "<div>\n",
              "<style scoped>\n",
              "    .dataframe tbody tr th:only-of-type {\n",
              "        vertical-align: middle;\n",
              "    }\n",
              "\n",
              "    .dataframe tbody tr th {\n",
              "        vertical-align: top;\n",
              "    }\n",
              "\n",
              "    .dataframe thead th {\n",
              "        text-align: right;\n",
              "    }\n",
              "</style>\n",
              "<table border=\"1\" class=\"dataframe\">\n",
              "  <thead>\n",
              "    <tr style=\"text-align: right;\">\n",
              "      <th></th>\n",
              "      <th>count</th>\n",
              "      <th>mean</th>\n",
              "      <th>std</th>\n",
              "      <th>min</th>\n",
              "      <th>25%</th>\n",
              "      <th>50%</th>\n",
              "      <th>75%</th>\n",
              "      <th>max</th>\n",
              "    </tr>\n",
              "    <tr>\n",
              "      <th>brand</th>\n",
              "      <th></th>\n",
              "      <th></th>\n",
              "      <th></th>\n",
              "      <th></th>\n",
              "      <th></th>\n",
              "      <th></th>\n",
              "      <th></th>\n",
              "      <th></th>\n",
              "    </tr>\n",
              "  </thead>\n",
              "  <tbody>\n",
              "    <tr>\n",
              "      <th>alfa_romeo</th>\n",
              "      <td>316.0</td>\n",
              "      <td>132199.4</td>\n",
              "      <td>33766.1</td>\n",
              "      <td>5000.0</td>\n",
              "      <td>125000.0</td>\n",
              "      <td>150000.0</td>\n",
              "      <td>150000.0</td>\n",
              "      <td>150000.0</td>\n",
              "    </tr>\n",
              "    <tr>\n",
              "      <th>audi</th>\n",
              "      <td>4148.0</td>\n",
              "      <td>129282.8</td>\n",
              "      <td>39030.3</td>\n",
              "      <td>5000.0</td>\n",
              "      <td>125000.0</td>\n",
              "      <td>150000.0</td>\n",
              "      <td>150000.0</td>\n",
              "      <td>150000.0</td>\n",
              "    </tr>\n",
              "    <tr>\n",
              "      <th>bmw</th>\n",
              "      <td>5278.0</td>\n",
              "      <td>132532.2</td>\n",
              "      <td>35166.4</td>\n",
              "      <td>5000.0</td>\n",
              "      <td>125000.0</td>\n",
              "      <td>150000.0</td>\n",
              "      <td>150000.0</td>\n",
              "      <td>150000.0</td>\n",
              "    </tr>\n",
              "    <tr>\n",
              "      <th>chevrolet</th>\n",
              "      <td>265.0</td>\n",
              "      <td>98754.7</td>\n",
              "      <td>46865.3</td>\n",
              "      <td>5000.0</td>\n",
              "      <td>60000.0</td>\n",
              "      <td>100000.0</td>\n",
              "      <td>150000.0</td>\n",
              "      <td>150000.0</td>\n",
              "    </tr>\n",
              "    <tr>\n",
              "      <th>chrysler</th>\n",
              "      <td>174.0</td>\n",
              "      <td>133850.6</td>\n",
              "      <td>34596.8</td>\n",
              "      <td>5000.0</td>\n",
              "      <td>150000.0</td>\n",
              "      <td>150000.0</td>\n",
              "      <td>150000.0</td>\n",
              "      <td>150000.0</td>\n",
              "    </tr>\n",
              "    <tr>\n",
              "      <th>citroen</th>\n",
              "      <td>667.0</td>\n",
              "      <td>119445.3</td>\n",
              "      <td>40233.8</td>\n",
              "      <td>5000.0</td>\n",
              "      <td>90000.0</td>\n",
              "      <td>150000.0</td>\n",
              "      <td>150000.0</td>\n",
              "      <td>150000.0</td>\n",
              "    </tr>\n",
              "    <tr>\n",
              "      <th>dacia</th>\n",
              "      <td>123.0</td>\n",
              "      <td>84268.3</td>\n",
              "      <td>48085.0</td>\n",
              "      <td>5000.0</td>\n",
              "      <td>40000.0</td>\n",
              "      <td>80000.0</td>\n",
              "      <td>125000.0</td>\n",
              "      <td>150000.0</td>\n",
              "    </tr>\n",
              "    <tr>\n",
              "      <th>daewoo</th>\n",
              "      <td>72.0</td>\n",
              "      <td>122430.6</td>\n",
              "      <td>37594.9</td>\n",
              "      <td>5000.0</td>\n",
              "      <td>97500.0</td>\n",
              "      <td>150000.0</td>\n",
              "      <td>150000.0</td>\n",
              "      <td>150000.0</td>\n",
              "    </tr>\n",
              "    <tr>\n",
              "      <th>daihatsu</th>\n",
              "      <td>123.0</td>\n",
              "      <td>115284.6</td>\n",
              "      <td>43637.4</td>\n",
              "      <td>5000.0</td>\n",
              "      <td>90000.0</td>\n",
              "      <td>125000.0</td>\n",
              "      <td>150000.0</td>\n",
              "      <td>150000.0</td>\n",
              "    </tr>\n",
              "    <tr>\n",
              "      <th>fiat</th>\n",
              "      <td>1235.0</td>\n",
              "      <td>116825.9</td>\n",
              "      <td>42907.9</td>\n",
              "      <td>5000.0</td>\n",
              "      <td>90000.0</td>\n",
              "      <td>125000.0</td>\n",
              "      <td>150000.0</td>\n",
              "      <td>150000.0</td>\n",
              "    </tr>\n",
              "    <tr>\n",
              "      <th>ford</th>\n",
              "      <td>3310.0</td>\n",
              "      <td>124758.3</td>\n",
              "      <td>39626.2</td>\n",
              "      <td>5000.0</td>\n",
              "      <td>100000.0</td>\n",
              "      <td>150000.0</td>\n",
              "      <td>150000.0</td>\n",
              "      <td>150000.0</td>\n",
              "    </tr>\n",
              "    <tr>\n",
              "      <th>honda</th>\n",
              "      <td>377.0</td>\n",
              "      <td>122851.5</td>\n",
              "      <td>40245.6</td>\n",
              "      <td>5000.0</td>\n",
              "      <td>100000.0</td>\n",
              "      <td>150000.0</td>\n",
              "      <td>150000.0</td>\n",
              "      <td>150000.0</td>\n",
              "    </tr>\n",
              "    <tr>\n",
              "      <th>hyundai</th>\n",
              "      <td>473.0</td>\n",
              "      <td>106511.6</td>\n",
              "      <td>45213.6</td>\n",
              "      <td>5000.0</td>\n",
              "      <td>70000.0</td>\n",
              "      <td>125000.0</td>\n",
              "      <td>150000.0</td>\n",
              "      <td>150000.0</td>\n",
              "    </tr>\n",
              "    <tr>\n",
              "      <th>jaguar</th>\n",
              "      <td>74.0</td>\n",
              "      <td>121081.1</td>\n",
              "      <td>43212.4</td>\n",
              "      <td>5000.0</td>\n",
              "      <td>100000.0</td>\n",
              "      <td>150000.0</td>\n",
              "      <td>150000.0</td>\n",
              "      <td>150000.0</td>\n",
              "    </tr>\n",
              "    <tr>\n",
              "      <th>jeep</th>\n",
              "      <td>108.0</td>\n",
              "      <td>127546.3</td>\n",
              "      <td>38375.3</td>\n",
              "      <td>5000.0</td>\n",
              "      <td>125000.0</td>\n",
              "      <td>150000.0</td>\n",
              "      <td>150000.0</td>\n",
              "      <td>150000.0</td>\n",
              "    </tr>\n",
              "    <tr>\n",
              "      <th>kia</th>\n",
              "      <td>341.0</td>\n",
              "      <td>112434.0</td>\n",
              "      <td>44911.0</td>\n",
              "      <td>5000.0</td>\n",
              "      <td>80000.0</td>\n",
              "      <td>125000.0</td>\n",
              "      <td>150000.0</td>\n",
              "      <td>150000.0</td>\n",
              "    </tr>\n",
              "    <tr>\n",
              "      <th>lada</th>\n",
              "      <td>29.0</td>\n",
              "      <td>85517.2</td>\n",
              "      <td>38250.7</td>\n",
              "      <td>5000.0</td>\n",
              "      <td>70000.0</td>\n",
              "      <td>80000.0</td>\n",
              "      <td>100000.0</td>\n",
              "      <td>150000.0</td>\n",
              "    </tr>\n",
              "    <tr>\n",
              "      <th>lancia</th>\n",
              "      <td>52.0</td>\n",
              "      <td>122019.2</td>\n",
              "      <td>39373.3</td>\n",
              "      <td>5000.0</td>\n",
              "      <td>100000.0</td>\n",
              "      <td>150000.0</td>\n",
              "      <td>150000.0</td>\n",
              "      <td>150000.0</td>\n",
              "    </tr>\n",
              "    <tr>\n",
              "      <th>land_rover</th>\n",
              "      <td>96.0</td>\n",
              "      <td>118489.6</td>\n",
              "      <td>46843.1</td>\n",
              "      <td>5000.0</td>\n",
              "      <td>87500.0</td>\n",
              "      <td>150000.0</td>\n",
              "      <td>150000.0</td>\n",
              "      <td>150000.0</td>\n",
              "    </tr>\n",
              "    <tr>\n",
              "      <th>mazda</th>\n",
              "      <td>727.0</td>\n",
              "      <td>124745.5</td>\n",
              "      <td>39862.5</td>\n",
              "      <td>5000.0</td>\n",
              "      <td>125000.0</td>\n",
              "      <td>150000.0</td>\n",
              "      <td>150000.0</td>\n",
              "      <td>150000.0</td>\n",
              "    </tr>\n",
              "    <tr>\n",
              "      <th>mercedes_benz</th>\n",
              "      <td>4556.0</td>\n",
              "      <td>131092.0</td>\n",
              "      <td>36179.2</td>\n",
              "      <td>5000.0</td>\n",
              "      <td>125000.0</td>\n",
              "      <td>150000.0</td>\n",
              "      <td>150000.0</td>\n",
              "      <td>150000.0</td>\n",
              "    </tr>\n",
              "    <tr>\n",
              "      <th>mini</th>\n",
              "      <td>415.0</td>\n",
              "      <td>88602.4</td>\n",
              "      <td>43910.3</td>\n",
              "      <td>5000.0</td>\n",
              "      <td>50000.0</td>\n",
              "      <td>90000.0</td>\n",
              "      <td>125000.0</td>\n",
              "      <td>150000.0</td>\n",
              "    </tr>\n",
              "    <tr>\n",
              "      <th>mitsubishi</th>\n",
              "      <td>391.0</td>\n",
              "      <td>126930.9</td>\n",
              "      <td>38808.1</td>\n",
              "      <td>5000.0</td>\n",
              "      <td>125000.0</td>\n",
              "      <td>150000.0</td>\n",
              "      <td>150000.0</td>\n",
              "      <td>150000.0</td>\n",
              "    </tr>\n",
              "    <tr>\n",
              "      <th>nissan</th>\n",
              "      <td>725.0</td>\n",
              "      <td>118572.4</td>\n",
              "      <td>41694.1</td>\n",
              "      <td>5000.0</td>\n",
              "      <td>90000.0</td>\n",
              "      <td>150000.0</td>\n",
              "      <td>150000.0</td>\n",
              "      <td>150000.0</td>\n",
              "    </tr>\n",
              "    <tr>\n",
              "      <th>opel</th>\n",
              "      <td>5185.0</td>\n",
              "      <td>129309.5</td>\n",
              "      <td>37379.9</td>\n",
              "      <td>5000.0</td>\n",
              "      <td>125000.0</td>\n",
              "      <td>150000.0</td>\n",
              "      <td>150000.0</td>\n",
              "      <td>150000.0</td>\n",
              "    </tr>\n",
              "    <tr>\n",
              "      <th>peugeot</th>\n",
              "      <td>1417.0</td>\n",
              "      <td>127191.2</td>\n",
              "      <td>36182.3</td>\n",
              "      <td>5000.0</td>\n",
              "      <td>125000.0</td>\n",
              "      <td>150000.0</td>\n",
              "      <td>150000.0</td>\n",
              "      <td>150000.0</td>\n",
              "    </tr>\n",
              "    <tr>\n",
              "      <th>porsche</th>\n",
              "      <td>284.0</td>\n",
              "      <td>98274.6</td>\n",
              "      <td>49336.8</td>\n",
              "      <td>5000.0</td>\n",
              "      <td>60000.0</td>\n",
              "      <td>100000.0</td>\n",
              "      <td>150000.0</td>\n",
              "      <td>150000.0</td>\n",
              "    </tr>\n",
              "    <tr>\n",
              "      <th>renault</th>\n",
              "      <td>2271.0</td>\n",
              "      <td>128320.1</td>\n",
              "      <td>37073.7</td>\n",
              "      <td>5000.0</td>\n",
              "      <td>125000.0</td>\n",
              "      <td>150000.0</td>\n",
              "      <td>150000.0</td>\n",
              "      <td>150000.0</td>\n",
              "    </tr>\n",
              "    <tr>\n",
              "      <th>rover</th>\n",
              "      <td>65.0</td>\n",
              "      <td>135615.4</td>\n",
              "      <td>30904.4</td>\n",
              "      <td>5000.0</td>\n",
              "      <td>150000.0</td>\n",
              "      <td>150000.0</td>\n",
              "      <td>150000.0</td>\n",
              "      <td>150000.0</td>\n",
              "    </tr>\n",
              "    <tr>\n",
              "      <th>saab</th>\n",
              "      <td>77.0</td>\n",
              "      <td>144415.6</td>\n",
              "      <td>22197.9</td>\n",
              "      <td>20000.0</td>\n",
              "      <td>150000.0</td>\n",
              "      <td>150000.0</td>\n",
              "      <td>150000.0</td>\n",
              "      <td>150000.0</td>\n",
              "    </tr>\n",
              "    <tr>\n",
              "      <th>seat</th>\n",
              "      <td>872.0</td>\n",
              "      <td>121697.2</td>\n",
              "      <td>41139.6</td>\n",
              "      <td>5000.0</td>\n",
              "      <td>100000.0</td>\n",
              "      <td>150000.0</td>\n",
              "      <td>150000.0</td>\n",
              "      <td>150000.0</td>\n",
              "    </tr>\n",
              "    <tr>\n",
              "      <th>skoda</th>\n",
              "      <td>768.0</td>\n",
              "      <td>111061.2</td>\n",
              "      <td>45710.5</td>\n",
              "      <td>5000.0</td>\n",
              "      <td>80000.0</td>\n",
              "      <td>125000.0</td>\n",
              "      <td>150000.0</td>\n",
              "      <td>150000.0</td>\n",
              "    </tr>\n",
              "    <tr>\n",
              "      <th>smart</th>\n",
              "      <td>668.0</td>\n",
              "      <td>99595.8</td>\n",
              "      <td>42200.4</td>\n",
              "      <td>5000.0</td>\n",
              "      <td>60000.0</td>\n",
              "      <td>100000.0</td>\n",
              "      <td>150000.0</td>\n",
              "      <td>150000.0</td>\n",
              "    </tr>\n",
              "    <tr>\n",
              "      <th>sonstige_autos</th>\n",
              "      <td>475.0</td>\n",
              "      <td>89536.8</td>\n",
              "      <td>57277.3</td>\n",
              "      <td>5000.0</td>\n",
              "      <td>30000.0</td>\n",
              "      <td>100000.0</td>\n",
              "      <td>150000.0</td>\n",
              "      <td>150000.0</td>\n",
              "    </tr>\n",
              "    <tr>\n",
              "      <th>subaru</th>\n",
              "      <td>105.0</td>\n",
              "      <td>124857.1</td>\n",
              "      <td>40158.7</td>\n",
              "      <td>5000.0</td>\n",
              "      <td>100000.0</td>\n",
              "      <td>150000.0</td>\n",
              "      <td>150000.0</td>\n",
              "      <td>150000.0</td>\n",
              "    </tr>\n",
              "    <tr>\n",
              "      <th>suzuki</th>\n",
              "      <td>284.0</td>\n",
              "      <td>109049.3</td>\n",
              "      <td>42774.5</td>\n",
              "      <td>5000.0</td>\n",
              "      <td>80000.0</td>\n",
              "      <td>125000.0</td>\n",
              "      <td>150000.0</td>\n",
              "      <td>150000.0</td>\n",
              "    </tr>\n",
              "    <tr>\n",
              "      <th>toyota</th>\n",
              "      <td>599.0</td>\n",
              "      <td>115709.5</td>\n",
              "      <td>42001.0</td>\n",
              "      <td>5000.0</td>\n",
              "      <td>85000.0</td>\n",
              "      <td>125000.0</td>\n",
              "      <td>150000.0</td>\n",
              "      <td>150000.0</td>\n",
              "    </tr>\n",
              "    <tr>\n",
              "      <th>trabant</th>\n",
              "      <td>64.0</td>\n",
              "      <td>58828.1</td>\n",
              "      <td>41035.6</td>\n",
              "      <td>5000.0</td>\n",
              "      <td>27500.0</td>\n",
              "      <td>60000.0</td>\n",
              "      <td>80000.0</td>\n",
              "      <td>150000.0</td>\n",
              "    </tr>\n",
              "    <tr>\n",
              "      <th>volkswagen</th>\n",
              "      <td>10172.0</td>\n",
              "      <td>128764.3</td>\n",
              "      <td>38742.7</td>\n",
              "      <td>5000.0</td>\n",
              "      <td>125000.0</td>\n",
              "      <td>150000.0</td>\n",
              "      <td>150000.0</td>\n",
              "      <td>150000.0</td>\n",
              "    </tr>\n",
              "    <tr>\n",
              "      <th>volvo</th>\n",
              "      <td>437.0</td>\n",
              "      <td>139073.2</td>\n",
              "      <td>28474.2</td>\n",
              "      <td>5000.0</td>\n",
              "      <td>150000.0</td>\n",
              "      <td>150000.0</td>\n",
              "      <td>150000.0</td>\n",
              "      <td>150000.0</td>\n",
              "    </tr>\n",
              "  </tbody>\n",
              "</table>\n",
              "</div>"
            ],
            "text/plain": [
              "                  count      mean      std  ...       50%       75%       max\n",
              "brand                                       ...                              \n",
              "alfa_romeo        316.0  132199.4  33766.1  ...  150000.0  150000.0  150000.0\n",
              "audi             4148.0  129282.8  39030.3  ...  150000.0  150000.0  150000.0\n",
              "bmw              5278.0  132532.2  35166.4  ...  150000.0  150000.0  150000.0\n",
              "chevrolet         265.0   98754.7  46865.3  ...  100000.0  150000.0  150000.0\n",
              "chrysler          174.0  133850.6  34596.8  ...  150000.0  150000.0  150000.0\n",
              "citroen           667.0  119445.3  40233.8  ...  150000.0  150000.0  150000.0\n",
              "dacia             123.0   84268.3  48085.0  ...   80000.0  125000.0  150000.0\n",
              "daewoo             72.0  122430.6  37594.9  ...  150000.0  150000.0  150000.0\n",
              "daihatsu          123.0  115284.6  43637.4  ...  125000.0  150000.0  150000.0\n",
              "fiat             1235.0  116825.9  42907.9  ...  125000.0  150000.0  150000.0\n",
              "ford             3310.0  124758.3  39626.2  ...  150000.0  150000.0  150000.0\n",
              "honda             377.0  122851.5  40245.6  ...  150000.0  150000.0  150000.0\n",
              "hyundai           473.0  106511.6  45213.6  ...  125000.0  150000.0  150000.0\n",
              "jaguar             74.0  121081.1  43212.4  ...  150000.0  150000.0  150000.0\n",
              "jeep              108.0  127546.3  38375.3  ...  150000.0  150000.0  150000.0\n",
              "kia               341.0  112434.0  44911.0  ...  125000.0  150000.0  150000.0\n",
              "lada               29.0   85517.2  38250.7  ...   80000.0  100000.0  150000.0\n",
              "lancia             52.0  122019.2  39373.3  ...  150000.0  150000.0  150000.0\n",
              "land_rover         96.0  118489.6  46843.1  ...  150000.0  150000.0  150000.0\n",
              "mazda             727.0  124745.5  39862.5  ...  150000.0  150000.0  150000.0\n",
              "mercedes_benz    4556.0  131092.0  36179.2  ...  150000.0  150000.0  150000.0\n",
              "mini              415.0   88602.4  43910.3  ...   90000.0  125000.0  150000.0\n",
              "mitsubishi        391.0  126930.9  38808.1  ...  150000.0  150000.0  150000.0\n",
              "nissan            725.0  118572.4  41694.1  ...  150000.0  150000.0  150000.0\n",
              "opel             5185.0  129309.5  37379.9  ...  150000.0  150000.0  150000.0\n",
              "peugeot          1417.0  127191.2  36182.3  ...  150000.0  150000.0  150000.0\n",
              "porsche           284.0   98274.6  49336.8  ...  100000.0  150000.0  150000.0\n",
              "renault          2271.0  128320.1  37073.7  ...  150000.0  150000.0  150000.0\n",
              "rover              65.0  135615.4  30904.4  ...  150000.0  150000.0  150000.0\n",
              "saab               77.0  144415.6  22197.9  ...  150000.0  150000.0  150000.0\n",
              "seat              872.0  121697.2  41139.6  ...  150000.0  150000.0  150000.0\n",
              "skoda             768.0  111061.2  45710.5  ...  125000.0  150000.0  150000.0\n",
              "smart             668.0   99595.8  42200.4  ...  100000.0  150000.0  150000.0\n",
              "sonstige_autos    475.0   89536.8  57277.3  ...  100000.0  150000.0  150000.0\n",
              "subaru            105.0  124857.1  40158.7  ...  150000.0  150000.0  150000.0\n",
              "suzuki            284.0  109049.3  42774.5  ...  125000.0  150000.0  150000.0\n",
              "toyota            599.0  115709.5  42001.0  ...  125000.0  150000.0  150000.0\n",
              "trabant            64.0   58828.1  41035.6  ...   60000.0   80000.0  150000.0\n",
              "volkswagen      10172.0  128764.3  38742.7  ...  150000.0  150000.0  150000.0\n",
              "volvo             437.0  139073.2  28474.2  ...  150000.0  150000.0  150000.0\n",
              "\n",
              "[40 rows x 8 columns]"
            ]
          },
          "metadata": {
            "tags": []
          },
          "execution_count": 50
        }
      ]
    },
    {
      "cell_type": "code",
      "metadata": {
        "id": "TlIx5jPpxi77",
        "colab_type": "code",
        "colab": {
          "base_uri": "https://localhost:8080/",
          "height": 483
        },
        "outputId": "0308c6b8-3a61-4244-a677-6aefb49c8670"
      },
      "source": [
        "autos.groupby(\"odometer_km\")[\"price\"].describe().sort_index().round(1)"
      ],
      "execution_count": 51,
      "outputs": [
        {
          "output_type": "execute_result",
          "data": {
            "text/html": [
              "<div>\n",
              "<style scoped>\n",
              "    .dataframe tbody tr th:only-of-type {\n",
              "        vertical-align: middle;\n",
              "    }\n",
              "\n",
              "    .dataframe tbody tr th {\n",
              "        vertical-align: top;\n",
              "    }\n",
              "\n",
              "    .dataframe thead th {\n",
              "        text-align: right;\n",
              "    }\n",
              "</style>\n",
              "<table border=\"1\" class=\"dataframe\">\n",
              "  <thead>\n",
              "    <tr style=\"text-align: right;\">\n",
              "      <th></th>\n",
              "      <th>count</th>\n",
              "      <th>mean</th>\n",
              "      <th>std</th>\n",
              "      <th>min</th>\n",
              "      <th>25%</th>\n",
              "      <th>50%</th>\n",
              "      <th>75%</th>\n",
              "      <th>max</th>\n",
              "    </tr>\n",
              "    <tr>\n",
              "      <th>odometer_km</th>\n",
              "      <th></th>\n",
              "      <th></th>\n",
              "      <th></th>\n",
              "      <th></th>\n",
              "      <th></th>\n",
              "      <th></th>\n",
              "      <th></th>\n",
              "      <th></th>\n",
              "    </tr>\n",
              "  </thead>\n",
              "  <tbody>\n",
              "    <tr>\n",
              "      <th>5000</th>\n",
              "      <td>872.0</td>\n",
              "      <td>11932.3</td>\n",
              "      <td>133842.4</td>\n",
              "      <td>0.0</td>\n",
              "      <td>150.0</td>\n",
              "      <td>1100.0</td>\n",
              "      <td>5050.0</td>\n",
              "      <td>3890000.0</td>\n",
              "    </tr>\n",
              "    <tr>\n",
              "      <th>10000</th>\n",
              "      <td>244.0</td>\n",
              "      <td>20104.8</td>\n",
              "      <td>21125.3</td>\n",
              "      <td>0.0</td>\n",
              "      <td>7800.0</td>\n",
              "      <td>15925.0</td>\n",
              "      <td>27005.0</td>\n",
              "      <td>163991.0</td>\n",
              "    </tr>\n",
              "    <tr>\n",
              "      <th>20000</th>\n",
              "      <td>754.0</td>\n",
              "      <td>17868.7</td>\n",
              "      <td>23134.0</td>\n",
              "      <td>0.0</td>\n",
              "      <td>5990.0</td>\n",
              "      <td>13900.0</td>\n",
              "      <td>23767.5</td>\n",
              "      <td>345000.0</td>\n",
              "    </tr>\n",
              "    <tr>\n",
              "      <th>30000</th>\n",
              "      <td>763.0</td>\n",
              "      <td>16490.8</td>\n",
              "      <td>16903.9</td>\n",
              "      <td>0.0</td>\n",
              "      <td>6990.0</td>\n",
              "      <td>12500.0</td>\n",
              "      <td>21900.0</td>\n",
              "      <td>220000.0</td>\n",
              "    </tr>\n",
              "    <tr>\n",
              "      <th>40000</th>\n",
              "      <td>795.0</td>\n",
              "      <td>49738.8</td>\n",
              "      <td>968569.8</td>\n",
              "      <td>0.0</td>\n",
              "      <td>6999.0</td>\n",
              "      <td>12290.0</td>\n",
              "      <td>19995.0</td>\n",
              "      <td>27322222.0</td>\n",
              "    </tr>\n",
              "    <tr>\n",
              "      <th>50000</th>\n",
              "      <td>997.0</td>\n",
              "      <td>25922.0</td>\n",
              "      <td>353989.3</td>\n",
              "      <td>0.0</td>\n",
              "      <td>5900.0</td>\n",
              "      <td>10000.0</td>\n",
              "      <td>17900.0</td>\n",
              "      <td>11111111.0</td>\n",
              "    </tr>\n",
              "    <tr>\n",
              "      <th>60000</th>\n",
              "      <td>1122.0</td>\n",
              "      <td>12231.1</td>\n",
              "      <td>12869.9</td>\n",
              "      <td>0.0</td>\n",
              "      <td>4782.5</td>\n",
              "      <td>9000.0</td>\n",
              "      <td>15999.0</td>\n",
              "      <td>190000.0</td>\n",
              "    </tr>\n",
              "    <tr>\n",
              "      <th>70000</th>\n",
              "      <td>1186.0</td>\n",
              "      <td>10756.0</td>\n",
              "      <td>9248.8</td>\n",
              "      <td>0.0</td>\n",
              "      <td>4000.0</td>\n",
              "      <td>8000.0</td>\n",
              "      <td>14999.0</td>\n",
              "      <td>63999.0</td>\n",
              "    </tr>\n",
              "    <tr>\n",
              "      <th>80000</th>\n",
              "      <td>1386.0</td>\n",
              "      <td>9562.8</td>\n",
              "      <td>8870.1</td>\n",
              "      <td>0.0</td>\n",
              "      <td>3592.5</td>\n",
              "      <td>7270.0</td>\n",
              "      <td>13000.0</td>\n",
              "      <td>105000.0</td>\n",
              "    </tr>\n",
              "    <tr>\n",
              "      <th>90000</th>\n",
              "      <td>1684.0</td>\n",
              "      <td>8273.3</td>\n",
              "      <td>8248.7</td>\n",
              "      <td>0.0</td>\n",
              "      <td>2500.0</td>\n",
              "      <td>5925.0</td>\n",
              "      <td>11200.0</td>\n",
              "      <td>69997.0</td>\n",
              "    </tr>\n",
              "    <tr>\n",
              "      <th>100000</th>\n",
              "      <td>2081.0</td>\n",
              "      <td>7848.8</td>\n",
              "      <td>10504.4</td>\n",
              "      <td>0.0</td>\n",
              "      <td>2100.0</td>\n",
              "      <td>5350.0</td>\n",
              "      <td>10500.0</td>\n",
              "      <td>299000.0</td>\n",
              "    </tr>\n",
              "    <tr>\n",
              "      <th>125000</th>\n",
              "      <td>4948.0</td>\n",
              "      <td>6280.6</td>\n",
              "      <td>15803.5</td>\n",
              "      <td>0.0</td>\n",
              "      <td>1650.0</td>\n",
              "      <td>3950.0</td>\n",
              "      <td>8150.0</td>\n",
              "      <td>999999.0</td>\n",
              "    </tr>\n",
              "    <tr>\n",
              "      <th>150000</th>\n",
              "      <td>30986.0</td>\n",
              "      <td>7728.8</td>\n",
              "      <td>575959.7</td>\n",
              "      <td>0.0</td>\n",
              "      <td>900.0</td>\n",
              "      <td>2000.0</td>\n",
              "      <td>4600.0</td>\n",
              "      <td>99999999.0</td>\n",
              "    </tr>\n",
              "  </tbody>\n",
              "</table>\n",
              "</div>"
            ],
            "text/plain": [
              "               count     mean       std  ...      50%      75%         max\n",
              "odometer_km                              ...                              \n",
              "5000           872.0  11932.3  133842.4  ...   1100.0   5050.0   3890000.0\n",
              "10000          244.0  20104.8   21125.3  ...  15925.0  27005.0    163991.0\n",
              "20000          754.0  17868.7   23134.0  ...  13900.0  23767.5    345000.0\n",
              "30000          763.0  16490.8   16903.9  ...  12500.0  21900.0    220000.0\n",
              "40000          795.0  49738.8  968569.8  ...  12290.0  19995.0  27322222.0\n",
              "50000          997.0  25922.0  353989.3  ...  10000.0  17900.0  11111111.0\n",
              "60000         1122.0  12231.1   12869.9  ...   9000.0  15999.0    190000.0\n",
              "70000         1186.0  10756.0    9248.8  ...   8000.0  14999.0     63999.0\n",
              "80000         1386.0   9562.8    8870.1  ...   7270.0  13000.0    105000.0\n",
              "90000         1684.0   8273.3    8248.7  ...   5925.0  11200.0     69997.0\n",
              "100000        2081.0   7848.8   10504.4  ...   5350.0  10500.0    299000.0\n",
              "125000        4948.0   6280.6   15803.5  ...   3950.0   8150.0    999999.0\n",
              "150000       30986.0   7728.8  575959.7  ...   2000.0   4600.0  99999999.0\n",
              "\n",
              "[13 rows x 8 columns]"
            ]
          },
          "metadata": {
            "tags": []
          },
          "execution_count": 51
        }
      ]
    },
    {
      "cell_type": "markdown",
      "metadata": {
        "id": "bphKfCo7wRM6",
        "colab_type": "text"
      },
      "source": [
        "Brand Observations Final\n",
        "\n",
        "-Mercedes is the most expensive brand, C_klasse top model\n",
        "\n",
        "-Top 3 brands are Mercedes, audi, and bmw\n",
        "\n",
        "-Due to Volkswagen having a price that is an avg of the top 10, this \n",
        "might be a reason why it is the most sold brand. Top sold model is polo\n",
        "\n",
        "-The least expensive in the top 10 are fiat and renault\n",
        "\n",
        "-We can see that the higher milage, the less the price"
      ]
    },
    {
      "cell_type": "code",
      "metadata": {
        "id": "JI4ySghIwAW2",
        "colab_type": "code",
        "colab": {
          "base_uri": "https://localhost:8080/",
          "height": 359
        },
        "outputId": "c5571490-e614-4176-eaa2-cc43ebace12a"
      },
      "source": [
        "bmp_series = pd.Series(brand_mean_prices)\n",
        "pd.DataFrame(bmp_series, columns=[\"mean_price\"])"
      ],
      "execution_count": 52,
      "outputs": [
        {
          "output_type": "execute_result",
          "data": {
            "text/html": [
              "<div>\n",
              "<style scoped>\n",
              "    .dataframe tbody tr th:only-of-type {\n",
              "        vertical-align: middle;\n",
              "    }\n",
              "\n",
              "    .dataframe tbody tr th {\n",
              "        vertical-align: top;\n",
              "    }\n",
              "\n",
              "    .dataframe thead th {\n",
              "        text-align: right;\n",
              "    }\n",
              "</style>\n",
              "<table border=\"1\" class=\"dataframe\">\n",
              "  <thead>\n",
              "    <tr style=\"text-align: right;\">\n",
              "      <th></th>\n",
              "      <th>mean_price</th>\n",
              "    </tr>\n",
              "  </thead>\n",
              "  <tbody>\n",
              "    <tr>\n",
              "      <th>volkswagen</th>\n",
              "      <td>6508</td>\n",
              "    </tr>\n",
              "    <tr>\n",
              "      <th>bmw</th>\n",
              "      <td>8338</td>\n",
              "    </tr>\n",
              "    <tr>\n",
              "      <th>opel</th>\n",
              "      <td>5254</td>\n",
              "    </tr>\n",
              "    <tr>\n",
              "      <th>mercedes_benz</th>\n",
              "      <td>30330</td>\n",
              "    </tr>\n",
              "    <tr>\n",
              "      <th>audi</th>\n",
              "      <td>9088</td>\n",
              "    </tr>\n",
              "    <tr>\n",
              "      <th>ford</th>\n",
              "      <td>7073</td>\n",
              "    </tr>\n",
              "    <tr>\n",
              "      <th>renault</th>\n",
              "      <td>2390</td>\n",
              "    </tr>\n",
              "    <tr>\n",
              "      <th>peugeot</th>\n",
              "      <td>3033</td>\n",
              "    </tr>\n",
              "    <tr>\n",
              "      <th>fiat</th>\n",
              "      <td>2680</td>\n",
              "    </tr>\n",
              "    <tr>\n",
              "      <th>seat</th>\n",
              "      <td>4301</td>\n",
              "    </tr>\n",
              "  </tbody>\n",
              "</table>\n",
              "</div>"
            ],
            "text/plain": [
              "               mean_price\n",
              "volkswagen           6508\n",
              "bmw                  8338\n",
              "opel                 5254\n",
              "mercedes_benz       30330\n",
              "audi                 9088\n",
              "ford                 7073\n",
              "renault              2390\n",
              "peugeot              3033\n",
              "fiat                 2680\n",
              "seat                 4301"
            ]
          },
          "metadata": {
            "tags": []
          },
          "execution_count": 52
        }
      ]
    },
    {
      "cell_type": "code",
      "metadata": {
        "id": "vLbvDFLax4Xu",
        "colab_type": "code",
        "colab": {}
      },
      "source": [
        "\n",
        "brand_mean_mileage = {}\n",
        "\n",
        "for brand in common_brands:\n",
        "    brand_only = autos[autos[\"brand\"] == brand]\n",
        "    mean_mileage = brand_only[\"odometer_km\"].mean()\n",
        "    brand_mean_mileage[brand] = int(mean_mileage)\n",
        "\n",
        "mean_mileage = pd.Series(brand_mean_mileage).sort_values(ascending=False)\n",
        "mean_prices = pd.Series(brand_mean_prices).sort_values(ascending=False)"
      ],
      "execution_count": 53,
      "outputs": []
    },
    {
      "cell_type": "code",
      "metadata": {
        "id": "qCuNwrb5ySvQ",
        "colab_type": "code",
        "colab": {
          "base_uri": "https://localhost:8080/",
          "height": 359
        },
        "outputId": "2e32034d-5186-45e3-9d43-ca7db74bfb21"
      },
      "source": [
        "\n",
        "brand_info = pd.DataFrame(mean_mileage,columns=['mean_mileage'])\n",
        "brand_info"
      ],
      "execution_count": 54,
      "outputs": [
        {
          "output_type": "execute_result",
          "data": {
            "text/html": [
              "<div>\n",
              "<style scoped>\n",
              "    .dataframe tbody tr th:only-of-type {\n",
              "        vertical-align: middle;\n",
              "    }\n",
              "\n",
              "    .dataframe tbody tr th {\n",
              "        vertical-align: top;\n",
              "    }\n",
              "\n",
              "    .dataframe thead th {\n",
              "        text-align: right;\n",
              "    }\n",
              "</style>\n",
              "<table border=\"1\" class=\"dataframe\">\n",
              "  <thead>\n",
              "    <tr style=\"text-align: right;\">\n",
              "      <th></th>\n",
              "      <th>mean_mileage</th>\n",
              "    </tr>\n",
              "  </thead>\n",
              "  <tbody>\n",
              "    <tr>\n",
              "      <th>bmw</th>\n",
              "      <td>132532</td>\n",
              "    </tr>\n",
              "    <tr>\n",
              "      <th>mercedes_benz</th>\n",
              "      <td>131091</td>\n",
              "    </tr>\n",
              "    <tr>\n",
              "      <th>opel</th>\n",
              "      <td>129309</td>\n",
              "    </tr>\n",
              "    <tr>\n",
              "      <th>audi</th>\n",
              "      <td>129282</td>\n",
              "    </tr>\n",
              "    <tr>\n",
              "      <th>volkswagen</th>\n",
              "      <td>128764</td>\n",
              "    </tr>\n",
              "    <tr>\n",
              "      <th>renault</th>\n",
              "      <td>128320</td>\n",
              "    </tr>\n",
              "    <tr>\n",
              "      <th>peugeot</th>\n",
              "      <td>127191</td>\n",
              "    </tr>\n",
              "    <tr>\n",
              "      <th>ford</th>\n",
              "      <td>124758</td>\n",
              "    </tr>\n",
              "    <tr>\n",
              "      <th>seat</th>\n",
              "      <td>121697</td>\n",
              "    </tr>\n",
              "    <tr>\n",
              "      <th>fiat</th>\n",
              "      <td>116825</td>\n",
              "    </tr>\n",
              "  </tbody>\n",
              "</table>\n",
              "</div>"
            ],
            "text/plain": [
              "               mean_mileage\n",
              "bmw                  132532\n",
              "mercedes_benz        131091\n",
              "opel                 129309\n",
              "audi                 129282\n",
              "volkswagen           128764\n",
              "renault              128320\n",
              "peugeot              127191\n",
              "ford                 124758\n",
              "seat                 121697\n",
              "fiat                 116825"
            ]
          },
          "metadata": {
            "tags": []
          },
          "execution_count": 54
        }
      ]
    },
    {
      "cell_type": "code",
      "metadata": {
        "id": "vSHTBG0wyXPQ",
        "colab_type": "code",
        "colab": {
          "base_uri": "https://localhost:8080/",
          "height": 359
        },
        "outputId": "2f8aa78c-2a26-4ad1-f118-6a734fd647da"
      },
      "source": [
        "brand_info[\"mean_price\"] = mean_prices\n",
        "brand_info"
      ],
      "execution_count": 55,
      "outputs": [
        {
          "output_type": "execute_result",
          "data": {
            "text/html": [
              "<div>\n",
              "<style scoped>\n",
              "    .dataframe tbody tr th:only-of-type {\n",
              "        vertical-align: middle;\n",
              "    }\n",
              "\n",
              "    .dataframe tbody tr th {\n",
              "        vertical-align: top;\n",
              "    }\n",
              "\n",
              "    .dataframe thead th {\n",
              "        text-align: right;\n",
              "    }\n",
              "</style>\n",
              "<table border=\"1\" class=\"dataframe\">\n",
              "  <thead>\n",
              "    <tr style=\"text-align: right;\">\n",
              "      <th></th>\n",
              "      <th>mean_mileage</th>\n",
              "      <th>mean_price</th>\n",
              "    </tr>\n",
              "  </thead>\n",
              "  <tbody>\n",
              "    <tr>\n",
              "      <th>bmw</th>\n",
              "      <td>132532</td>\n",
              "      <td>8338</td>\n",
              "    </tr>\n",
              "    <tr>\n",
              "      <th>mercedes_benz</th>\n",
              "      <td>131091</td>\n",
              "      <td>30330</td>\n",
              "    </tr>\n",
              "    <tr>\n",
              "      <th>opel</th>\n",
              "      <td>129309</td>\n",
              "      <td>5254</td>\n",
              "    </tr>\n",
              "    <tr>\n",
              "      <th>audi</th>\n",
              "      <td>129282</td>\n",
              "      <td>9088</td>\n",
              "    </tr>\n",
              "    <tr>\n",
              "      <th>volkswagen</th>\n",
              "      <td>128764</td>\n",
              "      <td>6508</td>\n",
              "    </tr>\n",
              "    <tr>\n",
              "      <th>renault</th>\n",
              "      <td>128320</td>\n",
              "      <td>2390</td>\n",
              "    </tr>\n",
              "    <tr>\n",
              "      <th>peugeot</th>\n",
              "      <td>127191</td>\n",
              "      <td>3033</td>\n",
              "    </tr>\n",
              "    <tr>\n",
              "      <th>ford</th>\n",
              "      <td>124758</td>\n",
              "      <td>7073</td>\n",
              "    </tr>\n",
              "    <tr>\n",
              "      <th>seat</th>\n",
              "      <td>121697</td>\n",
              "      <td>4301</td>\n",
              "    </tr>\n",
              "    <tr>\n",
              "      <th>fiat</th>\n",
              "      <td>116825</td>\n",
              "      <td>2680</td>\n",
              "    </tr>\n",
              "  </tbody>\n",
              "</table>\n",
              "</div>"
            ],
            "text/plain": [
              "               mean_mileage  mean_price\n",
              "bmw                  132532        8338\n",
              "mercedes_benz        131091       30330\n",
              "opel                 129309        5254\n",
              "audi                 129282        9088\n",
              "volkswagen           128764        6508\n",
              "renault              128320        2390\n",
              "peugeot              127191        3033\n",
              "ford                 124758        7073\n",
              "seat                 121697        4301\n",
              "fiat                 116825        2680"
            ]
          },
          "metadata": {
            "tags": []
          },
          "execution_count": 55
        }
      ]
    },
    {
      "cell_type": "code",
      "metadata": {
        "id": "sUVh5BK9ycbP",
        "colab_type": "code",
        "colab": {}
      },
      "source": [
        ""
      ],
      "execution_count": 55,
      "outputs": []
    }
  ]
}