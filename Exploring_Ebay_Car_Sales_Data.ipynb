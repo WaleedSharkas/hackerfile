{
  "nbformat": 4,
  "nbformat_minor": 0,
  "metadata": {
    "colab": {
      "name": "Exploring Ebay Car Sales Data.ipynb",
      "provenance": [],
      "collapsed_sections": [],
      "authorship_tag": "ABX9TyPx4Bh5by09cmCDKU7NBLbX",
      "include_colab_link": true
    },
    "kernelspec": {
      "name": "python3",
      "display_name": "Python 3"
    }
  },
  "cells": [
    {
      "cell_type": "markdown",
      "metadata": {
        "id": "view-in-github",
        "colab_type": "text"
      },
      "source": [
        "<a href=\"https://colab.research.google.com/github/WaleedSharkas/hackerfile/blob/master/Exploring_Ebay_Car_Sales_Data.ipynb\" target=\"_parent\"><img src=\"https://colab.research.google.com/assets/colab-badge.svg\" alt=\"Open In Colab\"/></a>"
      ]
    },
    {
      "cell_type": "code",
      "metadata": {
        "id": "e51iKx5hjbqt",
        "colab_type": "code",
        "colab": {
          "resources": {
            "http://localhost:8080/nbextensions/google.colab/files.js": {
              "data": "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",
              "ok": true,
              "headers": [
                [
                  "content-type",
                  "application/javascript"
                ]
              ],
              "status": 200,
              "status_text": ""
            }
          },
          "base_uri": "https://localhost:8080/",
          "height": 72
        },
        "outputId": "405d9c39-4731-4d87-b87f-fd80bf800d00"
      },
      "source": [
        "from google.colab import files\n",
        "uploaded = files.upload()"
      ],
      "execution_count": 1,
      "outputs": [
        {
          "output_type": "display_data",
          "data": {
            "text/html": [
              "\n",
              "     <input type=\"file\" id=\"files-fd1f4c5d-d279-4f60-82fc-a2132dddb880\" name=\"files[]\" multiple disabled\n",
              "        style=\"border:none\" />\n",
              "     <output id=\"result-fd1f4c5d-d279-4f60-82fc-a2132dddb880\">\n",
              "      Upload widget is only available when the cell has been executed in the\n",
              "      current browser session. Please rerun this cell to enable.\n",
              "      </output>\n",
              "      <script src=\"/nbextensions/google.colab/files.js\"></script> "
            ],
            "text/plain": [
              "<IPython.core.display.HTML object>"
            ]
          },
          "metadata": {
            "tags": []
          }
        },
        {
          "output_type": "stream",
          "text": [
            "Saving autos.csv to autos.csv\n"
          ],
          "name": "stdout"
        }
      ]
    },
    {
      "cell_type": "markdown",
      "metadata": {
        "id": "p5jB3idMmJjX",
        "colab_type": "text"
      },
      "source": [
        "# Introduction \n",
        "\n",
        "In this project, we will work with a dataset on used cars from eBay Kleinanzeigen, a classifieds section from the Germany eBay website. Although the full dataset consisted of over 370,000 listings, we will only use 50,000 data points. This will allow us to demonstrate how to effectively clean a data set from scratch.\n",
        "\n",
        "The data dictionary provided with data is as follows:\n",
        "\n",
        "- dateCrawled - When this ad was first crawled. All field-values are taken \n",
        "from this date.\n",
        "-name - Name of the car.\n",
        "-seller - Whether the seller is private or a dealer.\n",
        "-offerType - The type of listing\n",
        "-price - The price on the ad to sell the car.\n",
        "-abtest - Whether the listing is included in an A/B test.\n",
        "-vehicleType - The vehicle Type.\n",
        "-yearOfRegistration - The year in which which year the car was first registered.\n",
        "-gearbox - The transmission type.\n",
        "-powerPS - The power of the car in PS.\n",
        "-model - The car model name.\n",
        "-kilometer - How many kilometers the car has driven.\n",
        "-monthOfRegistration - The month in which which year the car was first registered.\n",
        "-fuelType - What type of fuel the car uses.\n",
        "-brand - The brand of the car.\n",
        "-notRepairedDamage - If the car has a damage which is not yet repaired.\n",
        "-dateCreated - The date on which the eBay listing was created.\n",
        "-nrOfPictures - The number of pictures in the ad.\n",
        "-postalCode - The postal code for the location of the vehicle.\n",
        "-lastSeenOnline - When the crawler saw this ad last online.\n",
        "\n",
        "The goal of this project is to clean the data and then use pandas to perform some basic initial analysis of the listings."
      ]
    },
    {
      "cell_type": "code",
      "metadata": {
        "id": "qMk9kRx8oAnr",
        "colab_type": "code",
        "colab": {}
      },
      "source": [
        "import pandas as pd\n",
        "import numpy as np"
      ],
      "execution_count": 2,
      "outputs": []
    },
    {
      "cell_type": "code",
      "metadata": {
        "id": "wiiRCItoqrK2",
        "colab_type": "code",
        "colab": {
          "base_uri": "https://localhost:8080/",
          "height": 853
        },
        "outputId": "1e5cda9a-00bf-435d-a33c-77795b448fe7"
      },
      "source": [
        "autos = pd.read_csv('autos.csv', encoding='Latin-1')\n",
        "autos.info()\n",
        "autos.head()"
      ],
      "execution_count": 3,
      "outputs": [
        {
          "output_type": "stream",
          "text": [
            "<class 'pandas.core.frame.DataFrame'>\n",
            "RangeIndex: 50000 entries, 0 to 49999\n",
            "Data columns (total 20 columns):\n",
            " #   Column               Non-Null Count  Dtype \n",
            "---  ------               --------------  ----- \n",
            " 0   dateCrawled          50000 non-null  object\n",
            " 1   name                 50000 non-null  object\n",
            " 2   seller               50000 non-null  object\n",
            " 3   offerType            50000 non-null  object\n",
            " 4   price                50000 non-null  object\n",
            " 5   abtest               50000 non-null  object\n",
            " 6   vehicleType          44905 non-null  object\n",
            " 7   yearOfRegistration   50000 non-null  int64 \n",
            " 8   gearbox              47320 non-null  object\n",
            " 9   powerPS              50000 non-null  int64 \n",
            " 10  model                47242 non-null  object\n",
            " 11  odometer             50000 non-null  object\n",
            " 12  monthOfRegistration  50000 non-null  int64 \n",
            " 13  fuelType             45518 non-null  object\n",
            " 14  brand                50000 non-null  object\n",
            " 15  notRepairedDamage    40171 non-null  object\n",
            " 16  dateCreated          50000 non-null  object\n",
            " 17  nrOfPictures         50000 non-null  int64 \n",
            " 18  postalCode           50000 non-null  int64 \n",
            " 19  lastSeen             50000 non-null  object\n",
            "dtypes: int64(5), object(15)\n",
            "memory usage: 7.6+ MB\n"
          ],
          "name": "stdout"
        },
        {
          "output_type": "execute_result",
          "data": {
            "text/html": [
              "<div>\n",
              "<style scoped>\n",
              "    .dataframe tbody tr th:only-of-type {\n",
              "        vertical-align: middle;\n",
              "    }\n",
              "\n",
              "    .dataframe tbody tr th {\n",
              "        vertical-align: top;\n",
              "    }\n",
              "\n",
              "    .dataframe thead th {\n",
              "        text-align: right;\n",
              "    }\n",
              "</style>\n",
              "<table border=\"1\" class=\"dataframe\">\n",
              "  <thead>\n",
              "    <tr style=\"text-align: right;\">\n",
              "      <th></th>\n",
              "      <th>dateCrawled</th>\n",
              "      <th>name</th>\n",
              "      <th>seller</th>\n",
              "      <th>offerType</th>\n",
              "      <th>price</th>\n",
              "      <th>abtest</th>\n",
              "      <th>vehicleType</th>\n",
              "      <th>yearOfRegistration</th>\n",
              "      <th>gearbox</th>\n",
              "      <th>powerPS</th>\n",
              "      <th>model</th>\n",
              "      <th>odometer</th>\n",
              "      <th>monthOfRegistration</th>\n",
              "      <th>fuelType</th>\n",
              "      <th>brand</th>\n",
              "      <th>notRepairedDamage</th>\n",
              "      <th>dateCreated</th>\n",
              "      <th>nrOfPictures</th>\n",
              "      <th>postalCode</th>\n",
              "      <th>lastSeen</th>\n",
              "    </tr>\n",
              "  </thead>\n",
              "  <tbody>\n",
              "    <tr>\n",
              "      <th>0</th>\n",
              "      <td>2016-03-26 17:47:46</td>\n",
              "      <td>Peugeot_807_160_NAVTECH_ON_BOARD</td>\n",
              "      <td>privat</td>\n",
              "      <td>Angebot</td>\n",
              "      <td>$5,000</td>\n",
              "      <td>control</td>\n",
              "      <td>bus</td>\n",
              "      <td>2004</td>\n",
              "      <td>manuell</td>\n",
              "      <td>158</td>\n",
              "      <td>andere</td>\n",
              "      <td>150,000km</td>\n",
              "      <td>3</td>\n",
              "      <td>lpg</td>\n",
              "      <td>peugeot</td>\n",
              "      <td>nein</td>\n",
              "      <td>2016-03-26 00:00:00</td>\n",
              "      <td>0</td>\n",
              "      <td>79588</td>\n",
              "      <td>2016-04-06 06:45:54</td>\n",
              "    </tr>\n",
              "    <tr>\n",
              "      <th>1</th>\n",
              "      <td>2016-04-04 13:38:56</td>\n",
              "      <td>BMW_740i_4_4_Liter_HAMANN_UMBAU_Mega_Optik</td>\n",
              "      <td>privat</td>\n",
              "      <td>Angebot</td>\n",
              "      <td>$8,500</td>\n",
              "      <td>control</td>\n",
              "      <td>limousine</td>\n",
              "      <td>1997</td>\n",
              "      <td>automatik</td>\n",
              "      <td>286</td>\n",
              "      <td>7er</td>\n",
              "      <td>150,000km</td>\n",
              "      <td>6</td>\n",
              "      <td>benzin</td>\n",
              "      <td>bmw</td>\n",
              "      <td>nein</td>\n",
              "      <td>2016-04-04 00:00:00</td>\n",
              "      <td>0</td>\n",
              "      <td>71034</td>\n",
              "      <td>2016-04-06 14:45:08</td>\n",
              "    </tr>\n",
              "    <tr>\n",
              "      <th>2</th>\n",
              "      <td>2016-03-26 18:57:24</td>\n",
              "      <td>Volkswagen_Golf_1.6_United</td>\n",
              "      <td>privat</td>\n",
              "      <td>Angebot</td>\n",
              "      <td>$8,990</td>\n",
              "      <td>test</td>\n",
              "      <td>limousine</td>\n",
              "      <td>2009</td>\n",
              "      <td>manuell</td>\n",
              "      <td>102</td>\n",
              "      <td>golf</td>\n",
              "      <td>70,000km</td>\n",
              "      <td>7</td>\n",
              "      <td>benzin</td>\n",
              "      <td>volkswagen</td>\n",
              "      <td>nein</td>\n",
              "      <td>2016-03-26 00:00:00</td>\n",
              "      <td>0</td>\n",
              "      <td>35394</td>\n",
              "      <td>2016-04-06 20:15:37</td>\n",
              "    </tr>\n",
              "    <tr>\n",
              "      <th>3</th>\n",
              "      <td>2016-03-12 16:58:10</td>\n",
              "      <td>Smart_smart_fortwo_coupe_softouch/F1/Klima/Pan...</td>\n",
              "      <td>privat</td>\n",
              "      <td>Angebot</td>\n",
              "      <td>$4,350</td>\n",
              "      <td>control</td>\n",
              "      <td>kleinwagen</td>\n",
              "      <td>2007</td>\n",
              "      <td>automatik</td>\n",
              "      <td>71</td>\n",
              "      <td>fortwo</td>\n",
              "      <td>70,000km</td>\n",
              "      <td>6</td>\n",
              "      <td>benzin</td>\n",
              "      <td>smart</td>\n",
              "      <td>nein</td>\n",
              "      <td>2016-03-12 00:00:00</td>\n",
              "      <td>0</td>\n",
              "      <td>33729</td>\n",
              "      <td>2016-03-15 03:16:28</td>\n",
              "    </tr>\n",
              "    <tr>\n",
              "      <th>4</th>\n",
              "      <td>2016-04-01 14:38:50</td>\n",
              "      <td>Ford_Focus_1_6_Benzin_TÜV_neu_ist_sehr_gepfleg...</td>\n",
              "      <td>privat</td>\n",
              "      <td>Angebot</td>\n",
              "      <td>$1,350</td>\n",
              "      <td>test</td>\n",
              "      <td>kombi</td>\n",
              "      <td>2003</td>\n",
              "      <td>manuell</td>\n",
              "      <td>0</td>\n",
              "      <td>focus</td>\n",
              "      <td>150,000km</td>\n",
              "      <td>7</td>\n",
              "      <td>benzin</td>\n",
              "      <td>ford</td>\n",
              "      <td>nein</td>\n",
              "      <td>2016-04-01 00:00:00</td>\n",
              "      <td>0</td>\n",
              "      <td>39218</td>\n",
              "      <td>2016-04-01 14:38:50</td>\n",
              "    </tr>\n",
              "  </tbody>\n",
              "</table>\n",
              "</div>"
            ],
            "text/plain": [
              "           dateCrawled  ...             lastSeen\n",
              "0  2016-03-26 17:47:46  ...  2016-04-06 06:45:54\n",
              "1  2016-04-04 13:38:56  ...  2016-04-06 14:45:08\n",
              "2  2016-03-26 18:57:24  ...  2016-04-06 20:15:37\n",
              "3  2016-03-12 16:58:10  ...  2016-03-15 03:16:28\n",
              "4  2016-04-01 14:38:50  ...  2016-04-01 14:38:50\n",
              "\n",
              "[5 rows x 20 columns]"
            ]
          },
          "metadata": {
            "tags": []
          },
          "execution_count": 3
        }
      ]
    },
    {
      "cell_type": "markdown",
      "metadata": {
        "id": "a5yP2tE9sXCS",
        "colab_type": "text"
      },
      "source": [
        "Observations on current data:\n",
        "- Contains 20 columns, most stored as strings\n",
        "- Some Columns contain null values\n",
        "- dateCrawled, LastSeen, price, odometer are stored as strings. Will need to be changed \n",
        "- certain coloumns will need to be re-named and converted from camelcase to snakecase\n"
      ]
    },
    {
      "cell_type": "code",
      "metadata": {
        "id": "mfKoHFk9tdQS",
        "colab_type": "code",
        "colab": {
          "base_uri": "https://localhost:8080/",
          "height": 119
        },
        "outputId": "ab7b525d-35fd-43aa-a4df-399549008091"
      },
      "source": [
        "autos.columns"
      ],
      "execution_count": 4,
      "outputs": [
        {
          "output_type": "execute_result",
          "data": {
            "text/plain": [
              "Index(['dateCrawled', 'name', 'seller', 'offerType', 'price', 'abtest',\n",
              "       'vehicleType', 'yearOfRegistration', 'gearbox', 'powerPS', 'model',\n",
              "       'odometer', 'monthOfRegistration', 'fuelType', 'brand',\n",
              "       'notRepairedDamage', 'dateCreated', 'nrOfPictures', 'postalCode',\n",
              "       'lastSeen'],\n",
              "      dtype='object')"
            ]
          },
          "metadata": {
            "tags": []
          },
          "execution_count": 4
        }
      ]
    },
    {
      "cell_type": "code",
      "metadata": {
        "id": "kAdqFApDwUX1",
        "colab_type": "code",
        "colab": {
          "base_uri": "https://localhost:8080/",
          "height": 394
        },
        "outputId": "7b4ba63e-ac1b-4142-e49c-0452897a6ba6"
      },
      "source": [
        "autos.columns= ['date_crawled', 'name', 'seller', 'offer_type', 'price', 'ab_test',\n",
        "       'vehicle_type', 'registration_year', 'gearbox', 'power_ps', 'model',\n",
        "       'odometer', 'registration_month', 'fuel_type', 'brand',\n",
        "       'unrepaired_damage', 'ad_created', 'num_photos', 'postal_code',\n",
        "       'last_seen']\n",
        "\n",
        "autos.head()"
      ],
      "execution_count": 5,
      "outputs": [
        {
          "output_type": "execute_result",
          "data": {
            "text/html": [
              "<div>\n",
              "<style scoped>\n",
              "    .dataframe tbody tr th:only-of-type {\n",
              "        vertical-align: middle;\n",
              "    }\n",
              "\n",
              "    .dataframe tbody tr th {\n",
              "        vertical-align: top;\n",
              "    }\n",
              "\n",
              "    .dataframe thead th {\n",
              "        text-align: right;\n",
              "    }\n",
              "</style>\n",
              "<table border=\"1\" class=\"dataframe\">\n",
              "  <thead>\n",
              "    <tr style=\"text-align: right;\">\n",
              "      <th></th>\n",
              "      <th>date_crawled</th>\n",
              "      <th>name</th>\n",
              "      <th>seller</th>\n",
              "      <th>offer_type</th>\n",
              "      <th>price</th>\n",
              "      <th>ab_test</th>\n",
              "      <th>vehicle_type</th>\n",
              "      <th>registration_year</th>\n",
              "      <th>gearbox</th>\n",
              "      <th>power_ps</th>\n",
              "      <th>model</th>\n",
              "      <th>odometer</th>\n",
              "      <th>registration_month</th>\n",
              "      <th>fuel_type</th>\n",
              "      <th>brand</th>\n",
              "      <th>unrepaired_damage</th>\n",
              "      <th>ad_created</th>\n",
              "      <th>num_photos</th>\n",
              "      <th>postal_code</th>\n",
              "      <th>last_seen</th>\n",
              "    </tr>\n",
              "  </thead>\n",
              "  <tbody>\n",
              "    <tr>\n",
              "      <th>0</th>\n",
              "      <td>2016-03-26 17:47:46</td>\n",
              "      <td>Peugeot_807_160_NAVTECH_ON_BOARD</td>\n",
              "      <td>privat</td>\n",
              "      <td>Angebot</td>\n",
              "      <td>$5,000</td>\n",
              "      <td>control</td>\n",
              "      <td>bus</td>\n",
              "      <td>2004</td>\n",
              "      <td>manuell</td>\n",
              "      <td>158</td>\n",
              "      <td>andere</td>\n",
              "      <td>150,000km</td>\n",
              "      <td>3</td>\n",
              "      <td>lpg</td>\n",
              "      <td>peugeot</td>\n",
              "      <td>nein</td>\n",
              "      <td>2016-03-26 00:00:00</td>\n",
              "      <td>0</td>\n",
              "      <td>79588</td>\n",
              "      <td>2016-04-06 06:45:54</td>\n",
              "    </tr>\n",
              "    <tr>\n",
              "      <th>1</th>\n",
              "      <td>2016-04-04 13:38:56</td>\n",
              "      <td>BMW_740i_4_4_Liter_HAMANN_UMBAU_Mega_Optik</td>\n",
              "      <td>privat</td>\n",
              "      <td>Angebot</td>\n",
              "      <td>$8,500</td>\n",
              "      <td>control</td>\n",
              "      <td>limousine</td>\n",
              "      <td>1997</td>\n",
              "      <td>automatik</td>\n",
              "      <td>286</td>\n",
              "      <td>7er</td>\n",
              "      <td>150,000km</td>\n",
              "      <td>6</td>\n",
              "      <td>benzin</td>\n",
              "      <td>bmw</td>\n",
              "      <td>nein</td>\n",
              "      <td>2016-04-04 00:00:00</td>\n",
              "      <td>0</td>\n",
              "      <td>71034</td>\n",
              "      <td>2016-04-06 14:45:08</td>\n",
              "    </tr>\n",
              "    <tr>\n",
              "      <th>2</th>\n",
              "      <td>2016-03-26 18:57:24</td>\n",
              "      <td>Volkswagen_Golf_1.6_United</td>\n",
              "      <td>privat</td>\n",
              "      <td>Angebot</td>\n",
              "      <td>$8,990</td>\n",
              "      <td>test</td>\n",
              "      <td>limousine</td>\n",
              "      <td>2009</td>\n",
              "      <td>manuell</td>\n",
              "      <td>102</td>\n",
              "      <td>golf</td>\n",
              "      <td>70,000km</td>\n",
              "      <td>7</td>\n",
              "      <td>benzin</td>\n",
              "      <td>volkswagen</td>\n",
              "      <td>nein</td>\n",
              "      <td>2016-03-26 00:00:00</td>\n",
              "      <td>0</td>\n",
              "      <td>35394</td>\n",
              "      <td>2016-04-06 20:15:37</td>\n",
              "    </tr>\n",
              "    <tr>\n",
              "      <th>3</th>\n",
              "      <td>2016-03-12 16:58:10</td>\n",
              "      <td>Smart_smart_fortwo_coupe_softouch/F1/Klima/Pan...</td>\n",
              "      <td>privat</td>\n",
              "      <td>Angebot</td>\n",
              "      <td>$4,350</td>\n",
              "      <td>control</td>\n",
              "      <td>kleinwagen</td>\n",
              "      <td>2007</td>\n",
              "      <td>automatik</td>\n",
              "      <td>71</td>\n",
              "      <td>fortwo</td>\n",
              "      <td>70,000km</td>\n",
              "      <td>6</td>\n",
              "      <td>benzin</td>\n",
              "      <td>smart</td>\n",
              "      <td>nein</td>\n",
              "      <td>2016-03-12 00:00:00</td>\n",
              "      <td>0</td>\n",
              "      <td>33729</td>\n",
              "      <td>2016-03-15 03:16:28</td>\n",
              "    </tr>\n",
              "    <tr>\n",
              "      <th>4</th>\n",
              "      <td>2016-04-01 14:38:50</td>\n",
              "      <td>Ford_Focus_1_6_Benzin_TÜV_neu_ist_sehr_gepfleg...</td>\n",
              "      <td>privat</td>\n",
              "      <td>Angebot</td>\n",
              "      <td>$1,350</td>\n",
              "      <td>test</td>\n",
              "      <td>kombi</td>\n",
              "      <td>2003</td>\n",
              "      <td>manuell</td>\n",
              "      <td>0</td>\n",
              "      <td>focus</td>\n",
              "      <td>150,000km</td>\n",
              "      <td>7</td>\n",
              "      <td>benzin</td>\n",
              "      <td>ford</td>\n",
              "      <td>nein</td>\n",
              "      <td>2016-04-01 00:00:00</td>\n",
              "      <td>0</td>\n",
              "      <td>39218</td>\n",
              "      <td>2016-04-01 14:38:50</td>\n",
              "    </tr>\n",
              "  </tbody>\n",
              "</table>\n",
              "</div>"
            ],
            "text/plain": [
              "          date_crawled  ...            last_seen\n",
              "0  2016-03-26 17:47:46  ...  2016-04-06 06:45:54\n",
              "1  2016-04-04 13:38:56  ...  2016-04-06 14:45:08\n",
              "2  2016-03-26 18:57:24  ...  2016-04-06 20:15:37\n",
              "3  2016-03-12 16:58:10  ...  2016-03-15 03:16:28\n",
              "4  2016-04-01 14:38:50  ...  2016-04-01 14:38:50\n",
              "\n",
              "[5 rows x 20 columns]"
            ]
          },
          "metadata": {
            "tags": []
          },
          "execution_count": 5
        }
      ]
    },
    {
      "cell_type": "markdown",
      "metadata": {
        "id": "mVf-KROdwkGU",
        "colab_type": "text"
      },
      "source": [
        "We cleaned up the columns to make them less confusing and more clean:\n",
        "\n",
        "-yearOfRegistration to registration_year\n",
        "\n",
        "-monthOfRegistration to registration_month\n",
        "\n",
        "-notRepairedDamage to unrepaired_damage\n",
        "\n",
        "-dateCreated to ad_created\n",
        "\n",
        "Also changed the columns from camelcase to snakecase due to it being the preferred style for Python."
      ]
    },
    {
      "cell_type": "code",
      "metadata": {
        "id": "wHVZcGd_w7jz",
        "colab_type": "code",
        "colab": {
          "base_uri": "https://localhost:8080/",
          "height": 444
        },
        "outputId": "d23f2fad-05df-4d98-d481-b6028215867a"
      },
      "source": [
        "autos.describe(include='all')"
      ],
      "execution_count": 6,
      "outputs": [
        {
          "output_type": "execute_result",
          "data": {
            "text/html": [
              "<div>\n",
              "<style scoped>\n",
              "    .dataframe tbody tr th:only-of-type {\n",
              "        vertical-align: middle;\n",
              "    }\n",
              "\n",
              "    .dataframe tbody tr th {\n",
              "        vertical-align: top;\n",
              "    }\n",
              "\n",
              "    .dataframe thead th {\n",
              "        text-align: right;\n",
              "    }\n",
              "</style>\n",
              "<table border=\"1\" class=\"dataframe\">\n",
              "  <thead>\n",
              "    <tr style=\"text-align: right;\">\n",
              "      <th></th>\n",
              "      <th>date_crawled</th>\n",
              "      <th>name</th>\n",
              "      <th>seller</th>\n",
              "      <th>offer_type</th>\n",
              "      <th>price</th>\n",
              "      <th>ab_test</th>\n",
              "      <th>vehicle_type</th>\n",
              "      <th>registration_year</th>\n",
              "      <th>gearbox</th>\n",
              "      <th>power_ps</th>\n",
              "      <th>model</th>\n",
              "      <th>odometer</th>\n",
              "      <th>registration_month</th>\n",
              "      <th>fuel_type</th>\n",
              "      <th>brand</th>\n",
              "      <th>unrepaired_damage</th>\n",
              "      <th>ad_created</th>\n",
              "      <th>num_photos</th>\n",
              "      <th>postal_code</th>\n",
              "      <th>last_seen</th>\n",
              "    </tr>\n",
              "  </thead>\n",
              "  <tbody>\n",
              "    <tr>\n",
              "      <th>count</th>\n",
              "      <td>50000</td>\n",
              "      <td>50000</td>\n",
              "      <td>50000</td>\n",
              "      <td>50000</td>\n",
              "      <td>50000</td>\n",
              "      <td>50000</td>\n",
              "      <td>44905</td>\n",
              "      <td>50000.000000</td>\n",
              "      <td>47320</td>\n",
              "      <td>50000.000000</td>\n",
              "      <td>47242</td>\n",
              "      <td>50000</td>\n",
              "      <td>50000.000000</td>\n",
              "      <td>45518</td>\n",
              "      <td>50000</td>\n",
              "      <td>40171</td>\n",
              "      <td>50000</td>\n",
              "      <td>50000.0</td>\n",
              "      <td>50000.000000</td>\n",
              "      <td>50000</td>\n",
              "    </tr>\n",
              "    <tr>\n",
              "      <th>unique</th>\n",
              "      <td>48213</td>\n",
              "      <td>38754</td>\n",
              "      <td>2</td>\n",
              "      <td>2</td>\n",
              "      <td>2357</td>\n",
              "      <td>2</td>\n",
              "      <td>8</td>\n",
              "      <td>NaN</td>\n",
              "      <td>2</td>\n",
              "      <td>NaN</td>\n",
              "      <td>245</td>\n",
              "      <td>13</td>\n",
              "      <td>NaN</td>\n",
              "      <td>7</td>\n",
              "      <td>40</td>\n",
              "      <td>2</td>\n",
              "      <td>76</td>\n",
              "      <td>NaN</td>\n",
              "      <td>NaN</td>\n",
              "      <td>39481</td>\n",
              "    </tr>\n",
              "    <tr>\n",
              "      <th>top</th>\n",
              "      <td>2016-03-30 19:48:02</td>\n",
              "      <td>Ford_Fiesta</td>\n",
              "      <td>privat</td>\n",
              "      <td>Angebot</td>\n",
              "      <td>$0</td>\n",
              "      <td>test</td>\n",
              "      <td>limousine</td>\n",
              "      <td>NaN</td>\n",
              "      <td>manuell</td>\n",
              "      <td>NaN</td>\n",
              "      <td>golf</td>\n",
              "      <td>150,000km</td>\n",
              "      <td>NaN</td>\n",
              "      <td>benzin</td>\n",
              "      <td>volkswagen</td>\n",
              "      <td>nein</td>\n",
              "      <td>2016-04-03 00:00:00</td>\n",
              "      <td>NaN</td>\n",
              "      <td>NaN</td>\n",
              "      <td>2016-04-07 06:17:27</td>\n",
              "    </tr>\n",
              "    <tr>\n",
              "      <th>freq</th>\n",
              "      <td>3</td>\n",
              "      <td>78</td>\n",
              "      <td>49999</td>\n",
              "      <td>49999</td>\n",
              "      <td>1421</td>\n",
              "      <td>25756</td>\n",
              "      <td>12859</td>\n",
              "      <td>NaN</td>\n",
              "      <td>36993</td>\n",
              "      <td>NaN</td>\n",
              "      <td>4024</td>\n",
              "      <td>32424</td>\n",
              "      <td>NaN</td>\n",
              "      <td>30107</td>\n",
              "      <td>10687</td>\n",
              "      <td>35232</td>\n",
              "      <td>1946</td>\n",
              "      <td>NaN</td>\n",
              "      <td>NaN</td>\n",
              "      <td>8</td>\n",
              "    </tr>\n",
              "    <tr>\n",
              "      <th>mean</th>\n",
              "      <td>NaN</td>\n",
              "      <td>NaN</td>\n",
              "      <td>NaN</td>\n",
              "      <td>NaN</td>\n",
              "      <td>NaN</td>\n",
              "      <td>NaN</td>\n",
              "      <td>NaN</td>\n",
              "      <td>2005.073280</td>\n",
              "      <td>NaN</td>\n",
              "      <td>116.355920</td>\n",
              "      <td>NaN</td>\n",
              "      <td>NaN</td>\n",
              "      <td>5.723360</td>\n",
              "      <td>NaN</td>\n",
              "      <td>NaN</td>\n",
              "      <td>NaN</td>\n",
              "      <td>NaN</td>\n",
              "      <td>0.0</td>\n",
              "      <td>50813.627300</td>\n",
              "      <td>NaN</td>\n",
              "    </tr>\n",
              "    <tr>\n",
              "      <th>std</th>\n",
              "      <td>NaN</td>\n",
              "      <td>NaN</td>\n",
              "      <td>NaN</td>\n",
              "      <td>NaN</td>\n",
              "      <td>NaN</td>\n",
              "      <td>NaN</td>\n",
              "      <td>NaN</td>\n",
              "      <td>105.712813</td>\n",
              "      <td>NaN</td>\n",
              "      <td>209.216627</td>\n",
              "      <td>NaN</td>\n",
              "      <td>NaN</td>\n",
              "      <td>3.711984</td>\n",
              "      <td>NaN</td>\n",
              "      <td>NaN</td>\n",
              "      <td>NaN</td>\n",
              "      <td>NaN</td>\n",
              "      <td>0.0</td>\n",
              "      <td>25779.747957</td>\n",
              "      <td>NaN</td>\n",
              "    </tr>\n",
              "    <tr>\n",
              "      <th>min</th>\n",
              "      <td>NaN</td>\n",
              "      <td>NaN</td>\n",
              "      <td>NaN</td>\n",
              "      <td>NaN</td>\n",
              "      <td>NaN</td>\n",
              "      <td>NaN</td>\n",
              "      <td>NaN</td>\n",
              "      <td>1000.000000</td>\n",
              "      <td>NaN</td>\n",
              "      <td>0.000000</td>\n",
              "      <td>NaN</td>\n",
              "      <td>NaN</td>\n",
              "      <td>0.000000</td>\n",
              "      <td>NaN</td>\n",
              "      <td>NaN</td>\n",
              "      <td>NaN</td>\n",
              "      <td>NaN</td>\n",
              "      <td>0.0</td>\n",
              "      <td>1067.000000</td>\n",
              "      <td>NaN</td>\n",
              "    </tr>\n",
              "    <tr>\n",
              "      <th>25%</th>\n",
              "      <td>NaN</td>\n",
              "      <td>NaN</td>\n",
              "      <td>NaN</td>\n",
              "      <td>NaN</td>\n",
              "      <td>NaN</td>\n",
              "      <td>NaN</td>\n",
              "      <td>NaN</td>\n",
              "      <td>1999.000000</td>\n",
              "      <td>NaN</td>\n",
              "      <td>70.000000</td>\n",
              "      <td>NaN</td>\n",
              "      <td>NaN</td>\n",
              "      <td>3.000000</td>\n",
              "      <td>NaN</td>\n",
              "      <td>NaN</td>\n",
              "      <td>NaN</td>\n",
              "      <td>NaN</td>\n",
              "      <td>0.0</td>\n",
              "      <td>30451.000000</td>\n",
              "      <td>NaN</td>\n",
              "    </tr>\n",
              "    <tr>\n",
              "      <th>50%</th>\n",
              "      <td>NaN</td>\n",
              "      <td>NaN</td>\n",
              "      <td>NaN</td>\n",
              "      <td>NaN</td>\n",
              "      <td>NaN</td>\n",
              "      <td>NaN</td>\n",
              "      <td>NaN</td>\n",
              "      <td>2003.000000</td>\n",
              "      <td>NaN</td>\n",
              "      <td>105.000000</td>\n",
              "      <td>NaN</td>\n",
              "      <td>NaN</td>\n",
              "      <td>6.000000</td>\n",
              "      <td>NaN</td>\n",
              "      <td>NaN</td>\n",
              "      <td>NaN</td>\n",
              "      <td>NaN</td>\n",
              "      <td>0.0</td>\n",
              "      <td>49577.000000</td>\n",
              "      <td>NaN</td>\n",
              "    </tr>\n",
              "    <tr>\n",
              "      <th>75%</th>\n",
              "      <td>NaN</td>\n",
              "      <td>NaN</td>\n",
              "      <td>NaN</td>\n",
              "      <td>NaN</td>\n",
              "      <td>NaN</td>\n",
              "      <td>NaN</td>\n",
              "      <td>NaN</td>\n",
              "      <td>2008.000000</td>\n",
              "      <td>NaN</td>\n",
              "      <td>150.000000</td>\n",
              "      <td>NaN</td>\n",
              "      <td>NaN</td>\n",
              "      <td>9.000000</td>\n",
              "      <td>NaN</td>\n",
              "      <td>NaN</td>\n",
              "      <td>NaN</td>\n",
              "      <td>NaN</td>\n",
              "      <td>0.0</td>\n",
              "      <td>71540.000000</td>\n",
              "      <td>NaN</td>\n",
              "    </tr>\n",
              "    <tr>\n",
              "      <th>max</th>\n",
              "      <td>NaN</td>\n",
              "      <td>NaN</td>\n",
              "      <td>NaN</td>\n",
              "      <td>NaN</td>\n",
              "      <td>NaN</td>\n",
              "      <td>NaN</td>\n",
              "      <td>NaN</td>\n",
              "      <td>9999.000000</td>\n",
              "      <td>NaN</td>\n",
              "      <td>17700.000000</td>\n",
              "      <td>NaN</td>\n",
              "      <td>NaN</td>\n",
              "      <td>12.000000</td>\n",
              "      <td>NaN</td>\n",
              "      <td>NaN</td>\n",
              "      <td>NaN</td>\n",
              "      <td>NaN</td>\n",
              "      <td>0.0</td>\n",
              "      <td>99998.000000</td>\n",
              "      <td>NaN</td>\n",
              "    </tr>\n",
              "  </tbody>\n",
              "</table>\n",
              "</div>"
            ],
            "text/plain": [
              "               date_crawled         name  ...   postal_code            last_seen\n",
              "count                 50000        50000  ...  50000.000000                50000\n",
              "unique                48213        38754  ...           NaN                39481\n",
              "top     2016-03-30 19:48:02  Ford_Fiesta  ...           NaN  2016-04-07 06:17:27\n",
              "freq                      3           78  ...           NaN                    8\n",
              "mean                    NaN          NaN  ...  50813.627300                  NaN\n",
              "std                     NaN          NaN  ...  25779.747957                  NaN\n",
              "min                     NaN          NaN  ...   1067.000000                  NaN\n",
              "25%                     NaN          NaN  ...  30451.000000                  NaN\n",
              "50%                     NaN          NaN  ...  49577.000000                  NaN\n",
              "75%                     NaN          NaN  ...  71540.000000                  NaN\n",
              "max                     NaN          NaN  ...  99998.000000                  NaN\n",
              "\n",
              "[11 rows x 20 columns]"
            ]
          },
          "metadata": {
            "tags": []
          },
          "execution_count": 6
        }
      ]
    },
    {
      "cell_type": "code",
      "metadata": {
        "id": "NcFQXb3d2_0T",
        "colab_type": "code",
        "colab": {
          "base_uri": "https://localhost:8080/",
          "height": 68
        },
        "outputId": "c64c21b3-5606-41fe-d704-d7922f590bb4"
      },
      "source": [
        "autos[\"seller\"].value_counts()"
      ],
      "execution_count": 7,
      "outputs": [
        {
          "output_type": "execute_result",
          "data": {
            "text/plain": [
              "privat        49999\n",
              "gewerblich        1\n",
              "Name: seller, dtype: int64"
            ]
          },
          "metadata": {
            "tags": []
          },
          "execution_count": 7
        }
      ]
    },
    {
      "cell_type": "code",
      "metadata": {
        "id": "dVA8sZKD3Eb6",
        "colab_type": "code",
        "colab": {
          "base_uri": "https://localhost:8080/",
          "height": 68
        },
        "outputId": "22382490-87df-4007-8a46-ca0b063f89f8"
      },
      "source": [
        "autos[\"offer_type\"].value_counts()"
      ],
      "execution_count": 8,
      "outputs": [
        {
          "output_type": "execute_result",
          "data": {
            "text/plain": [
              "Angebot    49999\n",
              "Gesuch         1\n",
              "Name: offer_type, dtype: int64"
            ]
          },
          "metadata": {
            "tags": []
          },
          "execution_count": 8
        }
      ]
    },
    {
      "cell_type": "code",
      "metadata": {
        "id": "JwLuBSiX3ScZ",
        "colab_type": "code",
        "colab": {
          "base_uri": "https://localhost:8080/",
          "height": 51
        },
        "outputId": "07feb53d-ed1d-4dd1-bfc4-8f246e5df353"
      },
      "source": [
        "autos[\"num_photos\"].value_counts()"
      ],
      "execution_count": 9,
      "outputs": [
        {
          "output_type": "execute_result",
          "data": {
            "text/plain": [
              "0    50000\n",
              "Name: num_photos, dtype: int64"
            ]
          },
          "metadata": {
            "tags": []
          },
          "execution_count": 9
        }
      ]
    },
    {
      "cell_type": "code",
      "metadata": {
        "id": "sxwVTRdS60ua",
        "colab_type": "code",
        "colab": {
          "base_uri": "https://localhost:8080/",
          "height": 34
        },
        "outputId": "0986eb09-1283-48ce-e088-a261d14affa7"
      },
      "source": [
        "pd.to_datetime(autos[\"date_crawled\"]).max()\n",
        "# most recent date an observation was collected."
      ],
      "execution_count": 10,
      "outputs": [
        {
          "output_type": "execute_result",
          "data": {
            "text/plain": [
              "Timestamp('2016-04-07 14:36:56')"
            ]
          },
          "metadata": {
            "tags": []
          },
          "execution_count": 10
        }
      ]
    },
    {
      "cell_type": "code",
      "metadata": {
        "id": "cj-JBOOl67G9",
        "colab_type": "code",
        "colab": {
          "base_uri": "https://localhost:8080/",
          "height": 34
        },
        "outputId": "16280c77-26ab-4536-bd81-84a75f54e452"
      },
      "source": [
        "autos.loc[~autos[\"registration_year\"].between(1906, 2016), \"registration_year\"].count()\n",
        "# number of cars with registration years prior to 1906 or after 2016"
      ],
      "execution_count": 11,
      "outputs": [
        {
          "output_type": "execute_result",
          "data": {
            "text/plain": [
              "1972"
            ]
          },
          "metadata": {
            "tags": []
          },
          "execution_count": 11
        }
      ]
    },
    {
      "cell_type": "code",
      "metadata": {
        "id": "mwyqZ9RP7ZhL",
        "colab_type": "code",
        "colab": {
          "base_uri": "https://localhost:8080/",
          "height": 34
        },
        "outputId": "bcf1af43-4b2d-40f1-91a8-79960caf01a4"
      },
      "source": [
        " # the number of cars with power rating less than 1ps or greater than 2000ps\n",
        "autos.loc[~autos[\"power_ps\"].between(1, 2000), \"power_ps\"].count()"
      ],
      "execution_count": 12,
      "outputs": [
        {
          "output_type": "execute_result",
          "data": {
            "text/plain": [
              "5518"
            ]
          },
          "metadata": {
            "tags": []
          },
          "execution_count": 12
        }
      ]
    },
    {
      "cell_type": "code",
      "metadata": {
        "id": "xdJiQlhU77Ej",
        "colab_type": "code",
        "colab": {
          "base_uri": "https://localhost:8080/",
          "height": 255
        },
        "outputId": "0d560e62-caa0-4358-814c-bd5d8c0702a6"
      },
      "source": [
        "autos[\"registration_month\"].value_counts()"
      ],
      "execution_count": 13,
      "outputs": [
        {
          "output_type": "execute_result",
          "data": {
            "text/plain": [
              "0     5075\n",
              "3     5071\n",
              "6     4368\n",
              "5     4107\n",
              "4     4102\n",
              "7     3949\n",
              "10    3651\n",
              "12    3447\n",
              "9     3389\n",
              "11    3360\n",
              "1     3282\n",
              "8     3191\n",
              "2     3008\n",
              "Name: registration_month, dtype: int64"
            ]
          },
          "metadata": {
            "tags": []
          },
          "execution_count": 13
        }
      ]
    },
    {
      "cell_type": "markdown",
      "metadata": {
        "id": "Pnij9UGM2blF",
        "colab_type": "text"
      },
      "source": [
        "Observations:\n",
        "- we notice that the seller and offer_type columns are almost exclusively a single value. That means they are good candidates to drop as they won't have useful information for analysis. \n",
        "-It also appears that the column nr_of_pictures is all zeros, since the minimum and maximum values in the column are both zero, good candidates to drop as they won't have useful information for analysis. \n",
        "- the power_ps column has suspicious amount below 1ps\n",
        "- spicious minimum value of 0, due to There being no zero month. Could be due to typos"
      ]
    },
    {
      "cell_type": "code",
      "metadata": {
        "id": "_pGbnZJE27kT",
        "colab_type": "code",
        "colab": {}
      },
      "source": [
        "autos = autos.drop([\"num_photos\", \"seller\", \"offer_type\"], axis=1)"
      ],
      "execution_count": 14,
      "outputs": []
    },
    {
      "cell_type": "code",
      "metadata": {
        "id": "PvecGqtG3uhC",
        "colab_type": "code",
        "colab": {
          "base_uri": "https://localhost:8080/",
          "height": 119
        },
        "outputId": "6eea0156-3f03-46a4-e6bb-debb19906ad8"
      },
      "source": [
        "autos[\"price\"] = (autos[\"price\"]\n",
        "                          .str.replace(\"$\",\"\")\n",
        "                          .str.replace(\",\",\"\")\n",
        "                          .astype(int)\n",
        "                          )\n",
        "autos[\"price\"].head()"
      ],
      "execution_count": 15,
      "outputs": [
        {
          "output_type": "execute_result",
          "data": {
            "text/plain": [
              "0    5000\n",
              "1    8500\n",
              "2    8990\n",
              "3    4350\n",
              "4    1350\n",
              "Name: price, dtype: int64"
            ]
          },
          "metadata": {
            "tags": []
          },
          "execution_count": 15
        }
      ]
    },
    {
      "cell_type": "code",
      "metadata": {
        "id": "Qw5jWyEy3bcT",
        "colab_type": "code",
        "colab": {
          "base_uri": "https://localhost:8080/",
          "height": 119
        },
        "outputId": "82e7f55f-3399-42ef-9245-10694e8a1f19"
      },
      "source": [
        "autos[\"odometer\"] = (autos[\"odometer\"]\n",
        "                             .str.replace(\"km\",\"\")\n",
        "                             .str.replace(\",\",\"\")\n",
        "                             .astype(int)\n",
        "                             )\n",
        "autos.rename({\"odometer\": \"odometer_km\"}, axis=1, inplace=True)\n",
        "autos[\"odometer_km\"].head()"
      ],
      "execution_count": 16,
      "outputs": [
        {
          "output_type": "execute_result",
          "data": {
            "text/plain": [
              "0    150000\n",
              "1    150000\n",
              "2     70000\n",
              "3     70000\n",
              "4    150000\n",
              "Name: odometer_km, dtype: int64"
            ]
          },
          "metadata": {
            "tags": []
          },
          "execution_count": 16
        }
      ]
    },
    {
      "cell_type": "code",
      "metadata": {
        "id": "hv7gB68k4WA3",
        "colab_type": "code",
        "colab": {
          "base_uri": "https://localhost:8080/",
          "height": 255
        },
        "outputId": "a2b1ed4a-17ff-479f-8a64-b7195a781af4"
      },
      "source": [
        "autos[\"odometer_km\"].value_counts()"
      ],
      "execution_count": 17,
      "outputs": [
        {
          "output_type": "execute_result",
          "data": {
            "text/plain": [
              "150000    32424\n",
              "125000     5170\n",
              "100000     2169\n",
              "90000      1757\n",
              "80000      1436\n",
              "70000      1230\n",
              "60000      1164\n",
              "50000      1027\n",
              "5000        967\n",
              "40000       819\n",
              "30000       789\n",
              "20000       784\n",
              "10000       264\n",
              "Name: odometer_km, dtype: int64"
            ]
          },
          "metadata": {
            "tags": []
          },
          "execution_count": 17
        }
      ]
    },
    {
      "cell_type": "code",
      "metadata": {
        "id": "5jEaiqa8-l7E",
        "colab_type": "code",
        "colab": {
          "base_uri": "https://localhost:8080/",
          "height": 34
        },
        "outputId": "43fba56c-c958-4e75-db14-5508828f2a86"
      },
      "source": [
        "print(autos[\"odometer_km\"].nunique())"
      ],
      "execution_count": 18,
      "outputs": [
        {
          "output_type": "stream",
          "text": [
            "13\n"
          ],
          "name": "stdout"
        }
      ]
    },
    {
      "cell_type": "code",
      "metadata": {
        "id": "JWWhouOZ-mC2",
        "colab_type": "code",
        "colab": {
          "base_uri": "https://localhost:8080/",
          "height": 34
        },
        "outputId": "3af7bc42-a80c-4660-8a03-ed16a7e69dad"
      },
      "source": [
        "(autos[\"odometer_km\"] >= 100000).sum()"
      ],
      "execution_count": 19,
      "outputs": [
        {
          "output_type": "execute_result",
          "data": {
            "text/plain": [
              "39763"
            ]
          },
          "metadata": {
            "tags": []
          },
          "execution_count": 19
        }
      ]
    },
    {
      "cell_type": "markdown",
      "metadata": {
        "id": "4jnRVWS--7Hi",
        "colab_type": "text"
      },
      "source": [
        "Overall, there doesnt seem to be anything that stands out in the odometer_km data."
      ]
    },
    {
      "cell_type": "code",
      "metadata": {
        "id": "BR9i52UD5ErM",
        "colab_type": "code",
        "colab": {
          "base_uri": "https://localhost:8080/",
          "height": 34
        },
        "outputId": "7ef2ff46-7c86-4c55-96a3-c0dc7c044b51"
      },
      "source": [
        "autos[\"price\"].nunique()"
      ],
      "execution_count": 20,
      "outputs": [
        {
          "output_type": "execute_result",
          "data": {
            "text/plain": [
              "2357"
            ]
          },
          "metadata": {
            "tags": []
          },
          "execution_count": 20
        }
      ]
    },
    {
      "cell_type": "code",
      "metadata": {
        "id": "DiadMha05n6_",
        "colab_type": "code",
        "colab": {
          "base_uri": "https://localhost:8080/",
          "height": 442
        },
        "outputId": "b2d11b2c-2075-4a43-d4de-bd72878d4bfd"
      },
      "source": [
        "print(autos[\"price\"].describe())\n",
        "autos[\"price\"].value_counts().head(15)"
      ],
      "execution_count": 21,
      "outputs": [
        {
          "output_type": "stream",
          "text": [
            "count    5.000000e+04\n",
            "mean     9.840044e+03\n",
            "std      4.811044e+05\n",
            "min      0.000000e+00\n",
            "25%      1.100000e+03\n",
            "50%      2.950000e+03\n",
            "75%      7.200000e+03\n",
            "max      1.000000e+08\n",
            "Name: price, dtype: float64\n"
          ],
          "name": "stdout"
        },
        {
          "output_type": "execute_result",
          "data": {
            "text/plain": [
              "0       1421\n",
              "500      781\n",
              "1500     734\n",
              "2500     643\n",
              "1000     639\n",
              "1200     639\n",
              "600      531\n",
              "800      498\n",
              "3500     498\n",
              "2000     460\n",
              "999      434\n",
              "750      433\n",
              "900      420\n",
              "650      419\n",
              "850      410\n",
              "Name: price, dtype: int64"
            ]
          },
          "metadata": {
            "tags": []
          },
          "execution_count": 21
        }
      ]
    },
    {
      "cell_type": "code",
      "metadata": {
        "id": "0BuXu6Az5ujH",
        "colab_type": "code",
        "colab": {
          "base_uri": "https://localhost:8080/",
          "height": 544
        },
        "outputId": "9b9692bb-0665-48cb-b00f-7a1fa2a852d5"
      },
      "source": [
        "autos[\"price\"].value_counts().sort_index(ascending=True).head(30)"
      ],
      "execution_count": 22,
      "outputs": [
        {
          "output_type": "execute_result",
          "data": {
            "text/plain": [
              "0     1421\n",
              "1      156\n",
              "2        3\n",
              "3        1\n",
              "5        2\n",
              "8        1\n",
              "9        1\n",
              "10       7\n",
              "11       2\n",
              "12       3\n",
              "13       2\n",
              "14       1\n",
              "15       2\n",
              "17       3\n",
              "18       1\n",
              "20       4\n",
              "25       5\n",
              "29       1\n",
              "30       7\n",
              "35       1\n",
              "40       6\n",
              "45       4\n",
              "47       1\n",
              "49       4\n",
              "50      49\n",
              "55       2\n",
              "59       1\n",
              "60       9\n",
              "65       5\n",
              "66       1\n",
              "Name: price, dtype: int64"
            ]
          },
          "metadata": {
            "tags": []
          },
          "execution_count": 22
        }
      ]
    },
    {
      "cell_type": "code",
      "metadata": {
        "id": "nVY9qtae5oH8",
        "colab_type": "code",
        "colab": {
          "base_uri": "https://localhost:8080/",
          "height": 544
        },
        "outputId": "a1c41640-2009-49da-af22-3956a24a9c0d"
      },
      "source": [
        "autos[\"price\"].value_counts().sort_index(ascending=False).head(30)"
      ],
      "execution_count": 23,
      "outputs": [
        {
          "output_type": "execute_result",
          "data": {
            "text/plain": [
              "99999999    1\n",
              "27322222    1\n",
              "12345678    3\n",
              "11111111    2\n",
              "10000000    1\n",
              "3890000     1\n",
              "1300000     1\n",
              "1234566     1\n",
              "999999      2\n",
              "999990      1\n",
              "350000      1\n",
              "345000      1\n",
              "299000      1\n",
              "295000      1\n",
              "265000      1\n",
              "259000      1\n",
              "250000      1\n",
              "220000      1\n",
              "198000      1\n",
              "197000      1\n",
              "194000      1\n",
              "190000      1\n",
              "180000      1\n",
              "175000      1\n",
              "169999      1\n",
              "169000      1\n",
              "163991      1\n",
              "163500      1\n",
              "155000      1\n",
              "151990      1\n",
              "Name: price, dtype: int64"
            ]
          },
          "metadata": {
            "tags": []
          },
          "execution_count": 23
        }
      ]
    },
    {
      "cell_type": "markdown",
      "metadata": {
        "id": "7smgvBnW8ouf",
        "colab_type": "text"
      },
      "source": [
        "The price column has numbers in both the max and min list that do not seem unrealistic. Further breakdown of numbers is needed here."
      ]
    },
    {
      "cell_type": "code",
      "metadata": {
        "id": "eScW8zPVAS49",
        "colab_type": "code",
        "colab": {
          "base_uri": "https://localhost:8080/",
          "height": 483
        },
        "outputId": "e9ea4ca4-8c6c-4029-cf28-7d22066b8446"
      },
      "source": [
        "autos.loc[autos[\"price\"] > 350000, [\"name\", \"model\", \"brand\", \"registration_year\", \"price\"]]"
      ],
      "execution_count": 24,
      "outputs": [
        {
          "output_type": "execute_result",
          "data": {
            "text/html": [
              "<div>\n",
              "<style scoped>\n",
              "    .dataframe tbody tr th:only-of-type {\n",
              "        vertical-align: middle;\n",
              "    }\n",
              "\n",
              "    .dataframe tbody tr th {\n",
              "        vertical-align: top;\n",
              "    }\n",
              "\n",
              "    .dataframe thead th {\n",
              "        text-align: right;\n",
              "    }\n",
              "</style>\n",
              "<table border=\"1\" class=\"dataframe\">\n",
              "  <thead>\n",
              "    <tr style=\"text-align: right;\">\n",
              "      <th></th>\n",
              "      <th>name</th>\n",
              "      <th>model</th>\n",
              "      <th>brand</th>\n",
              "      <th>registration_year</th>\n",
              "      <th>price</th>\n",
              "    </tr>\n",
              "  </thead>\n",
              "  <tbody>\n",
              "    <tr>\n",
              "      <th>514</th>\n",
              "      <td>Ford_Focus_Turnier_1.6_16V_Style</td>\n",
              "      <td>focus</td>\n",
              "      <td>ford</td>\n",
              "      <td>2009</td>\n",
              "      <td>999999</td>\n",
              "    </tr>\n",
              "    <tr>\n",
              "      <th>2897</th>\n",
              "      <td>Escort_MK_1_Hundeknochen_zum_umbauen_auf_RS_2000</td>\n",
              "      <td>escort</td>\n",
              "      <td>ford</td>\n",
              "      <td>1973</td>\n",
              "      <td>11111111</td>\n",
              "    </tr>\n",
              "    <tr>\n",
              "      <th>7814</th>\n",
              "      <td>Ferrari_F40</td>\n",
              "      <td>NaN</td>\n",
              "      <td>sonstige_autos</td>\n",
              "      <td>1992</td>\n",
              "      <td>1300000</td>\n",
              "    </tr>\n",
              "    <tr>\n",
              "      <th>11137</th>\n",
              "      <td>suche_maserati_3200_gt_Zustand_unwichtig_laufe...</td>\n",
              "      <td>NaN</td>\n",
              "      <td>sonstige_autos</td>\n",
              "      <td>1960</td>\n",
              "      <td>10000000</td>\n",
              "    </tr>\n",
              "    <tr>\n",
              "      <th>22947</th>\n",
              "      <td>Bmw_530d_zum_ausschlachten</td>\n",
              "      <td>NaN</td>\n",
              "      <td>bmw</td>\n",
              "      <td>1999</td>\n",
              "      <td>1234566</td>\n",
              "    </tr>\n",
              "    <tr>\n",
              "      <th>24384</th>\n",
              "      <td>Schlachte_Golf_3_gt_tdi</td>\n",
              "      <td>NaN</td>\n",
              "      <td>volkswagen</td>\n",
              "      <td>1995</td>\n",
              "      <td>11111111</td>\n",
              "    </tr>\n",
              "    <tr>\n",
              "      <th>27371</th>\n",
              "      <td>Fiat_Punto</td>\n",
              "      <td>punto</td>\n",
              "      <td>fiat</td>\n",
              "      <td>2017</td>\n",
              "      <td>12345678</td>\n",
              "    </tr>\n",
              "    <tr>\n",
              "      <th>37585</th>\n",
              "      <td>Volkswagen_Jetta_GT</td>\n",
              "      <td>jetta</td>\n",
              "      <td>volkswagen</td>\n",
              "      <td>1985</td>\n",
              "      <td>999990</td>\n",
              "    </tr>\n",
              "    <tr>\n",
              "      <th>39377</th>\n",
              "      <td>Tausche_volvo_v40_gegen_van</td>\n",
              "      <td>v40</td>\n",
              "      <td>volvo</td>\n",
              "      <td>2018</td>\n",
              "      <td>12345678</td>\n",
              "    </tr>\n",
              "    <tr>\n",
              "      <th>39705</th>\n",
              "      <td>Tausch_gegen_gleichwertiges</td>\n",
              "      <td>s_klasse</td>\n",
              "      <td>mercedes_benz</td>\n",
              "      <td>1999</td>\n",
              "      <td>99999999</td>\n",
              "    </tr>\n",
              "    <tr>\n",
              "      <th>42221</th>\n",
              "      <td>Leasinguebernahme</td>\n",
              "      <td>c4</td>\n",
              "      <td>citroen</td>\n",
              "      <td>2014</td>\n",
              "      <td>27322222</td>\n",
              "    </tr>\n",
              "    <tr>\n",
              "      <th>43049</th>\n",
              "      <td>2_VW_Busse_T3</td>\n",
              "      <td>transporter</td>\n",
              "      <td>volkswagen</td>\n",
              "      <td>1981</td>\n",
              "      <td>999999</td>\n",
              "    </tr>\n",
              "    <tr>\n",
              "      <th>47598</th>\n",
              "      <td>Opel_Vectra_B_1_6i_16V_Facelift_Tuning_Showcar...</td>\n",
              "      <td>vectra</td>\n",
              "      <td>opel</td>\n",
              "      <td>2001</td>\n",
              "      <td>12345678</td>\n",
              "    </tr>\n",
              "    <tr>\n",
              "      <th>47634</th>\n",
              "      <td>Ferrari_FXX</td>\n",
              "      <td>NaN</td>\n",
              "      <td>sonstige_autos</td>\n",
              "      <td>2006</td>\n",
              "      <td>3890000</td>\n",
              "    </tr>\n",
              "  </tbody>\n",
              "</table>\n",
              "</div>"
            ],
            "text/plain": [
              "                                                    name  ...     price\n",
              "514                     Ford_Focus_Turnier_1.6_16V_Style  ...    999999\n",
              "2897    Escort_MK_1_Hundeknochen_zum_umbauen_auf_RS_2000  ...  11111111\n",
              "7814                                         Ferrari_F40  ...   1300000\n",
              "11137  suche_maserati_3200_gt_Zustand_unwichtig_laufe...  ...  10000000\n",
              "22947                         Bmw_530d_zum_ausschlachten  ...   1234566\n",
              "24384                            Schlachte_Golf_3_gt_tdi  ...  11111111\n",
              "27371                                         Fiat_Punto  ...  12345678\n",
              "37585                                Volkswagen_Jetta_GT  ...    999990\n",
              "39377                        Tausche_volvo_v40_gegen_van  ...  12345678\n",
              "39705                        Tausch_gegen_gleichwertiges  ...  99999999\n",
              "42221                                  Leasinguebernahme  ...  27322222\n",
              "43049                                      2_VW_Busse_T3  ...    999999\n",
              "47598  Opel_Vectra_B_1_6i_16V_Facelift_Tuning_Showcar...  ...  12345678\n",
              "47634                                        Ferrari_FXX  ...   3890000\n",
              "\n",
              "[14 rows x 5 columns]"
            ]
          },
          "metadata": {
            "tags": []
          },
          "execution_count": 24
        }
      ]
    },
    {
      "cell_type": "code",
      "metadata": {
        "id": "cq0UEeevAn5f",
        "colab_type": "code",
        "colab": {
          "base_uri": "https://localhost:8080/",
          "height": 49
        },
        "outputId": "d7820aa8-9f6f-4cb1-b804-fc90774dd45b"
      },
      "source": [
        "autos.loc[autos[\"price\"] < 0, [\"name\", \"model\", \"brand\", \"registration_year\", \"price\"]]"
      ],
      "execution_count": 25,
      "outputs": [
        {
          "output_type": "execute_result",
          "data": {
            "text/html": [
              "<div>\n",
              "<style scoped>\n",
              "    .dataframe tbody tr th:only-of-type {\n",
              "        vertical-align: middle;\n",
              "    }\n",
              "\n",
              "    .dataframe tbody tr th {\n",
              "        vertical-align: top;\n",
              "    }\n",
              "\n",
              "    .dataframe thead th {\n",
              "        text-align: right;\n",
              "    }\n",
              "</style>\n",
              "<table border=\"1\" class=\"dataframe\">\n",
              "  <thead>\n",
              "    <tr style=\"text-align: right;\">\n",
              "      <th></th>\n",
              "      <th>name</th>\n",
              "      <th>model</th>\n",
              "      <th>brand</th>\n",
              "      <th>registration_year</th>\n",
              "      <th>price</th>\n",
              "    </tr>\n",
              "  </thead>\n",
              "  <tbody>\n",
              "  </tbody>\n",
              "</table>\n",
              "</div>"
            ],
            "text/plain": [
              "Empty DataFrame\n",
              "Columns: [name, model, brand, registration_year, price]\n",
              "Index: []"
            ]
          },
          "metadata": {
            "tags": []
          },
          "execution_count": 25
        }
      ]
    },
    {
      "cell_type": "code",
      "metadata": {
        "id": "Xfrjp3iK9SOw",
        "colab_type": "code",
        "colab": {}
      },
      "source": [
        "autos = autos[autos[\"price\"].between(100,1000000)]"
      ],
      "execution_count": 26,
      "outputs": []
    },
    {
      "cell_type": "markdown",
      "metadata": {
        "id": "TYAfjGxnBCzO",
        "colab_type": "text"
      },
      "source": [
        "Price Observations:\n",
        "- There are 1,421 cars listed with $0 price, It is only 2% of data. We will wait to see if it needs to be removed. \n",
        "- It does seem odd that a ford focus would sell for that high. Not sure if it is worth confirming this information. \n",
        "- Allow for prices only in the range of 100 - 1,000,000 . Anything below 100 seems odd"
      ]
    },
    {
      "cell_type": "code",
      "metadata": {
        "id": "AWr0fVQ-day9",
        "colab_type": "code",
        "colab": {}
      },
      "source": [
        "autos[[\"date_crawled\", \"ad_created\", \"last_seen\"]] = autos[[\"date_crawled\", \"ad_created\", \"last_seen\"]].apply(pd.to_datetime)"
      ],
      "execution_count": 27,
      "outputs": []
    },
    {
      "cell_type": "code",
      "metadata": {
        "id": "i-HDKEeGdevY",
        "colab_type": "code",
        "colab": {
          "base_uri": "https://localhost:8080/",
          "height": 187
        },
        "outputId": "7a77eddb-00eb-4b03-8d4f-4d98c8e1f8c2"
      },
      "source": [
        "autos[[\"date_crawled\", \"ad_created\", \"last_seen\"]].info()"
      ],
      "execution_count": 28,
      "outputs": [
        {
          "output_type": "stream",
          "text": [
            "<class 'pandas.core.frame.DataFrame'>\n",
            "Int64Index: 48227 entries, 0 to 49999\n",
            "Data columns (total 3 columns):\n",
            " #   Column        Non-Null Count  Dtype         \n",
            "---  ------        --------------  -----         \n",
            " 0   date_crawled  48227 non-null  datetime64[ns]\n",
            " 1   ad_created    48227 non-null  datetime64[ns]\n",
            " 2   last_seen     48227 non-null  datetime64[ns]\n",
            "dtypes: datetime64[ns](3)\n",
            "memory usage: 1.5 MB\n"
          ],
          "name": "stdout"
        }
      ]
    },
    {
      "cell_type": "code",
      "metadata": {
        "id": "0maKYCnmBbhN",
        "colab_type": "code",
        "colab": {
          "base_uri": "https://localhost:8080/",
          "height": 204
        },
        "outputId": "36a467de-cb38-4a00-ae0f-80092c50b59a"
      },
      "source": [
        "autos[[\"date_crawled\", \"ad_created\", \"last_seen\"]].head()"
      ],
      "execution_count": 29,
      "outputs": [
        {
          "output_type": "execute_result",
          "data": {
            "text/html": [
              "<div>\n",
              "<style scoped>\n",
              "    .dataframe tbody tr th:only-of-type {\n",
              "        vertical-align: middle;\n",
              "    }\n",
              "\n",
              "    .dataframe tbody tr th {\n",
              "        vertical-align: top;\n",
              "    }\n",
              "\n",
              "    .dataframe thead th {\n",
              "        text-align: right;\n",
              "    }\n",
              "</style>\n",
              "<table border=\"1\" class=\"dataframe\">\n",
              "  <thead>\n",
              "    <tr style=\"text-align: right;\">\n",
              "      <th></th>\n",
              "      <th>date_crawled</th>\n",
              "      <th>ad_created</th>\n",
              "      <th>last_seen</th>\n",
              "    </tr>\n",
              "  </thead>\n",
              "  <tbody>\n",
              "    <tr>\n",
              "      <th>0</th>\n",
              "      <td>2016-03-26 17:47:46</td>\n",
              "      <td>2016-03-26</td>\n",
              "      <td>2016-04-06 06:45:54</td>\n",
              "    </tr>\n",
              "    <tr>\n",
              "      <th>1</th>\n",
              "      <td>2016-04-04 13:38:56</td>\n",
              "      <td>2016-04-04</td>\n",
              "      <td>2016-04-06 14:45:08</td>\n",
              "    </tr>\n",
              "    <tr>\n",
              "      <th>2</th>\n",
              "      <td>2016-03-26 18:57:24</td>\n",
              "      <td>2016-03-26</td>\n",
              "      <td>2016-04-06 20:15:37</td>\n",
              "    </tr>\n",
              "    <tr>\n",
              "      <th>3</th>\n",
              "      <td>2016-03-12 16:58:10</td>\n",
              "      <td>2016-03-12</td>\n",
              "      <td>2016-03-15 03:16:28</td>\n",
              "    </tr>\n",
              "    <tr>\n",
              "      <th>4</th>\n",
              "      <td>2016-04-01 14:38:50</td>\n",
              "      <td>2016-04-01</td>\n",
              "      <td>2016-04-01 14:38:50</td>\n",
              "    </tr>\n",
              "  </tbody>\n",
              "</table>\n",
              "</div>"
            ],
            "text/plain": [
              "         date_crawled ad_created           last_seen\n",
              "0 2016-03-26 17:47:46 2016-03-26 2016-04-06 06:45:54\n",
              "1 2016-04-04 13:38:56 2016-04-04 2016-04-06 14:45:08\n",
              "2 2016-03-26 18:57:24 2016-03-26 2016-04-06 20:15:37\n",
              "3 2016-03-12 16:58:10 2016-03-12 2016-03-15 03:16:28\n",
              "4 2016-04-01 14:38:50 2016-04-01 2016-04-01 14:38:50"
            ]
          },
          "metadata": {
            "tags": []
          },
          "execution_count": 29
        }
      ]
    },
    {
      "cell_type": "code",
      "metadata": {
        "id": "lJgp0kDZEuZu",
        "colab_type": "code",
        "colab": {
          "base_uri": "https://localhost:8080/",
          "height": 612
        },
        "outputId": "879f95db-66b7-4385-d4dc-0481a0ca866e"
      },
      "source": [
        "autos[\"date_crawled\"].dt.floor(\"D\").value_counts(normalize = True).sort_index()"
      ],
      "execution_count": 30,
      "outputs": [
        {
          "output_type": "execute_result",
          "data": {
            "text/plain": [
              "2016-03-05    0.025359\n",
              "2016-03-06    0.014038\n",
              "2016-03-07    0.036059\n",
              "2016-03-08    0.033176\n",
              "2016-03-09    0.033011\n",
              "2016-03-10    0.032285\n",
              "2016-03-11    0.032596\n",
              "2016-03-12    0.036909\n",
              "2016-03-13    0.015676\n",
              "2016-03-14    0.036660\n",
              "2016-03-15    0.034317\n",
              "2016-03-16    0.029465\n",
              "2016-03-17    0.031518\n",
              "2016-03-18    0.012897\n",
              "2016-03-19    0.034732\n",
              "2016-03-20    0.037800\n",
              "2016-03-21    0.037220\n",
              "2016-03-22    0.032886\n",
              "2016-03-23    0.032285\n",
              "2016-03-24    0.029444\n",
              "2016-03-25    0.031497\n",
              "2016-03-26    0.032306\n",
              "2016-03-27    0.031124\n",
              "2016-03-28    0.034960\n",
              "2016-03-29    0.034130\n",
              "2016-03-30    0.033736\n",
              "2016-03-31    0.031849\n",
              "2016-04-01    0.033695\n",
              "2016-04-02    0.035602\n",
              "2016-04-03    0.038609\n",
              "2016-04-04    0.036536\n",
              "2016-04-05    0.013063\n",
              "2016-04-06    0.003172\n",
              "2016-04-07    0.001389\n",
              "Name: date_crawled, dtype: float64"
            ]
          },
          "metadata": {
            "tags": []
          },
          "execution_count": 30
        }
      ]
    },
    {
      "cell_type": "code",
      "metadata": {
        "id": "X1TlXpVeGCc5",
        "colab_type": "code",
        "colab": {
          "base_uri": "https://localhost:8080/",
          "height": 612
        },
        "outputId": "5fff2871-4a95-4d00-a4a0-a237a331b478"
      },
      "source": [
        "autos[\"date_crawled\"].dt.floor(\"D\").value_counts(normalize = True).sort_values()"
      ],
      "execution_count": 31,
      "outputs": [
        {
          "output_type": "execute_result",
          "data": {
            "text/plain": [
              "2016-04-07    0.001389\n",
              "2016-04-06    0.003172\n",
              "2016-03-18    0.012897\n",
              "2016-04-05    0.013063\n",
              "2016-03-06    0.014038\n",
              "2016-03-13    0.015676\n",
              "2016-03-05    0.025359\n",
              "2016-03-24    0.029444\n",
              "2016-03-16    0.029465\n",
              "2016-03-27    0.031124\n",
              "2016-03-25    0.031497\n",
              "2016-03-17    0.031518\n",
              "2016-03-31    0.031849\n",
              "2016-03-10    0.032285\n",
              "2016-03-23    0.032285\n",
              "2016-03-26    0.032306\n",
              "2016-03-11    0.032596\n",
              "2016-03-22    0.032886\n",
              "2016-03-09    0.033011\n",
              "2016-03-08    0.033176\n",
              "2016-04-01    0.033695\n",
              "2016-03-30    0.033736\n",
              "2016-03-29    0.034130\n",
              "2016-03-15    0.034317\n",
              "2016-03-19    0.034732\n",
              "2016-03-28    0.034960\n",
              "2016-04-02    0.035602\n",
              "2016-03-07    0.036059\n",
              "2016-04-04    0.036536\n",
              "2016-03-14    0.036660\n",
              "2016-03-12    0.036909\n",
              "2016-03-21    0.037220\n",
              "2016-03-20    0.037800\n",
              "2016-04-03    0.038609\n",
              "Name: date_crawled, dtype: float64"
            ]
          },
          "metadata": {
            "tags": []
          },
          "execution_count": 31
        }
      ]
    },
    {
      "cell_type": "code",
      "metadata": {
        "id": "YH9K1gC5fDL6",
        "colab_type": "code",
        "colab": {
          "base_uri": "https://localhost:8080/",
          "height": 442
        },
        "outputId": "b35a5494-56f7-4ad5-ceb7-000fa5665006"
      },
      "source": [
        "autos[\"date_crawled\"].dt.hour.value_counts(normalize = True).sort_index()"
      ],
      "execution_count": 32,
      "outputs": [
        {
          "output_type": "execute_result",
          "data": {
            "text/plain": [
              "0     0.026914\n",
              "1     0.015157\n",
              "2     0.006552\n",
              "3     0.005018\n",
              "4     0.004147\n",
              "5     0.003048\n",
              "6     0.003442\n",
              "7     0.014038\n",
              "8     0.019491\n",
              "9     0.035395\n",
              "10    0.047753\n",
              "11    0.055197\n",
              "12    0.058660\n",
              "13    0.065109\n",
              "14    0.068675\n",
              "15    0.066228\n",
              "16    0.069961\n",
              "17    0.070396\n",
              "18    0.073859\n",
              "19    0.067887\n",
              "20    0.068115\n",
              "21    0.061625\n",
              "22    0.050822\n",
              "23    0.042507\n",
              "Name: date_crawled, dtype: float64"
            ]
          },
          "metadata": {
            "tags": []
          },
          "execution_count": 32
        }
      ]
    },
    {
      "cell_type": "markdown",
      "metadata": {
        "id": "6ZQbZAaAZN60",
        "colab_type": "text"
      },
      "source": [
        "Data Crawled Observation\n",
        "\n",
        "This data was crawled over daily and around once a month, from March 2016 to april 2016. The overall distribution is faily uniformly scrpaed over. Hourly breakdown shows non uniformly between 2am-6am. "
      ]
    },
    {
      "cell_type": "code",
      "metadata": {
        "id": "XdLe87ICaBtE",
        "colab_type": "code",
        "colab": {
          "base_uri": "https://localhost:8080/",
          "height": 612
        },
        "outputId": "b8a90a71-0619-47c7-ed22-c7622450cc74"
      },
      "source": [
        "(autos[\"last_seen\"].dt.floor(\"D\").value_counts(normalize=True).sort_index())"
      ],
      "execution_count": 33,
      "outputs": [
        {
          "output_type": "execute_result",
          "data": {
            "text/plain": [
              "2016-03-05    0.001078\n",
              "2016-03-06    0.004313\n",
              "2016-03-07    0.005433\n",
              "2016-03-08    0.007320\n",
              "2016-03-09    0.009580\n",
              "2016-03-10    0.010637\n",
              "2016-03-11    0.012400\n",
              "2016-03-12    0.023783\n",
              "2016-03-13    0.008875\n",
              "2016-03-14    0.012628\n",
              "2016-03-15    0.015862\n",
              "2016-03-16    0.016443\n",
              "2016-03-17    0.028096\n",
              "2016-03-18    0.007320\n",
              "2016-03-19    0.015759\n",
              "2016-03-20    0.020652\n",
              "2016-03-21    0.020549\n",
              "2016-03-22    0.021357\n",
              "2016-03-23    0.018579\n",
              "2016-03-24    0.019761\n",
              "2016-03-25    0.019097\n",
              "2016-03-26    0.016671\n",
              "2016-03-27    0.015551\n",
              "2016-03-28    0.020860\n",
              "2016-03-29    0.022311\n",
              "2016-03-30    0.024696\n",
              "2016-03-31    0.023825\n",
              "2016-04-01    0.022850\n",
              "2016-04-02    0.024882\n",
              "2016-04-03    0.025131\n",
              "2016-04-04    0.024530\n",
              "2016-04-05    0.125054\n",
              "2016-04-06    0.221971\n",
              "2016-04-07    0.132146\n",
              "Name: last_seen, dtype: float64"
            ]
          },
          "metadata": {
            "tags": []
          },
          "execution_count": 33
        }
      ]
    },
    {
      "cell_type": "markdown",
      "metadata": {
        "id": "JWrK62MAb-g_",
        "colab_type": "text"
      },
      "source": [
        "Last Seen Observation\n",
        "\n",
        "This data was crawled over daily and around once a month, from March 2016 to april 2016. Over half of the entries were last seen in the last five days of data."
      ]
    },
    {
      "cell_type": "code",
      "metadata": {
        "id": "amYNoZmWcUgr",
        "colab_type": "code",
        "colab": {
          "base_uri": "https://localhost:8080/",
          "height": 221
        },
        "outputId": "f1093b81-211d-407f-a175-5c803ffdc461"
      },
      "source": [
        "autos[\"ad_created\"].dt.floor(\"D\").value_counts(normalize = True).sort_index()"
      ],
      "execution_count": 34,
      "outputs": [
        {
          "output_type": "execute_result",
          "data": {
            "text/plain": [
              "2015-06-11    0.000021\n",
              "2015-08-10    0.000021\n",
              "2015-09-09    0.000021\n",
              "2015-11-10    0.000021\n",
              "2015-12-05    0.000021\n",
              "                ...   \n",
              "2016-04-03    0.038858\n",
              "2016-04-04    0.036888\n",
              "2016-04-05    0.011798\n",
              "2016-04-06    0.003255\n",
              "2016-04-07    0.001244\n",
              "Name: ad_created, Length: 76, dtype: float64"
            ]
          },
          "metadata": {
            "tags": []
          },
          "execution_count": 34
        }
      ]
    },
    {
      "cell_type": "code",
      "metadata": {
        "id": "44V-sC4-fqg5",
        "colab_type": "code",
        "colab": {
          "base_uri": "https://localhost:8080/",
          "height": 68
        },
        "outputId": "870d6e51-ba5f-4244-9f92-1167cc135b9f"
      },
      "source": [
        "autos[\"ad_created\"].dt.year.value_counts(normalize = True)"
      ],
      "execution_count": 35,
      "outputs": [
        {
          "output_type": "execute_result",
          "data": {
            "text/plain": [
              "2016    0.999876\n",
              "2015    0.000124\n",
              "Name: ad_created, dtype: float64"
            ]
          },
          "metadata": {
            "tags": []
          },
          "execution_count": 35
        }
      ]
    },
    {
      "cell_type": "code",
      "metadata": {
        "id": "kIViDoaQfy8J",
        "colab_type": "code",
        "colab": {
          "base_uri": "https://localhost:8080/",
          "height": 51
        },
        "outputId": "b791ca33-57aa-4f5e-cc86-c851cd4e6fe9"
      },
      "source": [
        "autos[\"ad_created\"].dt.hour.value_counts(normalize = True).sort_index()"
      ],
      "execution_count": 36,
      "outputs": [
        {
          "output_type": "execute_result",
          "data": {
            "text/plain": [
              "0    1.0\n",
              "Name: ad_created, dtype: float64"
            ]
          },
          "metadata": {
            "tags": []
          },
          "execution_count": 36
        }
      ]
    },
    {
      "cell_type": "markdown",
      "metadata": {
        "id": "OgBbaHslctth",
        "colab_type": "text"
      },
      "source": [
        "AD Created Observation\n",
        " \n",
        "The ads were created between june 2015  and april 2016. "
      ]
    },
    {
      "cell_type": "code",
      "metadata": {
        "id": "Gba6WsBJf6AI",
        "colab_type": "code",
        "colab": {
          "base_uri": "https://localhost:8080/",
          "height": 170
        },
        "outputId": "d83a80f8-9ae3-4b31-c001-a12e639dc369"
      },
      "source": [
        "autos[\"registration_year\"].describe()"
      ],
      "execution_count": 37,
      "outputs": [
        {
          "output_type": "execute_result",
          "data": {
            "text/plain": [
              "count    48227.000000\n",
              "mean      2004.730151\n",
              "std         87.894768\n",
              "min       1000.000000\n",
              "25%       1999.000000\n",
              "50%       2004.000000\n",
              "75%       2008.000000\n",
              "max       9999.000000\n",
              "Name: registration_year, dtype: float64"
            ]
          },
          "metadata": {
            "tags": []
          },
          "execution_count": 37
        }
      ]
    },
    {
      "cell_type": "markdown",
      "metadata": {
        "id": "eQu5UPwtl0BT",
        "colab_type": "text"
      },
      "source": [
        "Registratoin Year Observations\n",
        "\n",
        "There are odd numbers here, it is not possible to have a car in the \"1000\" which is the min value. The max value is also odd with \"9999\". Any vehivle registred after 2016 should not be in the data. We should focus on 1900-2016. Further Breakdown needed."
      ]
    },
    {
      "cell_type": "code",
      "metadata": {
        "id": "0K0yz2ctlyRS",
        "colab_type": "code",
        "colab": {
          "base_uri": "https://localhost:8080/",
          "height": 323
        },
        "outputId": "ae97b36c-ca3a-422c-ab6d-c2eee5e3b198"
      },
      "source": [
        "autos.loc[~autos[\"registration_year\"].between(1906, 2016), \"registration_year\"].value_counts()"
      ],
      "execution_count": 38,
      "outputs": [
        {
          "output_type": "execute_result",
          "data": {
            "text/plain": [
              "2017    1383\n",
              "2018     468\n",
              "9999       3\n",
              "5000       3\n",
              "2019       2\n",
              "1800       2\n",
              "2800       1\n",
              "6200       1\n",
              "4500       1\n",
              "8888       1\n",
              "4800       1\n",
              "1000       1\n",
              "9000       1\n",
              "1001       1\n",
              "1111       1\n",
              "5911       1\n",
              "4100       1\n",
              "Name: registration_year, dtype: int64"
            ]
          },
          "metadata": {
            "tags": []
          },
          "execution_count": 38
        }
      ]
    },
    {
      "cell_type": "code",
      "metadata": {
        "id": "qJjXJEXamRW1",
        "colab_type": "code",
        "colab": {
          "base_uri": "https://localhost:8080/",
          "height": 34
        },
        "outputId": "99173125-a93e-4221-9bdf-cfcf267effd1"
      },
      "source": [
        "(~autos[\"registration_year\"].between(1900,2016)).sum() / autos.shape[0]\n",
        "# Percent of invalid data "
      ],
      "execution_count": 39,
      "outputs": [
        {
          "output_type": "execute_result",
          "data": {
            "text/plain": [
              "0.03881643063014494"
            ]
          },
          "metadata": {
            "tags": []
          },
          "execution_count": 39
        }
      ]
    },
    {
      "cell_type": "code",
      "metadata": {
        "id": "8urf0Fz8mVR1",
        "colab_type": "code",
        "colab": {
          "base_uri": "https://localhost:8080/",
          "height": 170
        },
        "outputId": "ee9b25fb-c765-45e6-cf2d-5ec0bad9e459"
      },
      "source": [
        "autos.loc[autos[\"registration_year\"].between(1906, 2016), \"registration_year\"].describe()"
      ],
      "execution_count": 40,
      "outputs": [
        {
          "output_type": "execute_result",
          "data": {
            "text/plain": [
              "count    46355.000000\n",
              "mean      2002.939057\n",
              "std          7.128186\n",
              "min       1910.000000\n",
              "25%       1999.000000\n",
              "50%       2003.000000\n",
              "75%       2008.000000\n",
              "max       2016.000000\n",
              "Name: registration_year, dtype: float64"
            ]
          },
          "metadata": {
            "tags": []
          },
          "execution_count": 40
        }
      ]
    },
    {
      "cell_type": "code",
      "metadata": {
        "id": "Hji2SN2MmsxV",
        "colab_type": "code",
        "colab": {
          "base_uri": "https://localhost:8080/",
          "height": 408
        },
        "outputId": "bb0bfa78-3624-4f6d-b4b3-b4e22f686c2c"
      },
      "source": [
        "autos.loc[autos[\"registration_year\"].between(1995, 2016), \"registration_year\"].value_counts(normalize = True).sort_index()"
      ],
      "execution_count": 41,
      "outputs": [
        {
          "output_type": "execute_result",
          "data": {
            "text/plain": [
              "1995    0.027747\n",
              "1996    0.031515\n",
              "1997    0.044773\n",
              "1998    0.054425\n",
              "1999    0.066961\n",
              "2000    0.072194\n",
              "2001    0.061147\n",
              "2002    0.057611\n",
              "2003    0.062635\n",
              "2004    0.062775\n",
              "2005    0.067706\n",
              "2006    0.062054\n",
              "2007    0.052867\n",
              "2008    0.051401\n",
              "2009    0.048401\n",
              "2010    0.036911\n",
              "2011    0.037632\n",
              "2012    0.030422\n",
              "2013    0.018630\n",
              "2014    0.015397\n",
              "2015    0.008838\n",
              "2016    0.027957\n",
              "Name: registration_year, dtype: float64"
            ]
          },
          "metadata": {
            "tags": []
          },
          "execution_count": 41
        }
      ]
    },
    {
      "cell_type": "code",
      "metadata": {
        "id": "39eNuTLTnV7a",
        "colab_type": "code",
        "colab": {
          "base_uri": "https://localhost:8080/",
          "height": 34
        },
        "outputId": "dc33d056-45da-42a9-b904-1b389e8b78fb"
      },
      "source": [
        "autos.loc[autos[\"registration_year\"].between(1906, 2016), \"registration_year\"].value_counts(normalize = True).sort_index().loc[1970:].sum()"
      ],
      "execution_count": 42,
      "outputs": [
        {
          "output_type": "execute_result",
          "data": {
            "text/plain": [
              "0.9955991802394564"
            ]
          },
          "metadata": {
            "tags": []
          },
          "execution_count": 42
        }
      ]
    },
    {
      "cell_type": "markdown",
      "metadata": {
        "id": "nGMSoCdWpLst",
        "colab_type": "text"
      },
      "source": [
        "Registratoin Year Observations Final\n",
        "\n",
        "Due to around 99% of this data occuring after 1970. We will set a date range for this data \" 1970 - 2016\"."
      ]
    },
    {
      "cell_type": "code",
      "metadata": {
        "id": "5E10PROwpRpT",
        "colab_type": "code",
        "colab": {
          "base_uri": "https://localhost:8080/",
          "height": 544
        },
        "outputId": "1f4fb7b0-c967-48b6-a699-5c16d2ef59c4"
      },
      "source": [
        "autos = autos[autos[\"registration_year\"].between(1969,2016)]\n",
        "autos[\"registration_year\"].value_counts(normalize=True).head(30)"
      ],
      "execution_count": 43,
      "outputs": [
        {
          "output_type": "execute_result",
          "data": {
            "text/plain": [
              "2000    0.067230\n",
              "2005    0.063050\n",
              "1999    0.062357\n",
              "2004    0.058458\n",
              "2003    0.058328\n",
              "2006    0.057786\n",
              "2001    0.056942\n",
              "2002    0.053650\n",
              "1998    0.050682\n",
              "2007    0.049231\n",
              "2008    0.047867\n",
              "2009    0.045073\n",
              "1997    0.041694\n",
              "2011    0.035044\n",
              "2010    0.034373\n",
              "1996    0.029348\n",
              "2012    0.028330\n",
              "2016    0.026034\n",
              "1995    0.025839\n",
              "2013    0.017349\n",
              "2014    0.014338\n",
              "1994    0.013559\n",
              "1993    0.009097\n",
              "2015    0.008230\n",
              "1992    0.007949\n",
              "1991    0.007321\n",
              "1990    0.007191\n",
              "1989    0.003704\n",
              "1988    0.002881\n",
              "1985    0.002036\n",
              "Name: registration_year, dtype: float64"
            ]
          },
          "metadata": {
            "tags": []
          },
          "execution_count": 43
        }
      ]
    },
    {
      "cell_type": "code",
      "metadata": {
        "id": "FrF9EuyVpYTT",
        "colab_type": "code",
        "colab": {
          "base_uri": "https://localhost:8080/",
          "height": 34
        },
        "outputId": "2acb485b-d92d-46e6-de0d-d2f2b3452190"
      },
      "source": [
        "autos[\"brand\"].nunique()\n"
      ],
      "execution_count": 44,
      "outputs": [
        {
          "output_type": "execute_result",
          "data": {
            "text/plain": [
              "40"
            ]
          },
          "metadata": {
            "tags": []
          },
          "execution_count": 44
        }
      ]
    },
    {
      "cell_type": "code",
      "metadata": {
        "id": "X5-Uh5nDsiB-",
        "colab_type": "code",
        "colab": {
          "base_uri": "https://localhost:8080/",
          "height": 714
        },
        "outputId": "0041e69d-2e08-4d5a-8697-1c17735e7542"
      },
      "source": [
        "autos[\"brand\"].value_counts(normalize=True)"
      ],
      "execution_count": 45,
      "outputs": [
        {
          "output_type": "execute_result",
          "data": {
            "text/plain": [
              "volkswagen        0.211977\n",
              "bmw               0.110505\n",
              "opel              0.107472\n",
              "mercedes_benz     0.096556\n",
              "audi              0.087091\n",
              "ford              0.069266\n",
              "renault           0.047195\n",
              "peugeot           0.029955\n",
              "fiat              0.025558\n",
              "seat              0.018324\n",
              "skoda             0.016439\n",
              "nissan            0.015400\n",
              "mazda             0.015291\n",
              "smart             0.014252\n",
              "citroen           0.014057\n",
              "toyota            0.012844\n",
              "hyundai           0.010050\n",
              "volvo             0.009032\n",
              "mini              0.008837\n",
              "sonstige_autos    0.008642\n",
              "mitsubishi        0.008209\n",
              "honda             0.007906\n",
              "kia               0.007104\n",
              "alfa_romeo        0.006649\n",
              "suzuki            0.005956\n",
              "porsche           0.005913\n",
              "chevrolet         0.005545\n",
              "chrysler          0.003487\n",
              "dacia             0.002664\n",
              "daihatsu          0.002512\n",
              "jeep              0.002296\n",
              "subaru            0.002123\n",
              "land_rover        0.002079\n",
              "saab              0.001668\n",
              "daewoo            0.001494\n",
              "jaguar            0.001494\n",
              "rover             0.001343\n",
              "trabant           0.001170\n",
              "lancia            0.001061\n",
              "lada              0.000585\n",
              "Name: brand, dtype: float64"
            ]
          },
          "metadata": {
            "tags": []
          },
          "execution_count": 45
        }
      ]
    },
    {
      "cell_type": "code",
      "metadata": {
        "id": "jwUrcmGLs_78",
        "colab_type": "code",
        "colab": {
          "base_uri": "https://localhost:8080/",
          "height": 34
        },
        "outputId": "d09c9571-ddfa-4bce-cfc2-c8a7846accf1"
      },
      "source": [
        "autos[\"brand\"].value_counts(normalize = True).head(10).sum()"
      ],
      "execution_count": 46,
      "outputs": [
        {
          "output_type": "execute_result",
          "data": {
            "text/plain": [
              "0.803898635477583"
            ]
          },
          "metadata": {
            "tags": []
          },
          "execution_count": 46
        }
      ]
    },
    {
      "cell_type": "markdown",
      "metadata": {
        "id": "rt9L58sitvBl",
        "colab_type": "text"
      },
      "source": [
        "Brand Observations\n",
        "- Volkswagen is the most popular brand, with aprox double bmw who is second most popular\n",
        "- WE will limit our analysis to brands in the top 10 \">0.018\""
      ]
    },
    {
      "cell_type": "code",
      "metadata": {
        "id": "dXR3RDPHtE9V",
        "colab_type": "code",
        "colab": {
          "base_uri": "https://localhost:8080/",
          "height": 68
        },
        "outputId": "cf16db5e-cd79-4669-eda4-ea404761da80"
      },
      "source": [
        "brand_count = autos[\"brand\"].value_counts(normalize=True)\n",
        "common_brands = brand_count[brand_count > .018].index\n",
        "print(common_brands)"
      ],
      "execution_count": 47,
      "outputs": [
        {
          "output_type": "stream",
          "text": [
            "Index(['volkswagen', 'bmw', 'opel', 'mercedes_benz', 'audi', 'ford', 'renault',\n",
            "       'peugeot', 'fiat', 'seat'],\n",
            "      dtype='object')\n"
          ],
          "name": "stdout"
        }
      ]
    },
    {
      "cell_type": "code",
      "metadata": {
        "id": "azUysW-XuSYG",
        "colab_type": "code",
        "colab": {
          "base_uri": "https://localhost:8080/",
          "height": 187
        },
        "outputId": "8a50147d-88ec-4e02-e711-1766be1c80d1"
      },
      "source": [
        "brand_mean_prices = {}\n",
        "\n",
        "for brand in common_brands:\n",
        "    brand_only = autos[autos[\"brand\"] == brand]\n",
        "    mean_price = brand_only[\"price\"].mean()\n",
        "    brand_mean_prices[brand] = int(mean_price)\n",
        "\n",
        "brand_mean_prices"
      ],
      "execution_count": 48,
      "outputs": [
        {
          "output_type": "execute_result",
          "data": {
            "text/plain": [
              "{'audi': 9375,\n",
              " 'bmw': 8383,\n",
              " 'fiat': 2804,\n",
              " 'ford': 3846,\n",
              " 'mercedes_benz': 8565,\n",
              " 'opel': 3002,\n",
              " 'peugeot': 3108,\n",
              " 'renault': 2491,\n",
              " 'seat': 4433,\n",
              " 'volkswagen': 5629}"
            ]
          },
          "metadata": {
            "tags": []
          },
          "execution_count": 48
        }
      ]
    },
    {
      "cell_type": "code",
      "metadata": {
        "id": "bku3jdnr6lwg",
        "colab_type": "code",
        "colab": {
          "base_uri": "https://localhost:8080/",
          "height": 359
        },
        "outputId": "6988911b-8bd9-4aad-f7d0-3cf1ffafacb5"
      },
      "source": [
        "autos.groupby(\"brand\")[[\"odometer_km\", \"price\"]].mean().loc[common_brands].sort_values(\"price\", ascending = False).round(0)"
      ],
      "execution_count": 49,
      "outputs": [
        {
          "output_type": "execute_result",
          "data": {
            "text/html": [
              "<div>\n",
              "<style scoped>\n",
              "    .dataframe tbody tr th:only-of-type {\n",
              "        vertical-align: middle;\n",
              "    }\n",
              "\n",
              "    .dataframe tbody tr th {\n",
              "        vertical-align: top;\n",
              "    }\n",
              "\n",
              "    .dataframe thead th {\n",
              "        text-align: right;\n",
              "    }\n",
              "</style>\n",
              "<table border=\"1\" class=\"dataframe\">\n",
              "  <thead>\n",
              "    <tr style=\"text-align: right;\">\n",
              "      <th></th>\n",
              "      <th>odometer_km</th>\n",
              "      <th>price</th>\n",
              "    </tr>\n",
              "  </thead>\n",
              "  <tbody>\n",
              "    <tr>\n",
              "      <th>audi</th>\n",
              "      <td>129240.0</td>\n",
              "      <td>9376.0</td>\n",
              "    </tr>\n",
              "    <tr>\n",
              "      <th>mercedes_benz</th>\n",
              "      <td>131243.0</td>\n",
              "      <td>8566.0</td>\n",
              "    </tr>\n",
              "    <tr>\n",
              "      <th>bmw</th>\n",
              "      <td>132790.0</td>\n",
              "      <td>8384.0</td>\n",
              "    </tr>\n",
              "    <tr>\n",
              "      <th>volkswagen</th>\n",
              "      <td>128839.0</td>\n",
              "      <td>5629.0</td>\n",
              "    </tr>\n",
              "    <tr>\n",
              "      <th>seat</th>\n",
              "      <td>121537.0</td>\n",
              "      <td>4433.0</td>\n",
              "    </tr>\n",
              "    <tr>\n",
              "      <th>ford</th>\n",
              "      <td>124980.0</td>\n",
              "      <td>3846.0</td>\n",
              "    </tr>\n",
              "    <tr>\n",
              "      <th>peugeot</th>\n",
              "      <td>127184.0</td>\n",
              "      <td>3108.0</td>\n",
              "    </tr>\n",
              "    <tr>\n",
              "      <th>opel</th>\n",
              "      <td>129465.0</td>\n",
              "      <td>3003.0</td>\n",
              "    </tr>\n",
              "    <tr>\n",
              "      <th>fiat</th>\n",
              "      <td>117237.0</td>\n",
              "      <td>2805.0</td>\n",
              "    </tr>\n",
              "    <tr>\n",
              "      <th>renault</th>\n",
              "      <td>128424.0</td>\n",
              "      <td>2491.0</td>\n",
              "    </tr>\n",
              "  </tbody>\n",
              "</table>\n",
              "</div>"
            ],
            "text/plain": [
              "               odometer_km   price\n",
              "audi              129240.0  9376.0\n",
              "mercedes_benz     131243.0  8566.0\n",
              "bmw               132790.0  8384.0\n",
              "volkswagen        128839.0  5629.0\n",
              "seat              121537.0  4433.0\n",
              "ford              124980.0  3846.0\n",
              "peugeot           127184.0  3108.0\n",
              "opel              129465.0  3003.0\n",
              "fiat              117237.0  2805.0\n",
              "renault           128424.0  2491.0"
            ]
          },
          "metadata": {
            "tags": []
          },
          "execution_count": 49
        }
      ]
    },
    {
      "cell_type": "code",
      "metadata": {
        "id": "V1aylyEVwNID",
        "colab_type": "code",
        "colab": {
          "base_uri": "https://localhost:8080/",
          "height": 221
        },
        "outputId": "66095ca6-3c3c-4aed-86c5-a20b0d9c14ac"
      },
      "source": [
        "autos.groupby(\"brand\")[\"model\"].value_counts(dropna = False).sort_values(ascending = False).head(10)"
      ],
      "execution_count": 50,
      "outputs": [
        {
          "output_type": "execute_result",
          "data": {
            "text/plain": [
              "brand          model   \n",
              "volkswagen     golf        3684\n",
              "bmw            3er         2602\n",
              "volkswagen     polo        1592\n",
              "opel           corsa       1567\n",
              "volkswagen     passat      1345\n",
              "opel           astra       1337\n",
              "audi           a4          1226\n",
              "mercedes_benz  c_klasse    1135\n",
              "bmw            5er         1123\n",
              "mercedes_benz  e_klasse     953\n",
              "Name: model, dtype: int64"
            ]
          },
          "metadata": {
            "tags": []
          },
          "execution_count": 50
        }
      ]
    },
    {
      "cell_type": "code",
      "metadata": {
        "id": "NCoqKqhGxMuP",
        "colab_type": "code",
        "colab": {
          "base_uri": "https://localhost:8080/",
          "height": 483
        },
        "outputId": "42e955b9-9331-4051-b2af-946401bc428b"
      },
      "source": [
        "autos.groupby(\"odometer_km\")[\"brand\"].describe().sort_index().round(1)"
      ],
      "execution_count": 51,
      "outputs": [
        {
          "output_type": "execute_result",
          "data": {
            "text/html": [
              "<div>\n",
              "<style scoped>\n",
              "    .dataframe tbody tr th:only-of-type {\n",
              "        vertical-align: middle;\n",
              "    }\n",
              "\n",
              "    .dataframe tbody tr th {\n",
              "        vertical-align: top;\n",
              "    }\n",
              "\n",
              "    .dataframe thead th {\n",
              "        text-align: right;\n",
              "    }\n",
              "</style>\n",
              "<table border=\"1\" class=\"dataframe\">\n",
              "  <thead>\n",
              "    <tr style=\"text-align: right;\">\n",
              "      <th></th>\n",
              "      <th>count</th>\n",
              "      <th>unique</th>\n",
              "      <th>top</th>\n",
              "      <th>freq</th>\n",
              "    </tr>\n",
              "    <tr>\n",
              "      <th>odometer_km</th>\n",
              "      <th></th>\n",
              "      <th></th>\n",
              "      <th></th>\n",
              "      <th></th>\n",
              "    </tr>\n",
              "  </thead>\n",
              "  <tbody>\n",
              "    <tr>\n",
              "      <th>5000</th>\n",
              "      <td>681</td>\n",
              "      <td>38</td>\n",
              "      <td>volkswagen</td>\n",
              "      <td>141</td>\n",
              "    </tr>\n",
              "    <tr>\n",
              "      <th>10000</th>\n",
              "      <td>229</td>\n",
              "      <td>25</td>\n",
              "      <td>volkswagen</td>\n",
              "      <td>47</td>\n",
              "    </tr>\n",
              "    <tr>\n",
              "      <th>20000</th>\n",
              "      <td>731</td>\n",
              "      <td>35</td>\n",
              "      <td>volkswagen</td>\n",
              "      <td>135</td>\n",
              "    </tr>\n",
              "    <tr>\n",
              "      <th>30000</th>\n",
              "      <td>752</td>\n",
              "      <td>33</td>\n",
              "      <td>volkswagen</td>\n",
              "      <td>164</td>\n",
              "    </tr>\n",
              "    <tr>\n",
              "      <th>40000</th>\n",
              "      <td>790</td>\n",
              "      <td>34</td>\n",
              "      <td>volkswagen</td>\n",
              "      <td>143</td>\n",
              "    </tr>\n",
              "    <tr>\n",
              "      <th>50000</th>\n",
              "      <td>979</td>\n",
              "      <td>38</td>\n",
              "      <td>volkswagen</td>\n",
              "      <td>183</td>\n",
              "    </tr>\n",
              "    <tr>\n",
              "      <th>60000</th>\n",
              "      <td>1111</td>\n",
              "      <td>39</td>\n",
              "      <td>volkswagen</td>\n",
              "      <td>206</td>\n",
              "    </tr>\n",
              "    <tr>\n",
              "      <th>70000</th>\n",
              "      <td>1171</td>\n",
              "      <td>39</td>\n",
              "      <td>volkswagen</td>\n",
              "      <td>206</td>\n",
              "    </tr>\n",
              "    <tr>\n",
              "      <th>80000</th>\n",
              "      <td>1362</td>\n",
              "      <td>38</td>\n",
              "      <td>volkswagen</td>\n",
              "      <td>249</td>\n",
              "    </tr>\n",
              "    <tr>\n",
              "      <th>90000</th>\n",
              "      <td>1660</td>\n",
              "      <td>39</td>\n",
              "      <td>volkswagen</td>\n",
              "      <td>287</td>\n",
              "    </tr>\n",
              "    <tr>\n",
              "      <th>100000</th>\n",
              "      <td>2024</td>\n",
              "      <td>39</td>\n",
              "      <td>volkswagen</td>\n",
              "      <td>364</td>\n",
              "    </tr>\n",
              "    <tr>\n",
              "      <th>125000</th>\n",
              "      <td>4829</td>\n",
              "      <td>40</td>\n",
              "      <td>volkswagen</td>\n",
              "      <td>838</td>\n",
              "    </tr>\n",
              "    <tr>\n",
              "      <th>150000</th>\n",
              "      <td>29851</td>\n",
              "      <td>40</td>\n",
              "      <td>volkswagen</td>\n",
              "      <td>6824</td>\n",
              "    </tr>\n",
              "  </tbody>\n",
              "</table>\n",
              "</div>"
            ],
            "text/plain": [
              "             count unique         top  freq\n",
              "odometer_km                                \n",
              "5000           681     38  volkswagen   141\n",
              "10000          229     25  volkswagen    47\n",
              "20000          731     35  volkswagen   135\n",
              "30000          752     33  volkswagen   164\n",
              "40000          790     34  volkswagen   143\n",
              "50000          979     38  volkswagen   183\n",
              "60000         1111     39  volkswagen   206\n",
              "70000         1171     39  volkswagen   206\n",
              "80000         1362     38  volkswagen   249\n",
              "90000         1660     39  volkswagen   287\n",
              "100000        2024     39  volkswagen   364\n",
              "125000        4829     40  volkswagen   838\n",
              "150000       29851     40  volkswagen  6824"
            ]
          },
          "metadata": {
            "tags": []
          },
          "execution_count": 51
        }
      ]
    },
    {
      "cell_type": "code",
      "metadata": {
        "id": "WmaosYzrxQK0",
        "colab_type": "code",
        "colab": {
          "base_uri": "https://localhost:8080/",
          "height": 1000
        },
        "outputId": "ee8791c6-5a7c-4608-bbc2-50b1c4df9568"
      },
      "source": [
        "autos.groupby(\"brand\")[\"odometer_km\"].describe().sort_index().round(1)"
      ],
      "execution_count": 52,
      "outputs": [
        {
          "output_type": "execute_result",
          "data": {
            "text/html": [
              "<div>\n",
              "<style scoped>\n",
              "    .dataframe tbody tr th:only-of-type {\n",
              "        vertical-align: middle;\n",
              "    }\n",
              "\n",
              "    .dataframe tbody tr th {\n",
              "        vertical-align: top;\n",
              "    }\n",
              "\n",
              "    .dataframe thead th {\n",
              "        text-align: right;\n",
              "    }\n",
              "</style>\n",
              "<table border=\"1\" class=\"dataframe\">\n",
              "  <thead>\n",
              "    <tr style=\"text-align: right;\">\n",
              "      <th></th>\n",
              "      <th>count</th>\n",
              "      <th>mean</th>\n",
              "      <th>std</th>\n",
              "      <th>min</th>\n",
              "      <th>25%</th>\n",
              "      <th>50%</th>\n",
              "      <th>75%</th>\n",
              "      <th>max</th>\n",
              "    </tr>\n",
              "    <tr>\n",
              "      <th>brand</th>\n",
              "      <th></th>\n",
              "      <th></th>\n",
              "      <th></th>\n",
              "      <th></th>\n",
              "      <th></th>\n",
              "      <th></th>\n",
              "      <th></th>\n",
              "      <th></th>\n",
              "    </tr>\n",
              "  </thead>\n",
              "  <tbody>\n",
              "    <tr>\n",
              "      <th>alfa_romeo</th>\n",
              "      <td>307.0</td>\n",
              "      <td>132573.3</td>\n",
              "      <td>32745.7</td>\n",
              "      <td>5000.0</td>\n",
              "      <td>125000.0</td>\n",
              "      <td>150000.0</td>\n",
              "      <td>150000.0</td>\n",
              "      <td>150000.0</td>\n",
              "    </tr>\n",
              "    <tr>\n",
              "      <th>audi</th>\n",
              "      <td>4021.0</td>\n",
              "      <td>129240.2</td>\n",
              "      <td>38747.2</td>\n",
              "      <td>5000.0</td>\n",
              "      <td>125000.0</td>\n",
              "      <td>150000.0</td>\n",
              "      <td>150000.0</td>\n",
              "      <td>150000.0</td>\n",
              "    </tr>\n",
              "    <tr>\n",
              "      <th>bmw</th>\n",
              "      <td>5102.0</td>\n",
              "      <td>132790.1</td>\n",
              "      <td>34493.3</td>\n",
              "      <td>5000.0</td>\n",
              "      <td>125000.0</td>\n",
              "      <td>150000.0</td>\n",
              "      <td>150000.0</td>\n",
              "      <td>150000.0</td>\n",
              "    </tr>\n",
              "    <tr>\n",
              "      <th>chevrolet</th>\n",
              "      <td>256.0</td>\n",
              "      <td>99882.8</td>\n",
              "      <td>45460.5</td>\n",
              "      <td>5000.0</td>\n",
              "      <td>60000.0</td>\n",
              "      <td>100000.0</td>\n",
              "      <td>150000.0</td>\n",
              "      <td>150000.0</td>\n",
              "    </tr>\n",
              "    <tr>\n",
              "      <th>chrysler</th>\n",
              "      <td>161.0</td>\n",
              "      <td>133882.0</td>\n",
              "      <td>33976.0</td>\n",
              "      <td>5000.0</td>\n",
              "      <td>150000.0</td>\n",
              "      <td>150000.0</td>\n",
              "      <td>150000.0</td>\n",
              "      <td>150000.0</td>\n",
              "    </tr>\n",
              "    <tr>\n",
              "      <th>citroen</th>\n",
              "      <td>649.0</td>\n",
              "      <td>119537.8</td>\n",
              "      <td>40190.7</td>\n",
              "      <td>5000.0</td>\n",
              "      <td>90000.0</td>\n",
              "      <td>150000.0</td>\n",
              "      <td>150000.0</td>\n",
              "      <td>150000.0</td>\n",
              "    </tr>\n",
              "    <tr>\n",
              "      <th>dacia</th>\n",
              "      <td>123.0</td>\n",
              "      <td>84268.3</td>\n",
              "      <td>48085.0</td>\n",
              "      <td>5000.0</td>\n",
              "      <td>40000.0</td>\n",
              "      <td>80000.0</td>\n",
              "      <td>125000.0</td>\n",
              "      <td>150000.0</td>\n",
              "    </tr>\n",
              "    <tr>\n",
              "      <th>daewoo</th>\n",
              "      <td>69.0</td>\n",
              "      <td>121231.9</td>\n",
              "      <td>37957.1</td>\n",
              "      <td>5000.0</td>\n",
              "      <td>90000.0</td>\n",
              "      <td>150000.0</td>\n",
              "      <td>150000.0</td>\n",
              "      <td>150000.0</td>\n",
              "    </tr>\n",
              "    <tr>\n",
              "      <th>daihatsu</th>\n",
              "      <td>116.0</td>\n",
              "      <td>116120.7</td>\n",
              "      <td>42616.0</td>\n",
              "      <td>5000.0</td>\n",
              "      <td>90000.0</td>\n",
              "      <td>125000.0</td>\n",
              "      <td>150000.0</td>\n",
              "      <td>150000.0</td>\n",
              "    </tr>\n",
              "    <tr>\n",
              "      <th>fiat</th>\n",
              "      <td>1180.0</td>\n",
              "      <td>117237.3</td>\n",
              "      <td>42417.8</td>\n",
              "      <td>5000.0</td>\n",
              "      <td>90000.0</td>\n",
              "      <td>150000.0</td>\n",
              "      <td>150000.0</td>\n",
              "      <td>150000.0</td>\n",
              "    </tr>\n",
              "    <tr>\n",
              "      <th>ford</th>\n",
              "      <td>3198.0</td>\n",
              "      <td>124979.7</td>\n",
              "      <td>39124.7</td>\n",
              "      <td>5000.0</td>\n",
              "      <td>100000.0</td>\n",
              "      <td>150000.0</td>\n",
              "      <td>150000.0</td>\n",
              "      <td>150000.0</td>\n",
              "    </tr>\n",
              "    <tr>\n",
              "      <th>honda</th>\n",
              "      <td>365.0</td>\n",
              "      <td>122493.2</td>\n",
              "      <td>40206.6</td>\n",
              "      <td>5000.0</td>\n",
              "      <td>100000.0</td>\n",
              "      <td>150000.0</td>\n",
              "      <td>150000.0</td>\n",
              "      <td>150000.0</td>\n",
              "    </tr>\n",
              "    <tr>\n",
              "      <th>hyundai</th>\n",
              "      <td>464.0</td>\n",
              "      <td>106885.8</td>\n",
              "      <td>44894.3</td>\n",
              "      <td>5000.0</td>\n",
              "      <td>70000.0</td>\n",
              "      <td>125000.0</td>\n",
              "      <td>150000.0</td>\n",
              "      <td>150000.0</td>\n",
              "    </tr>\n",
              "    <tr>\n",
              "      <th>jaguar</th>\n",
              "      <td>69.0</td>\n",
              "      <td>125724.6</td>\n",
              "      <td>38139.4</td>\n",
              "      <td>5000.0</td>\n",
              "      <td>100000.0</td>\n",
              "      <td>150000.0</td>\n",
              "      <td>150000.0</td>\n",
              "      <td>150000.0</td>\n",
              "    </tr>\n",
              "    <tr>\n",
              "      <th>jeep</th>\n",
              "      <td>106.0</td>\n",
              "      <td>127122.6</td>\n",
              "      <td>38612.5</td>\n",
              "      <td>5000.0</td>\n",
              "      <td>125000.0</td>\n",
              "      <td>150000.0</td>\n",
              "      <td>150000.0</td>\n",
              "      <td>150000.0</td>\n",
              "    </tr>\n",
              "    <tr>\n",
              "      <th>kia</th>\n",
              "      <td>328.0</td>\n",
              "      <td>112301.8</td>\n",
              "      <td>45192.0</td>\n",
              "      <td>5000.0</td>\n",
              "      <td>80000.0</td>\n",
              "      <td>125000.0</td>\n",
              "      <td>150000.0</td>\n",
              "      <td>150000.0</td>\n",
              "    </tr>\n",
              "    <tr>\n",
              "      <th>lada</th>\n",
              "      <td>27.0</td>\n",
              "      <td>83518.5</td>\n",
              "      <td>38774.9</td>\n",
              "      <td>5000.0</td>\n",
              "      <td>70000.0</td>\n",
              "      <td>80000.0</td>\n",
              "      <td>100000.0</td>\n",
              "      <td>150000.0</td>\n",
              "    </tr>\n",
              "    <tr>\n",
              "      <th>lancia</th>\n",
              "      <td>49.0</td>\n",
              "      <td>122346.9</td>\n",
              "      <td>40454.5</td>\n",
              "      <td>5000.0</td>\n",
              "      <td>100000.0</td>\n",
              "      <td>150000.0</td>\n",
              "      <td>150000.0</td>\n",
              "      <td>150000.0</td>\n",
              "    </tr>\n",
              "    <tr>\n",
              "      <th>land_rover</th>\n",
              "      <td>96.0</td>\n",
              "      <td>118489.6</td>\n",
              "      <td>46843.1</td>\n",
              "      <td>5000.0</td>\n",
              "      <td>87500.0</td>\n",
              "      <td>150000.0</td>\n",
              "      <td>150000.0</td>\n",
              "      <td>150000.0</td>\n",
              "    </tr>\n",
              "    <tr>\n",
              "      <th>mazda</th>\n",
              "      <td>706.0</td>\n",
              "      <td>124553.8</td>\n",
              "      <td>39867.4</td>\n",
              "      <td>5000.0</td>\n",
              "      <td>125000.0</td>\n",
              "      <td>150000.0</td>\n",
              "      <td>150000.0</td>\n",
              "      <td>150000.0</td>\n",
              "    </tr>\n",
              "    <tr>\n",
              "      <th>mercedes_benz</th>\n",
              "      <td>4458.0</td>\n",
              "      <td>131242.7</td>\n",
              "      <td>35755.5</td>\n",
              "      <td>5000.0</td>\n",
              "      <td>125000.0</td>\n",
              "      <td>150000.0</td>\n",
              "      <td>150000.0</td>\n",
              "      <td>150000.0</td>\n",
              "    </tr>\n",
              "    <tr>\n",
              "      <th>mini</th>\n",
              "      <td>408.0</td>\n",
              "      <td>88308.8</td>\n",
              "      <td>43710.9</td>\n",
              "      <td>5000.0</td>\n",
              "      <td>50000.0</td>\n",
              "      <td>90000.0</td>\n",
              "      <td>125000.0</td>\n",
              "      <td>150000.0</td>\n",
              "    </tr>\n",
              "    <tr>\n",
              "      <th>mitsubishi</th>\n",
              "      <td>379.0</td>\n",
              "      <td>127097.6</td>\n",
              "      <td>38261.1</td>\n",
              "      <td>5000.0</td>\n",
              "      <td>125000.0</td>\n",
              "      <td>150000.0</td>\n",
              "      <td>150000.0</td>\n",
              "      <td>150000.0</td>\n",
              "    </tr>\n",
              "    <tr>\n",
              "      <th>nissan</th>\n",
              "      <td>711.0</td>\n",
              "      <td>118326.3</td>\n",
              "      <td>41675.4</td>\n",
              "      <td>5000.0</td>\n",
              "      <td>90000.0</td>\n",
              "      <td>150000.0</td>\n",
              "      <td>150000.0</td>\n",
              "      <td>150000.0</td>\n",
              "    </tr>\n",
              "    <tr>\n",
              "      <th>opel</th>\n",
              "      <td>4962.0</td>\n",
              "      <td>129464.9</td>\n",
              "      <td>36924.7</td>\n",
              "      <td>5000.0</td>\n",
              "      <td>125000.0</td>\n",
              "      <td>150000.0</td>\n",
              "      <td>150000.0</td>\n",
              "      <td>150000.0</td>\n",
              "    </tr>\n",
              "    <tr>\n",
              "      <th>peugeot</th>\n",
              "      <td>1383.0</td>\n",
              "      <td>127183.7</td>\n",
              "      <td>35962.1</td>\n",
              "      <td>5000.0</td>\n",
              "      <td>112500.0</td>\n",
              "      <td>150000.0</td>\n",
              "      <td>150000.0</td>\n",
              "      <td>150000.0</td>\n",
              "    </tr>\n",
              "    <tr>\n",
              "      <th>porsche</th>\n",
              "      <td>273.0</td>\n",
              "      <td>99029.3</td>\n",
              "      <td>48196.1</td>\n",
              "      <td>5000.0</td>\n",
              "      <td>60000.0</td>\n",
              "      <td>100000.0</td>\n",
              "      <td>150000.0</td>\n",
              "      <td>150000.0</td>\n",
              "    </tr>\n",
              "    <tr>\n",
              "      <th>renault</th>\n",
              "      <td>2179.0</td>\n",
              "      <td>128423.6</td>\n",
              "      <td>36638.5</td>\n",
              "      <td>5000.0</td>\n",
              "      <td>125000.0</td>\n",
              "      <td>150000.0</td>\n",
              "      <td>150000.0</td>\n",
              "      <td>150000.0</td>\n",
              "    </tr>\n",
              "    <tr>\n",
              "      <th>rover</th>\n",
              "      <td>62.0</td>\n",
              "      <td>137661.3</td>\n",
              "      <td>26699.9</td>\n",
              "      <td>40000.0</td>\n",
              "      <td>150000.0</td>\n",
              "      <td>150000.0</td>\n",
              "      <td>150000.0</td>\n",
              "      <td>150000.0</td>\n",
              "    </tr>\n",
              "    <tr>\n",
              "      <th>saab</th>\n",
              "      <td>77.0</td>\n",
              "      <td>144415.6</td>\n",
              "      <td>22197.9</td>\n",
              "      <td>20000.0</td>\n",
              "      <td>150000.0</td>\n",
              "      <td>150000.0</td>\n",
              "      <td>150000.0</td>\n",
              "      <td>150000.0</td>\n",
              "    </tr>\n",
              "    <tr>\n",
              "      <th>seat</th>\n",
              "      <td>846.0</td>\n",
              "      <td>121536.6</td>\n",
              "      <td>40847.6</td>\n",
              "      <td>5000.0</td>\n",
              "      <td>100000.0</td>\n",
              "      <td>150000.0</td>\n",
              "      <td>150000.0</td>\n",
              "      <td>150000.0</td>\n",
              "    </tr>\n",
              "    <tr>\n",
              "      <th>skoda</th>\n",
              "      <td>759.0</td>\n",
              "      <td>111014.5</td>\n",
              "      <td>45710.7</td>\n",
              "      <td>5000.0</td>\n",
              "      <td>80000.0</td>\n",
              "      <td>125000.0</td>\n",
              "      <td>150000.0</td>\n",
              "      <td>150000.0</td>\n",
              "    </tr>\n",
              "    <tr>\n",
              "      <th>smart</th>\n",
              "      <td>658.0</td>\n",
              "      <td>99734.0</td>\n",
              "      <td>41866.3</td>\n",
              "      <td>5000.0</td>\n",
              "      <td>60000.0</td>\n",
              "      <td>100000.0</td>\n",
              "      <td>150000.0</td>\n",
              "      <td>150000.0</td>\n",
              "    </tr>\n",
              "    <tr>\n",
              "      <th>sonstige_autos</th>\n",
              "      <td>399.0</td>\n",
              "      <td>92042.6</td>\n",
              "      <td>55285.0</td>\n",
              "      <td>5000.0</td>\n",
              "      <td>40000.0</td>\n",
              "      <td>100000.0</td>\n",
              "      <td>150000.0</td>\n",
              "      <td>150000.0</td>\n",
              "    </tr>\n",
              "    <tr>\n",
              "      <th>subaru</th>\n",
              "      <td>98.0</td>\n",
              "      <td>125612.2</td>\n",
              "      <td>39029.9</td>\n",
              "      <td>5000.0</td>\n",
              "      <td>100000.0</td>\n",
              "      <td>150000.0</td>\n",
              "      <td>150000.0</td>\n",
              "      <td>150000.0</td>\n",
              "    </tr>\n",
              "    <tr>\n",
              "      <th>suzuki</th>\n",
              "      <td>275.0</td>\n",
              "      <td>108163.6</td>\n",
              "      <td>43020.0</td>\n",
              "      <td>5000.0</td>\n",
              "      <td>80000.0</td>\n",
              "      <td>125000.0</td>\n",
              "      <td>150000.0</td>\n",
              "      <td>150000.0</td>\n",
              "    </tr>\n",
              "    <tr>\n",
              "      <th>toyota</th>\n",
              "      <td>593.0</td>\n",
              "      <td>115944.4</td>\n",
              "      <td>41846.5</td>\n",
              "      <td>5000.0</td>\n",
              "      <td>90000.0</td>\n",
              "      <td>125000.0</td>\n",
              "      <td>150000.0</td>\n",
              "      <td>150000.0</td>\n",
              "    </tr>\n",
              "    <tr>\n",
              "      <th>trabant</th>\n",
              "      <td>54.0</td>\n",
              "      <td>54722.2</td>\n",
              "      <td>36709.2</td>\n",
              "      <td>5000.0</td>\n",
              "      <td>22500.0</td>\n",
              "      <td>60000.0</td>\n",
              "      <td>70000.0</td>\n",
              "      <td>150000.0</td>\n",
              "    </tr>\n",
              "    <tr>\n",
              "      <th>volkswagen</th>\n",
              "      <td>9787.0</td>\n",
              "      <td>128838.8</td>\n",
              "      <td>38334.1</td>\n",
              "      <td>5000.0</td>\n",
              "      <td>125000.0</td>\n",
              "      <td>150000.0</td>\n",
              "      <td>150000.0</td>\n",
              "      <td>150000.0</td>\n",
              "    </tr>\n",
              "    <tr>\n",
              "      <th>volvo</th>\n",
              "      <td>417.0</td>\n",
              "      <td>139244.6</td>\n",
              "      <td>27795.1</td>\n",
              "      <td>5000.0</td>\n",
              "      <td>150000.0</td>\n",
              "      <td>150000.0</td>\n",
              "      <td>150000.0</td>\n",
              "      <td>150000.0</td>\n",
              "    </tr>\n",
              "  </tbody>\n",
              "</table>\n",
              "</div>"
            ],
            "text/plain": [
              "                 count      mean      std  ...       50%       75%       max\n",
              "brand                                      ...                              \n",
              "alfa_romeo       307.0  132573.3  32745.7  ...  150000.0  150000.0  150000.0\n",
              "audi            4021.0  129240.2  38747.2  ...  150000.0  150000.0  150000.0\n",
              "bmw             5102.0  132790.1  34493.3  ...  150000.0  150000.0  150000.0\n",
              "chevrolet        256.0   99882.8  45460.5  ...  100000.0  150000.0  150000.0\n",
              "chrysler         161.0  133882.0  33976.0  ...  150000.0  150000.0  150000.0\n",
              "citroen          649.0  119537.8  40190.7  ...  150000.0  150000.0  150000.0\n",
              "dacia            123.0   84268.3  48085.0  ...   80000.0  125000.0  150000.0\n",
              "daewoo            69.0  121231.9  37957.1  ...  150000.0  150000.0  150000.0\n",
              "daihatsu         116.0  116120.7  42616.0  ...  125000.0  150000.0  150000.0\n",
              "fiat            1180.0  117237.3  42417.8  ...  150000.0  150000.0  150000.0\n",
              "ford            3198.0  124979.7  39124.7  ...  150000.0  150000.0  150000.0\n",
              "honda            365.0  122493.2  40206.6  ...  150000.0  150000.0  150000.0\n",
              "hyundai          464.0  106885.8  44894.3  ...  125000.0  150000.0  150000.0\n",
              "jaguar            69.0  125724.6  38139.4  ...  150000.0  150000.0  150000.0\n",
              "jeep             106.0  127122.6  38612.5  ...  150000.0  150000.0  150000.0\n",
              "kia              328.0  112301.8  45192.0  ...  125000.0  150000.0  150000.0\n",
              "lada              27.0   83518.5  38774.9  ...   80000.0  100000.0  150000.0\n",
              "lancia            49.0  122346.9  40454.5  ...  150000.0  150000.0  150000.0\n",
              "land_rover        96.0  118489.6  46843.1  ...  150000.0  150000.0  150000.0\n",
              "mazda            706.0  124553.8  39867.4  ...  150000.0  150000.0  150000.0\n",
              "mercedes_benz   4458.0  131242.7  35755.5  ...  150000.0  150000.0  150000.0\n",
              "mini             408.0   88308.8  43710.9  ...   90000.0  125000.0  150000.0\n",
              "mitsubishi       379.0  127097.6  38261.1  ...  150000.0  150000.0  150000.0\n",
              "nissan           711.0  118326.3  41675.4  ...  150000.0  150000.0  150000.0\n",
              "opel            4962.0  129464.9  36924.7  ...  150000.0  150000.0  150000.0\n",
              "peugeot         1383.0  127183.7  35962.1  ...  150000.0  150000.0  150000.0\n",
              "porsche          273.0   99029.3  48196.1  ...  100000.0  150000.0  150000.0\n",
              "renault         2179.0  128423.6  36638.5  ...  150000.0  150000.0  150000.0\n",
              "rover             62.0  137661.3  26699.9  ...  150000.0  150000.0  150000.0\n",
              "saab              77.0  144415.6  22197.9  ...  150000.0  150000.0  150000.0\n",
              "seat             846.0  121536.6  40847.6  ...  150000.0  150000.0  150000.0\n",
              "skoda            759.0  111014.5  45710.7  ...  125000.0  150000.0  150000.0\n",
              "smart            658.0   99734.0  41866.3  ...  100000.0  150000.0  150000.0\n",
              "sonstige_autos   399.0   92042.6  55285.0  ...  100000.0  150000.0  150000.0\n",
              "subaru            98.0  125612.2  39029.9  ...  150000.0  150000.0  150000.0\n",
              "suzuki           275.0  108163.6  43020.0  ...  125000.0  150000.0  150000.0\n",
              "toyota           593.0  115944.4  41846.5  ...  125000.0  150000.0  150000.0\n",
              "trabant           54.0   54722.2  36709.2  ...   60000.0   70000.0  150000.0\n",
              "volkswagen      9787.0  128838.8  38334.1  ...  150000.0  150000.0  150000.0\n",
              "volvo            417.0  139244.6  27795.1  ...  150000.0  150000.0  150000.0\n",
              "\n",
              "[40 rows x 8 columns]"
            ]
          },
          "metadata": {
            "tags": []
          },
          "execution_count": 52
        }
      ]
    },
    {
      "cell_type": "code",
      "metadata": {
        "id": "TlIx5jPpxi77",
        "colab_type": "code",
        "colab": {
          "base_uri": "https://localhost:8080/",
          "height": 483
        },
        "outputId": "dcb97c46-4a8b-4001-9997-e4a42dc7703d"
      },
      "source": [
        "autos.groupby(\"odometer_km\")[\"price\"].describe().sort_index().round(1)"
      ],
      "execution_count": 53,
      "outputs": [
        {
          "output_type": "execute_result",
          "data": {
            "text/html": [
              "<div>\n",
              "<style scoped>\n",
              "    .dataframe tbody tr th:only-of-type {\n",
              "        vertical-align: middle;\n",
              "    }\n",
              "\n",
              "    .dataframe tbody tr th {\n",
              "        vertical-align: top;\n",
              "    }\n",
              "\n",
              "    .dataframe thead th {\n",
              "        text-align: right;\n",
              "    }\n",
              "</style>\n",
              "<table border=\"1\" class=\"dataframe\">\n",
              "  <thead>\n",
              "    <tr style=\"text-align: right;\">\n",
              "      <th></th>\n",
              "      <th>count</th>\n",
              "      <th>mean</th>\n",
              "      <th>std</th>\n",
              "      <th>min</th>\n",
              "      <th>25%</th>\n",
              "      <th>50%</th>\n",
              "      <th>75%</th>\n",
              "      <th>max</th>\n",
              "    </tr>\n",
              "    <tr>\n",
              "      <th>odometer_km</th>\n",
              "      <th></th>\n",
              "      <th></th>\n",
              "      <th></th>\n",
              "      <th></th>\n",
              "      <th></th>\n",
              "      <th></th>\n",
              "      <th></th>\n",
              "      <th></th>\n",
              "    </tr>\n",
              "  </thead>\n",
              "  <tbody>\n",
              "    <tr>\n",
              "      <th>5000</th>\n",
              "      <td>681.0</td>\n",
              "      <td>9563.6</td>\n",
              "      <td>27988.3</td>\n",
              "      <td>100.0</td>\n",
              "      <td>650.0</td>\n",
              "      <td>2000.0</td>\n",
              "      <td>7950.0</td>\n",
              "      <td>350000.0</td>\n",
              "    </tr>\n",
              "    <tr>\n",
              "      <th>10000</th>\n",
              "      <td>229.0</td>\n",
              "      <td>21420.5</td>\n",
              "      <td>21150.8</td>\n",
              "      <td>190.0</td>\n",
              "      <td>8799.0</td>\n",
              "      <td>16900.0</td>\n",
              "      <td>27777.0</td>\n",
              "      <td>163991.0</td>\n",
              "    </tr>\n",
              "    <tr>\n",
              "      <th>20000</th>\n",
              "      <td>731.0</td>\n",
              "      <td>18430.8</td>\n",
              "      <td>23273.9</td>\n",
              "      <td>100.0</td>\n",
              "      <td>6850.0</td>\n",
              "      <td>14400.0</td>\n",
              "      <td>24200.0</td>\n",
              "      <td>345000.0</td>\n",
              "    </tr>\n",
              "    <tr>\n",
              "      <th>30000</th>\n",
              "      <td>752.0</td>\n",
              "      <td>16731.9</td>\n",
              "      <td>16908.3</td>\n",
              "      <td>100.0</td>\n",
              "      <td>7187.5</td>\n",
              "      <td>12830.0</td>\n",
              "      <td>21922.5</td>\n",
              "      <td>220000.0</td>\n",
              "    </tr>\n",
              "    <tr>\n",
              "      <th>40000</th>\n",
              "      <td>790.0</td>\n",
              "      <td>15468.5</td>\n",
              "      <td>13659.5</td>\n",
              "      <td>120.0</td>\n",
              "      <td>7000.0</td>\n",
              "      <td>12422.5</td>\n",
              "      <td>19995.0</td>\n",
              "      <td>169999.0</td>\n",
              "    </tr>\n",
              "    <tr>\n",
              "      <th>50000</th>\n",
              "      <td>979.0</td>\n",
              "      <td>13721.1</td>\n",
              "      <td>12219.5</td>\n",
              "      <td>139.0</td>\n",
              "      <td>5990.0</td>\n",
              "      <td>10500.0</td>\n",
              "      <td>17970.0</td>\n",
              "      <td>180000.0</td>\n",
              "    </tr>\n",
              "    <tr>\n",
              "      <th>60000</th>\n",
              "      <td>1111.0</td>\n",
              "      <td>12352.2</td>\n",
              "      <td>12875.5</td>\n",
              "      <td>100.0</td>\n",
              "      <td>4850.0</td>\n",
              "      <td>9200.0</td>\n",
              "      <td>16000.0</td>\n",
              "      <td>190000.0</td>\n",
              "    </tr>\n",
              "    <tr>\n",
              "      <th>70000</th>\n",
              "      <td>1171.0</td>\n",
              "      <td>10893.8</td>\n",
              "      <td>9226.9</td>\n",
              "      <td>100.0</td>\n",
              "      <td>4264.5</td>\n",
              "      <td>8250.0</td>\n",
              "      <td>15000.0</td>\n",
              "      <td>63999.0</td>\n",
              "    </tr>\n",
              "    <tr>\n",
              "      <th>80000</th>\n",
              "      <td>1362.0</td>\n",
              "      <td>9731.2</td>\n",
              "      <td>8855.9</td>\n",
              "      <td>100.0</td>\n",
              "      <td>3712.5</td>\n",
              "      <td>7499.0</td>\n",
              "      <td>13000.0</td>\n",
              "      <td>105000.0</td>\n",
              "    </tr>\n",
              "    <tr>\n",
              "      <th>90000</th>\n",
              "      <td>1660.0</td>\n",
              "      <td>8392.9</td>\n",
              "      <td>8247.5</td>\n",
              "      <td>100.0</td>\n",
              "      <td>2700.0</td>\n",
              "      <td>5990.0</td>\n",
              "      <td>11412.5</td>\n",
              "      <td>69997.0</td>\n",
              "    </tr>\n",
              "    <tr>\n",
              "      <th>100000</th>\n",
              "      <td>2024.0</td>\n",
              "      <td>8069.7</td>\n",
              "      <td>10567.4</td>\n",
              "      <td>100.0</td>\n",
              "      <td>2400.0</td>\n",
              "      <td>5600.0</td>\n",
              "      <td>10700.0</td>\n",
              "      <td>299000.0</td>\n",
              "    </tr>\n",
              "    <tr>\n",
              "      <th>125000</th>\n",
              "      <td>4829.0</td>\n",
              "      <td>6435.2</td>\n",
              "      <td>15966.0</td>\n",
              "      <td>100.0</td>\n",
              "      <td>1800.0</td>\n",
              "      <td>4000.0</td>\n",
              "      <td>8450.0</td>\n",
              "      <td>999999.0</td>\n",
              "    </tr>\n",
              "    <tr>\n",
              "      <th>150000</th>\n",
              "      <td>29851.0</td>\n",
              "      <td>3845.4</td>\n",
              "      <td>9429.6</td>\n",
              "      <td>100.0</td>\n",
              "      <td>999.0</td>\n",
              "      <td>2200.0</td>\n",
              "      <td>4800.0</td>\n",
              "      <td>999999.0</td>\n",
              "    </tr>\n",
              "  </tbody>\n",
              "</table>\n",
              "</div>"
            ],
            "text/plain": [
              "               count     mean      std  ...      50%      75%       max\n",
              "odometer_km                             ...                            \n",
              "5000           681.0   9563.6  27988.3  ...   2000.0   7950.0  350000.0\n",
              "10000          229.0  21420.5  21150.8  ...  16900.0  27777.0  163991.0\n",
              "20000          731.0  18430.8  23273.9  ...  14400.0  24200.0  345000.0\n",
              "30000          752.0  16731.9  16908.3  ...  12830.0  21922.5  220000.0\n",
              "40000          790.0  15468.5  13659.5  ...  12422.5  19995.0  169999.0\n",
              "50000          979.0  13721.1  12219.5  ...  10500.0  17970.0  180000.0\n",
              "60000         1111.0  12352.2  12875.5  ...   9200.0  16000.0  190000.0\n",
              "70000         1171.0  10893.8   9226.9  ...   8250.0  15000.0   63999.0\n",
              "80000         1362.0   9731.2   8855.9  ...   7499.0  13000.0  105000.0\n",
              "90000         1660.0   8392.9   8247.5  ...   5990.0  11412.5   69997.0\n",
              "100000        2024.0   8069.7  10567.4  ...   5600.0  10700.0  299000.0\n",
              "125000        4829.0   6435.2  15966.0  ...   4000.0   8450.0  999999.0\n",
              "150000       29851.0   3845.4   9429.6  ...   2200.0   4800.0  999999.0\n",
              "\n",
              "[13 rows x 8 columns]"
            ]
          },
          "metadata": {
            "tags": []
          },
          "execution_count": 53
        }
      ]
    },
    {
      "cell_type": "markdown",
      "metadata": {
        "id": "bphKfCo7wRM6",
        "colab_type": "text"
      },
      "source": [
        "Brand Observations Final\n",
        "\n",
        "-Mercedes is the most expensive brand, C_klasse top model\n",
        "\n",
        "-Top 3 brands are Mercedes, audi, and bmw\n",
        "\n",
        "-Due to Volkswagen having a price that is an avg of the top 10, this \n",
        "might be a reason why it is the most sold brand. Top sold model is polo\n",
        "\n",
        "-The least expensive in the top 10 are fiat and renault\n",
        "\n",
        "-We can see that the higher milage, the less the price"
      ]
    },
    {
      "cell_type": "code",
      "metadata": {
        "id": "JI4ySghIwAW2",
        "colab_type": "code",
        "colab": {
          "base_uri": "https://localhost:8080/",
          "height": 359
        },
        "outputId": "6df90a5a-ce28-4132-b579-8be7134aa5a6"
      },
      "source": [
        "bmp_series = pd.Series(brand_mean_prices)\n",
        "pd.DataFrame(bmp_series, columns=[\"mean_price\"])"
      ],
      "execution_count": 54,
      "outputs": [
        {
          "output_type": "execute_result",
          "data": {
            "text/html": [
              "<div>\n",
              "<style scoped>\n",
              "    .dataframe tbody tr th:only-of-type {\n",
              "        vertical-align: middle;\n",
              "    }\n",
              "\n",
              "    .dataframe tbody tr th {\n",
              "        vertical-align: top;\n",
              "    }\n",
              "\n",
              "    .dataframe thead th {\n",
              "        text-align: right;\n",
              "    }\n",
              "</style>\n",
              "<table border=\"1\" class=\"dataframe\">\n",
              "  <thead>\n",
              "    <tr style=\"text-align: right;\">\n",
              "      <th></th>\n",
              "      <th>mean_price</th>\n",
              "    </tr>\n",
              "  </thead>\n",
              "  <tbody>\n",
              "    <tr>\n",
              "      <th>volkswagen</th>\n",
              "      <td>5629</td>\n",
              "    </tr>\n",
              "    <tr>\n",
              "      <th>bmw</th>\n",
              "      <td>8383</td>\n",
              "    </tr>\n",
              "    <tr>\n",
              "      <th>opel</th>\n",
              "      <td>3002</td>\n",
              "    </tr>\n",
              "    <tr>\n",
              "      <th>mercedes_benz</th>\n",
              "      <td>8565</td>\n",
              "    </tr>\n",
              "    <tr>\n",
              "      <th>audi</th>\n",
              "      <td>9375</td>\n",
              "    </tr>\n",
              "    <tr>\n",
              "      <th>ford</th>\n",
              "      <td>3846</td>\n",
              "    </tr>\n",
              "    <tr>\n",
              "      <th>renault</th>\n",
              "      <td>2491</td>\n",
              "    </tr>\n",
              "    <tr>\n",
              "      <th>peugeot</th>\n",
              "      <td>3108</td>\n",
              "    </tr>\n",
              "    <tr>\n",
              "      <th>fiat</th>\n",
              "      <td>2804</td>\n",
              "    </tr>\n",
              "    <tr>\n",
              "      <th>seat</th>\n",
              "      <td>4433</td>\n",
              "    </tr>\n",
              "  </tbody>\n",
              "</table>\n",
              "</div>"
            ],
            "text/plain": [
              "               mean_price\n",
              "volkswagen           5629\n",
              "bmw                  8383\n",
              "opel                 3002\n",
              "mercedes_benz        8565\n",
              "audi                 9375\n",
              "ford                 3846\n",
              "renault              2491\n",
              "peugeot              3108\n",
              "fiat                 2804\n",
              "seat                 4433"
            ]
          },
          "metadata": {
            "tags": []
          },
          "execution_count": 54
        }
      ]
    },
    {
      "cell_type": "code",
      "metadata": {
        "id": "vLbvDFLax4Xu",
        "colab_type": "code",
        "colab": {}
      },
      "source": [
        "\n",
        "brand_mean_mileage = {}\n",
        "\n",
        "for brand in common_brands:\n",
        "    brand_only = autos[autos[\"brand\"] == brand]\n",
        "    mean_mileage = brand_only[\"odometer_km\"].mean()\n",
        "    brand_mean_mileage[brand] = int(mean_mileage)\n",
        "\n",
        "mean_mileage = pd.Series(brand_mean_mileage).sort_values(ascending=False)\n",
        "mean_prices = pd.Series(brand_mean_prices).sort_values(ascending=False)"
      ],
      "execution_count": 55,
      "outputs": []
    },
    {
      "cell_type": "code",
      "metadata": {
        "id": "qCuNwrb5ySvQ",
        "colab_type": "code",
        "colab": {
          "base_uri": "https://localhost:8080/",
          "height": 359
        },
        "outputId": "89cd865e-22fe-48b5-adf0-bcd4f23b15f2"
      },
      "source": [
        "\n",
        "brand_info = pd.DataFrame(mean_mileage,columns=['mean_mileage'])\n",
        "brand_info"
      ],
      "execution_count": 56,
      "outputs": [
        {
          "output_type": "execute_result",
          "data": {
            "text/html": [
              "<div>\n",
              "<style scoped>\n",
              "    .dataframe tbody tr th:only-of-type {\n",
              "        vertical-align: middle;\n",
              "    }\n",
              "\n",
              "    .dataframe tbody tr th {\n",
              "        vertical-align: top;\n",
              "    }\n",
              "\n",
              "    .dataframe thead th {\n",
              "        text-align: right;\n",
              "    }\n",
              "</style>\n",
              "<table border=\"1\" class=\"dataframe\">\n",
              "  <thead>\n",
              "    <tr style=\"text-align: right;\">\n",
              "      <th></th>\n",
              "      <th>mean_mileage</th>\n",
              "    </tr>\n",
              "  </thead>\n",
              "  <tbody>\n",
              "    <tr>\n",
              "      <th>bmw</th>\n",
              "      <td>132790</td>\n",
              "    </tr>\n",
              "    <tr>\n",
              "      <th>mercedes_benz</th>\n",
              "      <td>131242</td>\n",
              "    </tr>\n",
              "    <tr>\n",
              "      <th>opel</th>\n",
              "      <td>129464</td>\n",
              "    </tr>\n",
              "    <tr>\n",
              "      <th>audi</th>\n",
              "      <td>129240</td>\n",
              "    </tr>\n",
              "    <tr>\n",
              "      <th>volkswagen</th>\n",
              "      <td>128838</td>\n",
              "    </tr>\n",
              "    <tr>\n",
              "      <th>renault</th>\n",
              "      <td>128423</td>\n",
              "    </tr>\n",
              "    <tr>\n",
              "      <th>peugeot</th>\n",
              "      <td>127183</td>\n",
              "    </tr>\n",
              "    <tr>\n",
              "      <th>ford</th>\n",
              "      <td>124979</td>\n",
              "    </tr>\n",
              "    <tr>\n",
              "      <th>seat</th>\n",
              "      <td>121536</td>\n",
              "    </tr>\n",
              "    <tr>\n",
              "      <th>fiat</th>\n",
              "      <td>117237</td>\n",
              "    </tr>\n",
              "  </tbody>\n",
              "</table>\n",
              "</div>"
            ],
            "text/plain": [
              "               mean_mileage\n",
              "bmw                  132790\n",
              "mercedes_benz        131242\n",
              "opel                 129464\n",
              "audi                 129240\n",
              "volkswagen           128838\n",
              "renault              128423\n",
              "peugeot              127183\n",
              "ford                 124979\n",
              "seat                 121536\n",
              "fiat                 117237"
            ]
          },
          "metadata": {
            "tags": []
          },
          "execution_count": 56
        }
      ]
    },
    {
      "cell_type": "code",
      "metadata": {
        "id": "vSHTBG0wyXPQ",
        "colab_type": "code",
        "colab": {
          "base_uri": "https://localhost:8080/",
          "height": 359
        },
        "outputId": "e4b99ae0-25c7-4c82-e757-0e5059b11d69"
      },
      "source": [
        "brand_info[\"mean_price\"] = mean_prices\n",
        "brand_info"
      ],
      "execution_count": 57,
      "outputs": [
        {
          "output_type": "execute_result",
          "data": {
            "text/html": [
              "<div>\n",
              "<style scoped>\n",
              "    .dataframe tbody tr th:only-of-type {\n",
              "        vertical-align: middle;\n",
              "    }\n",
              "\n",
              "    .dataframe tbody tr th {\n",
              "        vertical-align: top;\n",
              "    }\n",
              "\n",
              "    .dataframe thead th {\n",
              "        text-align: right;\n",
              "    }\n",
              "</style>\n",
              "<table border=\"1\" class=\"dataframe\">\n",
              "  <thead>\n",
              "    <tr style=\"text-align: right;\">\n",
              "      <th></th>\n",
              "      <th>mean_mileage</th>\n",
              "      <th>mean_price</th>\n",
              "    </tr>\n",
              "  </thead>\n",
              "  <tbody>\n",
              "    <tr>\n",
              "      <th>bmw</th>\n",
              "      <td>132790</td>\n",
              "      <td>8383</td>\n",
              "    </tr>\n",
              "    <tr>\n",
              "      <th>mercedes_benz</th>\n",
              "      <td>131242</td>\n",
              "      <td>8565</td>\n",
              "    </tr>\n",
              "    <tr>\n",
              "      <th>opel</th>\n",
              "      <td>129464</td>\n",
              "      <td>3002</td>\n",
              "    </tr>\n",
              "    <tr>\n",
              "      <th>audi</th>\n",
              "      <td>129240</td>\n",
              "      <td>9375</td>\n",
              "    </tr>\n",
              "    <tr>\n",
              "      <th>volkswagen</th>\n",
              "      <td>128838</td>\n",
              "      <td>5629</td>\n",
              "    </tr>\n",
              "    <tr>\n",
              "      <th>renault</th>\n",
              "      <td>128423</td>\n",
              "      <td>2491</td>\n",
              "    </tr>\n",
              "    <tr>\n",
              "      <th>peugeot</th>\n",
              "      <td>127183</td>\n",
              "      <td>3108</td>\n",
              "    </tr>\n",
              "    <tr>\n",
              "      <th>ford</th>\n",
              "      <td>124979</td>\n",
              "      <td>3846</td>\n",
              "    </tr>\n",
              "    <tr>\n",
              "      <th>seat</th>\n",
              "      <td>121536</td>\n",
              "      <td>4433</td>\n",
              "    </tr>\n",
              "    <tr>\n",
              "      <th>fiat</th>\n",
              "      <td>117237</td>\n",
              "      <td>2804</td>\n",
              "    </tr>\n",
              "  </tbody>\n",
              "</table>\n",
              "</div>"
            ],
            "text/plain": [
              "               mean_mileage  mean_price\n",
              "bmw                  132790        8383\n",
              "mercedes_benz        131242        8565\n",
              "opel                 129464        3002\n",
              "audi                 129240        9375\n",
              "volkswagen           128838        5629\n",
              "renault              128423        2491\n",
              "peugeot              127183        3108\n",
              "ford                 124979        3846\n",
              "seat                 121536        4433\n",
              "fiat                 117237        2804"
            ]
          },
          "metadata": {
            "tags": []
          },
          "execution_count": 57
        }
      ]
    },
    {
      "cell_type": "markdown",
      "metadata": {
        "id": "Z8zAxzEe42f3",
        "colab_type": "text"
      },
      "source": [
        "Price and Milage observation\n",
        "\n",
        "- Overall the Mileage does not very to much between diffrent brands\n",
        "- In this list, the more expensive cars have higher prices versus less expensive have much lower prices "
      ]
    },
    {
      "cell_type": "code",
      "metadata": {
        "id": "i3OEvmNKA1wG",
        "colab_type": "code",
        "colab": {}
      },
      "source": [
        ""
      ],
      "execution_count": 57,
      "outputs": []
    },
    {
      "cell_type": "markdown",
      "metadata": {
        "id": "BYsb3O7qA2ra",
        "colab_type": "text"
      },
      "source": [
        "# Conclusion\n",
        "\n",
        "Overall, we went through some of the steps needed to effectively clean the data set from scratch on the used cars from eBay Kleinanzeigen, a classifieds section from the Germany eBay website. \n",
        "\n",
        "Steps taken were as follows:\n",
        "\n",
        "- Cleaning Column Names\n",
        "- Simple exploration and Cleaning \n",
        "- Exploring certain columns \n",
        "- Narrowing down data in regards to price \"100-1,000,000\" \n",
        "- Dealing with Incorrect Registration Dates\n",
        "- Exploring diffrent comparissons such as price, brand, odomoter "
      ]
    },
    {
      "cell_type": "code",
      "metadata": {
        "id": "PJLPy6c6tFU1",
        "colab_type": "code",
        "colab": {}
      },
      "source": [
        ""
      ],
      "execution_count": null,
      "outputs": []
    }
  ]
}