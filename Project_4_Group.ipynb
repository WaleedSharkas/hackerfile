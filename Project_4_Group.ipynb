{
  "nbformat": 4,
  "nbformat_minor": 0,
  "metadata": {
    "kernelspec": {
      "display_name": "Python 3",
      "language": "python",
      "name": "python3"
    },
    "language_info": {
      "codemirror_mode": {
        "name": "ipython",
        "version": 3
      },
      "file_extension": ".py",
      "mimetype": "text/x-python",
      "name": "python",
      "nbconvert_exporter": "python",
      "pygments_lexer": "ipython3",
      "version": "3.8.3"
    },
    "colab": {
      "name": "Project 4 - Group.ipynb",
      "provenance": [],
      "collapsed_sections": [
        "KCGMYOLGW07M"
      ],
      "include_colab_link": true
    }
  },
  "cells": [
    {
      "cell_type": "markdown",
      "metadata": {
        "id": "view-in-github",
        "colab_type": "text"
      },
      "source": [
        "<a href=\"https://colab.research.google.com/github/WaleedSharkas/hackerfile/blob/master/Project_4_Group.ipynb\" target=\"_parent\"><img src=\"https://colab.research.google.com/assets/colab-badge.svg\" alt=\"Open In Colab\"/></a>"
      ]
    },
    {
      "cell_type": "markdown",
      "metadata": {
        "id": "hEL2dqeIW0wx"
      },
      "source": [
        "# Clean And Analyze Employee Exit Surveys\n",
        "\n",
        "This  project will look at survey data from the Department of Education, Training and Employment [DETE](https://data.gov.au/dataset/ds-qld-fe96ff30-d157-4a81-851d-215f2a0fe26d/details?q=exit%20survey) and the Technical and Further Education [TAFE](https://data.gov.au/dataset/ds-qld-89970a3b-182b-41ea-aea2-6f9f17b5907e/details?q=exit%20survey) body of the Queensland government in Australia.\n",
        "\n",
        "We will combine the results from both suverys to answer a certain question:\n",
        "\n",
        "\n",
        "*   Are employees who only worked for the institutes for a short period \n",
        "of time resigning due to some kind of dissatisfaction? What about employees who have been there longer?"
      ]
    },
    {
      "cell_type": "code",
      "metadata": {
        "id": "oTO2018iW0w0",
        "outputId": "3c051a61-8900-4375-f413-aeb9fde834bf"
      },
      "source": [
        "import pandas as pd\n",
        "import numpy as np\n",
        "dete_survey = pd.read_csv('dete_survey.csv')\n",
        "tafe_survey = pd.read_csv(\"tafe_survey.csv\")\n",
        "\n",
        "\n",
        "pd.options.display.max_columns = 150\n",
        "dete_survey.head()"
      ],
      "execution_count": null,
      "outputs": [
        {
          "output_type": "execute_result",
          "data": {
            "text/html": [
              "<div>\n",
              "<style scoped>\n",
              "    .dataframe tbody tr th:only-of-type {\n",
              "        vertical-align: middle;\n",
              "    }\n",
              "\n",
              "    .dataframe tbody tr th {\n",
              "        vertical-align: top;\n",
              "    }\n",
              "\n",
              "    .dataframe thead th {\n",
              "        text-align: right;\n",
              "    }\n",
              "</style>\n",
              "<table border=\"1\" class=\"dataframe\">\n",
              "  <thead>\n",
              "    <tr style=\"text-align: right;\">\n",
              "      <th></th>\n",
              "      <th>ID</th>\n",
              "      <th>SeparationType</th>\n",
              "      <th>Cease Date</th>\n",
              "      <th>DETE Start Date</th>\n",
              "      <th>Role Start Date</th>\n",
              "      <th>Position</th>\n",
              "      <th>Classification</th>\n",
              "      <th>Region</th>\n",
              "      <th>Business Unit</th>\n",
              "      <th>Employment Status</th>\n",
              "      <th>Career move to public sector</th>\n",
              "      <th>Career move to private sector</th>\n",
              "      <th>Interpersonal conflicts</th>\n",
              "      <th>Job dissatisfaction</th>\n",
              "      <th>Dissatisfaction with the department</th>\n",
              "      <th>Physical work environment</th>\n",
              "      <th>Lack of recognition</th>\n",
              "      <th>Lack of job security</th>\n",
              "      <th>Work location</th>\n",
              "      <th>Employment conditions</th>\n",
              "      <th>Maternity/family</th>\n",
              "      <th>Relocation</th>\n",
              "      <th>Study/Travel</th>\n",
              "      <th>Ill Health</th>\n",
              "      <th>Traumatic incident</th>\n",
              "      <th>Work life balance</th>\n",
              "      <th>Workload</th>\n",
              "      <th>None of the above</th>\n",
              "      <th>Professional Development</th>\n",
              "      <th>Opportunities for promotion</th>\n",
              "      <th>Staff morale</th>\n",
              "      <th>Workplace issue</th>\n",
              "      <th>Physical environment</th>\n",
              "      <th>Worklife balance</th>\n",
              "      <th>Stress and pressure support</th>\n",
              "      <th>Performance of supervisor</th>\n",
              "      <th>Peer support</th>\n",
              "      <th>Initiative</th>\n",
              "      <th>Skills</th>\n",
              "      <th>Coach</th>\n",
              "      <th>Career Aspirations</th>\n",
              "      <th>Feedback</th>\n",
              "      <th>Further PD</th>\n",
              "      <th>Communication</th>\n",
              "      <th>My say</th>\n",
              "      <th>Information</th>\n",
              "      <th>Kept informed</th>\n",
              "      <th>Wellness programs</th>\n",
              "      <th>Health &amp; Safety</th>\n",
              "      <th>Gender</th>\n",
              "      <th>Age</th>\n",
              "      <th>Aboriginal</th>\n",
              "      <th>Torres Strait</th>\n",
              "      <th>South Sea</th>\n",
              "      <th>Disability</th>\n",
              "      <th>NESB</th>\n",
              "    </tr>\n",
              "  </thead>\n",
              "  <tbody>\n",
              "    <tr>\n",
              "      <th>0</th>\n",
              "      <td>1</td>\n",
              "      <td>Ill Health Retirement</td>\n",
              "      <td>08/2012</td>\n",
              "      <td>1984</td>\n",
              "      <td>2004</td>\n",
              "      <td>Public Servant</td>\n",
              "      <td>A01-A04</td>\n",
              "      <td>Central Office</td>\n",
              "      <td>Corporate Strategy and Peformance</td>\n",
              "      <td>Permanent Full-time</td>\n",
              "      <td>True</td>\n",
              "      <td>False</td>\n",
              "      <td>False</td>\n",
              "      <td>True</td>\n",
              "      <td>False</td>\n",
              "      <td>False</td>\n",
              "      <td>True</td>\n",
              "      <td>False</td>\n",
              "      <td>False</td>\n",
              "      <td>False</td>\n",
              "      <td>False</td>\n",
              "      <td>False</td>\n",
              "      <td>False</td>\n",
              "      <td>False</td>\n",
              "      <td>False</td>\n",
              "      <td>False</td>\n",
              "      <td>False</td>\n",
              "      <td>True</td>\n",
              "      <td>A</td>\n",
              "      <td>A</td>\n",
              "      <td>N</td>\n",
              "      <td>N</td>\n",
              "      <td>N</td>\n",
              "      <td>A</td>\n",
              "      <td>A</td>\n",
              "      <td>A</td>\n",
              "      <td>A</td>\n",
              "      <td>N</td>\n",
              "      <td>N</td>\n",
              "      <td>N</td>\n",
              "      <td>A</td>\n",
              "      <td>A</td>\n",
              "      <td>A</td>\n",
              "      <td>N</td>\n",
              "      <td>A</td>\n",
              "      <td>A</td>\n",
              "      <td>N</td>\n",
              "      <td>N</td>\n",
              "      <td>N</td>\n",
              "      <td>Male</td>\n",
              "      <td>56-60</td>\n",
              "      <td>NaN</td>\n",
              "      <td>NaN</td>\n",
              "      <td>NaN</td>\n",
              "      <td>NaN</td>\n",
              "      <td>Yes</td>\n",
              "    </tr>\n",
              "    <tr>\n",
              "      <th>1</th>\n",
              "      <td>2</td>\n",
              "      <td>Voluntary Early Retirement (VER)</td>\n",
              "      <td>08/2012</td>\n",
              "      <td>Not Stated</td>\n",
              "      <td>Not Stated</td>\n",
              "      <td>Public Servant</td>\n",
              "      <td>AO5-AO7</td>\n",
              "      <td>Central Office</td>\n",
              "      <td>Corporate Strategy and Peformance</td>\n",
              "      <td>Permanent Full-time</td>\n",
              "      <td>False</td>\n",
              "      <td>False</td>\n",
              "      <td>False</td>\n",
              "      <td>False</td>\n",
              "      <td>False</td>\n",
              "      <td>False</td>\n",
              "      <td>False</td>\n",
              "      <td>False</td>\n",
              "      <td>False</td>\n",
              "      <td>False</td>\n",
              "      <td>False</td>\n",
              "      <td>False</td>\n",
              "      <td>False</td>\n",
              "      <td>False</td>\n",
              "      <td>False</td>\n",
              "      <td>False</td>\n",
              "      <td>False</td>\n",
              "      <td>False</td>\n",
              "      <td>A</td>\n",
              "      <td>A</td>\n",
              "      <td>N</td>\n",
              "      <td>N</td>\n",
              "      <td>N</td>\n",
              "      <td>N</td>\n",
              "      <td>A</td>\n",
              "      <td>A</td>\n",
              "      <td>A</td>\n",
              "      <td>N</td>\n",
              "      <td>N</td>\n",
              "      <td>N</td>\n",
              "      <td>A</td>\n",
              "      <td>A</td>\n",
              "      <td>A</td>\n",
              "      <td>N</td>\n",
              "      <td>A</td>\n",
              "      <td>A</td>\n",
              "      <td>N</td>\n",
              "      <td>N</td>\n",
              "      <td>N</td>\n",
              "      <td>Male</td>\n",
              "      <td>56-60</td>\n",
              "      <td>NaN</td>\n",
              "      <td>NaN</td>\n",
              "      <td>NaN</td>\n",
              "      <td>NaN</td>\n",
              "      <td>NaN</td>\n",
              "    </tr>\n",
              "    <tr>\n",
              "      <th>2</th>\n",
              "      <td>3</td>\n",
              "      <td>Voluntary Early Retirement (VER)</td>\n",
              "      <td>05/2012</td>\n",
              "      <td>2011</td>\n",
              "      <td>2011</td>\n",
              "      <td>Schools Officer</td>\n",
              "      <td>NaN</td>\n",
              "      <td>Central Office</td>\n",
              "      <td>Education Queensland</td>\n",
              "      <td>Permanent Full-time</td>\n",
              "      <td>False</td>\n",
              "      <td>False</td>\n",
              "      <td>False</td>\n",
              "      <td>False</td>\n",
              "      <td>False</td>\n",
              "      <td>False</td>\n",
              "      <td>False</td>\n",
              "      <td>False</td>\n",
              "      <td>False</td>\n",
              "      <td>False</td>\n",
              "      <td>False</td>\n",
              "      <td>False</td>\n",
              "      <td>False</td>\n",
              "      <td>False</td>\n",
              "      <td>False</td>\n",
              "      <td>False</td>\n",
              "      <td>False</td>\n",
              "      <td>True</td>\n",
              "      <td>N</td>\n",
              "      <td>N</td>\n",
              "      <td>N</td>\n",
              "      <td>N</td>\n",
              "      <td>N</td>\n",
              "      <td>N</td>\n",
              "      <td>N</td>\n",
              "      <td>N</td>\n",
              "      <td>N</td>\n",
              "      <td>N</td>\n",
              "      <td>N</td>\n",
              "      <td>N</td>\n",
              "      <td>N</td>\n",
              "      <td>N</td>\n",
              "      <td>N</td>\n",
              "      <td>A</td>\n",
              "      <td>A</td>\n",
              "      <td>N</td>\n",
              "      <td>N</td>\n",
              "      <td>N</td>\n",
              "      <td>N</td>\n",
              "      <td>Male</td>\n",
              "      <td>61 or older</td>\n",
              "      <td>NaN</td>\n",
              "      <td>NaN</td>\n",
              "      <td>NaN</td>\n",
              "      <td>NaN</td>\n",
              "      <td>NaN</td>\n",
              "    </tr>\n",
              "    <tr>\n",
              "      <th>3</th>\n",
              "      <td>4</td>\n",
              "      <td>Resignation-Other reasons</td>\n",
              "      <td>05/2012</td>\n",
              "      <td>2005</td>\n",
              "      <td>2006</td>\n",
              "      <td>Teacher</td>\n",
              "      <td>Primary</td>\n",
              "      <td>Central Queensland</td>\n",
              "      <td>NaN</td>\n",
              "      <td>Permanent Full-time</td>\n",
              "      <td>False</td>\n",
              "      <td>True</td>\n",
              "      <td>False</td>\n",
              "      <td>False</td>\n",
              "      <td>False</td>\n",
              "      <td>False</td>\n",
              "      <td>False</td>\n",
              "      <td>False</td>\n",
              "      <td>False</td>\n",
              "      <td>False</td>\n",
              "      <td>False</td>\n",
              "      <td>False</td>\n",
              "      <td>False</td>\n",
              "      <td>False</td>\n",
              "      <td>False</td>\n",
              "      <td>False</td>\n",
              "      <td>False</td>\n",
              "      <td>False</td>\n",
              "      <td>A</td>\n",
              "      <td>N</td>\n",
              "      <td>N</td>\n",
              "      <td>N</td>\n",
              "      <td>A</td>\n",
              "      <td>A</td>\n",
              "      <td>N</td>\n",
              "      <td>N</td>\n",
              "      <td>A</td>\n",
              "      <td>A</td>\n",
              "      <td>A</td>\n",
              "      <td>A</td>\n",
              "      <td>A</td>\n",
              "      <td>A</td>\n",
              "      <td>A</td>\n",
              "      <td>A</td>\n",
              "      <td>A</td>\n",
              "      <td>A</td>\n",
              "      <td>A</td>\n",
              "      <td>N</td>\n",
              "      <td>A</td>\n",
              "      <td>Female</td>\n",
              "      <td>36-40</td>\n",
              "      <td>NaN</td>\n",
              "      <td>NaN</td>\n",
              "      <td>NaN</td>\n",
              "      <td>NaN</td>\n",
              "      <td>NaN</td>\n",
              "    </tr>\n",
              "    <tr>\n",
              "      <th>4</th>\n",
              "      <td>5</td>\n",
              "      <td>Age Retirement</td>\n",
              "      <td>05/2012</td>\n",
              "      <td>1970</td>\n",
              "      <td>1989</td>\n",
              "      <td>Head of Curriculum/Head of Special Education</td>\n",
              "      <td>NaN</td>\n",
              "      <td>South East</td>\n",
              "      <td>NaN</td>\n",
              "      <td>Permanent Full-time</td>\n",
              "      <td>False</td>\n",
              "      <td>False</td>\n",
              "      <td>False</td>\n",
              "      <td>False</td>\n",
              "      <td>False</td>\n",
              "      <td>False</td>\n",
              "      <td>False</td>\n",
              "      <td>False</td>\n",
              "      <td>False</td>\n",
              "      <td>False</td>\n",
              "      <td>False</td>\n",
              "      <td>False</td>\n",
              "      <td>False</td>\n",
              "      <td>False</td>\n",
              "      <td>False</td>\n",
              "      <td>True</td>\n",
              "      <td>False</td>\n",
              "      <td>False</td>\n",
              "      <td>A</td>\n",
              "      <td>A</td>\n",
              "      <td>N</td>\n",
              "      <td>N</td>\n",
              "      <td>D</td>\n",
              "      <td>D</td>\n",
              "      <td>N</td>\n",
              "      <td>A</td>\n",
              "      <td>A</td>\n",
              "      <td>A</td>\n",
              "      <td>A</td>\n",
              "      <td>A</td>\n",
              "      <td>A</td>\n",
              "      <td>SA</td>\n",
              "      <td>SA</td>\n",
              "      <td>D</td>\n",
              "      <td>D</td>\n",
              "      <td>A</td>\n",
              "      <td>N</td>\n",
              "      <td>A</td>\n",
              "      <td>M</td>\n",
              "      <td>Female</td>\n",
              "      <td>61 or older</td>\n",
              "      <td>NaN</td>\n",
              "      <td>NaN</td>\n",
              "      <td>NaN</td>\n",
              "      <td>NaN</td>\n",
              "      <td>NaN</td>\n",
              "    </tr>\n",
              "  </tbody>\n",
              "</table>\n",
              "</div>"
            ],
            "text/plain": [
              "   ID                    SeparationType Cease Date DETE Start Date  \\\n",
              "0   1             Ill Health Retirement    08/2012            1984   \n",
              "1   2  Voluntary Early Retirement (VER)    08/2012      Not Stated   \n",
              "2   3  Voluntary Early Retirement (VER)    05/2012            2011   \n",
              "3   4         Resignation-Other reasons    05/2012            2005   \n",
              "4   5                    Age Retirement    05/2012            1970   \n",
              "\n",
              "  Role Start Date                                      Position  \\\n",
              "0            2004                                Public Servant   \n",
              "1      Not Stated                                Public Servant   \n",
              "2            2011                               Schools Officer   \n",
              "3            2006                                       Teacher   \n",
              "4            1989  Head of Curriculum/Head of Special Education   \n",
              "\n",
              "  Classification              Region                      Business Unit  \\\n",
              "0        A01-A04      Central Office  Corporate Strategy and Peformance   \n",
              "1        AO5-AO7      Central Office  Corporate Strategy and Peformance   \n",
              "2            NaN      Central Office               Education Queensland   \n",
              "3        Primary  Central Queensland                                NaN   \n",
              "4            NaN          South East                                NaN   \n",
              "\n",
              "     Employment Status  Career move to public sector  \\\n",
              "0  Permanent Full-time                          True   \n",
              "1  Permanent Full-time                         False   \n",
              "2  Permanent Full-time                         False   \n",
              "3  Permanent Full-time                         False   \n",
              "4  Permanent Full-time                         False   \n",
              "\n",
              "   Career move to private sector  Interpersonal conflicts  \\\n",
              "0                          False                    False   \n",
              "1                          False                    False   \n",
              "2                          False                    False   \n",
              "3                           True                    False   \n",
              "4                          False                    False   \n",
              "\n",
              "   Job dissatisfaction  Dissatisfaction with the department  \\\n",
              "0                 True                                False   \n",
              "1                False                                False   \n",
              "2                False                                False   \n",
              "3                False                                False   \n",
              "4                False                                False   \n",
              "\n",
              "   Physical work environment  Lack of recognition  Lack of job security  \\\n",
              "0                      False                 True                 False   \n",
              "1                      False                False                 False   \n",
              "2                      False                False                 False   \n",
              "3                      False                False                 False   \n",
              "4                      False                False                 False   \n",
              "\n",
              "   Work location  Employment conditions  Maternity/family  Relocation  \\\n",
              "0          False                  False             False       False   \n",
              "1          False                  False             False       False   \n",
              "2          False                  False             False       False   \n",
              "3          False                  False             False       False   \n",
              "4          False                  False             False       False   \n",
              "\n",
              "   Study/Travel  Ill Health  Traumatic incident  Work life balance  Workload  \\\n",
              "0         False       False               False              False     False   \n",
              "1         False       False               False              False     False   \n",
              "2         False       False               False              False     False   \n",
              "3         False       False               False              False     False   \n",
              "4         False       False               False               True     False   \n",
              "\n",
              "   None of the above Professional Development Opportunities for promotion  \\\n",
              "0               True                        A                           A   \n",
              "1              False                        A                           A   \n",
              "2               True                        N                           N   \n",
              "3              False                        A                           N   \n",
              "4              False                        A                           A   \n",
              "\n",
              "  Staff morale Workplace issue Physical environment Worklife balance  \\\n",
              "0            N               N                    N                A   \n",
              "1            N               N                    N                N   \n",
              "2            N               N                    N                N   \n",
              "3            N               N                    A                A   \n",
              "4            N               N                    D                D   \n",
              "\n",
              "  Stress and pressure support Performance of supervisor Peer support  \\\n",
              "0                           A                         A            A   \n",
              "1                           A                         A            A   \n",
              "2                           N                         N            N   \n",
              "3                           N                         N            A   \n",
              "4                           N                         A            A   \n",
              "\n",
              "  Initiative Skills Coach Career Aspirations Feedback Further PD  \\\n",
              "0          N      N     N                  A        A          A   \n",
              "1          N      N     N                  A        A          A   \n",
              "2          N      N     N                  N        N          N   \n",
              "3          A      A     A                  A        A          A   \n",
              "4          A      A     A                  A       SA         SA   \n",
              "\n",
              "  Communication My say Information Kept informed Wellness programs  \\\n",
              "0             N      A           A             N                 N   \n",
              "1             N      A           A             N                 N   \n",
              "2             A      A           N             N                 N   \n",
              "3             A      A           A             A                 N   \n",
              "4             D      D           A             N                 A   \n",
              "\n",
              "  Health & Safety  Gender          Age Aboriginal Torres Strait South Sea  \\\n",
              "0               N    Male        56-60        NaN           NaN       NaN   \n",
              "1               N    Male        56-60        NaN           NaN       NaN   \n",
              "2               N    Male  61 or older        NaN           NaN       NaN   \n",
              "3               A  Female        36-40        NaN           NaN       NaN   \n",
              "4               M  Female  61 or older        NaN           NaN       NaN   \n",
              "\n",
              "  Disability NESB  \n",
              "0        NaN  Yes  \n",
              "1        NaN  NaN  \n",
              "2        NaN  NaN  \n",
              "3        NaN  NaN  \n",
              "4        NaN  NaN  "
            ]
          },
          "metadata": {
            "tags": []
          },
          "execution_count": 2
        }
      ]
    },
    {
      "cell_type": "code",
      "metadata": {
        "id": "_9MPcTM3W0xG",
        "outputId": "6277c978-01e1-457d-888a-9512efe4d472"
      },
      "source": [
        "dete_survey.info()"
      ],
      "execution_count": null,
      "outputs": [
        {
          "output_type": "stream",
          "text": [
            "<class 'pandas.core.frame.DataFrame'>\n",
            "RangeIndex: 822 entries, 0 to 821\n",
            "Data columns (total 56 columns):\n",
            "ID                                     822 non-null int64\n",
            "SeparationType                         822 non-null object\n",
            "Cease Date                             822 non-null object\n",
            "DETE Start Date                        822 non-null object\n",
            "Role Start Date                        822 non-null object\n",
            "Position                               817 non-null object\n",
            "Classification                         455 non-null object\n",
            "Region                                 822 non-null object\n",
            "Business Unit                          126 non-null object\n",
            "Employment Status                      817 non-null object\n",
            "Career move to public sector           822 non-null bool\n",
            "Career move to private sector          822 non-null bool\n",
            "Interpersonal conflicts                822 non-null bool\n",
            "Job dissatisfaction                    822 non-null bool\n",
            "Dissatisfaction with the department    822 non-null bool\n",
            "Physical work environment              822 non-null bool\n",
            "Lack of recognition                    822 non-null bool\n",
            "Lack of job security                   822 non-null bool\n",
            "Work location                          822 non-null bool\n",
            "Employment conditions                  822 non-null bool\n",
            "Maternity/family                       822 non-null bool\n",
            "Relocation                             822 non-null bool\n",
            "Study/Travel                           822 non-null bool\n",
            "Ill Health                             822 non-null bool\n",
            "Traumatic incident                     822 non-null bool\n",
            "Work life balance                      822 non-null bool\n",
            "Workload                               822 non-null bool\n",
            "None of the above                      822 non-null bool\n",
            "Professional Development               808 non-null object\n",
            "Opportunities for promotion            735 non-null object\n",
            "Staff morale                           816 non-null object\n",
            "Workplace issue                        788 non-null object\n",
            "Physical environment                   817 non-null object\n",
            "Worklife balance                       815 non-null object\n",
            "Stress and pressure support            810 non-null object\n",
            "Performance of supervisor              813 non-null object\n",
            "Peer support                           812 non-null object\n",
            "Initiative                             813 non-null object\n",
            "Skills                                 811 non-null object\n",
            "Coach                                  767 non-null object\n",
            "Career Aspirations                     746 non-null object\n",
            "Feedback                               792 non-null object\n",
            "Further PD                             768 non-null object\n",
            "Communication                          814 non-null object\n",
            "My say                                 812 non-null object\n",
            "Information                            816 non-null object\n",
            "Kept informed                          813 non-null object\n",
            "Wellness programs                      766 non-null object\n",
            "Health & Safety                        793 non-null object\n",
            "Gender                                 798 non-null object\n",
            "Age                                    811 non-null object\n",
            "Aboriginal                             16 non-null object\n",
            "Torres Strait                          3 non-null object\n",
            "South Sea                              7 non-null object\n",
            "Disability                             23 non-null object\n",
            "NESB                                   32 non-null object\n",
            "dtypes: bool(18), int64(1), object(37)\n",
            "memory usage: 258.6+ KB\n"
          ],
          "name": "stdout"
        }
      ]
    },
    {
      "cell_type": "code",
      "metadata": {
        "id": "zCdTUbfSW0xQ",
        "outputId": "8f5c86d8-5a43-4b52-9a3f-0f201eec5041"
      },
      "source": [
        "dete_survey.shape"
      ],
      "execution_count": null,
      "outputs": [
        {
          "output_type": "execute_result",
          "data": {
            "text/plain": [
              "(822, 56)"
            ]
          },
          "metadata": {
            "tags": []
          },
          "execution_count": 4
        }
      ]
    },
    {
      "cell_type": "code",
      "metadata": {
        "id": "Xnzj5lb9W0xe",
        "outputId": "2d958086-5053-453f-cceb-7e27b145d87d"
      },
      "source": [
        "tafe_survey.head()"
      ],
      "execution_count": null,
      "outputs": [
        {
          "output_type": "execute_result",
          "data": {
            "text/html": [
              "<div>\n",
              "<style scoped>\n",
              "    .dataframe tbody tr th:only-of-type {\n",
              "        vertical-align: middle;\n",
              "    }\n",
              "\n",
              "    .dataframe tbody tr th {\n",
              "        vertical-align: top;\n",
              "    }\n",
              "\n",
              "    .dataframe thead th {\n",
              "        text-align: right;\n",
              "    }\n",
              "</style>\n",
              "<table border=\"1\" class=\"dataframe\">\n",
              "  <thead>\n",
              "    <tr style=\"text-align: right;\">\n",
              "      <th></th>\n",
              "      <th>Record ID</th>\n",
              "      <th>Institute</th>\n",
              "      <th>WorkArea</th>\n",
              "      <th>CESSATION YEAR</th>\n",
              "      <th>Reason for ceasing employment</th>\n",
              "      <th>Contributing Factors. Career Move - Public Sector</th>\n",
              "      <th>Contributing Factors. Career Move - Private Sector</th>\n",
              "      <th>Contributing Factors. Career Move - Self-employment</th>\n",
              "      <th>Contributing Factors. Ill Health</th>\n",
              "      <th>Contributing Factors. Maternity/Family</th>\n",
              "      <th>Contributing Factors. Dissatisfaction</th>\n",
              "      <th>Contributing Factors. Job Dissatisfaction</th>\n",
              "      <th>Contributing Factors. Interpersonal Conflict</th>\n",
              "      <th>Contributing Factors. Study</th>\n",
              "      <th>Contributing Factors. Travel</th>\n",
              "      <th>Contributing Factors. Other</th>\n",
              "      <th>Contributing Factors. NONE</th>\n",
              "      <th>Main Factor. Which of these was the main factor for leaving?</th>\n",
              "      <th>InstituteViews. Topic:1. I feel the senior leadership had a clear vision and direction</th>\n",
              "      <th>InstituteViews. Topic:2. I was given access to skills training to help me do my job better</th>\n",
              "      <th>InstituteViews. Topic:3. I was given adequate opportunities for personal development</th>\n",
              "      <th>InstituteViews. Topic:4. I was given adequate opportunities for promotion within %Institute]Q25LBL%</th>\n",
              "      <th>InstituteViews. Topic:5. I felt the salary for the job was right for the responsibilities I had</th>\n",
              "      <th>InstituteViews. Topic:6. The organisation recognised when staff did good work</th>\n",
              "      <th>InstituteViews. Topic:7. Management was generally supportive of me</th>\n",
              "      <th>InstituteViews. Topic:8. Management was generally supportive of my team</th>\n",
              "      <th>InstituteViews. Topic:9. I was kept informed of the changes in the organisation which would affect me</th>\n",
              "      <th>InstituteViews. Topic:10. Staff morale was positive within the Institute</th>\n",
              "      <th>InstituteViews. Topic:11. If I had a workplace issue it was dealt with quickly</th>\n",
              "      <th>InstituteViews. Topic:12. If I had a workplace issue it was dealt with efficiently</th>\n",
              "      <th>InstituteViews. Topic:13. If I had a workplace issue it was dealt with discreetly</th>\n",
              "      <th>WorkUnitViews. Topic:14. I was satisfied with the quality of the management and supervision within my work unit</th>\n",
              "      <th>WorkUnitViews. Topic:15. I worked well with my colleagues</th>\n",
              "      <th>WorkUnitViews. Topic:16. My job was challenging and interesting</th>\n",
              "      <th>WorkUnitViews. Topic:17. I was encouraged to use my initiative in the course of my work</th>\n",
              "      <th>WorkUnitViews. Topic:18. I had sufficient contact with other people in my job</th>\n",
              "      <th>WorkUnitViews. Topic:19. I was given adequate support and co-operation by my peers to enable me to do my job</th>\n",
              "      <th>WorkUnitViews. Topic:20. I was able to use the full range of my skills in my job</th>\n",
              "      <th>WorkUnitViews. Topic:21. I was able to use the full range of my abilities in my job. ; Category:Level of Agreement; Question:YOUR VIEWS ABOUT YOUR WORK UNIT]</th>\n",
              "      <th>WorkUnitViews. Topic:22. I was able to use the full range of my knowledge in my job</th>\n",
              "      <th>WorkUnitViews. Topic:23. My job provided sufficient variety</th>\n",
              "      <th>WorkUnitViews. Topic:24. I was able to cope with the level of stress and pressure in my job</th>\n",
              "      <th>WorkUnitViews. Topic:25. My job allowed me to balance the demands of work and family to my satisfaction</th>\n",
              "      <th>WorkUnitViews. Topic:26. My supervisor gave me adequate personal recognition and feedback on my performance</th>\n",
              "      <th>WorkUnitViews. Topic:27. My working environment was satisfactory e.g. sufficient space, good lighting, suitable seating and working area</th>\n",
              "      <th>WorkUnitViews. Topic:28. I was given the opportunity to mentor and coach others in order for me to pass on my skills and knowledge prior to my cessation date</th>\n",
              "      <th>WorkUnitViews. Topic:29. There was adequate communication between staff in my unit</th>\n",
              "      <th>WorkUnitViews. Topic:30. Staff morale was positive within my work unit</th>\n",
              "      <th>Induction. Did you undertake Workplace Induction?</th>\n",
              "      <th>InductionInfo. Topic:Did you undertake a Corporate Induction?</th>\n",
              "      <th>InductionInfo. Topic:Did you undertake a Institute Induction?</th>\n",
              "      <th>InductionInfo. Topic: Did you undertake Team Induction?</th>\n",
              "      <th>InductionInfo. Face to Face Topic:Did you undertake a Corporate Induction; Category:How it was conducted?</th>\n",
              "      <th>InductionInfo. On-line Topic:Did you undertake a Corporate Induction; Category:How it was conducted?</th>\n",
              "      <th>InductionInfo. Induction Manual Topic:Did you undertake a Corporate Induction?</th>\n",
              "      <th>InductionInfo. Face to Face Topic:Did you undertake a Institute Induction?</th>\n",
              "      <th>InductionInfo. On-line Topic:Did you undertake a Institute Induction?</th>\n",
              "      <th>InductionInfo. Induction Manual Topic:Did you undertake a Institute Induction?</th>\n",
              "      <th>InductionInfo. Face to Face Topic: Did you undertake Team Induction; Category?</th>\n",
              "      <th>InductionInfo. On-line Topic: Did you undertake Team Induction?process you undertook and how it was conducted.]</th>\n",
              "      <th>InductionInfo. Induction Manual Topic: Did you undertake Team Induction?</th>\n",
              "      <th>Workplace. Topic:Did you and your Manager develop a Performance and Professional Development Plan (PPDP)?</th>\n",
              "      <th>Workplace. Topic:Does your workplace promote a work culture free from all forms of unlawful discrimination?</th>\n",
              "      <th>Workplace. Topic:Does your workplace promote and practice the principles of employment equity?</th>\n",
              "      <th>Workplace. Topic:Does your workplace value the diversity of its employees?</th>\n",
              "      <th>Workplace. Topic:Would you recommend the Institute as an employer to others?</th>\n",
              "      <th>Gender. What is your Gender?</th>\n",
              "      <th>CurrentAge. Current Age</th>\n",
              "      <th>Employment Type. Employment Type</th>\n",
              "      <th>Classification. Classification</th>\n",
              "      <th>LengthofServiceOverall. Overall Length of Service at Institute (in years)</th>\n",
              "      <th>LengthofServiceCurrent. Length of Service at current workplace (in years)</th>\n",
              "    </tr>\n",
              "  </thead>\n",
              "  <tbody>\n",
              "    <tr>\n",
              "      <th>0</th>\n",
              "      <td>6.341330e+17</td>\n",
              "      <td>Southern Queensland Institute of TAFE</td>\n",
              "      <td>Non-Delivery (corporate)</td>\n",
              "      <td>2010.0</td>\n",
              "      <td>Contract Expired</td>\n",
              "      <td>NaN</td>\n",
              "      <td>NaN</td>\n",
              "      <td>NaN</td>\n",
              "      <td>NaN</td>\n",
              "      <td>NaN</td>\n",
              "      <td>NaN</td>\n",
              "      <td>NaN</td>\n",
              "      <td>NaN</td>\n",
              "      <td>NaN</td>\n",
              "      <td>NaN</td>\n",
              "      <td>NaN</td>\n",
              "      <td>NaN</td>\n",
              "      <td>NaN</td>\n",
              "      <td>Agree</td>\n",
              "      <td>Agree</td>\n",
              "      <td>Agree</td>\n",
              "      <td>Neutral</td>\n",
              "      <td>Agree</td>\n",
              "      <td>Agree</td>\n",
              "      <td>Agree</td>\n",
              "      <td>Agree</td>\n",
              "      <td>Agree</td>\n",
              "      <td>Agree</td>\n",
              "      <td>Agree</td>\n",
              "      <td>Agree</td>\n",
              "      <td>Agree</td>\n",
              "      <td>Agree</td>\n",
              "      <td>Agree</td>\n",
              "      <td>Agree</td>\n",
              "      <td>Strongly Agree</td>\n",
              "      <td>Agree</td>\n",
              "      <td>Agree</td>\n",
              "      <td>Agree</td>\n",
              "      <td>Agree</td>\n",
              "      <td>Agree</td>\n",
              "      <td>Agree</td>\n",
              "      <td>Agree</td>\n",
              "      <td>Agree</td>\n",
              "      <td>Agree</td>\n",
              "      <td>Agree</td>\n",
              "      <td>Neutral</td>\n",
              "      <td>Agree</td>\n",
              "      <td>Agree</td>\n",
              "      <td>Yes</td>\n",
              "      <td>Yes</td>\n",
              "      <td>Yes</td>\n",
              "      <td>Yes</td>\n",
              "      <td>Face to Face</td>\n",
              "      <td>-</td>\n",
              "      <td>-</td>\n",
              "      <td>Face to Face</td>\n",
              "      <td>-</td>\n",
              "      <td>-</td>\n",
              "      <td>Face to Face</td>\n",
              "      <td>-</td>\n",
              "      <td>-</td>\n",
              "      <td>Yes</td>\n",
              "      <td>Yes</td>\n",
              "      <td>Yes</td>\n",
              "      <td>Yes</td>\n",
              "      <td>Yes</td>\n",
              "      <td>Female</td>\n",
              "      <td>26  30</td>\n",
              "      <td>Temporary Full-time</td>\n",
              "      <td>Administration (AO)</td>\n",
              "      <td>1-2</td>\n",
              "      <td>1-2</td>\n",
              "    </tr>\n",
              "    <tr>\n",
              "      <th>1</th>\n",
              "      <td>6.341337e+17</td>\n",
              "      <td>Mount Isa Institute of TAFE</td>\n",
              "      <td>Non-Delivery (corporate)</td>\n",
              "      <td>2010.0</td>\n",
              "      <td>Retirement</td>\n",
              "      <td>-</td>\n",
              "      <td>-</td>\n",
              "      <td>-</td>\n",
              "      <td>-</td>\n",
              "      <td>-</td>\n",
              "      <td>-</td>\n",
              "      <td>-</td>\n",
              "      <td>-</td>\n",
              "      <td>-</td>\n",
              "      <td>Travel</td>\n",
              "      <td>-</td>\n",
              "      <td>-</td>\n",
              "      <td>NaN</td>\n",
              "      <td>Agree</td>\n",
              "      <td>Agree</td>\n",
              "      <td>Agree</td>\n",
              "      <td>Agree</td>\n",
              "      <td>Agree</td>\n",
              "      <td>Strongly Agree</td>\n",
              "      <td>Strongly Agree</td>\n",
              "      <td>Agree</td>\n",
              "      <td>Strongly Agree</td>\n",
              "      <td>Agree</td>\n",
              "      <td>Agree</td>\n",
              "      <td>Agree</td>\n",
              "      <td>Disagree</td>\n",
              "      <td>Strongly Agree</td>\n",
              "      <td>Strongly Agree</td>\n",
              "      <td>Strongly Agree</td>\n",
              "      <td>Agree</td>\n",
              "      <td>Agree</td>\n",
              "      <td>Agree</td>\n",
              "      <td>Strongly Agree</td>\n",
              "      <td>Agree</td>\n",
              "      <td>Agree</td>\n",
              "      <td>Agree</td>\n",
              "      <td>Strongly Agree</td>\n",
              "      <td>Agree</td>\n",
              "      <td>Strongly Agree</td>\n",
              "      <td>Strongly Agree</td>\n",
              "      <td>Agree</td>\n",
              "      <td>Agree</td>\n",
              "      <td>Strongly Agree</td>\n",
              "      <td>No</td>\n",
              "      <td>NaN</td>\n",
              "      <td>NaN</td>\n",
              "      <td>NaN</td>\n",
              "      <td>NaN</td>\n",
              "      <td>NaN</td>\n",
              "      <td>NaN</td>\n",
              "      <td>NaN</td>\n",
              "      <td>NaN</td>\n",
              "      <td>NaN</td>\n",
              "      <td>NaN</td>\n",
              "      <td>NaN</td>\n",
              "      <td>NaN</td>\n",
              "      <td>Yes</td>\n",
              "      <td>Yes</td>\n",
              "      <td>Yes</td>\n",
              "      <td>Yes</td>\n",
              "      <td>Yes</td>\n",
              "      <td>NaN</td>\n",
              "      <td>NaN</td>\n",
              "      <td>NaN</td>\n",
              "      <td>NaN</td>\n",
              "      <td>NaN</td>\n",
              "      <td>NaN</td>\n",
              "    </tr>\n",
              "    <tr>\n",
              "      <th>2</th>\n",
              "      <td>6.341388e+17</td>\n",
              "      <td>Mount Isa Institute of TAFE</td>\n",
              "      <td>Delivery (teaching)</td>\n",
              "      <td>2010.0</td>\n",
              "      <td>Retirement</td>\n",
              "      <td>-</td>\n",
              "      <td>-</td>\n",
              "      <td>-</td>\n",
              "      <td>-</td>\n",
              "      <td>-</td>\n",
              "      <td>-</td>\n",
              "      <td>-</td>\n",
              "      <td>-</td>\n",
              "      <td>-</td>\n",
              "      <td>-</td>\n",
              "      <td>-</td>\n",
              "      <td>NONE</td>\n",
              "      <td>NaN</td>\n",
              "      <td>Agree</td>\n",
              "      <td>Agree</td>\n",
              "      <td>Agree</td>\n",
              "      <td>Agree</td>\n",
              "      <td>Agree</td>\n",
              "      <td>Agree</td>\n",
              "      <td>Strongly Agree</td>\n",
              "      <td>Agree</td>\n",
              "      <td>Agree</td>\n",
              "      <td>Agree</td>\n",
              "      <td>Agree</td>\n",
              "      <td>Neutral</td>\n",
              "      <td>Neutral</td>\n",
              "      <td>Strongly Agree</td>\n",
              "      <td>Strongly Agree</td>\n",
              "      <td>Agree</td>\n",
              "      <td>Agree</td>\n",
              "      <td>Agree</td>\n",
              "      <td>Agree</td>\n",
              "      <td>Agree</td>\n",
              "      <td>Agree</td>\n",
              "      <td>Agree</td>\n",
              "      <td>Agree</td>\n",
              "      <td>Agree</td>\n",
              "      <td>Agree</td>\n",
              "      <td>Agree</td>\n",
              "      <td>Agree</td>\n",
              "      <td>Agree</td>\n",
              "      <td>Agree</td>\n",
              "      <td>Agree</td>\n",
              "      <td>No</td>\n",
              "      <td>NaN</td>\n",
              "      <td>NaN</td>\n",
              "      <td>NaN</td>\n",
              "      <td>NaN</td>\n",
              "      <td>NaN</td>\n",
              "      <td>NaN</td>\n",
              "      <td>NaN</td>\n",
              "      <td>NaN</td>\n",
              "      <td>NaN</td>\n",
              "      <td>NaN</td>\n",
              "      <td>NaN</td>\n",
              "      <td>NaN</td>\n",
              "      <td>Yes</td>\n",
              "      <td>Yes</td>\n",
              "      <td>Yes</td>\n",
              "      <td>Yes</td>\n",
              "      <td>Yes</td>\n",
              "      <td>NaN</td>\n",
              "      <td>NaN</td>\n",
              "      <td>NaN</td>\n",
              "      <td>NaN</td>\n",
              "      <td>NaN</td>\n",
              "      <td>NaN</td>\n",
              "    </tr>\n",
              "    <tr>\n",
              "      <th>3</th>\n",
              "      <td>6.341399e+17</td>\n",
              "      <td>Mount Isa Institute of TAFE</td>\n",
              "      <td>Non-Delivery (corporate)</td>\n",
              "      <td>2010.0</td>\n",
              "      <td>Resignation</td>\n",
              "      <td>-</td>\n",
              "      <td>-</td>\n",
              "      <td>-</td>\n",
              "      <td>-</td>\n",
              "      <td>-</td>\n",
              "      <td>-</td>\n",
              "      <td>-</td>\n",
              "      <td>-</td>\n",
              "      <td>-</td>\n",
              "      <td>Travel</td>\n",
              "      <td>-</td>\n",
              "      <td>-</td>\n",
              "      <td>NaN</td>\n",
              "      <td>Agree</td>\n",
              "      <td>Agree</td>\n",
              "      <td>Agree</td>\n",
              "      <td>Agree</td>\n",
              "      <td>Agree</td>\n",
              "      <td>Agree</td>\n",
              "      <td>Agree</td>\n",
              "      <td>Agree</td>\n",
              "      <td>Agree</td>\n",
              "      <td>Agree</td>\n",
              "      <td>Agree</td>\n",
              "      <td>Agree</td>\n",
              "      <td>Agree</td>\n",
              "      <td>Strongly Agree</td>\n",
              "      <td>Strongly Agree</td>\n",
              "      <td>Strongly Agree</td>\n",
              "      <td>Strongly Agree</td>\n",
              "      <td>Strongly Agree</td>\n",
              "      <td>Strongly Agree</td>\n",
              "      <td>Strongly Agree</td>\n",
              "      <td>Strongly Agree</td>\n",
              "      <td>Strongly Agree</td>\n",
              "      <td>Strongly Agree</td>\n",
              "      <td>Strongly Agree</td>\n",
              "      <td>Strongly Agree</td>\n",
              "      <td>Strongly Agree</td>\n",
              "      <td>Strongly Agree</td>\n",
              "      <td>Strongly Agree</td>\n",
              "      <td>Strongly Agree</td>\n",
              "      <td>Strongly Agree</td>\n",
              "      <td>Yes</td>\n",
              "      <td>No</td>\n",
              "      <td>Yes</td>\n",
              "      <td>Yes</td>\n",
              "      <td>-</td>\n",
              "      <td>-</td>\n",
              "      <td>-</td>\n",
              "      <td>NaN</td>\n",
              "      <td>-</td>\n",
              "      <td>-</td>\n",
              "      <td>-</td>\n",
              "      <td>-</td>\n",
              "      <td>-</td>\n",
              "      <td>Yes</td>\n",
              "      <td>Yes</td>\n",
              "      <td>Yes</td>\n",
              "      <td>Yes</td>\n",
              "      <td>Yes</td>\n",
              "      <td>NaN</td>\n",
              "      <td>NaN</td>\n",
              "      <td>NaN</td>\n",
              "      <td>NaN</td>\n",
              "      <td>NaN</td>\n",
              "      <td>NaN</td>\n",
              "    </tr>\n",
              "    <tr>\n",
              "      <th>4</th>\n",
              "      <td>6.341466e+17</td>\n",
              "      <td>Southern Queensland Institute of TAFE</td>\n",
              "      <td>Delivery (teaching)</td>\n",
              "      <td>2010.0</td>\n",
              "      <td>Resignation</td>\n",
              "      <td>-</td>\n",
              "      <td>Career Move - Private Sector</td>\n",
              "      <td>-</td>\n",
              "      <td>-</td>\n",
              "      <td>-</td>\n",
              "      <td>-</td>\n",
              "      <td>-</td>\n",
              "      <td>-</td>\n",
              "      <td>-</td>\n",
              "      <td>-</td>\n",
              "      <td>-</td>\n",
              "      <td>-</td>\n",
              "      <td>NaN</td>\n",
              "      <td>Agree</td>\n",
              "      <td>Agree</td>\n",
              "      <td>Strongly Agree</td>\n",
              "      <td>Agree</td>\n",
              "      <td>Strongly Agree</td>\n",
              "      <td>Strongly Agree</td>\n",
              "      <td>Strongly Agree</td>\n",
              "      <td>Strongly Agree</td>\n",
              "      <td>Agree</td>\n",
              "      <td>Strongly Agree</td>\n",
              "      <td>Strongly Agree</td>\n",
              "      <td>Agree</td>\n",
              "      <td>Strongly Agree</td>\n",
              "      <td>Strongly Agree</td>\n",
              "      <td>Strongly Agree</td>\n",
              "      <td>Strongly Agree</td>\n",
              "      <td>Strongly Agree</td>\n",
              "      <td>Strongly Agree</td>\n",
              "      <td>Strongly Agree</td>\n",
              "      <td>Strongly Agree</td>\n",
              "      <td>Strongly Agree</td>\n",
              "      <td>Strongly Agree</td>\n",
              "      <td>Strongly Agree</td>\n",
              "      <td>Strongly Agree</td>\n",
              "      <td>Strongly Agree</td>\n",
              "      <td>Strongly Agree</td>\n",
              "      <td>Strongly Agree</td>\n",
              "      <td>Strongly Agree</td>\n",
              "      <td>Strongly Agree</td>\n",
              "      <td>Strongly Agree</td>\n",
              "      <td>Yes</td>\n",
              "      <td>Yes</td>\n",
              "      <td>Yes</td>\n",
              "      <td>Yes</td>\n",
              "      <td>-</td>\n",
              "      <td>-</td>\n",
              "      <td>Induction Manual</td>\n",
              "      <td>Face to Face</td>\n",
              "      <td>-</td>\n",
              "      <td>-</td>\n",
              "      <td>Face to Face</td>\n",
              "      <td>-</td>\n",
              "      <td>-</td>\n",
              "      <td>Yes</td>\n",
              "      <td>Yes</td>\n",
              "      <td>Yes</td>\n",
              "      <td>Yes</td>\n",
              "      <td>Yes</td>\n",
              "      <td>Male</td>\n",
              "      <td>41  45</td>\n",
              "      <td>Permanent Full-time</td>\n",
              "      <td>Teacher (including LVT)</td>\n",
              "      <td>3-4</td>\n",
              "      <td>3-4</td>\n",
              "    </tr>\n",
              "  </tbody>\n",
              "</table>\n",
              "</div>"
            ],
            "text/plain": [
              "      Record ID                              Institute  \\\n",
              "0  6.341330e+17  Southern Queensland Institute of TAFE   \n",
              "1  6.341337e+17            Mount Isa Institute of TAFE   \n",
              "2  6.341388e+17            Mount Isa Institute of TAFE   \n",
              "3  6.341399e+17            Mount Isa Institute of TAFE   \n",
              "4  6.341466e+17  Southern Queensland Institute of TAFE   \n",
              "\n",
              "                   WorkArea  CESSATION YEAR Reason for ceasing employment  \\\n",
              "0  Non-Delivery (corporate)          2010.0              Contract Expired   \n",
              "1  Non-Delivery (corporate)          2010.0                    Retirement   \n",
              "2       Delivery (teaching)          2010.0                    Retirement   \n",
              "3  Non-Delivery (corporate)          2010.0                   Resignation   \n",
              "4       Delivery (teaching)          2010.0                   Resignation   \n",
              "\n",
              "  Contributing Factors. Career Move - Public Sector   \\\n",
              "0                                                NaN   \n",
              "1                                                  -   \n",
              "2                                                  -   \n",
              "3                                                  -   \n",
              "4                                                  -   \n",
              "\n",
              "  Contributing Factors. Career Move - Private Sector   \\\n",
              "0                                                NaN    \n",
              "1                                                  -    \n",
              "2                                                  -    \n",
              "3                                                  -    \n",
              "4                       Career Move - Private Sector    \n",
              "\n",
              "  Contributing Factors. Career Move - Self-employment  \\\n",
              "0                                                NaN    \n",
              "1                                                  -    \n",
              "2                                                  -    \n",
              "3                                                  -    \n",
              "4                                                  -    \n",
              "\n",
              "  Contributing Factors. Ill Health Contributing Factors. Maternity/Family  \\\n",
              "0                              NaN                                    NaN   \n",
              "1                                -                                      -   \n",
              "2                                -                                      -   \n",
              "3                                -                                      -   \n",
              "4                                -                                      -   \n",
              "\n",
              "  Contributing Factors. Dissatisfaction  \\\n",
              "0                                   NaN   \n",
              "1                                     -   \n",
              "2                                     -   \n",
              "3                                     -   \n",
              "4                                     -   \n",
              "\n",
              "  Contributing Factors. Job Dissatisfaction  \\\n",
              "0                                       NaN   \n",
              "1                                         -   \n",
              "2                                         -   \n",
              "3                                         -   \n",
              "4                                         -   \n",
              "\n",
              "  Contributing Factors. Interpersonal Conflict Contributing Factors. Study  \\\n",
              "0                                          NaN                         NaN   \n",
              "1                                            -                           -   \n",
              "2                                            -                           -   \n",
              "3                                            -                           -   \n",
              "4                                            -                           -   \n",
              "\n",
              "  Contributing Factors. Travel Contributing Factors. Other  \\\n",
              "0                          NaN                         NaN   \n",
              "1                       Travel                           -   \n",
              "2                            -                           -   \n",
              "3                       Travel                           -   \n",
              "4                            -                           -   \n",
              "\n",
              "  Contributing Factors. NONE  \\\n",
              "0                        NaN   \n",
              "1                          -   \n",
              "2                       NONE   \n",
              "3                          -   \n",
              "4                          -   \n",
              "\n",
              "  Main Factor. Which of these was the main factor for leaving?  \\\n",
              "0                                                NaN             \n",
              "1                                                NaN             \n",
              "2                                                NaN             \n",
              "3                                                NaN             \n",
              "4                                                NaN             \n",
              "\n",
              "  InstituteViews. Topic:1. I feel the senior leadership had a clear vision and direction  \\\n",
              "0                                              Agree                                       \n",
              "1                                              Agree                                       \n",
              "2                                              Agree                                       \n",
              "3                                              Agree                                       \n",
              "4                                              Agree                                       \n",
              "\n",
              "  InstituteViews. Topic:2. I was given access to skills training to help me do my job better  \\\n",
              "0                                              Agree                                           \n",
              "1                                              Agree                                           \n",
              "2                                              Agree                                           \n",
              "3                                              Agree                                           \n",
              "4                                              Agree                                           \n",
              "\n",
              "  InstituteViews. Topic:3. I was given adequate opportunities for personal development  \\\n",
              "0                                              Agree                                     \n",
              "1                                              Agree                                     \n",
              "2                                              Agree                                     \n",
              "3                                              Agree                                     \n",
              "4                                     Strongly Agree                                     \n",
              "\n",
              "  InstituteViews. Topic:4. I was given adequate opportunities for promotion within %Institute]Q25LBL%  \\\n",
              "0                                            Neutral                                                    \n",
              "1                                              Agree                                                    \n",
              "2                                              Agree                                                    \n",
              "3                                              Agree                                                    \n",
              "4                                              Agree                                                    \n",
              "\n",
              "  InstituteViews. Topic:5. I felt the salary for the job was right for the responsibilities I had  \\\n",
              "0                                              Agree                                                \n",
              "1                                              Agree                                                \n",
              "2                                              Agree                                                \n",
              "3                                              Agree                                                \n",
              "4                                     Strongly Agree                                                \n",
              "\n",
              "  InstituteViews. Topic:6. The organisation recognised when staff did good work  \\\n",
              "0                                              Agree                              \n",
              "1                                     Strongly Agree                              \n",
              "2                                              Agree                              \n",
              "3                                              Agree                              \n",
              "4                                     Strongly Agree                              \n",
              "\n",
              "  InstituteViews. Topic:7. Management was generally supportive of me  \\\n",
              "0                                              Agree                   \n",
              "1                                     Strongly Agree                   \n",
              "2                                     Strongly Agree                   \n",
              "3                                              Agree                   \n",
              "4                                     Strongly Agree                   \n",
              "\n",
              "  InstituteViews. Topic:8. Management was generally supportive of my team  \\\n",
              "0                                              Agree                        \n",
              "1                                              Agree                        \n",
              "2                                              Agree                        \n",
              "3                                              Agree                        \n",
              "4                                     Strongly Agree                        \n",
              "\n",
              "  InstituteViews. Topic:9. I was kept informed of the changes in the organisation which would affect me  \\\n",
              "0                                              Agree                                                      \n",
              "1                                     Strongly Agree                                                      \n",
              "2                                              Agree                                                      \n",
              "3                                              Agree                                                      \n",
              "4                                              Agree                                                      \n",
              "\n",
              "  InstituteViews. Topic:10. Staff morale was positive within the Institute  \\\n",
              "0                                              Agree                         \n",
              "1                                              Agree                         \n",
              "2                                              Agree                         \n",
              "3                                              Agree                         \n",
              "4                                     Strongly Agree                         \n",
              "\n",
              "  InstituteViews. Topic:11. If I had a workplace issue it was dealt with quickly  \\\n",
              "0                                              Agree                               \n",
              "1                                              Agree                               \n",
              "2                                              Agree                               \n",
              "3                                              Agree                               \n",
              "4                                     Strongly Agree                               \n",
              "\n",
              "  InstituteViews. Topic:12. If I had a workplace issue it was dealt with efficiently  \\\n",
              "0                                              Agree                                   \n",
              "1                                              Agree                                   \n",
              "2                                            Neutral                                   \n",
              "3                                              Agree                                   \n",
              "4                                              Agree                                   \n",
              "\n",
              "  InstituteViews. Topic:13. If I had a workplace issue it was dealt with discreetly  \\\n",
              "0                                              Agree                                  \n",
              "1                                           Disagree                                  \n",
              "2                                            Neutral                                  \n",
              "3                                              Agree                                  \n",
              "4                                     Strongly Agree                                  \n",
              "\n",
              "  WorkUnitViews. Topic:14. I was satisfied with the quality of the management and supervision within my work unit  \\\n",
              "0                                              Agree                                                                \n",
              "1                                     Strongly Agree                                                                \n",
              "2                                     Strongly Agree                                                                \n",
              "3                                     Strongly Agree                                                                \n",
              "4                                     Strongly Agree                                                                \n",
              "\n",
              "  WorkUnitViews. Topic:15. I worked well with my colleagues  \\\n",
              "0                                              Agree          \n",
              "1                                     Strongly Agree          \n",
              "2                                     Strongly Agree          \n",
              "3                                     Strongly Agree          \n",
              "4                                     Strongly Agree          \n",
              "\n",
              "  WorkUnitViews. Topic:16. My job was challenging and interesting  \\\n",
              "0                                              Agree                \n",
              "1                                     Strongly Agree                \n",
              "2                                              Agree                \n",
              "3                                     Strongly Agree                \n",
              "4                                     Strongly Agree                \n",
              "\n",
              "  WorkUnitViews. Topic:17. I was encouraged to use my initiative in the course of my work  \\\n",
              "0                                     Strongly Agree                                        \n",
              "1                                              Agree                                        \n",
              "2                                              Agree                                        \n",
              "3                                     Strongly Agree                                        \n",
              "4                                     Strongly Agree                                        \n",
              "\n",
              "  WorkUnitViews. Topic:18. I had sufficient contact with other people in my job  \\\n",
              "0                                              Agree                              \n",
              "1                                              Agree                              \n",
              "2                                              Agree                              \n",
              "3                                     Strongly Agree                              \n",
              "4                                     Strongly Agree                              \n",
              "\n",
              "  WorkUnitViews. Topic:19. I was given adequate support and co-operation by my peers to enable me to do my job  \\\n",
              "0                                              Agree                                                             \n",
              "1                                              Agree                                                             \n",
              "2                                              Agree                                                             \n",
              "3                                     Strongly Agree                                                             \n",
              "4                                     Strongly Agree                                                             \n",
              "\n",
              "  WorkUnitViews. Topic:20. I was able to use the full range of my skills in my job  \\\n",
              "0                                              Agree                                 \n",
              "1                                     Strongly Agree                                 \n",
              "2                                              Agree                                 \n",
              "3                                     Strongly Agree                                 \n",
              "4                                     Strongly Agree                                 \n",
              "\n",
              "  WorkUnitViews. Topic:21. I was able to use the full range of my abilities in my job. ; Category:Level of Agreement; Question:YOUR VIEWS ABOUT YOUR WORK UNIT]  \\\n",
              "0                                              Agree                                                                                                              \n",
              "1                                              Agree                                                                                                              \n",
              "2                                              Agree                                                                                                              \n",
              "3                                     Strongly Agree                                                                                                              \n",
              "4                                     Strongly Agree                                                                                                              \n",
              "\n",
              "  WorkUnitViews. Topic:22. I was able to use the full range of my knowledge in my job  \\\n",
              "0                                              Agree                                    \n",
              "1                                              Agree                                    \n",
              "2                                              Agree                                    \n",
              "3                                     Strongly Agree                                    \n",
              "4                                     Strongly Agree                                    \n",
              "\n",
              "  WorkUnitViews. Topic:23. My job provided sufficient variety  \\\n",
              "0                                              Agree            \n",
              "1                                              Agree            \n",
              "2                                              Agree            \n",
              "3                                     Strongly Agree            \n",
              "4                                     Strongly Agree            \n",
              "\n",
              "  WorkUnitViews. Topic:24. I was able to cope with the level of stress and pressure in my job  \\\n",
              "0                                              Agree                                            \n",
              "1                                     Strongly Agree                                            \n",
              "2                                              Agree                                            \n",
              "3                                     Strongly Agree                                            \n",
              "4                                     Strongly Agree                                            \n",
              "\n",
              "  WorkUnitViews. Topic:25. My job allowed me to balance the demands of work and family to my satisfaction  \\\n",
              "0                                              Agree                                                        \n",
              "1                                              Agree                                                        \n",
              "2                                              Agree                                                        \n",
              "3                                     Strongly Agree                                                        \n",
              "4                                     Strongly Agree                                                        \n",
              "\n",
              "  WorkUnitViews. Topic:26. My supervisor gave me adequate personal recognition and feedback on my performance  \\\n",
              "0                                              Agree                                                            \n",
              "1                                     Strongly Agree                                                            \n",
              "2                                              Agree                                                            \n",
              "3                                     Strongly Agree                                                            \n",
              "4                                     Strongly Agree                                                            \n",
              "\n",
              "  WorkUnitViews. Topic:27. My working environment was satisfactory e.g. sufficient space, good lighting, suitable seating and working area  \\\n",
              "0                                              Agree                                                                                         \n",
              "1                                     Strongly Agree                                                                                         \n",
              "2                                              Agree                                                                                         \n",
              "3                                     Strongly Agree                                                                                         \n",
              "4                                     Strongly Agree                                                                                         \n",
              "\n",
              "  WorkUnitViews. Topic:28. I was given the opportunity to mentor and coach others in order for me to pass on my skills and knowledge prior to my cessation date  \\\n",
              "0                                            Neutral                                                                                                              \n",
              "1                                              Agree                                                                                                              \n",
              "2                                              Agree                                                                                                              \n",
              "3                                     Strongly Agree                                                                                                              \n",
              "4                                     Strongly Agree                                                                                                              \n",
              "\n",
              "  WorkUnitViews. Topic:29. There was adequate communication between staff in my unit  \\\n",
              "0                                              Agree                                   \n",
              "1                                              Agree                                   \n",
              "2                                              Agree                                   \n",
              "3                                     Strongly Agree                                   \n",
              "4                                     Strongly Agree                                   \n",
              "\n",
              "  WorkUnitViews. Topic:30. Staff morale was positive within my work unit  \\\n",
              "0                                              Agree                       \n",
              "1                                     Strongly Agree                       \n",
              "2                                              Agree                       \n",
              "3                                     Strongly Agree                       \n",
              "4                                     Strongly Agree                       \n",
              "\n",
              "  Induction. Did you undertake Workplace Induction?  \\\n",
              "0                                               Yes   \n",
              "1                                                No   \n",
              "2                                                No   \n",
              "3                                               Yes   \n",
              "4                                               Yes   \n",
              "\n",
              "  InductionInfo. Topic:Did you undertake a Corporate Induction?  \\\n",
              "0                                                Yes              \n",
              "1                                                NaN              \n",
              "2                                                NaN              \n",
              "3                                                 No              \n",
              "4                                                Yes              \n",
              "\n",
              "  InductionInfo. Topic:Did you undertake a Institute Induction?  \\\n",
              "0                                                Yes              \n",
              "1                                                NaN              \n",
              "2                                                NaN              \n",
              "3                                                Yes              \n",
              "4                                                Yes              \n",
              "\n",
              "  InductionInfo. Topic: Did you undertake Team Induction?  \\\n",
              "0                                                Yes        \n",
              "1                                                NaN        \n",
              "2                                                NaN        \n",
              "3                                                Yes        \n",
              "4                                                Yes        \n",
              "\n",
              "  InductionInfo. Face to Face Topic:Did you undertake a Corporate Induction; Category:How it was conducted?  \\\n",
              "0                                       Face to Face                                                          \n",
              "1                                                NaN                                                          \n",
              "2                                                NaN                                                          \n",
              "3                                                  -                                                          \n",
              "4                                                  -                                                          \n",
              "\n",
              "  InductionInfo. On-line Topic:Did you undertake a Corporate Induction; Category:How it was conducted?  \\\n",
              "0                                                  -                                                     \n",
              "1                                                NaN                                                     \n",
              "2                                                NaN                                                     \n",
              "3                                                  -                                                     \n",
              "4                                                  -                                                     \n",
              "\n",
              "  InductionInfo. Induction Manual Topic:Did you undertake a Corporate Induction?  \\\n",
              "0                                                  -                               \n",
              "1                                                NaN                               \n",
              "2                                                NaN                               \n",
              "3                                                  -                               \n",
              "4                                   Induction Manual                               \n",
              "\n",
              "  InductionInfo. Face to Face Topic:Did you undertake a Institute Induction?  \\\n",
              "0                                       Face to Face                           \n",
              "1                                                NaN                           \n",
              "2                                                NaN                           \n",
              "3                                                NaN                           \n",
              "4                                       Face to Face                           \n",
              "\n",
              "  InductionInfo. On-line Topic:Did you undertake a Institute Induction?  \\\n",
              "0                                                  -                      \n",
              "1                                                NaN                      \n",
              "2                                                NaN                      \n",
              "3                                                  -                      \n",
              "4                                                  -                      \n",
              "\n",
              "  InductionInfo. Induction Manual Topic:Did you undertake a Institute Induction?  \\\n",
              "0                                                  -                               \n",
              "1                                                NaN                               \n",
              "2                                                NaN                               \n",
              "3                                                  -                               \n",
              "4                                                  -                               \n",
              "\n",
              "  InductionInfo. Face to Face Topic: Did you undertake Team Induction; Category?  \\\n",
              "0                                       Face to Face                               \n",
              "1                                                NaN                               \n",
              "2                                                NaN                               \n",
              "3                                                  -                               \n",
              "4                                       Face to Face                               \n",
              "\n",
              "  InductionInfo. On-line Topic: Did you undertake Team Induction?process you undertook and how it was conducted.]  \\\n",
              "0                                                  -                                                                \n",
              "1                                                NaN                                                                \n",
              "2                                                NaN                                                                \n",
              "3                                                  -                                                                \n",
              "4                                                  -                                                                \n",
              "\n",
              "  InductionInfo. Induction Manual Topic: Did you undertake Team Induction?  \\\n",
              "0                                                  -                         \n",
              "1                                                NaN                         \n",
              "2                                                NaN                         \n",
              "3                                                  -                         \n",
              "4                                                  -                         \n",
              "\n",
              "  Workplace. Topic:Did you and your Manager develop a Performance and Professional Development Plan (PPDP)?  \\\n",
              "0                                                Yes                                                          \n",
              "1                                                Yes                                                          \n",
              "2                                                Yes                                                          \n",
              "3                                                Yes                                                          \n",
              "4                                                Yes                                                          \n",
              "\n",
              "  Workplace. Topic:Does your workplace promote a work culture free from all forms of unlawful discrimination?  \\\n",
              "0                                                Yes                                                            \n",
              "1                                                Yes                                                            \n",
              "2                                                Yes                                                            \n",
              "3                                                Yes                                                            \n",
              "4                                                Yes                                                            \n",
              "\n",
              "  Workplace. Topic:Does your workplace promote and practice the principles of employment equity?  \\\n",
              "0                                                Yes                                               \n",
              "1                                                Yes                                               \n",
              "2                                                Yes                                               \n",
              "3                                                Yes                                               \n",
              "4                                                Yes                                               \n",
              "\n",
              "  Workplace. Topic:Does your workplace value the diversity of its employees?  \\\n",
              "0                                                Yes                           \n",
              "1                                                Yes                           \n",
              "2                                                Yes                           \n",
              "3                                                Yes                           \n",
              "4                                                Yes                           \n",
              "\n",
              "  Workplace. Topic:Would you recommend the Institute as an employer to others?  \\\n",
              "0                                                Yes                             \n",
              "1                                                Yes                             \n",
              "2                                                Yes                             \n",
              "3                                                Yes                             \n",
              "4                                                Yes                             \n",
              "\n",
              "  Gender. What is your Gender? CurrentAge. Current Age  \\\n",
              "0                       Female                  26  30   \n",
              "1                          NaN                     NaN   \n",
              "2                          NaN                     NaN   \n",
              "3                          NaN                     NaN   \n",
              "4                         Male                  41  45   \n",
              "\n",
              "  Employment Type. Employment Type Classification. Classification  \\\n",
              "0              Temporary Full-time            Administration (AO)   \n",
              "1                              NaN                            NaN   \n",
              "2                              NaN                            NaN   \n",
              "3                              NaN                            NaN   \n",
              "4              Permanent Full-time        Teacher (including LVT)   \n",
              "\n",
              "  LengthofServiceOverall. Overall Length of Service at Institute (in years)  \\\n",
              "0                                                1-2                          \n",
              "1                                                NaN                          \n",
              "2                                                NaN                          \n",
              "3                                                NaN                          \n",
              "4                                                3-4                          \n",
              "\n",
              "  LengthofServiceCurrent. Length of Service at current workplace (in years)  \n",
              "0                                                1-2                         \n",
              "1                                                NaN                         \n",
              "2                                                NaN                         \n",
              "3                                                NaN                         \n",
              "4                                                3-4                         "
            ]
          },
          "metadata": {
            "tags": []
          },
          "execution_count": 5
        }
      ]
    },
    {
      "cell_type": "code",
      "metadata": {
        "id": "CEMc3MmFW0xp",
        "outputId": "3589e38d-79ef-4ee5-9ea4-dbc67cee0d39"
      },
      "source": [
        "tafe_survey.info()"
      ],
      "execution_count": null,
      "outputs": [
        {
          "output_type": "stream",
          "text": [
            "<class 'pandas.core.frame.DataFrame'>\n",
            "RangeIndex: 702 entries, 0 to 701\n",
            "Data columns (total 72 columns):\n",
            "Record ID                                                                                                                                                        702 non-null float64\n",
            "Institute                                                                                                                                                        702 non-null object\n",
            "WorkArea                                                                                                                                                         702 non-null object\n",
            "CESSATION YEAR                                                                                                                                                   695 non-null float64\n",
            "Reason for ceasing employment                                                                                                                                    701 non-null object\n",
            "Contributing Factors. Career Move - Public Sector                                                                                                                437 non-null object\n",
            "Contributing Factors. Career Move - Private Sector                                                                                                               437 non-null object\n",
            "Contributing Factors. Career Move - Self-employment                                                                                                              437 non-null object\n",
            "Contributing Factors. Ill Health                                                                                                                                 437 non-null object\n",
            "Contributing Factors. Maternity/Family                                                                                                                           437 non-null object\n",
            "Contributing Factors. Dissatisfaction                                                                                                                            437 non-null object\n",
            "Contributing Factors. Job Dissatisfaction                                                                                                                        437 non-null object\n",
            "Contributing Factors. Interpersonal Conflict                                                                                                                     437 non-null object\n",
            "Contributing Factors. Study                                                                                                                                      437 non-null object\n",
            "Contributing Factors. Travel                                                                                                                                     437 non-null object\n",
            "Contributing Factors. Other                                                                                                                                      437 non-null object\n",
            "Contributing Factors. NONE                                                                                                                                       437 non-null object\n",
            "Main Factor. Which of these was the main factor for leaving?                                                                                                     113 non-null object\n",
            "InstituteViews. Topic:1. I feel the senior leadership had a clear vision and direction                                                                           608 non-null object\n",
            "InstituteViews. Topic:2. I was given access to skills training to help me do my job better                                                                       613 non-null object\n",
            "InstituteViews. Topic:3. I was given adequate opportunities for personal development                                                                             610 non-null object\n",
            "InstituteViews. Topic:4. I was given adequate opportunities for promotion within %Institute]Q25LBL%                                                              608 non-null object\n",
            "InstituteViews. Topic:5. I felt the salary for the job was right for the responsibilities I had                                                                  615 non-null object\n",
            "InstituteViews. Topic:6. The organisation recognised when staff did good work                                                                                    607 non-null object\n",
            "InstituteViews. Topic:7. Management was generally supportive of me                                                                                               614 non-null object\n",
            "InstituteViews. Topic:8. Management was generally supportive of my team                                                                                          608 non-null object\n",
            "InstituteViews. Topic:9. I was kept informed of the changes in the organisation which would affect me                                                            610 non-null object\n",
            "InstituteViews. Topic:10. Staff morale was positive within the Institute                                                                                         602 non-null object\n",
            "InstituteViews. Topic:11. If I had a workplace issue it was dealt with quickly                                                                                   601 non-null object\n",
            "InstituteViews. Topic:12. If I had a workplace issue it was dealt with efficiently                                                                               597 non-null object\n",
            "InstituteViews. Topic:13. If I had a workplace issue it was dealt with discreetly                                                                                601 non-null object\n",
            "WorkUnitViews. Topic:14. I was satisfied with the quality of the management and supervision within my work unit                                                  609 non-null object\n",
            "WorkUnitViews. Topic:15. I worked well with my colleagues                                                                                                        605 non-null object\n",
            "WorkUnitViews. Topic:16. My job was challenging and interesting                                                                                                  607 non-null object\n",
            "WorkUnitViews. Topic:17. I was encouraged to use my initiative in the course of my work                                                                          610 non-null object\n",
            "WorkUnitViews. Topic:18. I had sufficient contact with other people in my job                                                                                    613 non-null object\n",
            "WorkUnitViews. Topic:19. I was given adequate support and co-operation by my peers to enable me to do my job                                                     609 non-null object\n",
            "WorkUnitViews. Topic:20. I was able to use the full range of my skills in my job                                                                                 609 non-null object\n",
            "WorkUnitViews. Topic:21. I was able to use the full range of my abilities in my job. ; Category:Level of Agreement; Question:YOUR VIEWS ABOUT YOUR WORK UNIT]    608 non-null object\n",
            "WorkUnitViews. Topic:22. I was able to use the full range of my knowledge in my job                                                                              608 non-null object\n",
            "WorkUnitViews. Topic:23. My job provided sufficient variety                                                                                                      611 non-null object\n",
            "WorkUnitViews. Topic:24. I was able to cope with the level of stress and pressure in my job                                                                      610 non-null object\n",
            "WorkUnitViews. Topic:25. My job allowed me to balance the demands of work and family to my satisfaction                                                          611 non-null object\n",
            "WorkUnitViews. Topic:26. My supervisor gave me adequate personal recognition and feedback on my performance                                                      606 non-null object\n",
            "WorkUnitViews. Topic:27. My working environment was satisfactory e.g. sufficient space, good lighting, suitable seating and working area                         610 non-null object\n",
            "WorkUnitViews. Topic:28. I was given the opportunity to mentor and coach others in order for me to pass on my skills and knowledge prior to my cessation date    609 non-null object\n",
            "WorkUnitViews. Topic:29. There was adequate communication between staff in my unit                                                                               603 non-null object\n",
            "WorkUnitViews. Topic:30. Staff morale was positive within my work unit                                                                                           606 non-null object\n",
            "Induction. Did you undertake Workplace Induction?                                                                                                                619 non-null object\n",
            "InductionInfo. Topic:Did you undertake a Corporate Induction?                                                                                                    432 non-null object\n",
            "InductionInfo. Topic:Did you undertake a Institute Induction?                                                                                                    483 non-null object\n",
            "InductionInfo. Topic: Did you undertake Team Induction?                                                                                                          440 non-null object\n",
            "InductionInfo. Face to Face Topic:Did you undertake a Corporate Induction; Category:How it was conducted?                                                        555 non-null object\n",
            "InductionInfo. On-line Topic:Did you undertake a Corporate Induction; Category:How it was conducted?                                                             555 non-null object\n",
            "InductionInfo. Induction Manual Topic:Did you undertake a Corporate Induction?                                                                                   555 non-null object\n",
            "InductionInfo. Face to Face Topic:Did you undertake a Institute Induction?                                                                                       530 non-null object\n",
            "InductionInfo. On-line Topic:Did you undertake a Institute Induction?                                                                                            555 non-null object\n",
            "InductionInfo. Induction Manual Topic:Did you undertake a Institute Induction?                                                                                   553 non-null object\n",
            "InductionInfo. Face to Face Topic: Did you undertake Team Induction; Category?                                                                                   555 non-null object\n",
            "InductionInfo. On-line Topic: Did you undertake Team Induction?process you undertook and how it was conducted.]                                                  555 non-null object\n",
            "InductionInfo. Induction Manual Topic: Did you undertake Team Induction?                                                                                         555 non-null object\n",
            "Workplace. Topic:Did you and your Manager develop a Performance and Professional Development Plan (PPDP)?                                                        608 non-null object\n",
            "Workplace. Topic:Does your workplace promote a work culture free from all forms of unlawful discrimination?                                                      594 non-null object\n",
            "Workplace. Topic:Does your workplace promote and practice the principles of employment equity?                                                                   587 non-null object\n",
            "Workplace. Topic:Does your workplace value the diversity of its employees?                                                                                       586 non-null object\n",
            "Workplace. Topic:Would you recommend the Institute as an employer to others?                                                                                     581 non-null object\n",
            "Gender. What is your Gender?                                                                                                                                     596 non-null object\n",
            "CurrentAge. Current Age                                                                                                                                          596 non-null object\n",
            "Employment Type. Employment Type                                                                                                                                 596 non-null object\n",
            "Classification. Classification                                                                                                                                   596 non-null object\n",
            "LengthofServiceOverall. Overall Length of Service at Institute (in years)                                                                                        596 non-null object\n",
            "LengthofServiceCurrent. Length of Service at current workplace (in years)                                                                                        596 non-null object\n",
            "dtypes: float64(2), object(70)\n",
            "memory usage: 395.0+ KB\n"
          ],
          "name": "stdout"
        }
      ]
    },
    {
      "cell_type": "markdown",
      "metadata": {
        "id": "0OXlmTDzW0yB"
      },
      "source": [
        "# Identify Missing Values and Drop Unneccessary Columns\n",
        "\n",
        "It seems there is alot of missing information in DETE, this should be analyzed further to see if there is anything alarming. "
      ]
    },
    {
      "cell_type": "code",
      "metadata": {
        "id": "2jjH3gzQW0yG",
        "outputId": "2ffbe8f1-060f-4ceb-89f8-b609be66672c"
      },
      "source": [
        "# Read in  `Not Stated` values as `NaN`\n",
        "dete_survey = pd.read_csv('dete_survey.csv', na_values='Not Stated')\n",
        "\n",
        "dete_survey.head()"
      ],
      "execution_count": null,
      "outputs": [
        {
          "output_type": "execute_result",
          "data": {
            "text/html": [
              "<div>\n",
              "<style scoped>\n",
              "    .dataframe tbody tr th:only-of-type {\n",
              "        vertical-align: middle;\n",
              "    }\n",
              "\n",
              "    .dataframe tbody tr th {\n",
              "        vertical-align: top;\n",
              "    }\n",
              "\n",
              "    .dataframe thead th {\n",
              "        text-align: right;\n",
              "    }\n",
              "</style>\n",
              "<table border=\"1\" class=\"dataframe\">\n",
              "  <thead>\n",
              "    <tr style=\"text-align: right;\">\n",
              "      <th></th>\n",
              "      <th>ID</th>\n",
              "      <th>SeparationType</th>\n",
              "      <th>Cease Date</th>\n",
              "      <th>DETE Start Date</th>\n",
              "      <th>Role Start Date</th>\n",
              "      <th>Position</th>\n",
              "      <th>Classification</th>\n",
              "      <th>Region</th>\n",
              "      <th>Business Unit</th>\n",
              "      <th>Employment Status</th>\n",
              "      <th>Career move to public sector</th>\n",
              "      <th>Career move to private sector</th>\n",
              "      <th>Interpersonal conflicts</th>\n",
              "      <th>Job dissatisfaction</th>\n",
              "      <th>Dissatisfaction with the department</th>\n",
              "      <th>Physical work environment</th>\n",
              "      <th>Lack of recognition</th>\n",
              "      <th>Lack of job security</th>\n",
              "      <th>Work location</th>\n",
              "      <th>Employment conditions</th>\n",
              "      <th>Maternity/family</th>\n",
              "      <th>Relocation</th>\n",
              "      <th>Study/Travel</th>\n",
              "      <th>Ill Health</th>\n",
              "      <th>Traumatic incident</th>\n",
              "      <th>Work life balance</th>\n",
              "      <th>Workload</th>\n",
              "      <th>None of the above</th>\n",
              "      <th>Professional Development</th>\n",
              "      <th>Opportunities for promotion</th>\n",
              "      <th>Staff morale</th>\n",
              "      <th>Workplace issue</th>\n",
              "      <th>Physical environment</th>\n",
              "      <th>Worklife balance</th>\n",
              "      <th>Stress and pressure support</th>\n",
              "      <th>Performance of supervisor</th>\n",
              "      <th>Peer support</th>\n",
              "      <th>Initiative</th>\n",
              "      <th>Skills</th>\n",
              "      <th>Coach</th>\n",
              "      <th>Career Aspirations</th>\n",
              "      <th>Feedback</th>\n",
              "      <th>Further PD</th>\n",
              "      <th>Communication</th>\n",
              "      <th>My say</th>\n",
              "      <th>Information</th>\n",
              "      <th>Kept informed</th>\n",
              "      <th>Wellness programs</th>\n",
              "      <th>Health &amp; Safety</th>\n",
              "      <th>Gender</th>\n",
              "      <th>Age</th>\n",
              "      <th>Aboriginal</th>\n",
              "      <th>Torres Strait</th>\n",
              "      <th>South Sea</th>\n",
              "      <th>Disability</th>\n",
              "      <th>NESB</th>\n",
              "    </tr>\n",
              "  </thead>\n",
              "  <tbody>\n",
              "    <tr>\n",
              "      <th>0</th>\n",
              "      <td>1</td>\n",
              "      <td>Ill Health Retirement</td>\n",
              "      <td>08/2012</td>\n",
              "      <td>1984.0</td>\n",
              "      <td>2004.0</td>\n",
              "      <td>Public Servant</td>\n",
              "      <td>A01-A04</td>\n",
              "      <td>Central Office</td>\n",
              "      <td>Corporate Strategy and Peformance</td>\n",
              "      <td>Permanent Full-time</td>\n",
              "      <td>True</td>\n",
              "      <td>False</td>\n",
              "      <td>False</td>\n",
              "      <td>True</td>\n",
              "      <td>False</td>\n",
              "      <td>False</td>\n",
              "      <td>True</td>\n",
              "      <td>False</td>\n",
              "      <td>False</td>\n",
              "      <td>False</td>\n",
              "      <td>False</td>\n",
              "      <td>False</td>\n",
              "      <td>False</td>\n",
              "      <td>False</td>\n",
              "      <td>False</td>\n",
              "      <td>False</td>\n",
              "      <td>False</td>\n",
              "      <td>True</td>\n",
              "      <td>A</td>\n",
              "      <td>A</td>\n",
              "      <td>N</td>\n",
              "      <td>N</td>\n",
              "      <td>N</td>\n",
              "      <td>A</td>\n",
              "      <td>A</td>\n",
              "      <td>A</td>\n",
              "      <td>A</td>\n",
              "      <td>N</td>\n",
              "      <td>N</td>\n",
              "      <td>N</td>\n",
              "      <td>A</td>\n",
              "      <td>A</td>\n",
              "      <td>A</td>\n",
              "      <td>N</td>\n",
              "      <td>A</td>\n",
              "      <td>A</td>\n",
              "      <td>N</td>\n",
              "      <td>N</td>\n",
              "      <td>N</td>\n",
              "      <td>Male</td>\n",
              "      <td>56-60</td>\n",
              "      <td>NaN</td>\n",
              "      <td>NaN</td>\n",
              "      <td>NaN</td>\n",
              "      <td>NaN</td>\n",
              "      <td>Yes</td>\n",
              "    </tr>\n",
              "    <tr>\n",
              "      <th>1</th>\n",
              "      <td>2</td>\n",
              "      <td>Voluntary Early Retirement (VER)</td>\n",
              "      <td>08/2012</td>\n",
              "      <td>NaN</td>\n",
              "      <td>NaN</td>\n",
              "      <td>Public Servant</td>\n",
              "      <td>AO5-AO7</td>\n",
              "      <td>Central Office</td>\n",
              "      <td>Corporate Strategy and Peformance</td>\n",
              "      <td>Permanent Full-time</td>\n",
              "      <td>False</td>\n",
              "      <td>False</td>\n",
              "      <td>False</td>\n",
              "      <td>False</td>\n",
              "      <td>False</td>\n",
              "      <td>False</td>\n",
              "      <td>False</td>\n",
              "      <td>False</td>\n",
              "      <td>False</td>\n",
              "      <td>False</td>\n",
              "      <td>False</td>\n",
              "      <td>False</td>\n",
              "      <td>False</td>\n",
              "      <td>False</td>\n",
              "      <td>False</td>\n",
              "      <td>False</td>\n",
              "      <td>False</td>\n",
              "      <td>False</td>\n",
              "      <td>A</td>\n",
              "      <td>A</td>\n",
              "      <td>N</td>\n",
              "      <td>N</td>\n",
              "      <td>N</td>\n",
              "      <td>N</td>\n",
              "      <td>A</td>\n",
              "      <td>A</td>\n",
              "      <td>A</td>\n",
              "      <td>N</td>\n",
              "      <td>N</td>\n",
              "      <td>N</td>\n",
              "      <td>A</td>\n",
              "      <td>A</td>\n",
              "      <td>A</td>\n",
              "      <td>N</td>\n",
              "      <td>A</td>\n",
              "      <td>A</td>\n",
              "      <td>N</td>\n",
              "      <td>N</td>\n",
              "      <td>N</td>\n",
              "      <td>Male</td>\n",
              "      <td>56-60</td>\n",
              "      <td>NaN</td>\n",
              "      <td>NaN</td>\n",
              "      <td>NaN</td>\n",
              "      <td>NaN</td>\n",
              "      <td>NaN</td>\n",
              "    </tr>\n",
              "    <tr>\n",
              "      <th>2</th>\n",
              "      <td>3</td>\n",
              "      <td>Voluntary Early Retirement (VER)</td>\n",
              "      <td>05/2012</td>\n",
              "      <td>2011.0</td>\n",
              "      <td>2011.0</td>\n",
              "      <td>Schools Officer</td>\n",
              "      <td>NaN</td>\n",
              "      <td>Central Office</td>\n",
              "      <td>Education Queensland</td>\n",
              "      <td>Permanent Full-time</td>\n",
              "      <td>False</td>\n",
              "      <td>False</td>\n",
              "      <td>False</td>\n",
              "      <td>False</td>\n",
              "      <td>False</td>\n",
              "      <td>False</td>\n",
              "      <td>False</td>\n",
              "      <td>False</td>\n",
              "      <td>False</td>\n",
              "      <td>False</td>\n",
              "      <td>False</td>\n",
              "      <td>False</td>\n",
              "      <td>False</td>\n",
              "      <td>False</td>\n",
              "      <td>False</td>\n",
              "      <td>False</td>\n",
              "      <td>False</td>\n",
              "      <td>True</td>\n",
              "      <td>N</td>\n",
              "      <td>N</td>\n",
              "      <td>N</td>\n",
              "      <td>N</td>\n",
              "      <td>N</td>\n",
              "      <td>N</td>\n",
              "      <td>N</td>\n",
              "      <td>N</td>\n",
              "      <td>N</td>\n",
              "      <td>N</td>\n",
              "      <td>N</td>\n",
              "      <td>N</td>\n",
              "      <td>N</td>\n",
              "      <td>N</td>\n",
              "      <td>N</td>\n",
              "      <td>A</td>\n",
              "      <td>A</td>\n",
              "      <td>N</td>\n",
              "      <td>N</td>\n",
              "      <td>N</td>\n",
              "      <td>N</td>\n",
              "      <td>Male</td>\n",
              "      <td>61 or older</td>\n",
              "      <td>NaN</td>\n",
              "      <td>NaN</td>\n",
              "      <td>NaN</td>\n",
              "      <td>NaN</td>\n",
              "      <td>NaN</td>\n",
              "    </tr>\n",
              "    <tr>\n",
              "      <th>3</th>\n",
              "      <td>4</td>\n",
              "      <td>Resignation-Other reasons</td>\n",
              "      <td>05/2012</td>\n",
              "      <td>2005.0</td>\n",
              "      <td>2006.0</td>\n",
              "      <td>Teacher</td>\n",
              "      <td>Primary</td>\n",
              "      <td>Central Queensland</td>\n",
              "      <td>NaN</td>\n",
              "      <td>Permanent Full-time</td>\n",
              "      <td>False</td>\n",
              "      <td>True</td>\n",
              "      <td>False</td>\n",
              "      <td>False</td>\n",
              "      <td>False</td>\n",
              "      <td>False</td>\n",
              "      <td>False</td>\n",
              "      <td>False</td>\n",
              "      <td>False</td>\n",
              "      <td>False</td>\n",
              "      <td>False</td>\n",
              "      <td>False</td>\n",
              "      <td>False</td>\n",
              "      <td>False</td>\n",
              "      <td>False</td>\n",
              "      <td>False</td>\n",
              "      <td>False</td>\n",
              "      <td>False</td>\n",
              "      <td>A</td>\n",
              "      <td>N</td>\n",
              "      <td>N</td>\n",
              "      <td>N</td>\n",
              "      <td>A</td>\n",
              "      <td>A</td>\n",
              "      <td>N</td>\n",
              "      <td>N</td>\n",
              "      <td>A</td>\n",
              "      <td>A</td>\n",
              "      <td>A</td>\n",
              "      <td>A</td>\n",
              "      <td>A</td>\n",
              "      <td>A</td>\n",
              "      <td>A</td>\n",
              "      <td>A</td>\n",
              "      <td>A</td>\n",
              "      <td>A</td>\n",
              "      <td>A</td>\n",
              "      <td>N</td>\n",
              "      <td>A</td>\n",
              "      <td>Female</td>\n",
              "      <td>36-40</td>\n",
              "      <td>NaN</td>\n",
              "      <td>NaN</td>\n",
              "      <td>NaN</td>\n",
              "      <td>NaN</td>\n",
              "      <td>NaN</td>\n",
              "    </tr>\n",
              "    <tr>\n",
              "      <th>4</th>\n",
              "      <td>5</td>\n",
              "      <td>Age Retirement</td>\n",
              "      <td>05/2012</td>\n",
              "      <td>1970.0</td>\n",
              "      <td>1989.0</td>\n",
              "      <td>Head of Curriculum/Head of Special Education</td>\n",
              "      <td>NaN</td>\n",
              "      <td>South East</td>\n",
              "      <td>NaN</td>\n",
              "      <td>Permanent Full-time</td>\n",
              "      <td>False</td>\n",
              "      <td>False</td>\n",
              "      <td>False</td>\n",
              "      <td>False</td>\n",
              "      <td>False</td>\n",
              "      <td>False</td>\n",
              "      <td>False</td>\n",
              "      <td>False</td>\n",
              "      <td>False</td>\n",
              "      <td>False</td>\n",
              "      <td>False</td>\n",
              "      <td>False</td>\n",
              "      <td>False</td>\n",
              "      <td>False</td>\n",
              "      <td>False</td>\n",
              "      <td>True</td>\n",
              "      <td>False</td>\n",
              "      <td>False</td>\n",
              "      <td>A</td>\n",
              "      <td>A</td>\n",
              "      <td>N</td>\n",
              "      <td>N</td>\n",
              "      <td>D</td>\n",
              "      <td>D</td>\n",
              "      <td>N</td>\n",
              "      <td>A</td>\n",
              "      <td>A</td>\n",
              "      <td>A</td>\n",
              "      <td>A</td>\n",
              "      <td>A</td>\n",
              "      <td>A</td>\n",
              "      <td>SA</td>\n",
              "      <td>SA</td>\n",
              "      <td>D</td>\n",
              "      <td>D</td>\n",
              "      <td>A</td>\n",
              "      <td>N</td>\n",
              "      <td>A</td>\n",
              "      <td>M</td>\n",
              "      <td>Female</td>\n",
              "      <td>61 or older</td>\n",
              "      <td>NaN</td>\n",
              "      <td>NaN</td>\n",
              "      <td>NaN</td>\n",
              "      <td>NaN</td>\n",
              "      <td>NaN</td>\n",
              "    </tr>\n",
              "  </tbody>\n",
              "</table>\n",
              "</div>"
            ],
            "text/plain": [
              "   ID                    SeparationType Cease Date  DETE Start Date  \\\n",
              "0   1             Ill Health Retirement    08/2012           1984.0   \n",
              "1   2  Voluntary Early Retirement (VER)    08/2012              NaN   \n",
              "2   3  Voluntary Early Retirement (VER)    05/2012           2011.0   \n",
              "3   4         Resignation-Other reasons    05/2012           2005.0   \n",
              "4   5                    Age Retirement    05/2012           1970.0   \n",
              "\n",
              "   Role Start Date                                      Position  \\\n",
              "0           2004.0                                Public Servant   \n",
              "1              NaN                                Public Servant   \n",
              "2           2011.0                               Schools Officer   \n",
              "3           2006.0                                       Teacher   \n",
              "4           1989.0  Head of Curriculum/Head of Special Education   \n",
              "\n",
              "  Classification              Region                      Business Unit  \\\n",
              "0        A01-A04      Central Office  Corporate Strategy and Peformance   \n",
              "1        AO5-AO7      Central Office  Corporate Strategy and Peformance   \n",
              "2            NaN      Central Office               Education Queensland   \n",
              "3        Primary  Central Queensland                                NaN   \n",
              "4            NaN          South East                                NaN   \n",
              "\n",
              "     Employment Status  Career move to public sector  \\\n",
              "0  Permanent Full-time                          True   \n",
              "1  Permanent Full-time                         False   \n",
              "2  Permanent Full-time                         False   \n",
              "3  Permanent Full-time                         False   \n",
              "4  Permanent Full-time                         False   \n",
              "\n",
              "   Career move to private sector  Interpersonal conflicts  \\\n",
              "0                          False                    False   \n",
              "1                          False                    False   \n",
              "2                          False                    False   \n",
              "3                           True                    False   \n",
              "4                          False                    False   \n",
              "\n",
              "   Job dissatisfaction  Dissatisfaction with the department  \\\n",
              "0                 True                                False   \n",
              "1                False                                False   \n",
              "2                False                                False   \n",
              "3                False                                False   \n",
              "4                False                                False   \n",
              "\n",
              "   Physical work environment  Lack of recognition  Lack of job security  \\\n",
              "0                      False                 True                 False   \n",
              "1                      False                False                 False   \n",
              "2                      False                False                 False   \n",
              "3                      False                False                 False   \n",
              "4                      False                False                 False   \n",
              "\n",
              "   Work location  Employment conditions  Maternity/family  Relocation  \\\n",
              "0          False                  False             False       False   \n",
              "1          False                  False             False       False   \n",
              "2          False                  False             False       False   \n",
              "3          False                  False             False       False   \n",
              "4          False                  False             False       False   \n",
              "\n",
              "   Study/Travel  Ill Health  Traumatic incident  Work life balance  Workload  \\\n",
              "0         False       False               False              False     False   \n",
              "1         False       False               False              False     False   \n",
              "2         False       False               False              False     False   \n",
              "3         False       False               False              False     False   \n",
              "4         False       False               False               True     False   \n",
              "\n",
              "   None of the above Professional Development Opportunities for promotion  \\\n",
              "0               True                        A                           A   \n",
              "1              False                        A                           A   \n",
              "2               True                        N                           N   \n",
              "3              False                        A                           N   \n",
              "4              False                        A                           A   \n",
              "\n",
              "  Staff morale Workplace issue Physical environment Worklife balance  \\\n",
              "0            N               N                    N                A   \n",
              "1            N               N                    N                N   \n",
              "2            N               N                    N                N   \n",
              "3            N               N                    A                A   \n",
              "4            N               N                    D                D   \n",
              "\n",
              "  Stress and pressure support Performance of supervisor Peer support  \\\n",
              "0                           A                         A            A   \n",
              "1                           A                         A            A   \n",
              "2                           N                         N            N   \n",
              "3                           N                         N            A   \n",
              "4                           N                         A            A   \n",
              "\n",
              "  Initiative Skills Coach Career Aspirations Feedback Further PD  \\\n",
              "0          N      N     N                  A        A          A   \n",
              "1          N      N     N                  A        A          A   \n",
              "2          N      N     N                  N        N          N   \n",
              "3          A      A     A                  A        A          A   \n",
              "4          A      A     A                  A       SA         SA   \n",
              "\n",
              "  Communication My say Information Kept informed Wellness programs  \\\n",
              "0             N      A           A             N                 N   \n",
              "1             N      A           A             N                 N   \n",
              "2             A      A           N             N                 N   \n",
              "3             A      A           A             A                 N   \n",
              "4             D      D           A             N                 A   \n",
              "\n",
              "  Health & Safety  Gender          Age Aboriginal Torres Strait South Sea  \\\n",
              "0               N    Male        56-60        NaN           NaN       NaN   \n",
              "1               N    Male        56-60        NaN           NaN       NaN   \n",
              "2               N    Male  61 or older        NaN           NaN       NaN   \n",
              "3               A  Female        36-40        NaN           NaN       NaN   \n",
              "4               M  Female  61 or older        NaN           NaN       NaN   \n",
              "\n",
              "  Disability NESB  \n",
              "0        NaN  Yes  \n",
              "1        NaN  NaN  \n",
              "2        NaN  NaN  \n",
              "3        NaN  NaN  \n",
              "4        NaN  NaN  "
            ]
          },
          "metadata": {
            "tags": []
          },
          "execution_count": 7
        }
      ]
    },
    {
      "cell_type": "code",
      "metadata": {
        "id": "uEBOCFseW0yP",
        "outputId": "448c8ddf-16e0-470e-e58d-f8802ff8f6ea"
      },
      "source": [
        "dete_survey.shape"
      ],
      "execution_count": null,
      "outputs": [
        {
          "output_type": "execute_result",
          "data": {
            "text/plain": [
              "(822, 56)"
            ]
          },
          "metadata": {
            "tags": []
          },
          "execution_count": 8
        }
      ]
    },
    {
      "cell_type": "code",
      "metadata": {
        "id": "gW_f3zN1W0yY",
        "outputId": "ed2d9877-c548-4b82-f4e7-fb88880046cf"
      },
      "source": [
        "# Remove columns we don't need for analysis\n",
        "dete_survey_updated = dete_survey.drop(dete_survey.columns[28:49], axis=1)\n",
        "tafe_survey_updated = tafe_survey.drop(tafe_survey.columns[17:66], axis=1)\n",
        "\n",
        "#Check columns\n",
        "print(dete_survey_updated.columns)\n",
        "print(tafe_survey_updated.columns)"
      ],
      "execution_count": null,
      "outputs": [
        {
          "output_type": "stream",
          "text": [
            "Index(['ID', 'SeparationType', 'Cease Date', 'DETE Start Date',\n",
            "       'Role Start Date', 'Position', 'Classification', 'Region',\n",
            "       'Business Unit', 'Employment Status', 'Career move to public sector',\n",
            "       'Career move to private sector', 'Interpersonal conflicts',\n",
            "       'Job dissatisfaction', 'Dissatisfaction with the department',\n",
            "       'Physical work environment', 'Lack of recognition',\n",
            "       'Lack of job security', 'Work location', 'Employment conditions',\n",
            "       'Maternity/family', 'Relocation', 'Study/Travel', 'Ill Health',\n",
            "       'Traumatic incident', 'Work life balance', 'Workload',\n",
            "       'None of the above', 'Gender', 'Age', 'Aboriginal', 'Torres Strait',\n",
            "       'South Sea', 'Disability', 'NESB'],\n",
            "      dtype='object')\n",
            "Index(['Record ID', 'Institute', 'WorkArea', 'CESSATION YEAR',\n",
            "       'Reason for ceasing employment',\n",
            "       'Contributing Factors. Career Move - Public Sector ',\n",
            "       'Contributing Factors. Career Move - Private Sector ',\n",
            "       'Contributing Factors. Career Move - Self-employment',\n",
            "       'Contributing Factors. Ill Health',\n",
            "       'Contributing Factors. Maternity/Family',\n",
            "       'Contributing Factors. Dissatisfaction',\n",
            "       'Contributing Factors. Job Dissatisfaction',\n",
            "       'Contributing Factors. Interpersonal Conflict',\n",
            "       'Contributing Factors. Study', 'Contributing Factors. Travel',\n",
            "       'Contributing Factors. Other', 'Contributing Factors. NONE',\n",
            "       'Gender. What is your Gender?', 'CurrentAge. Current Age',\n",
            "       'Employment Type. Employment Type', 'Classification. Classification',\n",
            "       'LengthofServiceOverall. Overall Length of Service at Institute (in years)',\n",
            "       'LengthofServiceCurrent. Length of Service at current workplace (in years)'],\n",
            "      dtype='object')\n"
          ],
          "name": "stdout"
        }
      ]
    },
    {
      "cell_type": "markdown",
      "metadata": {
        "id": "M8MJRnLhW0yf"
      },
      "source": [
        "# Changing Columns Names: \n",
        "\n",
        "We need to identify the data that we have in both data sets that are the same. "
      ]
    },
    {
      "cell_type": "code",
      "metadata": {
        "id": "kfApanqlW0yg",
        "outputId": "346b2730-2a34-47c6-80a4-5fa3e81b84c5"
      },
      "source": [
        "# Clean the column names and if updated correctly\n",
        "dete_survey_updated.columns = dete_survey_updated.columns.str.lower().str.strip().str.replace(' ', '_')\n",
        "\n",
        "dete_survey_updated.columns"
      ],
      "execution_count": null,
      "outputs": [
        {
          "output_type": "execute_result",
          "data": {
            "text/plain": [
              "Index(['id', 'separationtype', 'cease_date', 'dete_start_date',\n",
              "       'role_start_date', 'position', 'classification', 'region',\n",
              "       'business_unit', 'employment_status', 'career_move_to_public_sector',\n",
              "       'career_move_to_private_sector', 'interpersonal_conflicts',\n",
              "       'job_dissatisfaction', 'dissatisfaction_with_the_department',\n",
              "       'physical_work_environment', 'lack_of_recognition',\n",
              "       'lack_of_job_security', 'work_location', 'employment_conditions',\n",
              "       'maternity/family', 'relocation', 'study/travel', 'ill_health',\n",
              "       'traumatic_incident', 'work_life_balance', 'workload',\n",
              "       'none_of_the_above', 'gender', 'age', 'aboriginal', 'torres_strait',\n",
              "       'south_sea', 'disability', 'nesb'],\n",
              "      dtype='object')"
            ]
          },
          "metadata": {
            "tags": []
          },
          "execution_count": 10
        }
      ]
    },
    {
      "cell_type": "code",
      "metadata": {
        "id": "RKbDA90YW0yy",
        "outputId": "bbb1c833-1ac2-472d-888a-5c3c4b30315e"
      },
      "source": [
        "# Update column names to match in dete_survey_updated\n",
        "mapping = {'Record ID': 'id', 'CESSATION YEAR': 'cease_date', 'Reason for ceasing employment': 'separationtype', 'Gender. What is your Gender?': 'gender', 'CurrentAge. Current Age': 'age',\n",
        "       'Employment Type. Employment Type': 'employment_status',\n",
        "       'Classification. Classification': 'position',\n",
        "       'LengthofServiceOverall. Overall Length of Service at Institute (in years)': 'institute_service',\n",
        "       'LengthofServiceCurrent. Length of Service at current workplace (in years)': 'role_service'}\n",
        "tafe_survey_updated = tafe_survey_updated.rename(mapping, axis = 1)\n",
        "\n",
        "tafe_survey_updated.columns"
      ],
      "execution_count": null,
      "outputs": [
        {
          "output_type": "execute_result",
          "data": {
            "text/plain": [
              "Index(['id', 'Institute', 'WorkArea', 'cease_date', 'separationtype',\n",
              "       'Contributing Factors. Career Move - Public Sector ',\n",
              "       'Contributing Factors. Career Move - Private Sector ',\n",
              "       'Contributing Factors. Career Move - Self-employment',\n",
              "       'Contributing Factors. Ill Health',\n",
              "       'Contributing Factors. Maternity/Family',\n",
              "       'Contributing Factors. Dissatisfaction',\n",
              "       'Contributing Factors. Job Dissatisfaction',\n",
              "       'Contributing Factors. Interpersonal Conflict',\n",
              "       'Contributing Factors. Study', 'Contributing Factors. Travel',\n",
              "       'Contributing Factors. Other', 'Contributing Factors. NONE', 'gender',\n",
              "       'age', 'employment_status', 'position', 'institute_service',\n",
              "       'role_service'],\n",
              "      dtype='object')"
            ]
          },
          "metadata": {
            "tags": []
          },
          "execution_count": 11
        }
      ]
    },
    {
      "cell_type": "markdown",
      "metadata": {
        "id": "SxI8S48QW0y9"
      },
      "source": [
        "Above we were able to clean up the names for the columns and standerdize them because we will combine these survey data together. Also, the Columns names in the TAFE survery were very difficult to read so they would have needed to be adjuested anyway. Overall removing, these spaces and creating better columns names makes it easier to analyze now and in the future. \n",
        "\n",
        "Next steps is to focus on filltering the data for those who \"Resigned\""
      ]
    },
    {
      "cell_type": "markdown",
      "metadata": {
        "id": "TlrPbojbW0y-"
      },
      "source": [
        "# Filter Data\n",
        " \n",
        " We will only analyze survey respondents who resigned, we'll only select separation types containing the string 'Resignation'."
      ]
    },
    {
      "cell_type": "code",
      "metadata": {
        "id": "POB33nTAW0zC",
        "outputId": "50f14c87-6551-4b55-ca21-77d8abf42e11"
      },
      "source": [
        "# Check values in separationtype column\n",
        "tafe_survey_updated['separationtype'].value_counts()"
      ],
      "execution_count": null,
      "outputs": [
        {
          "output_type": "execute_result",
          "data": {
            "text/plain": [
              "Resignation                 340\n",
              "Contract Expired            127\n",
              "Retrenchment/ Redundancy    104\n",
              "Retirement                   82\n",
              "Transfer                     25\n",
              "Termination                  23\n",
              "Name: separationtype, dtype: int64"
            ]
          },
          "metadata": {
            "tags": []
          },
          "execution_count": 12
        }
      ]
    },
    {
      "cell_type": "code",
      "metadata": {
        "id": "lWc4EZL_W0zO",
        "outputId": "9aeff59a-aee2-4683-f569-884bb5ea9dca"
      },
      "source": [
        "dete_survey_updated['separationtype'].value_counts()"
      ],
      "execution_count": null,
      "outputs": [
        {
          "output_type": "execute_result",
          "data": {
            "text/plain": [
              "Age Retirement                          285\n",
              "Resignation-Other reasons               150\n",
              "Resignation-Other employer               91\n",
              "Resignation-Move overseas/interstate     70\n",
              "Voluntary Early Retirement (VER)         67\n",
              "Ill Health Retirement                    61\n",
              "Other                                    49\n",
              "Contract Expired                         34\n",
              "Termination                              15\n",
              "Name: separationtype, dtype: int64"
            ]
          },
          "metadata": {
            "tags": []
          },
          "execution_count": 13
        }
      ]
    },
    {
      "cell_type": "code",
      "metadata": {
        "id": "XAcDzB2zW0zc",
        "outputId": "c1899372-7fe7-436c-e792-887875636df1"
      },
      "source": [
        "# Update all separation types containing the word \"resignation\" to 'Resignation'\n",
        "dete_survey_updated['separationtype'] = dete_survey_updated['separationtype'].str.split('-').str[0]\n",
        "\n",
        "dete_survey_updated['separationtype'].value_counts()"
      ],
      "execution_count": null,
      "outputs": [
        {
          "output_type": "execute_result",
          "data": {
            "text/plain": [
              "Resignation                         311\n",
              "Age Retirement                      285\n",
              "Voluntary Early Retirement (VER)     67\n",
              "Ill Health Retirement                61\n",
              "Other                                49\n",
              "Contract Expired                     34\n",
              "Termination                          15\n",
              "Name: separationtype, dtype: int64"
            ]
          },
          "metadata": {
            "tags": []
          },
          "execution_count": 14
        }
      ]
    },
    {
      "cell_type": "code",
      "metadata": {
        "id": "LlLXiEMCW0zv"
      },
      "source": [
        "# Select only resignation separation types\n",
        "dete_resignations = dete_survey_updated[dete_survey_updated['separationtype'] == 'Resignation'].copy()\n",
        "tafe_resignations = tafe_survey_updated[tafe_survey_updated['separationtype'] == 'Resignation'].copy()"
      ],
      "execution_count": null,
      "outputs": []
    },
    {
      "cell_type": "markdown",
      "metadata": {
        "id": "SryYWfy0W0z8"
      },
      "source": [
        "Above we were able to combine certain info for DETE and filter the data for only the resignation separation types from each dataframe, which is the main part for this analysis. "
      ]
    },
    {
      "cell_type": "markdown",
      "metadata": {
        "id": "QKUtMhyRW0z-"
      },
      "source": [
        "# Double check Data\n",
        " \n",
        " - Must clean and explore the cease_date and dete_start_date columns to make sure all of the years make sense."
      ]
    },
    {
      "cell_type": "code",
      "metadata": {
        "id": "ykxshYG_W00E",
        "outputId": "066af6d7-df05-4e1a-d1c3-5458b12cba7b"
      },
      "source": [
        "dete_resignations['cease_date'].value_counts()"
      ],
      "execution_count": null,
      "outputs": [
        {
          "output_type": "execute_result",
          "data": {
            "text/plain": [
              "2012       126\n",
              "2013        74\n",
              "01/2014     22\n",
              "12/2013     17\n",
              "06/2013     14\n",
              "09/2013     11\n",
              "07/2013      9\n",
              "11/2013      9\n",
              "10/2013      6\n",
              "08/2013      4\n",
              "05/2013      2\n",
              "05/2012      2\n",
              "07/2012      1\n",
              "07/2006      1\n",
              "2010         1\n",
              "09/2010      1\n",
              "Name: cease_date, dtype: int64"
            ]
          },
          "metadata": {
            "tags": []
          },
          "execution_count": 16
        }
      ]
    },
    {
      "cell_type": "code",
      "metadata": {
        "id": "BKN36gYVW00X",
        "outputId": "92243a61-c3ef-4272-be41-e10f0fc38f8f"
      },
      "source": [
        "# Extract years and convert them to float\n",
        "dete_resignations['cease_date'] = dete_resignations['cease_date'].str.split('/').str[-1]\n",
        "dete_resignations['cease_date'] = dete_resignations['cease_date'].astype(\"float\")\n",
        "\n",
        "dete_resignations['cease_date'].value_counts()"
      ],
      "execution_count": null,
      "outputs": [
        {
          "output_type": "execute_result",
          "data": {
            "text/plain": [
              "2013.0    146\n",
              "2012.0    129\n",
              "2014.0     22\n",
              "2010.0      2\n",
              "2006.0      1\n",
              "Name: cease_date, dtype: int64"
            ]
          },
          "metadata": {
            "tags": []
          },
          "execution_count": 17
        }
      ]
    },
    {
      "cell_type": "code",
      "metadata": {
        "id": "cOerCWGeW00s",
        "outputId": "9d3b10bd-3582-4217-8e06-456d5d1c2ba3"
      },
      "source": [
        "dete_resignations['dete_start_date'].value_counts().sort_values()"
      ],
      "execution_count": null,
      "outputs": [
        {
          "output_type": "execute_result",
          "data": {
            "text/plain": [
              "1963.0     1\n",
              "1971.0     1\n",
              "1972.0     1\n",
              "1984.0     1\n",
              "1977.0     1\n",
              "1987.0     1\n",
              "1975.0     1\n",
              "1973.0     1\n",
              "1982.0     1\n",
              "1974.0     2\n",
              "1983.0     2\n",
              "1976.0     2\n",
              "1986.0     3\n",
              "1985.0     3\n",
              "2001.0     3\n",
              "1995.0     4\n",
              "1988.0     4\n",
              "1989.0     4\n",
              "1991.0     4\n",
              "1997.0     5\n",
              "1980.0     5\n",
              "1993.0     5\n",
              "1990.0     5\n",
              "1994.0     6\n",
              "2003.0     6\n",
              "1998.0     6\n",
              "1992.0     6\n",
              "2002.0     6\n",
              "1996.0     6\n",
              "1999.0     8\n",
              "2000.0     9\n",
              "2013.0    10\n",
              "2009.0    13\n",
              "2006.0    13\n",
              "2004.0    14\n",
              "2005.0    15\n",
              "2010.0    17\n",
              "2012.0    21\n",
              "2007.0    21\n",
              "2008.0    22\n",
              "2011.0    24\n",
              "Name: dete_start_date, dtype: int64"
            ]
          },
          "metadata": {
            "tags": []
          },
          "execution_count": 18
        }
      ]
    },
    {
      "cell_type": "code",
      "metadata": {
        "id": "q-oACVczW004",
        "outputId": "614668f6-92f1-4b04-d185-25533e10d086"
      },
      "source": [
        "tafe_resignations['cease_date'].value_counts().sort_values()"
      ],
      "execution_count": null,
      "outputs": [
        {
          "output_type": "execute_result",
          "data": {
            "text/plain": [
              "2009.0      2\n",
              "2013.0     55\n",
              "2010.0     68\n",
              "2012.0     94\n",
              "2011.0    116\n",
              "Name: cease_date, dtype: int64"
            ]
          },
          "metadata": {
            "tags": []
          },
          "execution_count": 19
        }
      ]
    },
    {
      "cell_type": "markdown",
      "metadata": {
        "id": "eto33BTFW01E"
      },
      "source": [
        "Date Observation\n",
        "*   In terms out number of resignations, for TAFE there have not been any since 2011 when compared to the previous years. WHile DETE shows a couple hundred since 2012. \n",
        "*   There seems to be large diffrences between TAFE and DETE in the dataframes, for example 2009 numbers do not match and in 2010 TAFE has a higher count of ceases. This would be an issue if we wanted to breakdown the yearly counts, but for now that is not something we are looking into. "
      ]
    },
    {
      "cell_type": "markdown",
      "metadata": {
        "id": "JcezR25fW01S"
      },
      "source": [
        "# Create New Column\n",
        "\n",
        "Next Steps: To answer our original question, we will need to create a new column that holds this information. This new coulm will contain the length of time the employee spent at the workplace or number years of service in both TAFE and DETE."
      ]
    },
    {
      "cell_type": "code",
      "metadata": {
        "id": "BTNH72NQW01U",
        "outputId": "50eb954e-cc53-4b39-c7f0-f50410afd54e"
      },
      "source": [
        "# length of time employee spent at workplace , create new column\n",
        "dete_resignations['institute_service'] = dete_resignations['cease_date'] - dete_resignations['dete_start_date']\n",
        "dete_resignations['institute_service'].head()"
      ],
      "execution_count": null,
      "outputs": [
        {
          "output_type": "execute_result",
          "data": {
            "text/plain": [
              "3      7.0\n",
              "5     18.0\n",
              "8      3.0\n",
              "9     15.0\n",
              "11     3.0\n",
              "Name: institute_service, dtype: float64"
            ]
          },
          "metadata": {
            "tags": []
          },
          "execution_count": 20
        }
      ]
    },
    {
      "cell_type": "markdown",
      "metadata": {
        "id": "GWIAHMHdW02B"
      },
      "source": [
        "***institute_service Observation***\n",
        "\n",
        "Above we calculate the years of service in the dete_survey_updated dataframe by subtracting the dete_start_date from the cease_date and create a new column named institute_service."
      ]
    },
    {
      "cell_type": "markdown",
      "metadata": {
        "id": "tyJxOSe1W02E"
      },
      "source": [
        "# Identify Dissatisfied Employees\n",
        "\n",
        "We need to disect the information and identify any employees who resigned because they were dissatisfied. Each survey has diffrent columns that we will use to cateogirize employees as \"dissatisfied\" from tafe_survey_updated and dafe_survey_updated. Breakdown below:\n",
        "\n",
        "  **1) tafe_survey_updated:**\n",
        "\n",
        "      Contributing Factors. Dissatisfaction\n",
        "\n",
        "      Contributing Factors. Job Dissatisfaction\n",
        "\n",
        "\n",
        "  **2) dafe_survey_updated:**\n",
        "\n",
        "      job_dissatisfaction\n",
        "\n",
        "      dissatisfaction_with_the_department\n",
        "\n",
        "      physical_work_environment\n",
        "\n",
        "      lack_of_recognition\n",
        "\n",
        "      lack_of_job_security\n",
        "\n",
        "      work_location\n",
        "\n",
        "      employment_conditions\n",
        "\n",
        "      work_life_balance\n",
        "\n",
        "      workload\n",
        "\n",
        "\n",
        "A new coulmn will be created to hold the count of dissatisfied.After our changes, the new dissatisfied column will contain just the following values:\n",
        "\n",
        "\n",
        "\n",
        "*   True: indicates a person resigned because they were dissatisfied in some way\n",
        "*   False: indicates a person resigned because of a reason other than dissatisfaction with the job\n",
        "*   NaN: indicates the value is missing\n"
      ]
    },
    {
      "cell_type": "code",
      "metadata": {
        "id": "tXEdzfv3W02F",
        "outputId": "ce6c986b-726f-48b0-d7b2-9e4e7089e28a"
      },
      "source": [
        "print('Count of TAFE Dissatisfaction')\n",
        "tafe_resignations['Contributing Factors. Dissatisfaction'].value_counts()"
      ],
      "execution_count": null,
      "outputs": [
        {
          "output_type": "stream",
          "text": [
            "Count of TAFE Dissatisfaction\n"
          ],
          "name": "stdout"
        },
        {
          "output_type": "execute_result",
          "data": {
            "text/plain": [
              "-                                         277\n",
              "Contributing Factors. Dissatisfaction      55\n",
              "Name: Contributing Factors. Dissatisfaction, dtype: int64"
            ]
          },
          "metadata": {
            "tags": []
          },
          "execution_count": 21
        }
      ]
    },
    {
      "cell_type": "code",
      "metadata": {
        "id": "1-qcvyY1W02T",
        "outputId": "6e09f60d-2c8f-4b7b-cb28-db5394f374e2"
      },
      "source": [
        "tafe_resignations['Contributing Factors. Job Dissatisfaction'].value_counts()"
      ],
      "execution_count": null,
      "outputs": [
        {
          "output_type": "execute_result",
          "data": {
            "text/plain": [
              "-                      270\n",
              "Job Dissatisfaction     62\n",
              "Name: Contributing Factors. Job Dissatisfaction, dtype: int64"
            ]
          },
          "metadata": {
            "tags": []
          },
          "execution_count": 22
        }
      ]
    },
    {
      "cell_type": "code",
      "metadata": {
        "id": "7VTm9gxMW02f",
        "outputId": "63ac1ebb-560f-417d-dc01-9c9349b5349c"
      },
      "source": [
        "# Update values in contributing factors columns to be either True, False, or NaN\n",
        "def update_vals(x):\n",
        "    if x == '-':\n",
        "        return False\n",
        "    elif pd.isnull(x):\n",
        "        return np.nan\n",
        "    else:\n",
        "        return True\n",
        "tafe_resignations['dissatisfied'] = tafe_resignations[['Contributing Factors. Dissatisfaction', 'Contributing Factors. Job Dissatisfaction']].applymap(update_vals).any(1, skipna=False)\n",
        "tafe_resignations_up = tafe_resignations.copy()\n",
        "\n",
        "\n",
        "tafe_resignations_up['dissatisfied'].value_counts(dropna=False)"
      ],
      "execution_count": null,
      "outputs": [
        {
          "output_type": "execute_result",
          "data": {
            "text/plain": [
              "False    241\n",
              "True      91\n",
              "NaN        8\n",
              "Name: dissatisfied, dtype: int64"
            ]
          },
          "metadata": {
            "tags": []
          },
          "execution_count": 23
        }
      ]
    },
    {
      "cell_type": "code",
      "metadata": {
        "id": "AOH8quKOW02z",
        "outputId": "23449a60-8240-408d-b898-cf195c710310"
      },
      "source": [
        "# Update values in columns related to dissatisfaction to be either True, False, or NaN\n",
        "dete_resignations['dissatisfied'] = dete_resignations[['job_dissatisfaction',\n",
        "       'dissatisfaction_with_the_department', 'physical_work_environment',\n",
        "       'lack_of_recognition', 'lack_of_job_security', 'work_location',\n",
        "       'employment_conditions', 'work_life_balance',\n",
        "       'workload']].any(1, skipna=False)\n",
        "dete_resignations_up = dete_resignations.copy()\n",
        "dete_resignations_up['dissatisfied'].value_counts(dropna=False)"
      ],
      "execution_count": null,
      "outputs": [
        {
          "output_type": "execute_result",
          "data": {
            "text/plain": [
              "False    162\n",
              "True     149\n",
              "Name: dissatisfied, dtype: int64"
            ]
          },
          "metadata": {
            "tags": []
          },
          "execution_count": 24
        }
      ]
    },
    {
      "cell_type": "markdown",
      "metadata": {
        "id": "6hR_M8AtW03P"
      },
      "source": [
        "***Dissatisfied Changes***\n",
        "\n",
        "It was important to create a seprate column where we could group and generlize all the dissatisfaction columns in each dataframe. This will help us compare these data points when we combine them. "
      ]
    },
    {
      "cell_type": "markdown",
      "metadata": {
        "id": "bocD4cb8W03R"
      },
      "source": [
        "# Combine Data\n",
        "\n",
        "It will be helpfull to create a new column in each dataframe that will allow us to distinguish between the two. This coulmn will be called       \"institute\" in both"
      ]
    },
    {
      "cell_type": "code",
      "metadata": {
        "id": "2TCJMuovW03W"
      },
      "source": [
        "# Add institute column\n",
        "dete_resignations_up['institute'] = 'DETE'\n",
        "tafe_resignations_up['institute'] = 'TAFE'"
      ],
      "execution_count": null,
      "outputs": []
    },
    {
      "cell_type": "code",
      "metadata": {
        "id": "uZOTOzuSW03u",
        "outputId": "b8ab044a-ba81-46fe-82a8-5c9d8412e4af"
      },
      "source": [
        "# Combine dataframes\n",
        "combined = pd.concat([dete_resignations_up, tafe_resignations_up], ignore_index=True)\n",
        "\n",
        "# Verify number of non null values\n",
        "combined.notnull().sum().sort_values()"
      ],
      "execution_count": null,
      "outputs": [
        {
          "output_type": "execute_result",
          "data": {
            "text/plain": [
              "torres_strait                                            0\n",
              "south_sea                                                3\n",
              "aboriginal                                               7\n",
              "disability                                               8\n",
              "nesb                                                     9\n",
              "business_unit                                           32\n",
              "classification                                         161\n",
              "region                                                 265\n",
              "role_start_date                                        271\n",
              "dete_start_date                                        283\n",
              "role_service                                           290\n",
              "career_move_to_public_sector                           311\n",
              "employment_conditions                                  311\n",
              "work_location                                          311\n",
              "lack_of_job_security                                   311\n",
              "job_dissatisfaction                                    311\n",
              "dissatisfaction_with_the_department                    311\n",
              "workload                                               311\n",
              "lack_of_recognition                                    311\n",
              "interpersonal_conflicts                                311\n",
              "maternity/family                                       311\n",
              "none_of_the_above                                      311\n",
              "physical_work_environment                              311\n",
              "relocation                                             311\n",
              "study/travel                                           311\n",
              "traumatic_incident                                     311\n",
              "work_life_balance                                      311\n",
              "career_move_to_private_sector                          311\n",
              "ill_health                                             311\n",
              "Contributing Factors. Career Move - Private Sector     332\n",
              "Contributing Factors. Other                            332\n",
              "Contributing Factors. Career Move - Public Sector      332\n",
              "Contributing Factors. Career Move - Self-employment    332\n",
              "Contributing Factors. Travel                           332\n",
              "Contributing Factors. Study                            332\n",
              "Contributing Factors. Dissatisfaction                  332\n",
              "Contributing Factors. Ill Health                       332\n",
              "Contributing Factors. NONE                             332\n",
              "Contributing Factors. Maternity/Family                 332\n",
              "Contributing Factors. Job Dissatisfaction              332\n",
              "Contributing Factors. Interpersonal Conflict           332\n",
              "WorkArea                                               340\n",
              "Institute                                              340\n",
              "institute_service                                      563\n",
              "gender                                                 592\n",
              "age                                                    596\n",
              "employment_status                                      597\n",
              "position                                               598\n",
              "cease_date                                             635\n",
              "dissatisfied                                           643\n",
              "id                                                     651\n",
              "separationtype                                         651\n",
              "institute                                              651\n",
              "dtype: int64"
            ]
          },
          "metadata": {
            "tags": []
          },
          "execution_count": 26
        }
      ]
    },
    {
      "cell_type": "code",
      "metadata": {
        "id": "GSCbhRL3W033"
      },
      "source": [
        "# Drop columns with less than 500 non null values\n",
        "combined_updated = combined.dropna(thresh=500, axis=1).copy()"
      ],
      "execution_count": null,
      "outputs": []
    },
    {
      "cell_type": "code",
      "metadata": {
        "id": "4dn6WfWKW04G",
        "outputId": "f25ebdfa-89dd-4501-a8d1-ad1efbc51259"
      },
      "source": [
        "combined.shape"
      ],
      "execution_count": null,
      "outputs": [
        {
          "output_type": "execute_result",
          "data": {
            "text/plain": [
              "(651, 53)"
            ]
          },
          "metadata": {
            "tags": []
          },
          "execution_count": 28
        }
      ]
    },
    {
      "cell_type": "code",
      "metadata": {
        "id": "Fn424sGoW04Z",
        "outputId": "d9bb2e2b-4260-41a3-a0e7-d8a5e88d7d03"
      },
      "source": [
        "combined_updated.shape"
      ],
      "execution_count": null,
      "outputs": [
        {
          "output_type": "execute_result",
          "data": {
            "text/plain": [
              "(651, 10)"
            ]
          },
          "metadata": {
            "tags": []
          },
          "execution_count": 29
        }
      ]
    },
    {
      "cell_type": "markdown",
      "metadata": {
        "id": "IyBigTf1W04l"
      },
      "source": [
        "**combined_updated Explained**\n",
        "\n",
        "We added  an institute column so that we can differentiate the data from each survey after we combine them. Then we dropped columns with less than 500 non null values, so we dropped around 80% of rows. "
      ]
    },
    {
      "cell_type": "markdown",
      "metadata": {
        "id": "HzC1gHRxW04q"
      },
      "source": [
        "# Clean the institute Service Column\n",
        "\n",
        "the next step is to clean and categorize employees according to the following definitions:\n",
        "\n",
        "*   New: Less than 3 years in the workplace\n",
        "*   Experienced: 3-6 years in the workplace\n",
        "*   Established: 7-10 years in the workplace\n",
        "*   Veteran: 11 or more years in the workplace\n",
        "\n",
        "The reason we do this is because understanding employee's needs according to career stage instead of age is more effective for analysis."
      ]
    },
    {
      "cell_type": "code",
      "metadata": {
        "id": "clt7tBJsW04t",
        "outputId": "80834020-8e43-4995-cf97-7232465ea5a8"
      },
      "source": [
        "combined_updated['institute_service'].value_counts(dropna=False)"
      ],
      "execution_count": null,
      "outputs": [
        {
          "output_type": "execute_result",
          "data": {
            "text/plain": [
              "NaN                   88\n",
              "Less than 1 year      73\n",
              "1-2                   64\n",
              "3-4                   63\n",
              "5-6                   33\n",
              "11-20                 26\n",
              "5.0                   23\n",
              "1.0                   22\n",
              "7-10                  21\n",
              "0.0                   20\n",
              "3.0                   20\n",
              "6.0                   17\n",
              "4.0                   16\n",
              "9.0                   14\n",
              "2.0                   14\n",
              "7.0                   13\n",
              "More than 20 years    10\n",
              "13.0                   8\n",
              "8.0                    8\n",
              "15.0                   7\n",
              "20.0                   7\n",
              "10.0                   6\n",
              "12.0                   6\n",
              "14.0                   6\n",
              "17.0                   6\n",
              "22.0                   6\n",
              "16.0                   5\n",
              "18.0                   5\n",
              "11.0                   4\n",
              "23.0                   4\n",
              "24.0                   4\n",
              "19.0                   3\n",
              "32.0                   3\n",
              "39.0                   3\n",
              "21.0                   3\n",
              "28.0                   2\n",
              "30.0                   2\n",
              "26.0                   2\n",
              "36.0                   2\n",
              "25.0                   2\n",
              "29.0                   1\n",
              "31.0                   1\n",
              "27.0                   1\n",
              "34.0                   1\n",
              "35.0                   1\n",
              "38.0                   1\n",
              "41.0                   1\n",
              "42.0                   1\n",
              "49.0                   1\n",
              "33.0                   1\n",
              "Name: institute_service, dtype: int64"
            ]
          },
          "metadata": {
            "tags": []
          },
          "execution_count": 30
        }
      ]
    },
    {
      "cell_type": "code",
      "metadata": {
        "id": "lywGnRFnW045",
        "outputId": "54402965-be3f-48f5-994d-42b466eb2fcf"
      },
      "source": [
        "combined_updated[\"institute_service_up\"] = combined_updated[\"institute_service\"].astype(\"str\").str.extract(r\"(\\d+)\")  # Extract the years of service and convert the type to float\n",
        "combined_updated[\"institute_service_up\"] = combined_updated[\"institute_service_up\"].astype(\"float\")"
      ],
      "execution_count": null,
      "outputs": [
        {
          "output_type": "stream",
          "text": [
            "/dataquest/system/env/python3/lib/python3.4/site-packages/ipykernel/__main__.py:1: FutureWarning: currently extract(expand=None) means expand=False (return Index/Series/DataFrame) but in a future version of pandas this will be changed to expand=True (return DataFrame)\n",
            "  if __name__ == '__main__':\n"
          ],
          "name": "stderr"
        }
      ]
    },
    {
      "cell_type": "code",
      "metadata": {
        "id": "KsiF-0w2W05B",
        "outputId": "e6ab23d9-9c6b-46bc-dc01-fb6a11276f22"
      },
      "source": [
        "combined_updated['institute_service_up'].value_counts(dropna=False)  # Check counts "
      ],
      "execution_count": null,
      "outputs": [
        {
          "output_type": "execute_result",
          "data": {
            "text/plain": [
              " 1.0     159\n",
              "NaN       88\n",
              " 3.0      83\n",
              " 5.0      56\n",
              " 7.0      34\n",
              " 11.0     30\n",
              " 0.0      20\n",
              " 20.0     17\n",
              " 6.0      17\n",
              " 4.0      16\n",
              " 9.0      14\n",
              " 2.0      14\n",
              " 13.0      8\n",
              " 8.0       8\n",
              " 15.0      7\n",
              " 22.0      6\n",
              " 10.0      6\n",
              " 17.0      6\n",
              " 14.0      6\n",
              " 12.0      6\n",
              " 16.0      5\n",
              " 18.0      5\n",
              " 24.0      4\n",
              " 23.0      4\n",
              " 21.0      3\n",
              " 39.0      3\n",
              " 32.0      3\n",
              " 19.0      3\n",
              " 36.0      2\n",
              " 30.0      2\n",
              " 25.0      2\n",
              " 26.0      2\n",
              " 28.0      2\n",
              " 42.0      1\n",
              " 29.0      1\n",
              " 35.0      1\n",
              " 27.0      1\n",
              " 41.0      1\n",
              " 49.0      1\n",
              " 38.0      1\n",
              " 34.0      1\n",
              " 33.0      1\n",
              " 31.0      1\n",
              "Name: institute_service_up, dtype: int64"
            ]
          },
          "metadata": {
            "tags": []
          },
          "execution_count": 32
        }
      ]
    },
    {
      "cell_type": "code",
      "metadata": {
        "id": "Fd4tMsX9W05Q"
      },
      "source": [
        "# Must change the years of service to cataogires outlined \n",
        "def service_cats(val):\n",
        "    if val >= 11:\n",
        "        return \"Veteran\"\n",
        "    elif 7 <= val < 11:\n",
        "        return \"Established\"\n",
        "    elif 3 <= val < 7:\n",
        "        return \"Experienced\"\n",
        "    elif pd.isnull(val):\n",
        "        return np.nan\n",
        "    else:\n",
        "        return \"New\""
      ],
      "execution_count": null,
      "outputs": []
    },
    {
      "cell_type": "code",
      "metadata": {
        "id": "ACdfJTohW05f"
      },
      "source": [
        "combined_updated[\"service_cat\"] = combined_updated[\"institute_service_up\"].apply(service_cats)"
      ],
      "execution_count": null,
      "outputs": []
    },
    {
      "cell_type": "code",
      "metadata": {
        "id": "TTuikZxwW05v",
        "outputId": "0b1ab678-6714-465c-899a-813f69251dfa"
      },
      "source": [
        "combined_updated['service_cat'].value_counts()"
      ],
      "execution_count": null,
      "outputs": [
        {
          "output_type": "execute_result",
          "data": {
            "text/plain": [
              "New            193\n",
              "Experienced    172\n",
              "Veteran        136\n",
              "Established     62\n",
              "Name: service_cat, dtype: int64"
            ]
          },
          "metadata": {
            "tags": []
          },
          "execution_count": 35
        }
      ]
    },
    {
      "cell_type": "markdown",
      "metadata": {
        "id": "mPhGQfplW059"
      },
      "source": [
        "***Service Column Explained***\n",
        "\n",
        "We were able to extract the years of service and convert it into a float,which helped us tranform that into the cataogires we outlined previously because understanding employee's needs according to career stage instead of age is more effective for analysis."
      ]
    },
    {
      "cell_type": "markdown",
      "metadata": {
        "id": "VTTQZfZ1W05_"
      },
      "source": [
        "# Analysis - Dissatisfied by category\n"
      ]
    },
    {
      "cell_type": "code",
      "metadata": {
        "id": "1DykWzLyW06D",
        "outputId": "49a42322-0d35-4c98-cf58-135e4e27b2f7"
      },
      "source": [
        "combined_updated['dissatisfied'].value_counts(dropna=False)"
      ],
      "execution_count": null,
      "outputs": [
        {
          "output_type": "execute_result",
          "data": {
            "text/plain": [
              "False    403\n",
              "True     240\n",
              "NaN        8\n",
              "Name: dissatisfied, dtype: int64"
            ]
          },
          "metadata": {
            "tags": []
          },
          "execution_count": 36
        }
      ]
    },
    {
      "cell_type": "code",
      "metadata": {
        "id": "WVSLHHpuW06N"
      },
      "source": [
        "combined_updated['dissatisfied'] = combined_updated['dissatisfied'].fillna(False)"
      ],
      "execution_count": null,
      "outputs": []
    },
    {
      "cell_type": "code",
      "metadata": {
        "id": "farCbsXsW06f",
        "outputId": "7a573e98-3cdd-46f8-fb66-d5d20b66c4ec"
      },
      "source": [
        "table.plot(kind='barh', legend=False, figsize=(10,5), fontsize=12)"
      ],
      "execution_count": null,
      "outputs": [
        {
          "output_type": "execute_result",
          "data": {
            "text/plain": [
              "<matplotlib.axes._subplots.AxesSubplot at 0x7f02f8c3eb70>"
            ]
          },
          "metadata": {
            "tags": []
          },
          "execution_count": 40
        }
      ]
    },
    {
      "cell_type": "code",
      "metadata": {
        "id": "bDh-IGj6W06t",
        "outputId": "bdff62be-b832-478d-cc6a-29dd8decc284"
      },
      "source": [
        "diss_count = pd.pivot_table(combined_updated, index='service_cat', values='dissatisfied', aggfunc='sum')\n",
        "diss_count = diss_count.sort_values(by=['dissatisfied'])\n",
        "diss_count = diss_count.rename(columns={'dissatisfied':'dissatisfied_count'})\n",
        "diss_count"
      ],
      "execution_count": null,
      "outputs": [
        {
          "output_type": "execute_result",
          "data": {
            "text/html": [
              "<div>\n",
              "<style scoped>\n",
              "    .dataframe tbody tr th:only-of-type {\n",
              "        vertical-align: middle;\n",
              "    }\n",
              "\n",
              "    .dataframe tbody tr th {\n",
              "        vertical-align: top;\n",
              "    }\n",
              "\n",
              "    .dataframe thead th {\n",
              "        text-align: right;\n",
              "    }\n",
              "</style>\n",
              "<table border=\"1\" class=\"dataframe\">\n",
              "  <thead>\n",
              "    <tr style=\"text-align: right;\">\n",
              "      <th></th>\n",
              "      <th>dissatisfied_count</th>\n",
              "    </tr>\n",
              "    <tr>\n",
              "      <th>service_cat</th>\n",
              "      <th></th>\n",
              "    </tr>\n",
              "  </thead>\n",
              "  <tbody>\n",
              "    <tr>\n",
              "      <th>Established</th>\n",
              "      <td>32.0</td>\n",
              "    </tr>\n",
              "    <tr>\n",
              "      <th>New</th>\n",
              "      <td>57.0</td>\n",
              "    </tr>\n",
              "    <tr>\n",
              "      <th>Experienced</th>\n",
              "      <td>59.0</td>\n",
              "    </tr>\n",
              "    <tr>\n",
              "      <th>Veteran</th>\n",
              "      <td>66.0</td>\n",
              "    </tr>\n",
              "  </tbody>\n",
              "</table>\n",
              "</div>"
            ],
            "text/plain": [
              "             dissatisfied_count\n",
              "service_cat                    \n",
              "Established                32.0\n",
              "New                        57.0\n",
              "Experienced                59.0\n",
              "Veteran                    66.0"
            ]
          },
          "metadata": {
            "tags": []
          },
          "execution_count": 39
        }
      ]
    },
    {
      "cell_type": "code",
      "metadata": {
        "id": "pSyzGqKRW064",
        "outputId": "b36819a8-ee1c-49b0-f2d4-94e430607fb3"
      },
      "source": [
        "# Calculate the percentage of employees who resigned due to dissatisfaction in each category\n",
        "dis_pct = combined_updated.pivot_table(index='service_cat', values='dissatisfied')\n",
        "\n",
        "# Plot the results\n",
        "%matplotlib inline\n",
        "dis_pct.plot(kind='barh', rot=20)"
      ],
      "execution_count": null,
      "outputs": [
        {
          "output_type": "execute_result",
          "data": {
            "text/plain": [
              "<matplotlib.axes._subplots.AxesSubplot at 0x7f02f6382eb8>"
            ]
          },
          "metadata": {
            "tags": []
          },
          "execution_count": 68
        },
        {
          "output_type": "display_data",
          "data": {
            "image/png": "[encoded data removed]",
            "text/plain": [
              "<matplotlib.figure.Figure at 0x7f02f640c7f0>"
            ]
          },
          "metadata": {
            "tags": []
          }
        }
      ]
    },
    {
      "cell_type": "markdown",
      "metadata": {
        "id": "LO4iVgLeW07D"
      },
      "source": [
        "**Answer to our Question :**\n",
        "\n",
        "The Plot above shows the result we can answer to our question, the employees who are resigning more are the ones that  are veterns , who have 7 or more years. The chain we can see here is that there is more dissatisfaction as time spent goes up.\n",
        "\n",
        "Further analysis can be done to answer further questions which will be shown below. "
      ]
    },
    {
      "cell_type": "markdown",
      "metadata": {
        "id": "KCGMYOLGW07M"
      },
      "source": [
        "# Further Analysis "
      ]
    },
    {
      "cell_type": "markdown",
      "metadata": {
        "id": "OGWUWvfUW07Q"
      },
      "source": [
        "# Dissatisfied by age\n",
        "Below we will examine the age breakdown employees who resigned due to dissatisfaction. \n",
        "We will need to divice the certain age brackers into groups:\n",
        "\n",
        "20s\n",
        "30s\n",
        "40s\n",
        "50s\n",
        "60+"
      ]
    },
    {
      "cell_type": "code",
      "metadata": {
        "id": "ra8njX2AW07R",
        "outputId": "889fb1c6-f9a0-456f-abbb-807421bad38a"
      },
      "source": [
        "combined_updated['age'].value_counts(dropna=False)"
      ],
      "execution_count": null,
      "outputs": [
        {
          "output_type": "execute_result",
          "data": {
            "text/plain": [
              "51-55            71\n",
              "NaN              55\n",
              "41-45            48\n",
              "41  45           45\n",
              "46-50            42\n",
              "36-40            41\n",
              "46  50           39\n",
              "26-30            35\n",
              "21  25           33\n",
              "31  35           32\n",
              "36  40           32\n",
              "26  30           32\n",
              "56 or older      29\n",
              "21-25            29\n",
              "31-35            29\n",
              "56-60            26\n",
              "61 or older      23\n",
              "20 or younger    10\n",
              "Name: age, dtype: int64"
            ]
          },
          "metadata": {
            "tags": []
          },
          "execution_count": 42
        }
      ]
    },
    {
      "cell_type": "code",
      "metadata": {
        "id": "2gkZwgL0W07h"
      },
      "source": [
        "combined_updated['age'] = combined_updated['age'].astype('str')"
      ],
      "execution_count": null,
      "outputs": []
    },
    {
      "cell_type": "code",
      "metadata": {
        "id": "j7pwdxf9W07p"
      },
      "source": [
        "def age(s):\n",
        "    if s[0] == '2':\n",
        "        return '20s'\n",
        "    elif s[0] == '3':\n",
        "        return '30s'\n",
        "    elif s[0] == '4':\n",
        "        return '40s'\n",
        "    elif s[0] == '5':\n",
        "        return '50s'\n",
        "    elif s[0] == '6':\n",
        "        return '60s'\n",
        "    elif s == 'nan':\n",
        "        return np.nan"
      ],
      "execution_count": null,
      "outputs": []
    },
    {
      "cell_type": "code",
      "metadata": {
        "id": "MDgyPzpfW075"
      },
      "source": [
        "combined_updated['age'] = combined_updated['age'].apply(age)"
      ],
      "execution_count": null,
      "outputs": []
    },
    {
      "cell_type": "code",
      "metadata": {
        "id": "ewBiOm4VW08O",
        "outputId": "1e91804a-acdf-4f95-e2a9-f793f28f6c42"
      },
      "source": [
        "combined_updated['age'].value_counts()"
      ],
      "execution_count": null,
      "outputs": [
        {
          "output_type": "execute_result",
          "data": {
            "text/plain": [
              "40s    174\n",
              "20s    139\n",
              "30s    134\n",
              "50s    126\n",
              "60s     23\n",
              "Name: age, dtype: int64"
            ]
          },
          "metadata": {
            "tags": []
          },
          "execution_count": 46
        }
      ]
    },
    {
      "cell_type": "code",
      "metadata": {
        "id": "gKp9T2IxW08T",
        "outputId": "308b5f97-9552-42e8-e5ad-0110a261f2b1"
      },
      "source": [
        "age_diss_count = pd.pivot_table(combined_updated, index='age', values='dissatisfied', aggfunc='sum')\n",
        "age_diss_count = age_diss_count.sort_values(by=['dissatisfied'])\n",
        "age_diss_count = age_diss_count.rename(columns={'dissatisfied': 'dissatisfied_count'})\n",
        "age_diss_count"
      ],
      "execution_count": null,
      "outputs": [
        {
          "output_type": "execute_result",
          "data": {
            "text/html": [
              "<div>\n",
              "<style scoped>\n",
              "    .dataframe tbody tr th:only-of-type {\n",
              "        vertical-align: middle;\n",
              "    }\n",
              "\n",
              "    .dataframe tbody tr th {\n",
              "        vertical-align: top;\n",
              "    }\n",
              "\n",
              "    .dataframe thead th {\n",
              "        text-align: right;\n",
              "    }\n",
              "</style>\n",
              "<table border=\"1\" class=\"dataframe\">\n",
              "  <thead>\n",
              "    <tr style=\"text-align: right;\">\n",
              "      <th></th>\n",
              "      <th>dissatisfied_count</th>\n",
              "    </tr>\n",
              "    <tr>\n",
              "      <th>age</th>\n",
              "      <th></th>\n",
              "    </tr>\n",
              "  </thead>\n",
              "  <tbody>\n",
              "    <tr>\n",
              "      <th>60s</th>\n",
              "      <td>12.0</td>\n",
              "    </tr>\n",
              "    <tr>\n",
              "      <th>30s</th>\n",
              "      <td>48.0</td>\n",
              "    </tr>\n",
              "    <tr>\n",
              "      <th>20s</th>\n",
              "      <td>49.0</td>\n",
              "    </tr>\n",
              "    <tr>\n",
              "      <th>50s</th>\n",
              "      <td>51.0</td>\n",
              "    </tr>\n",
              "    <tr>\n",
              "      <th>40s</th>\n",
              "      <td>66.0</td>\n",
              "    </tr>\n",
              "  </tbody>\n",
              "</table>\n",
              "</div>"
            ],
            "text/plain": [
              "     dissatisfied_count\n",
              "age                    \n",
              "60s                12.0\n",
              "30s                48.0\n",
              "20s                49.0\n",
              "50s                51.0\n",
              "40s                66.0"
            ]
          },
          "metadata": {
            "tags": []
          },
          "execution_count": 47
        }
      ]
    },
    {
      "cell_type": "code",
      "metadata": {
        "id": "rVPtl5phW08n",
        "outputId": "ffd181bc-fbe7-4892-d580-9df8be2ccfd1"
      },
      "source": [
        "age_perc = pd.pivot_table(combined_updated, index='age', values='dissatisfied')\n",
        "age_perc = age_perc.sort_values(by=['dissatisfied'])\n",
        "age_perc.plot(kind='barh', legend=False, figsize=(10,5), fontsize=12)"
      ],
      "execution_count": null,
      "outputs": [
        {
          "output_type": "execute_result",
          "data": {
            "text/plain": [
              "<matplotlib.axes._subplots.AxesSubplot at 0x7f02f62fa7f0>"
            ]
          },
          "metadata": {
            "tags": []
          },
          "execution_count": 65
        },
        {
          "output_type": "display_data",
          "data": {
            "image/png": "[encoded data removed]",
            "text/plain": [
              "<matplotlib.figure.Figure at 0x7f02f63012e8>"
            ]
          },
          "metadata": {
            "tags": []
          }
        }
      ]
    },
    {
      "cell_type": "markdown",
      "metadata": {
        "id": "eL4XbNu-W08x"
      },
      "source": [
        "**Age Observation:**\n",
        "\n",
        "In the graph above, we can see that as the age bracket gets higher the resignation due to dissatifaction increases. This may be due to the longetivity of being at the company and not being happy."
      ]
    },
    {
      "cell_type": "markdown",
      "metadata": {
        "id": "fl_KqUJpW08y"
      },
      "source": [
        "# Dissatisfaction by gender\n",
        "\n",
        "Question: Examine the gender breakdown of employees who resigned due to dissatisfaction . \n",
        "\n",
        "We will look at both : Males and Females"
      ]
    },
    {
      "cell_type": "code",
      "metadata": {
        "id": "6eWJLjIZW08y",
        "outputId": "99962125-262a-467f-efab-1413ec2743e6"
      },
      "source": [
        "by_gender = pd.pivot_table(combined_updated, index='gender', values='dissatisfied')\n",
        "by_gender.plot(kind='bar', rot=360, figsize=(10,5), fontsize=12, ylim=[0, 0.5], legend=False)"
      ],
      "execution_count": null,
      "outputs": [
        {
          "output_type": "execute_result",
          "data": {
            "text/plain": [
              "<matplotlib.axes._subplots.AxesSubplot at 0x7f02f6a8a9b0>"
            ]
          },
          "metadata": {
            "tags": []
          },
          "execution_count": 49
        },
        {
          "output_type": "display_data",
          "data": {
            "image/png": "[encoded data removed]",
            "text/plain": [
              "<matplotlib.figure.Figure at 0x7f02f6a9b8d0>"
            ]
          },
          "metadata": {
            "tags": []
          }
        }
      ]
    },
    {
      "cell_type": "code",
      "metadata": {
        "id": "ALGBg6jQW085",
        "outputId": "32451239-fcf4-4012-aeb8-fd31cb55540f"
      },
      "source": [
        "gender_diss_count = pd.pivot_table(combined_updated, index='gender', values='dissatisfied', aggfunc='sum')\n",
        "gender_diss_count = gender_diss_count.sort_values(by=['dissatisfied'])\n",
        "gender_diss_count = gender_diss_count.rename(columns={'dissatisfied': 'dissatisfied_count'})\n",
        "gender_diss_count"
      ],
      "execution_count": null,
      "outputs": [
        {
          "output_type": "execute_result",
          "data": {
            "text/html": [
              "<div>\n",
              "<style scoped>\n",
              "    .dataframe tbody tr th:only-of-type {\n",
              "        vertical-align: middle;\n",
              "    }\n",
              "\n",
              "    .dataframe tbody tr th {\n",
              "        vertical-align: top;\n",
              "    }\n",
              "\n",
              "    .dataframe thead th {\n",
              "        text-align: right;\n",
              "    }\n",
              "</style>\n",
              "<table border=\"1\" class=\"dataframe\">\n",
              "  <thead>\n",
              "    <tr style=\"text-align: right;\">\n",
              "      <th></th>\n",
              "      <th>dissatisfied_count</th>\n",
              "    </tr>\n",
              "    <tr>\n",
              "      <th>gender</th>\n",
              "      <th></th>\n",
              "    </tr>\n",
              "  </thead>\n",
              "  <tbody>\n",
              "    <tr>\n",
              "      <th>Male</th>\n",
              "      <td>67.0</td>\n",
              "    </tr>\n",
              "    <tr>\n",
              "      <th>Female</th>\n",
              "      <td>157.0</td>\n",
              "    </tr>\n",
              "  </tbody>\n",
              "</table>\n",
              "</div>"
            ],
            "text/plain": [
              "        dissatisfied_count\n",
              "gender                    \n",
              "Male                  67.0\n",
              "Female               157.0"
            ]
          },
          "metadata": {
            "tags": []
          },
          "execution_count": 50
        }
      ]
    },
    {
      "cell_type": "markdown",
      "metadata": {
        "id": "1E285lImW09J"
      },
      "source": [
        "**Gender Observation:**\n",
        "\n",
        "In the graph and table above, we can see that there isnt a large diffrence between males and females, but males do hold a higher dissatisfied percent, and do hold a lesser count when comapred to females. Females have a higher count"
      ]
    },
    {
      "cell_type": "markdown",
      "metadata": {
        "id": "QozVtzPLW09T"
      },
      "source": [
        "# Dissatisfaction by Gender and Age\n",
        "\n",
        "Questoin : Which combinatoin of gender and age holds the higher or lower resignation due to dissatisfaction?"
      ]
    },
    {
      "cell_type": "code",
      "metadata": {
        "id": "au_nXfdfW09W",
        "outputId": "85a5d079-1cc7-4132-8d3a-3ba3baf66bb1"
      },
      "source": [
        "age_gender = pd.pivot_table(combined_updated, index=['gender', 'age'], values='dissatisfied')\n",
        "age_gender"
      ],
      "execution_count": null,
      "outputs": [
        {
          "output_type": "execute_result",
          "data": {
            "text/html": [
              "<div>\n",
              "<style scoped>\n",
              "    .dataframe tbody tr th:only-of-type {\n",
              "        vertical-align: middle;\n",
              "    }\n",
              "\n",
              "    .dataframe tbody tr th {\n",
              "        vertical-align: top;\n",
              "    }\n",
              "\n",
              "    .dataframe thead th {\n",
              "        text-align: right;\n",
              "    }\n",
              "</style>\n",
              "<table border=\"1\" class=\"dataframe\">\n",
              "  <thead>\n",
              "    <tr style=\"text-align: right;\">\n",
              "      <th></th>\n",
              "      <th></th>\n",
              "      <th>dissatisfied</th>\n",
              "    </tr>\n",
              "    <tr>\n",
              "      <th>gender</th>\n",
              "      <th>age</th>\n",
              "      <th></th>\n",
              "    </tr>\n",
              "  </thead>\n",
              "  <tbody>\n",
              "    <tr>\n",
              "      <th rowspan=\"5\" valign=\"top\">Female</th>\n",
              "      <th>20s</th>\n",
              "      <td>0.375000</td>\n",
              "    </tr>\n",
              "    <tr>\n",
              "      <th>30s</th>\n",
              "      <td>0.336842</td>\n",
              "    </tr>\n",
              "    <tr>\n",
              "      <th>40s</th>\n",
              "      <td>0.389313</td>\n",
              "    </tr>\n",
              "    <tr>\n",
              "      <th>50s</th>\n",
              "      <td>0.375000</td>\n",
              "    </tr>\n",
              "    <tr>\n",
              "      <th>60s</th>\n",
              "      <td>0.416667</td>\n",
              "    </tr>\n",
              "    <tr>\n",
              "      <th rowspan=\"5\" valign=\"top\">Male</th>\n",
              "      <th>20s</th>\n",
              "      <td>0.285714</td>\n",
              "    </tr>\n",
              "    <tr>\n",
              "      <th>30s</th>\n",
              "      <td>0.421053</td>\n",
              "    </tr>\n",
              "    <tr>\n",
              "      <th>40s</th>\n",
              "      <td>0.357143</td>\n",
              "    </tr>\n",
              "    <tr>\n",
              "      <th>50s</th>\n",
              "      <td>0.444444</td>\n",
              "    </tr>\n",
              "    <tr>\n",
              "      <th>60s</th>\n",
              "      <td>0.750000</td>\n",
              "    </tr>\n",
              "  </tbody>\n",
              "</table>\n",
              "</div>"
            ],
            "text/plain": [
              "            dissatisfied\n",
              "gender age              \n",
              "Female 20s      0.375000\n",
              "       30s      0.336842\n",
              "       40s      0.389313\n",
              "       50s      0.375000\n",
              "       60s      0.416667\n",
              "Male   20s      0.285714\n",
              "       30s      0.421053\n",
              "       40s      0.357143\n",
              "       50s      0.444444\n",
              "       60s      0.750000"
            ]
          },
          "metadata": {
            "tags": []
          },
          "execution_count": 69
        }
      ]
    },
    {
      "cell_type": "code",
      "metadata": {
        "id": "p_x9Z1WNW091",
        "outputId": "7b0faa6a-d3eb-4c4e-efcb-22a10eb9ac3c"
      },
      "source": [
        "age_gender = age_gender.sort_values(by=['dissatisfied'])\n",
        "age_gender.plot(kind='barh', figsize=(10, 5), legend=False, xlim=[0, 0.90])"
      ],
      "execution_count": null,
      "outputs": [
        {
          "output_type": "execute_result",
          "data": {
            "text/plain": [
              "<matplotlib.axes._subplots.AxesSubplot at 0x7f02f6226a58>"
            ]
          },
          "metadata": {
            "tags": []
          },
          "execution_count": 70
        },
        {
          "output_type": "display_data",
          "data": {
            "image/png": "[encoded data removed]",
            "text/plain": [
              "<matplotlib.figure.Figure at 0x7f02f61494e0>"
            ]
          },
          "metadata": {
            "tags": []
          }
        }
      ]
    },
    {
      "cell_type": "markdown",
      "metadata": {
        "id": "TgSA9u1lW096"
      },
      "source": [
        "**Gender and Age Observation dissatisfaction:**\n",
        "\n",
        "In the graph and table above, we can see that the most prominent resignation  due to dissatisfaction is in males in there 60's, in terms of female it is simmilar. THis further shows that the older you are regarldess of sex, dissatisfaction is higher. The low amount of dissatisfaction in young people could be due to them only being there for a short period of time. "
      ]
    },
    {
      "cell_type": "markdown",
      "metadata": {
        "id": "OarWrSxQW096"
      },
      "source": [
        "# Employment Dissatisfaction:\n",
        "\n",
        "Questoin : Which employment type holds the higher resignation due to dissatisfaction and which has the lowest?"
      ]
    },
    {
      "cell_type": "code",
      "metadata": {
        "id": "oXvQz_VjW097",
        "outputId": "783bf23d-a390-40be-96bf-eddcd6931e0b"
      },
      "source": [
        "by_employment = pd.pivot_table(combined_updated, index='employment_status', values='dissatisfied')\n",
        "by_employment.plot(kind='barh', rot=360, figsize=(15,5), fontsize=12, ylim=[0, 0.6], legend=False)"
      ],
      "execution_count": null,
      "outputs": [
        {
          "output_type": "execute_result",
          "data": {
            "text/plain": [
              "<matplotlib.axes._subplots.AxesSubplot at 0x7f02f6044518>"
            ]
          },
          "metadata": {
            "tags": []
          },
          "execution_count": 74
        },
        {
          "output_type": "display_data",
          "data": {
            "image/png": "[encoded data removed]",
            "text/plain": [
              "<matplotlib.figure.Figure at 0x7f02f62672e8>"
            ]
          },
          "metadata": {
            "tags": []
          }
        }
      ]
    },
    {
      "cell_type": "code",
      "metadata": {
        "id": "M-WRalFMW0-F",
        "outputId": "9ee2261c-e5c1-42c0-e249-96da83cb64f8"
      },
      "source": [
        "employment_diss_count = pd.pivot_table(combined_updated, index='employment_status', values='dissatisfied', aggfunc='sum')\n",
        "employment_diss_count = employment_diss_count.sort_values(by=['dissatisfied'])\n",
        "employment_diss_count = employment_diss_count.rename(columns={'dissatisfied': 'dissatisfied_count'})\n",
        "employment_diss_count"
      ],
      "execution_count": null,
      "outputs": [
        {
          "output_type": "execute_result",
          "data": {
            "text/html": [
              "<div>\n",
              "<style scoped>\n",
              "    .dataframe tbody tr th:only-of-type {\n",
              "        vertical-align: middle;\n",
              "    }\n",
              "\n",
              "    .dataframe tbody tr th {\n",
              "        vertical-align: top;\n",
              "    }\n",
              "\n",
              "    .dataframe thead th {\n",
              "        text-align: right;\n",
              "    }\n",
              "</style>\n",
              "<table border=\"1\" class=\"dataframe\">\n",
              "  <thead>\n",
              "    <tr style=\"text-align: right;\">\n",
              "      <th></th>\n",
              "      <th>dissatisfied_count</th>\n",
              "    </tr>\n",
              "    <tr>\n",
              "      <th>employment_status</th>\n",
              "      <th></th>\n",
              "    </tr>\n",
              "  </thead>\n",
              "  <tbody>\n",
              "    <tr>\n",
              "      <th>Casual</th>\n",
              "      <td>1.0</td>\n",
              "    </tr>\n",
              "    <tr>\n",
              "      <th>Contract/casual</th>\n",
              "      <td>5.0</td>\n",
              "    </tr>\n",
              "    <tr>\n",
              "      <th>Temporary Part-time</th>\n",
              "      <td>6.0</td>\n",
              "    </tr>\n",
              "    <tr>\n",
              "      <th>Temporary Full-time</th>\n",
              "      <td>31.0</td>\n",
              "    </tr>\n",
              "    <tr>\n",
              "      <th>Permanent Part-time</th>\n",
              "      <td>64.0</td>\n",
              "    </tr>\n",
              "    <tr>\n",
              "      <th>Permanent Full-time</th>\n",
              "      <td>118.0</td>\n",
              "    </tr>\n",
              "  </tbody>\n",
              "</table>\n",
              "</div>"
            ],
            "text/plain": [
              "                     dissatisfied_count\n",
              "employment_status                      \n",
              "Casual                              1.0\n",
              "Contract/casual                     5.0\n",
              "Temporary Part-time                 6.0\n",
              "Temporary Full-time                31.0\n",
              "Permanent Part-time                64.0\n",
              "Permanent Full-time               118.0"
            ]
          },
          "metadata": {
            "tags": []
          },
          "execution_count": 75
        }
      ]
    },
    {
      "cell_type": "markdown",
      "metadata": {
        "id": "v1qiNKJUW0-J"
      },
      "source": [
        "**Employment Observation dissatisfaction:**\n",
        "\n",
        "In the graph and table above, we can see that dissatisfaction is seen most in Permanent positions, this makes sense espcially when relating to our past analysis that probably most of the \"Permanent Full-time and part-time\" are in the older age group who do experince more dissatisfaction as we see above. The lower here is the casual. We will dig deeper to confrim this \"Employment and age breakdown\"."
      ]
    },
    {
      "cell_type": "markdown",
      "metadata": {
        "id": "UKMrQI7SW0-K"
      },
      "source": [
        "# Dissatisfaction by Employment Status and Age\n",
        "\n",
        "Questoin : Which combinatoin of employment and age holds the higher resignation due to dissatisfaction?"
      ]
    },
    {
      "cell_type": "code",
      "metadata": {
        "id": "Ht-NEZL6W0-K",
        "outputId": "89cc1a3a-de14-4eff-bf80-f5255da903d5"
      },
      "source": [
        "status_age = pd.pivot_table(combined_updated, index=['employment_status', 'age'], values='dissatisfied')\n",
        "status_age = status_age.sort_values(by=['dissatisfied'])\n",
        "status_age.plot(kind='barh', figsize=(15, 10), legend=False, xlim=[0, 1.2])"
      ],
      "execution_count": null,
      "outputs": [
        {
          "output_type": "execute_result",
          "data": {
            "text/plain": [
              "<matplotlib.axes._subplots.AxesSubplot at 0x7f02f453b7f0>"
            ]
          },
          "metadata": {
            "tags": []
          },
          "execution_count": 80
        },
        {
          "output_type": "display_data",
          "data": {
            "image/png": "[encoded data removed]",
            "text/plain": [
              "<matplotlib.figure.Figure at 0x7f02f4545518>"
            ]
          },
          "metadata": {
            "tags": []
          }
        }
      ]
    },
    {
      "cell_type": "markdown",
      "metadata": {
        "id": "-qnflzhjW0-O"
      },
      "source": [
        "**Employment and Age Observation dissatisfaction:**\n",
        "\n",
        "In the graph and table above we can see that employees who resigned due to dissatisfaction was very high in Casual 50's. overall though, Full time and part time have a higher count and higher percentage."
      ]
    },
    {
      "cell_type": "markdown",
      "metadata": {
        "id": "JDmIdqqiW0-P"
      },
      "source": [
        "# Dissatisfaction by Position\n",
        "\n",
        "Questoin : Which position holds the higher resignation due to dissatisfaction?"
      ]
    },
    {
      "cell_type": "code",
      "metadata": {
        "scrolled": true,
        "id": "T_Wr9JUvW0-R",
        "outputId": "11fbe83b-51ef-4fa9-f94b-2622437ce8b7"
      },
      "source": [
        "dis_position = pd.pivot_table(combined_updated, index='position', values='dissatisfied')\n",
        "dis_position = dis_position.sort_values(by=['dissatisfied'])\n",
        "dis_position.plot(kind='barh', figsize=(15, 10), fontsize=12, legend=False, xlim=[0.05, 1.02])"
      ],
      "execution_count": null,
      "outputs": [
        {
          "output_type": "execute_result",
          "data": {
            "text/plain": [
              "<matplotlib.axes._subplots.AxesSubplot at 0x7f02f4280ba8>"
            ]
          },
          "metadata": {
            "tags": []
          },
          "execution_count": 87
        },
        {
          "output_type": "display_data",
          "data": {
            "image/png": "[encoded data removed]",
            "text/plain": [
              "<matplotlib.figure.Figure at 0x7f02f42aa320>"
            ]
          },
          "metadata": {
            "tags": []
          }
        }
      ]
    },
    {
      "cell_type": "code",
      "metadata": {
        "id": "vzl-IXK0W0-Y",
        "outputId": "1774dd31-f094-44d0-d0a3-5fdb14d87a66"
      },
      "source": [
        "combined_updated['position'].value_counts(dropna=False)"
      ],
      "execution_count": null,
      "outputs": [
        {
          "output_type": "execute_result",
          "data": {
            "text/plain": [
              "Administration (AO)                                        148\n",
              "Teacher                                                    129\n",
              "Teacher (including LVT)                                     95\n",
              "Teacher Aide                                                63\n",
              "NaN                                                         53\n",
              "Cleaner                                                     39\n",
              "Public Servant                                              30\n",
              "Professional Officer (PO)                                   16\n",
              "Operational (OO)                                            13\n",
              "Head of Curriculum/Head of Special Education                10\n",
              "Technical Officer                                            8\n",
              "School Administrative Staff                                  8\n",
              "Schools Officer                                              7\n",
              "Workplace Training Officer                                   6\n",
              "School Based Professional Staff (Therapist, nurse, etc)      5\n",
              "Technical Officer (TO)                                       5\n",
              "Executive (SES/SO)                                           4\n",
              "Other                                                        3\n",
              "Tutor                                                        3\n",
              "Guidance Officer                                             3\n",
              "Professional Officer                                         2\n",
              "Business Service Manager                                     1\n",
              "Name: position, dtype: int64"
            ]
          },
          "metadata": {
            "tags": []
          },
          "execution_count": 83
        }
      ]
    },
    {
      "cell_type": "markdown",
      "metadata": {
        "id": "nNOJSutMW0-g"
      },
      "source": [
        "**Position Observation dissatisfaction:**\n",
        "\n",
        "In the graph and table above, it is very alarming that we see a very high percent in Guidance Officer but as we see there is a low number in this position, this showed that 100% in this position left due to dissatisifcation. Teacher holds one of the higher counts, and had a high amount of resignation due to dissatisfaction."
      ]
    },
    {
      "cell_type": "markdown",
      "metadata": {
        "id": "EuwMoqlAW0-k"
      },
      "source": [
        "# Dissatisfaction by Survey\n",
        "Which Survey counted a higher amount of resignation due to dissatisfaction?"
      ]
    },
    {
      "cell_type": "code",
      "metadata": {
        "id": "yaaOxvW8W0-l",
        "outputId": "52605b9d-6a52-49a6-f332-faca500b36ae"
      },
      "source": [
        "institute_count = pd.pivot_table(combined_updated, index='institute', values='dissatisfied', aggfunc='sum')\n",
        "institute_count = institute_count.rename(columns={'dissatisfied': 'dissatisfied_count'})\n",
        "institute_count"
      ],
      "execution_count": null,
      "outputs": [
        {
          "output_type": "execute_result",
          "data": {
            "text/html": [
              "<div>\n",
              "<style scoped>\n",
              "    .dataframe tbody tr th:only-of-type {\n",
              "        vertical-align: middle;\n",
              "    }\n",
              "\n",
              "    .dataframe tbody tr th {\n",
              "        vertical-align: top;\n",
              "    }\n",
              "\n",
              "    .dataframe thead th {\n",
              "        text-align: right;\n",
              "    }\n",
              "</style>\n",
              "<table border=\"1\" class=\"dataframe\">\n",
              "  <thead>\n",
              "    <tr style=\"text-align: right;\">\n",
              "      <th></th>\n",
              "      <th>dissatisfied_count</th>\n",
              "    </tr>\n",
              "    <tr>\n",
              "      <th>institute</th>\n",
              "      <th></th>\n",
              "    </tr>\n",
              "  </thead>\n",
              "  <tbody>\n",
              "    <tr>\n",
              "      <th>DETE</th>\n",
              "      <td>149.0</td>\n",
              "    </tr>\n",
              "    <tr>\n",
              "      <th>TAFE</th>\n",
              "      <td>91.0</td>\n",
              "    </tr>\n",
              "  </tbody>\n",
              "</table>\n",
              "</div>"
            ],
            "text/plain": [
              "           dissatisfied_count\n",
              "institute                    \n",
              "DETE                    149.0\n",
              "TAFE                     91.0"
            ]
          },
          "metadata": {
            "tags": []
          },
          "execution_count": 88
        }
      ]
    },
    {
      "cell_type": "code",
      "metadata": {
        "id": "R11SYUdJW0-p",
        "outputId": "121924f2-e337-4b27-c7d0-5de82610f2ed"
      },
      "source": [
        "by_perc = pd.pivot_table(combined_updated, index='institute', values='dissatisfied')\n",
        "by_perc.plot(kind='barh', rot=360, figsize=(10,5), fontsize=12, legend=False)"
      ],
      "execution_count": null,
      "outputs": [
        {
          "output_type": "execute_result",
          "data": {
            "text/plain": [
              "<matplotlib.axes._subplots.AxesSubplot at 0x7f02f40d90f0>"
            ]
          },
          "metadata": {
            "tags": []
          },
          "execution_count": 90
        },
        {
          "output_type": "display_data",
          "data": {
            "image/png": "[encoded data removed]",
            "text/plain": [
              "<matplotlib.figure.Figure at 0x7f02f409c5c0>"
            ]
          },
          "metadata": {
            "tags": []
          }
        }
      ]
    },
    {
      "cell_type": "markdown",
      "metadata": {
        "id": "hFy-gBtYW0-t"
      },
      "source": [
        "**Suvery Observation dissatisfaction:**\n",
        "\n",
        "In the graph and table above it seems that DETE employees have resigned due to job dissatisfaction more often than TAFE employees."
      ]
    },
    {
      "cell_type": "markdown",
      "metadata": {
        "id": "9bnKx8hpW0-u"
      },
      "source": [
        "# Conclusion\n",
        "\n",
        "In this project, we analyzed exit surveys from both TETE and DETE, our main focus were on emlpoyees who resigned due to dissatisfcation. A summary of our findings are below:\n",
        "\n",
        "- When comparing Surveys,  DETE employees have resigned due to job dissatisfaction more often than TAFE employees\n",
        "\n",
        "- Veteran Employees are resigning due to dissatisfcation more then others, while \"new\" were less often to \n",
        "\n",
        "- Male employees resigned more then female employees \n",
        "\n",
        "- Male employees in there 60's resigned due to dissatisfcation , while men in there 20's were least often\n",
        "\n",
        "- In terms of position, Guidance Officer saw a 100% resignatoin due to dissatisfcation. \n",
        "\n",
        "- Permanent Full-time and Part time had the highest counts and percentage \n",
        "\n"
      ]
    },
    {
      "cell_type": "code",
      "metadata": {
        "id": "9sGY7D6eW0-v"
      },
      "source": [
        ""
      ],
      "execution_count": null,
      "outputs": []
    }
  ]
}