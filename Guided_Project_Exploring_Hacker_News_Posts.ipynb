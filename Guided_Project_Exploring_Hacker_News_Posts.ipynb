{
  "nbformat": 4,
  "nbformat_minor": 0,
  "metadata": {
    "colab": {
      "name": "Guided Project - Exploring Hacker News Posts.ipynb",
      "provenance": [],
      "authorship_tag": "ABX9TyOlgU0LtsUePhVfJc8ydz9D",
      "include_colab_link": true
    },
    "kernelspec": {
      "name": "python3",
      "display_name": "Python 3"
    }
  },
  "cells": [
    {
      "cell_type": "markdown",
      "metadata": {
        "id": "view-in-github",
        "colab_type": "text"
      },
      "source": [
        "<a href=\"https://colab.research.google.com/github/WaleedSharkas/hackerfile/blob/master/Guided_Project_Exploring_Hacker_News_Posts.ipynb\" target=\"_parent\"><img src=\"https://colab.research.google.com/assets/colab-badge.svg\" alt=\"Open In Colab\"/></a>"
      ]
    },
    {
      "cell_type": "code",
      "metadata": {
        "id": "3HN5C9i1x8nG",
        "colab_type": "code",
        "colab": {
          "resources": {
            "http://localhost:8080/nbextensions/google.colab/files.js": {
              "data": "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",
              "ok": true,
              "headers": [
                [
                  "content-type",
                  "application/javascript"
                ]
              ],
              "status": 200,
              "status_text": ""
            }
          },
          "base_uri": "https://localhost:8080/",
          "height": 72
        },
        "outputId": "5af285a3-8ac5-4a71-b29c-34f5aea8c8e9"
      },
      "source": [
        "from google.colab import files\n",
        "uploaded = files.upload()"
      ],
      "execution_count": 1,
      "outputs": [
        {
          "output_type": "display_data",
          "data": {
            "text/html": [
              "\n",
              "     <input type=\"file\" id=\"files-5c2cbf7b-d552-4d3c-81ed-8edc3d621b95\" name=\"files[]\" multiple disabled\n",
              "        style=\"border:none\" />\n",
              "     <output id=\"result-5c2cbf7b-d552-4d3c-81ed-8edc3d621b95\">\n",
              "      Upload widget is only available when the cell has been executed in the\n",
              "      current browser session. Please rerun this cell to enable.\n",
              "      </output>\n",
              "      <script src=\"/nbextensions/google.colab/files.js\"></script> "
            ],
            "text/plain": [
              "<IPython.core.display.HTML object>"
            ]
          },
          "metadata": {
            "tags": []
          }
        },
        {
          "output_type": "stream",
          "text": [
            "Saving hacker_news.csv to hacker_news (1).csv\n"
          ],
          "name": "stdout"
        }
      ]
    },
    {
      "cell_type": "code",
      "metadata": {
        "id": "Xdt7WjDvzPkv",
        "colab_type": "code",
        "colab": {
          "base_uri": "https://localhost:8080/",
          "height": 510
        },
        "outputId": "3bc53aef-df61-4715-c610-665b9dd3f573"
      },
      "source": [
        "from csv import reader \n",
        "\n",
        "opened_file = open('hacker_news.csv')\n",
        "read_file = reader(opened_file)\n",
        "\n",
        "hn = list(read_file)\n",
        "hn[:5]"
      ],
      "execution_count": 2,
      "outputs": [
        {
          "output_type": "execute_result",
          "data": {
            "text/plain": [
              "[['id', 'title', 'url', 'num_points', 'num_comments', 'author', 'created_at'],\n",
              " ['12579008',\n",
              "  'You have two days to comment if you want stem cells to be classified as your own',\n",
              "  'http://www.regulations.gov/document?D=FDA-2015-D-3719-0018',\n",
              "  '1',\n",
              "  '0',\n",
              "  'altstar',\n",
              "  '9/26/2016 3:26'],\n",
              " ['12579005',\n",
              "  'SQLAR  the SQLite Archiver',\n",
              "  'https://www.sqlite.org/sqlar/doc/trunk/README.md',\n",
              "  '1',\n",
              "  '0',\n",
              "  'blacksqr',\n",
              "  '9/26/2016 3:24'],\n",
              " ['12578997',\n",
              "  'What if we just printed a flatscreen television on the side of our boxes?',\n",
              "  'https://medium.com/vanmoof/our-secrets-out-f21c1f03fdc8#.ietxmez43',\n",
              "  '1',\n",
              "  '0',\n",
              "  'pavel_lishin',\n",
              "  '9/26/2016 3:19'],\n",
              " ['12578989',\n",
              "  'algorithmic music',\n",
              "  'http://cacm.acm.org/magazines/2011/7/109891-algorithmic-composition/fulltext',\n",
              "  '1',\n",
              "  '0',\n",
              "  'poindontcare',\n",
              "  '9/26/2016 3:16']]"
            ]
          },
          "metadata": {
            "tags": []
          },
          "execution_count": 2
        }
      ]
    },
    {
      "cell_type": "code",
      "metadata": {
        "id": "JirW4wnzz_pF",
        "colab_type": "code",
        "colab": {
          "base_uri": "https://localhost:8080/",
          "height": 71
        },
        "outputId": "520108ac-b1d2-4ef3-a9c0-010002efa6cb"
      },
      "source": [
        "headers = hn[0]\n",
        "hn = hn[1:]\n",
        "print(headers)\n",
        "print(hn[:5])"
      ],
      "execution_count": 3,
      "outputs": [
        {
          "output_type": "stream",
          "text": [
            "['id', 'title', 'url', 'num_points', 'num_comments', 'author', 'created_at']\n",
            "[['12579008', 'You have two days to comment if you want stem cells to be classified as your own', 'http://www.regulations.gov/document?D=FDA-2015-D-3719-0018', '1', '0', 'altstar', '9/26/2016 3:26'], ['12579005', 'SQLAR  the SQLite Archiver', 'https://www.sqlite.org/sqlar/doc/trunk/README.md', '1', '0', 'blacksqr', '9/26/2016 3:24'], ['12578997', 'What if we just printed a flatscreen television on the side of our boxes?', 'https://medium.com/vanmoof/our-secrets-out-f21c1f03fdc8#.ietxmez43', '1', '0', 'pavel_lishin', '9/26/2016 3:19'], ['12578989', 'algorithmic music', 'http://cacm.acm.org/magazines/2011/7/109891-algorithmic-composition/fulltext', '1', '0', 'poindontcare', '9/26/2016 3:16'], ['12578979', 'How the Data Vault Enables the Next-Gen Data Warehouse and Data Lake', 'https://www.talend.com/blog/2016/05/12/talend-and-Â\\x93the-data-vaultÂ\\x94', '1', '0', 'markgainor1', '9/26/2016 3:14']]\n"
          ],
          "name": "stdout"
        }
      ]
    },
    {
      "cell_type": "code",
      "metadata": {
        "id": "GOPm6uJe2yHC",
        "colab_type": "code",
        "colab": {
          "base_uri": "https://localhost:8080/",
          "height": 68
        },
        "outputId": "4d84f316-f315-492b-b51a-f4ab36f41acb"
      },
      "source": [
        "ask_posts = []\n",
        "show_posts =[]\n",
        "other_posts = []\n",
        "\n",
        "for posts in hn:\n",
        "  title= posts[1]\n",
        "  if title.lower().startswith(\"ask hn\"):\n",
        "        ask_posts.append(posts)\n",
        "  elif title.lower().startswith(\"show hn\"):\n",
        "        show_posts.append(posts)\n",
        "  else:\n",
        "        other_posts.append(posts)\n",
        "\n",
        "print(\"Number of ask posts:\", len(ask_posts))\n",
        "print(\"Number of show posts:\",len(show_posts))\n",
        "print(\"Number of other posts:\",len(other_posts))"
      ],
      "execution_count": 4,
      "outputs": [
        {
          "output_type": "stream",
          "text": [
            "Number of ask posts: 9139\n",
            "Number of show posts: 10158\n",
            "Number of other posts: 273822\n"
          ],
          "name": "stdout"
        }
      ]
    },
    {
      "cell_type": "code",
      "metadata": {
        "id": "ZsWUUnFy57co",
        "colab_type": "code",
        "colab": {
          "base_uri": "https://localhost:8080/",
          "height": 34
        },
        "outputId": "2220c009-c25b-4eaa-8ecf-521956b5d523"
      },
      "source": [
        "total_ask_comments = 0\n",
        "for posts in ask_posts:\n",
        "  total_ask_comments += int(posts[4]) #comments\n",
        "avg_ask_comments = total_ask_comments / len(ask_posts)\n",
        "print('average number of comments per Ask HN post:',avg_ask_comments)"
      ],
      "execution_count": 5,
      "outputs": [
        {
          "output_type": "stream",
          "text": [
            "average number of comments per Ask HN post: 10.393478498741656\n"
          ],
          "name": "stdout"
        }
      ]
    },
    {
      "cell_type": "code",
      "metadata": {
        "id": "Sr1Qy0PlQl8_",
        "colab_type": "code",
        "colab": {
          "base_uri": "https://localhost:8080/",
          "height": 34
        },
        "outputId": "8e248695-1f2f-49a5-d804-4034844a9eac"
      },
      "source": [
        "total_show_comments = 0\n",
        "\n",
        "for post in show_posts:\n",
        "    total_show_comments += int(post[4]) #comments\n",
        "    \n",
        "avg_show_comments = total_show_comments / len(show_posts)\n",
        "print('average number of comments per Show HN post:',avg_show_comments)"
      ],
      "execution_count": 6,
      "outputs": [
        {
          "output_type": "stream",
          "text": [
            "average number of comments per Show HN post: 4.886099625910612\n"
          ],
          "name": "stdout"
        }
      ]
    },
    {
      "cell_type": "markdown",
      "metadata": {
        "id": "6T-TmQVoRUpW",
        "colab_type": "text"
      },
      "source": [
        "On average, Ask HN posts receives more comments than a Show HN post. Therfore, focus further analysis just on ASK posts.\n"
      ]
    },
    {
      "cell_type": "code",
      "metadata": {
        "id": "k0x_m_xERXs6",
        "colab_type": "code",
        "colab": {
          "base_uri": "https://localhost:8080/",
          "height": 105
        },
        "outputId": "f19d3451-3eda-4a68-9452-9e508e209af8"
      },
      "source": [
        "import datetime as dt\n",
        "results_list = []\n",
        "for posts in ask_posts:\n",
        "  time_created = posts[6]\n",
        "  number_comments = int(posts[4])\n",
        "  results_list.append([time_created,number_comments])\n",
        "\n",
        "comments_by_hour = {}\n",
        "counts_by_hour = {}  \n",
        "date_format = \"%m/%d/%Y %H:%M\"\n",
        "\n",
        "for row in results_list:\n",
        "  hour_date = row[0]\n",
        "  comment = row[1]\n",
        "  time= dt.datetime.strptime(hour_date, date_format).strftime(\"%H\")\n",
        "  if time not in counts_by_hour:\n",
        "    comments_by_hour[time] = comment\n",
        "    counts_by_hour[time] = 1\n",
        "  if time in counts_by_hour:\n",
        "    comments_by_hour[time] += comment\n",
        "    counts_by_hour[time] += 1\n",
        "\n",
        "print('Number of Ask Posts per Hour:',counts_by_hour)\n",
        "print('\\n')\n",
        "print('Comments per Hour:',comments_by_hour)   "
      ],
      "execution_count": 7,
      "outputs": [
        {
          "output_type": "stream",
          "text": [
            "Number of Ask Posts per Hour: {'02': 270, '01': 283, '22': 384, '21': 519, '19': 553, '17': 588, '15': 647, '14': 514, '13': 445, '11': 313, '10': 283, '09': 223, '07': 227, '03': 272, '23': 344, '20': 511, '16': 580, '08': 258, '00': 302, '18': 615, '12': 343, '04': 244, '06': 235, '05': 210}\n",
            "\n",
            "\n",
            "Comments per Hour: {'02': 3003, '01': 2092, '22': 3372, '21': 4502, '19': 3955, '17': 5550, '15': 18525, '14': 4972, '13': 7247, '11': 2799, '10': 3013, '09': 1574, '07': 1589, '03': 2155, '23': 2297, '20': 4462, '16': 4466, '08': 2369, '00': 2279, '18': 4889, '12': 4240, '04': 2362, '06': 1588, '05': 1838}\n"
          ],
          "name": "stdout"
        }
      ]
    },
    {
      "cell_type": "code",
      "metadata": {
        "id": "tZoJ3Cz_YRGs",
        "colab_type": "code",
        "colab": {
          "base_uri": "https://localhost:8080/",
          "height": 425
        },
        "outputId": "c9316e44-f26d-4462-b550-2fa1c96a74cb"
      },
      "source": [
        "avg_by_hour = []\n",
        "for hour in comments_by_hour:\n",
        "  avg_by_hour.append([hour, comments_by_hour[hour] / counts_by_hour[hour]])\n",
        "\n",
        "avg_by_hour\n"
      ],
      "execution_count": 8,
      "outputs": [
        {
          "output_type": "execute_result",
          "data": {
            "text/plain": [
              "[['02', 11.122222222222222],\n",
              " ['01', 7.392226148409894],\n",
              " ['22', 8.78125],\n",
              " ['21', 8.67437379576108],\n",
              " ['19', 7.151898734177215],\n",
              " ['17', 9.438775510204081],\n",
              " ['15', 28.632148377125194],\n",
              " ['14', 9.673151750972762],\n",
              " ['13', 16.285393258426968],\n",
              " ['11', 8.942492012779553],\n",
              " ['10', 10.646643109540635],\n",
              " ['09', 7.058295964125561],\n",
              " ['07', 7.0],\n",
              " ['03', 7.922794117647059],\n",
              " ['23', 6.6773255813953485],\n",
              " ['20', 8.731898238747554],\n",
              " ['16', 7.7],\n",
              " ['08', 9.182170542635658],\n",
              " ['00', 7.546357615894039],\n",
              " ['18', 7.949593495934959],\n",
              " ['12', 12.361516034985423],\n",
              " ['04', 9.680327868852459],\n",
              " ['06', 6.757446808510639],\n",
              " ['05', 8.752380952380953]]"
            ]
          },
          "metadata": {
            "tags": []
          },
          "execution_count": 8
        }
      ]
    },
    {
      "cell_type": "code",
      "metadata": {
        "id": "XNx3GI13a_54",
        "colab_type": "code",
        "colab": {
          "base_uri": "https://localhost:8080/",
          "height": 496
        },
        "outputId": "61eaf6a5-ced7-4539-f72f-cb2d4c5caed5"
      },
      "source": [
        "swap_avg_by_hour = []\n",
        "for row in avg_by_hour:\n",
        "    swap_avg_by_hour.append([row[1], row[0]])\n",
        "print(swap_avg_by_hour)\n",
        "print('\\n')\n",
        "sorted_swap = sorted(swap_avg_by_hour, reverse=True)\n",
        "sorted_swap"
      ],
      "execution_count": 9,
      "outputs": [
        {
          "output_type": "stream",
          "text": [
            "[[11.122222222222222, '02'], [7.392226148409894, '01'], [8.78125, '22'], [8.67437379576108, '21'], [7.151898734177215, '19'], [9.438775510204081, '17'], [28.632148377125194, '15'], [9.673151750972762, '14'], [16.285393258426968, '13'], [8.942492012779553, '11'], [10.646643109540635, '10'], [7.058295964125561, '09'], [7.0, '07'], [7.922794117647059, '03'], [6.6773255813953485, '23'], [8.731898238747554, '20'], [7.7, '16'], [9.182170542635658, '08'], [7.546357615894039, '00'], [7.949593495934959, '18'], [12.361516034985423, '12'], [9.680327868852459, '04'], [6.757446808510639, '06'], [8.752380952380953, '05']]\n",
            "\n",
            "\n"
          ],
          "name": "stdout"
        },
        {
          "output_type": "execute_result",
          "data": {
            "text/plain": [
              "[[28.632148377125194, '15'],\n",
              " [16.285393258426968, '13'],\n",
              " [12.361516034985423, '12'],\n",
              " [11.122222222222222, '02'],\n",
              " [10.646643109540635, '10'],\n",
              " [9.680327868852459, '04'],\n",
              " [9.673151750972762, '14'],\n",
              " [9.438775510204081, '17'],\n",
              " [9.182170542635658, '08'],\n",
              " [8.942492012779553, '11'],\n",
              " [8.78125, '22'],\n",
              " [8.752380952380953, '05'],\n",
              " [8.731898238747554, '20'],\n",
              " [8.67437379576108, '21'],\n",
              " [7.949593495934959, '18'],\n",
              " [7.922794117647059, '03'],\n",
              " [7.7, '16'],\n",
              " [7.546357615894039, '00'],\n",
              " [7.392226148409894, '01'],\n",
              " [7.151898734177215, '19'],\n",
              " [7.058295964125561, '09'],\n",
              " [7.0, '07'],\n",
              " [6.757446808510639, '06'],\n",
              " [6.6773255813953485, '23']]"
            ]
          },
          "metadata": {
            "tags": []
          },
          "execution_count": 9
        }
      ]
    },
    {
      "cell_type": "code",
      "metadata": {
        "id": "RGWx1ZQwb12F",
        "colab_type": "code",
        "colab": {
          "base_uri": "https://localhost:8080/",
          "height": 119
        },
        "outputId": "978fdf47-8b28-4413-aade-20a69cf3cdb6"
      },
      "source": [
        "print(\"Top 5 Hours for Ask Posts Comments\")\n",
        "\n",
        "for n, m in sorted_swap[:5]:\n",
        "    hour = dt.datetime.strptime(m, '%H').strftime('%H:%M')\n",
        "    template = \"{0}ET: {1: .2f} average\"\n",
        "    print(template.format(hour, n))"
      ],
      "execution_count": 10,
      "outputs": [
        {
          "output_type": "stream",
          "text": [
            "Top 5 Hours for Ask Posts Comments\n",
            "15:00ET:  28.63 average\n",
            "13:00ET:  16.29 average\n",
            "12:00ET:  12.36 average\n",
            "02:00ET:  11.12 average\n",
            "10:00ET:  10.65 average\n"
          ],
          "name": "stdout"
        }
      ]
    },
    {
      "cell_type": "markdown",
      "metadata": {
        "id": "Ctl0hxM6dav_",
        "colab_type": "text"
      },
      "source": [
        "The hour that receives the most comments per post on average is 15:00, with an average of 28.63 comments per post. According to the data set [documentation](https://www.kaggle.com/hacker-news/hacker-news-posts), the timezone used is Eastern Time in the United States. Thefore, the hour that receives the most comments per post on average is 3:00 PM est."
      ]
    },
    {
      "cell_type": "markdown",
      "metadata": {
        "id": "JSA-1FSvfdXq",
        "colab_type": "text"
      },
      "source": [
        "# Final Comments\n",
        "\n",
        "After our analyisis of the ask posts and show posts, we looked into the certain time that recivied the most comments on average. Based on our findings, we recommend that the most optimital time to post and maxiimxe comments would be at 3:00 PM est (15:00). \n"
      ]
    },
    {
      "cell_type": "code",
      "metadata": {
        "id": "6BKEA2UZfw5t",
        "colab_type": "code",
        "colab": {}
      },
      "source": [
        ""
      ],
      "execution_count": 10,
      "outputs": []
    }
  ]
}